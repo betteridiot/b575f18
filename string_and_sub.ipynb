{
 "cells": [
  {
   "cell_type": "markdown",
   "metadata": {},
   "source": [
    "### Strings and Subprocesses"
   ]
  },
  {
   "cell_type": "markdown",
   "metadata": {},
   "source": [
    "---"
   ]
  },
  {
   "cell_type": "markdown",
   "metadata": {},
   "source": [
    "## Overview"
   ]
  },
  {
   "cell_type": "markdown",
   "metadata": {},
   "source": [
    "1. String Formatting:\n",
    "    1. String operations \n",
    "    2. Olde style\n",
    "    3. New style\n",
    "    4. f-strings\n",
    "    5. Template strings\n",
    "2. Subprocesses\n",
    "    1. Purpose\n",
    "    2. OS dependency\n",
    "    3. `subprocess`\n",
    "        * `check_output`\n",
    "        * `run`\n",
    "        * Syntax\n",
    "        * Blocking vs Non-blocking (`Popen`)"
   ]
  },
  {
   "cell_type": "markdown",
   "metadata": {},
   "source": [
    "---"
   ]
  },
  {
   "cell_type": "markdown",
   "metadata": {},
   "source": [
    "## String Formatting"
   ]
  },
  {
   "cell_type": "markdown",
   "metadata": {},
   "source": [
    "There is *always* more than one way to do something with the same result in programming. However, there is a specific line from the Zen of Python that explains what to do in this scenario:\n",
    "> There should be one-- and preferably only one --obvious way to do it."
   ]
  },
  {
   "cell_type": "code",
   "execution_count": 1,
   "metadata": {},
   "outputs": [
    {
     "name": "stdout",
     "output_type": "stream",
     "text": [
      "The Zen of Python, by Tim Peters\n",
      "\n",
      "Beautiful is better than ugly.\n",
      "Explicit is better than implicit.\n",
      "Simple is better than complex.\n",
      "Complex is better than complicated.\n",
      "Flat is better than nested.\n",
      "Sparse is better than dense.\n",
      "Readability counts.\n",
      "Special cases aren't special enough to break the rules.\n",
      "Although practicality beats purity.\n",
      "Errors should never pass silently.\n",
      "Unless explicitly silenced.\n",
      "In the face of ambiguity, refuse the temptation to guess.\n",
      "There should be one-- and preferably only one --obvious way to do it.\n",
      "Although that way may not be obvious at first unless you're Dutch.\n",
      "Now is better than never.\n",
      "Although never is often better than *right* now.\n",
      "If the implementation is hard to explain, it's a bad idea.\n",
      "If the implementation is easy to explain, it may be a good idea.\n",
      "Namespaces are one honking great idea -- let's do more of those!\n"
     ]
    }
   ],
   "source": [
    "import this"
   ]
  },
  {
   "cell_type": "markdown",
   "metadata": {},
   "source": [
    "However, when it comes to *string formatting*, there are 4 ways to do it...and each has its place."
   ]
  },
  {
   "cell_type": "markdown",
   "metadata": {},
   "source": [
    "### Setup"
   ]
  },
  {
   "cell_type": "markdown",
   "metadata": {},
   "source": [
    "We will be working with a couple of variables throughout the string formatting demonstration. So, let's get them out of the way now:"
   ]
  },
  {
   "cell_type": "code",
   "execution_count": 2,
   "metadata": {},
   "outputs": [],
   "source": [
    "fName = 'Sharkus'\n",
    "job = 'GSI'\n",
    "power = 0x2329\n",
    "\n",
    "dict_of_types = {\n",
    "    'word': 'spam',\n",
    "    'integer': 42,\n",
    "    'exponent': 1e12,\n",
    "    'decimal': 3.14\n",
    "}"
   ]
  },
  {
   "cell_type": "markdown",
   "metadata": {},
   "source": [
    "### String Operations"
   ]
  },
  {
   "cell_type": "markdown",
   "metadata": {},
   "source": [
    "When considering `str` objects, they have *a lot* of methods."
   ]
  },
  {
   "cell_type": "code",
   "execution_count": 3,
   "metadata": {},
   "outputs": [
    {
     "data": {
      "text/plain": [
       "['capitalize',\n",
       " 'casefold',\n",
       " 'center',\n",
       " 'count',\n",
       " 'encode',\n",
       " 'endswith',\n",
       " 'expandtabs',\n",
       " 'find',\n",
       " 'format',\n",
       " 'format_map',\n",
       " 'index',\n",
       " 'isalnum',\n",
       " 'isalpha',\n",
       " 'isascii',\n",
       " 'isdecimal',\n",
       " 'isdigit',\n",
       " 'isidentifier',\n",
       " 'islower',\n",
       " 'isnumeric',\n",
       " 'isprintable',\n",
       " 'isspace',\n",
       " 'istitle',\n",
       " 'isupper',\n",
       " 'join',\n",
       " 'ljust',\n",
       " 'lower',\n",
       " 'lstrip',\n",
       " 'maketrans',\n",
       " 'partition',\n",
       " 'replace',\n",
       " 'rfind',\n",
       " 'rindex',\n",
       " 'rjust',\n",
       " 'rpartition',\n",
       " 'rsplit',\n",
       " 'rstrip',\n",
       " 'split',\n",
       " 'splitlines',\n",
       " 'startswith',\n",
       " 'strip',\n",
       " 'swapcase',\n",
       " 'title',\n",
       " 'translate',\n",
       " 'upper',\n",
       " 'zfill']"
      ]
     },
     "execution_count": 3,
     "metadata": {},
     "output_type": "execute_result"
    }
   ],
   "source": [
    "[i for i in dir(str) if not i.startswith('_')]"
   ]
  },
  {
   "cell_type": "markdown",
   "metadata": {},
   "source": [
    "However, strings have very few *operations*"
   ]
  },
  {
   "cell_type": "code",
   "execution_count": 4,
   "metadata": {
    "hidePrompt": true
   },
   "outputs": [
    {
     "data": {
      "text/plain": [
       "'SharkusGSI'"
      ]
     },
     "execution_count": 4,
     "metadata": {},
     "output_type": "execute_result"
    }
   ],
   "source": [
    "# Concatenation\n",
    "fName + job"
   ]
  },
  {
   "cell_type": "markdown",
   "metadata": {
    "slideshow": {
     "slide_type": "subslide"
    }
   },
   "source": [
    "Making simple strings with concatenation makes sense, but making complete statements, log entries, or complex outputs is draining on the coder"
   ]
  },
  {
   "cell_type": "code",
   "execution_count": 5,
   "metadata": {
    "hidePrompt": true,
    "scrolled": true,
    "slideshow": {
     "slide_type": "fragment"
    }
   },
   "outputs": [
    {
     "name": "stdout",
     "output_type": "stream",
     "text": [
      "Hello, my name is Sharkus, and I have 9001 power and currently working as a GSI\n"
     ]
    }
   ],
   "source": [
    "greeting = 'Hello, my name is ' + fName + ', and I have ' + str(power) \\\n",
    "+ ''' power and currently working as a ''' + job\n",
    "print(greeting)"
   ]
  },
  {
   "cell_type": "code",
   "execution_count": 6,
   "metadata": {
    "hidePrompt": true,
    "slideshow": {
     "slide_type": "subslide"
    }
   },
   "outputs": [
    {
     "data": {
      "text/plain": [
       "'SharkusSharkusSharkusSharkusSharkusSharkusSharkusSharkusSharkus'"
      ]
     },
     "execution_count": 6,
     "metadata": {},
     "output_type": "execute_result"
    }
   ],
   "source": [
    "# Multiplicity\n",
    "fName * 9"
   ]
  },
  {
   "cell_type": "code",
   "execution_count": 7,
   "metadata": {
    "hidePrompt": true,
    "slideshow": {
     "slide_type": "subslide"
    }
   },
   "outputs": [
    {
     "ename": "TypeError",
     "evalue": "unsupported operand type(s) for -: 'str' and 'str'",
     "output_type": "error",
     "traceback": [
      "\u001b[0;31m---------------------------------------------------------------------------\u001b[0m",
      "\u001b[0;31mTypeError\u001b[0m                                 Traceback (most recent call last)",
      "\u001b[0;32m<ipython-input-7-8f195bce6f66>\u001b[0m in \u001b[0;36m<module>\u001b[0;34m\u001b[0m\n\u001b[1;32m      1\u001b[0m \u001b[0;31m# What about difference?\u001b[0m\u001b[0;34m\u001b[0m\u001b[0;34m\u001b[0m\u001b[0m\n\u001b[0;32m----> 2\u001b[0;31m \u001b[0mfName\u001b[0m \u001b[0;34m-\u001b[0m \u001b[0mjob\u001b[0m\u001b[0;34m\u001b[0m\u001b[0m\n\u001b[0m",
      "\u001b[0;31mTypeError\u001b[0m: unsupported operand type(s) for -: 'str' and 'str'"
     ]
    }
   ],
   "source": [
    "# What about difference?\n",
    "fName - job"
   ]
  },
  {
   "cell_type": "code",
   "execution_count": 8,
   "metadata": {
    "hidePrompt": true,
    "slideshow": {
     "slide_type": "subslide"
    }
   },
   "outputs": [
    {
     "ename": "TypeError",
     "evalue": "unsupported operand type(s) for /: 'str' and 'str'",
     "output_type": "error",
     "traceback": [
      "\u001b[0;31m---------------------------------------------------------------------------\u001b[0m",
      "\u001b[0;31mTypeError\u001b[0m                                 Traceback (most recent call last)",
      "\u001b[0;32m<ipython-input-8-ee4818aa380f>\u001b[0m in \u001b[0;36m<module>\u001b[0;34m\u001b[0m\n\u001b[1;32m      1\u001b[0m \u001b[0;31m# Division\u001b[0m\u001b[0;34m\u001b[0m\u001b[0;34m\u001b[0m\u001b[0m\n\u001b[0;32m----> 2\u001b[0;31m \u001b[0mfName\u001b[0m \u001b[0;34m/\u001b[0m \u001b[0mjob\u001b[0m\u001b[0;34m\u001b[0m\u001b[0m\n\u001b[0m",
      "\u001b[0;31mTypeError\u001b[0m: unsupported operand type(s) for /: 'str' and 'str'"
     ]
    }
   ],
   "source": [
    "# Division\n",
    "fName / job"
   ]
  },
  {
   "cell_type": "markdown",
   "metadata": {
    "slideshow": {
     "slide_type": "subslide"
    }
   },
   "source": [
    "Not to be particularly rigorous, but what about `modulo` math?"
   ]
  },
  {
   "cell_type": "code",
   "execution_count": 9,
   "metadata": {
    "hidePrompt": true,
    "slideshow": {
     "slide_type": "-"
    }
   },
   "outputs": [
    {
     "ename": "TypeError",
     "evalue": "not all arguments converted during string formatting",
     "output_type": "error",
     "traceback": [
      "\u001b[0;31m---------------------------------------------------------------------------\u001b[0m",
      "\u001b[0;31mTypeError\u001b[0m                                 Traceback (most recent call last)",
      "\u001b[0;32m<ipython-input-9-063e979042d8>\u001b[0m in \u001b[0;36m<module>\u001b[0;34m\u001b[0m\n\u001b[1;32m      1\u001b[0m \u001b[0;31m# Modulo\u001b[0m\u001b[0;34m\u001b[0m\u001b[0;34m\u001b[0m\u001b[0m\n\u001b[0;32m----> 2\u001b[0;31m \u001b[0mfName\u001b[0m \u001b[0;34m%\u001b[0m \u001b[0mjob\u001b[0m\u001b[0;34m\u001b[0m\u001b[0m\n\u001b[0m",
      "\u001b[0;31mTypeError\u001b[0m: not all arguments converted during string formatting"
     ]
    }
   ],
   "source": [
    "# Modulo\n",
    "fName % job"
   ]
  },
  {
   "cell_type": "markdown",
   "metadata": {
    "hidePrompt": true,
    "slideshow": {
     "slide_type": "fragment"
    }
   },
   "source": [
    "That's different...</br>\n",
    "The modulo (`%`) is a unique operator when used on strings. It is called a *formatting* or *interpolation* operator, and its usage is a little unique."
   ]
  },
  {
   "cell_type": "markdown",
   "metadata": {},
   "source": [
    "## Ye olde style: `printf`"
   ]
  },
  {
   "cell_type": "code",
   "execution_count": 11,
   "metadata": {
    "hidePrompt": true
   },
   "outputs": [
    {
     "name": "stdout",
     "output_type": "stream",
     "text": [
      "My name is Sharkus\n"
     ]
    }
   ],
   "source": [
    "# Syntax\n",
    "ex = 'My name is %s'\n",
    "print(ex % fName)"
   ]
  },
  {
   "cell_type": "markdown",
   "metadata": {
    "slideshow": {
     "slide_type": "subslide"
    }
   },
   "source": [
    "The biggest issue with `%` string formatting is that it requires the user to *declare* their types beforehand"
   ]
  },
  {
   "cell_type": "code",
   "execution_count": 14,
   "metadata": {
    "hidePrompt": true,
    "slideshow": {
     "slide_type": "fragment"
    }
   },
   "outputs": [
    {
     "name": "stdout",
     "output_type": "stream",
     "text": [
      "In order to maintain air-speed velocity, \n",
      "a swallow needs to beat its wings 42.000000 times every second, right?\n"
     ]
    }
   ],
   "source": [
    "# Quote\n",
    "print('''In order to maintain air-speed velocity, \n",
    "a %s needs to beat its wings %f times every second, right?''' % ('swallow', 42))"
   ]
  },
  {
   "cell_type": "markdown",
   "metadata": {
    "slideshow": {
     "slide_type": "fragment"
    }
   },
   "source": [
    "See the difference? `%s` means string, and `%d` means integer. There is a [whole list of these](https://docs.python.org/3/library/stdtypes.html#old-string-formatting). This is known as *conversion types*. Using these, the user indicates what type of object they are going to put in that place and the interpreter figures out how to convert it to a string."
   ]
  },
  {
   "cell_type": "markdown",
   "metadata": {},
   "source": [
    "### Placeholder Unpacking"
   ]
  },
  {
   "cell_type": "code",
   "execution_count": 17,
   "metadata": {
    "hidePrompt": true,
    "slideshow": {
     "slide_type": "subslide"
    }
   },
   "outputs": [
    {
     "data": {
      "text/plain": [
       "'spam 3.140000 1.000000e+12 42'"
      ]
     },
     "execution_count": 17,
     "metadata": {},
     "output_type": "execute_result"
    }
   ],
   "source": [
    "'%(word)s %(decimal)f %(exponent)e %(integer)d' % (dict_of_types)"
   ]
  },
  {
   "cell_type": "markdown",
   "metadata": {
    "slideshow": {
     "slide_type": "fragment"
    }
   },
   "source": [
    "There is a lot to be seen in the last example. Let's walk through it."
   ]
  },
  {
   "cell_type": "markdown",
   "metadata": {
    "slideshow": {
     "slide_type": "fragment"
    }
   },
   "source": [
    "1. Dictionary of values of different types\n",
    "2. Placeholders that link to the dictionary keys\n",
    "3. Conversion of types\n",
    "4. naturally unpacked dictionary"
   ]
  },
  {
   "cell_type": "markdown",
   "metadata": {
    "slideshow": {
     "slide_type": "subslide"
    }
   },
   "source": [
    "The `%` acts as a placeholder, such that we can make template strings. This can be helpful in operations like SQL"
   ]
  },
  {
   "cell_type": "code",
   "execution_count": 19,
   "metadata": {
    "hidePrompt": true
   },
   "outputs": [
    {
     "name": "stdout",
     "output_type": "stream",
     "text": [
      "My name is Sharkus, and I am a GSI, and I have 9001 power\n"
     ]
    }
   ],
   "source": [
    "# Greeting example: old style\n",
    "greeting = 'My name is %s, and I am a %s, and I have %d power'\n",
    "print(greeting % (fName, job, power))"
   ]
  },
  {
   "cell_type": "markdown",
   "metadata": {
    "slideshow": {
     "slide_type": "fragment"
    }
   },
   "source": [
    "### The Drawbacks\n",
    "* Can be burdensome to read and write.\n",
    "* Not very flexible or extensible\n",
    "* Discouraged by the Python Devs:\n",
    "> “The formatting operations described here exhibit a variety of quirks that lead to a number of common errors (such as failing to display tuples and dictionaries correctly)."
   ]
  },
  {
   "cell_type": "markdown",
   "metadata": {},
   "source": [
    "## The 'new-style'"
   ]
  },
  {
   "cell_type": "code",
   "execution_count": 21,
   "metadata": {},
   "outputs": [
    {
     "name": "stdout",
     "output_type": "stream",
     "text": [
      "in order to maintain air-speed velocity, \n",
      "a sparrow needs to beat its wings 42 times every second, right?\n"
     ]
    }
   ],
   "source": [
    "# Quote\n",
    "quote = '''in order to maintain air-speed velocity, \n",
    "a {} needs to beat its wings {} times every second, right?'''\n",
    "print(quote.format('sparrow', 42))"
   ]
  },
  {
   "cell_type": "markdown",
   "metadata": {
    "slideshow": {
     "slide_type": "subslide"
    }
   },
   "source": [
    "What's more is that you can use the placeholders to index the arguments."
   ]
  },
  {
   "cell_type": "code",
   "execution_count": 24,
   "metadata": {
    "hidePrompt": true
   },
   "outputs": [
    {
     "data": {
      "text/plain": [
       "'word = spam, integer=3.14, exponent=1000000000000.0, float=42'"
      ]
     },
     "execution_count": 24,
     "metadata": {},
     "output_type": "execute_result"
    }
   ],
   "source": [
    "# Argument Unpacking\n",
    "args = dict_of_types.values()\n",
    "\n",
    "# index placeholders\n",
    "idx_str = 'word = {0}, integer={3}, exponent={2}, float={1}'\n",
    "\n",
    "idx_str.format(*args)"
   ]
  },
  {
   "cell_type": "markdown",
   "metadata": {
    "slideshow": {
     "slide_type": "fragment"
    }
   },
   "source": [
    "Again, I slipped in some extra here. You have seen it before, but mainly in `print` functions: `*` *unpacking*"
   ]
  },
  {
   "cell_type": "markdown",
   "metadata": {
    "slideshow": {
     "slide_type": "subslide"
    }
   },
   "source": [
    "That is cool, right? But what if you wanted to still convert the values like we did last time? We can use a 'mini-language' to control conversion and precision. The full documentation of the mini-language can be found [here](https://docs.python.org/3/library/string.html#formatspec)"
   ]
  },
  {
   "cell_type": "code",
   "execution_count": 28,
   "metadata": {},
   "outputs": [
    {
     "data": {
      "text/plain": [
       "'0,1,2,3,4'"
      ]
     },
     "execution_count": 28,
     "metadata": {},
     "output_type": "execute_result"
    }
   ],
   "source": [
    "a = [str(i) for i in range(5)]\n",
    "','.join(a)"
   ]
  },
  {
   "cell_type": "code",
   "execution_count": 29,
   "metadata": {},
   "outputs": [
    {
     "name": "stdout",
     "output_type": "stream",
     "text": [
      "***spam***\n",
      "00101010\n",
      "1.00e+12\n",
      "3\n"
     ]
    }
   ],
   "source": [
    "print(\n",
    "    '\\n'.join(\n",
    "        [\n",
    "            '{:*^10}', # Fill \n",
    "            '{:08b}',  # Binary\n",
    "            '{:.2e}',  # Scientific Notation\n",
    "            '{:.0f}'   # Integer\n",
    "        ]  \n",
    "    ).format(*args)\n",
    ")"
   ]
  },
  {
   "cell_type": "markdown",
   "metadata": {
    "slideshow": {
     "slide_type": "subslide"
    }
   },
   "source": [
    "Like 'old-style', we can still use keyword arguments as well. Like list unpacking, we are using keyword unpacking (`**`)"
   ]
  },
  {
   "cell_type": "code",
   "execution_count": 30,
   "metadata": {
    "hidePrompt": true
   },
   "outputs": [
    {
     "name": "stdout",
     "output_type": "stream",
     "text": [
      "***spam***\n",
      "00101010\n",
      "1.00e+12\n",
      "3\n"
     ]
    }
   ],
   "source": [
    "print(\n",
    "    '\\n'.join(\n",
    "        [\n",
    "            '{word:*^10}',\n",
    "            '{integer:08b}',\n",
    "            '{exponent:.2e}',\n",
    "            '{decimal:.0f}'\n",
    "        ]\n",
    "    ).format(**dict_of_types)\n",
    ")"
   ]
  },
  {
   "cell_type": "code",
   "execution_count": 31,
   "metadata": {
    "hidePrompt": true,
    "slideshow": {
     "slide_type": "subslide"
    }
   },
   "outputs": [
    {
     "name": "stdout",
     "output_type": "stream",
     "text": [
      "My name is Sharkus and I am a GSI and I have 9001 power.\n"
     ]
    }
   ],
   "source": [
    "# Greeting example: new style\n",
    "greeting = 'My name is {} and I am a {} and I have {} power.'\n",
    "print(greeting.format(fName, job, power))"
   ]
  },
  {
   "cell_type": "markdown",
   "metadata": {
    "slideshow": {
     "slide_type": "subslide"
    }
   },
   "source": [
    "Now, why does this matter? What could you use it for? Think of some use cases."
   ]
  },
  {
   "cell_type": "markdown",
   "metadata": {},
   "source": [
    "### Generating logs"
   ]
  },
  {
   "cell_type": "code",
   "execution_count": 32,
   "metadata": {
    "hidePrompt": true,
    "slideshow": {
     "slide_type": "fragment"
    }
   },
   "outputs": [
    {
     "name": "stdout",
     "output_type": "stream",
     "text": [
      "item: 0, guid: 59ebe58e-0ddf-46eb-b3a6-d4bef032656b, character: !\n",
      "item: 1, guid: 3b44d0c0-38de-4b9f-9e92-4364bc02fda5, character: \"\n",
      "item: 2, guid: 69846599-adda-42c2-b600-f83f0e025d77, character: #\n",
      "item: 3, guid: 3634b2a5-dedc-4db9-bdcc-0b9071f0e02d, character: $\n",
      "item: 4, guid: 9809e37e-1a38-49ec-a3c6-6f6711b68bb0, character: %\n",
      "item: 5, guid: 2c0b7c65-fd34-4665-9552-26320b994e99, character: &\n",
      "item: 6, guid: a1412aa2-5135-4ab3-bad1-c75861025bac, character: '\n",
      "item: 7, guid: 67ccbe74-74c1-42d4-924a-895e3963edb4, character: (\n",
      "item: 8, guid: 9e4c5a6c-51b3-4213-bb97-533dd0532b22, character: )\n",
      "item: 9, guid: 2deea9db-8f2e-4fde-b014-e06d0367a816, character: *\n",
      "item: 10, guid: 360fe95c-b30f-402b-9936-4a5918f61eb6, character: +\n",
      "item: 11, guid: cc27f981-c01b-460f-9468-309e8782f63a, character: ,\n",
      "item: 12, guid: 2fe38b57-3685-48e1-8cb6-7b9bd346c3b8, character: -\n",
      "item: 13, guid: 5a9c3cae-0b72-45aa-a5bd-9cfe29d5977b, character: .\n",
      "item: 14, guid: f5eed65e-2342-474a-9c92-16320e504f30, character: /\n",
      "item: 15, guid: c3cf7251-980f-4f66-8429-a65d8e1ce818, character: :\n",
      "item: 16, guid: e0b501fc-903e-470f-b541-80dbea07607a, character: ;\n",
      "item: 17, guid: 246ffb7b-883c-46ab-a0ca-44c4b74500ea, character: <\n",
      "item: 18, guid: 5b53b3ea-60e5-4a7e-8a82-01b95ed2a082, character: =\n",
      "item: 19, guid: 568e5e47-0245-443d-992d-7a41e9a1d5f8, character: >\n",
      "item: 20, guid: 54454fb7-1671-4c4f-bbe6-c1d13542a330, character: ?\n",
      "item: 21, guid: 4070f434-e9c0-4bac-90a5-b0e7583a2e29, character: @\n",
      "item: 22, guid: 83327df9-d55f-4e15-8127-e4866f3db941, character: [\n",
      "item: 23, guid: ec194b53-92b8-4986-9cb8-7a57838407ca, character: \\\n",
      "item: 24, guid: d03d07b9-79a3-46e1-93cb-70260eb873d4, character: ]\n",
      "item: 25, guid: 80a750b5-b2fe-42d5-bb45-4c419d5acbcc, character: ^\n",
      "item: 26, guid: 1188fdd7-eff1-4203-8fda-c51959d39f14, character: _\n",
      "item: 27, guid: 3fd0814c-0c9c-4331-8397-4814fad94e11, character: `\n",
      "item: 28, guid: 3e18a902-0415-4841-80aa-6390688a589c, character: {\n",
      "item: 29, guid: 01463531-d192-4473-b10b-432d60caa092, character: |\n",
      "item: 30, guid: d478a9c9-1d29-49c8-89e9-e4dd74638c65, character: }\n",
      "item: 31, guid: 745a7e3c-15f1-4f66-bfbd-c75e0ff99a12, character: ~\n"
     ]
    }
   ],
   "source": [
    "import string\n",
    "import uuid\n",
    "\n",
    "template = 'item: {}, guid: {}, character: {}'\n",
    "for i, s in enumerate(string.punctuation):\n",
    "    print(template.format(i, uuid.uuid4(), s))"
   ]
  },
  {
   "cell_type": "markdown",
   "metadata": {},
   "source": [
    "### The Drawbacks"
   ]
  },
  {
   "cell_type": "markdown",
   "metadata": {},
   "source": [
    "1. having to write `.format()`\n",
    "2. cannot call local variables instead\n",
    "3. variable evaluation is 'dumb'"
   ]
  },
  {
   "cell_type": "markdown",
   "metadata": {},
   "source": [
    "## The *newest-style*: f-strings"
   ]
  },
  {
   "cell_type": "markdown",
   "metadata": {},
   "source": [
    "New to Python 3.6, f-strings look and feel like `{}`, but with a little extra under the hood."
   ]
  },
  {
   "cell_type": "code",
   "execution_count": 33,
   "metadata": {},
   "outputs": [
    {
     "name": "stdout",
     "output_type": "stream",
     "text": [
      "My name is Sharkus and I am a GSI and I have 9001 power\n"
     ]
    }
   ],
   "source": [
    "# Greeting example: f-strings\n",
    "greeting = f'My name is {fName} and I am a {job} and I have {power} power'\n",
    "print(greeting)"
   ]
  },
  {
   "cell_type": "markdown",
   "metadata": {
    "slideshow": {
     "slide_type": "fragment"
    }
   },
   "source": [
    "Above shows that I no longer need to worry about the order arguments within a `.format()` method, or passing keyword arguments. I can directly reference the variables themselves."
   ]
  },
  {
   "cell_type": "markdown",
   "metadata": {
    "slideshow": {
     "slide_type": "subslide"
    }
   },
   "source": [
    "You may ask, \"Oh Senpai, what about formatting and type conversion?\" and I would said, \"Young padawan, there is much doubt in your voice. Still convert and format, we can\""
   ]
  },
  {
   "cell_type": "code",
   "execution_count": 36,
   "metadata": {},
   "outputs": [
    {
     "name": "stdout",
     "output_type": "stream",
     "text": [
      "blahblahblahblahblahblahblahblahblah\n",
      "00101010\n",
      "1.00e+12\n",
      "3\n"
     ]
    }
   ],
   "source": [
    "# Convert and format\n",
    "\n",
    "print(\n",
    "    '\\n'.join(\n",
    "        [\n",
    "            f'{\"blah\" * 9:*^10}',\n",
    "            f'{dict_of_types[\"integer\"]:08b}',\n",
    "            f'{dict_of_types[\"exponent\"]:.2e}',\n",
    "            f'{dict_of_types[\"decimal\"]:.0f}'\n",
    "        ]\n",
    "    )\n",
    ")"
   ]
  },
  {
   "cell_type": "markdown",
   "metadata": {
    "slideshow": {
     "slide_type": "slide"
    }
   },
   "source": [
    "### The important part"
   ]
  },
  {
   "cell_type": "markdown",
   "metadata": {},
   "source": [
    "Besides just doing type conversion and formatting, there was something else a little more subtle you probably can pick up on: *expression interpolation*."
   ]
  },
  {
   "cell_type": "markdown",
   "metadata": {},
   "source": [
    "This is just a fancy way of saying that expressions within `{}` are evaluated and the output is converted into strings."
   ]
  },
  {
   "cell_type": "code",
   "execution_count": 45,
   "metadata": {},
   "outputs": [
    {
     "name": "stdout",
     "output_type": "stream",
     "text": [
      "37.3\n",
      "A\n"
     ]
    }
   ],
   "source": [
    "sv = namedtuple('sv', ('inter', 'string', 'float', 'scale', 'offset'))\n",
    "some_var = sv(1, 'a', 36.3, 12, 1)\n",
    "\n",
    "def foo(a_var):\n",
    "    print( a_var.inter + a_var.float)\n",
    "    print(a_var.string.upper())\n",
    "    \n",
    "foo(some_var)"
   ]
  },
  {
   "cell_type": "code",
   "execution_count": 40,
   "metadata": {
    "hidePrompt": true,
    "slideshow": {
     "slide_type": "subslide"
    }
   },
   "outputs": [],
   "source": [
    "import random\n",
    "from collections import namedtuple\n",
    "\n",
    "# bar square\n",
    "Bar = namedtuple('Bar', ('x', 'square'))"
   ]
  },
  {
   "cell_type": "code",
   "execution_count": 41,
   "metadata": {},
   "outputs": [
    {
     "name": "stdout",
     "output_type": "stream",
     "text": [
      "Bar(x=2, square=11)\n"
     ]
    }
   ],
   "source": [
    "# Explain namedtuple\n",
    "please = Bar(square = 11, x = 2)\n",
    "print(please)"
   ]
  },
  {
   "cell_type": "code",
   "execution_count": 43,
   "metadata": {},
   "outputs": [
    {
     "data": {
      "text/plain": [
       "11"
      ]
     },
     "execution_count": 43,
     "metadata": {},
     "output_type": "execute_result"
    }
   ],
   "source": [
    "please.square"
   ]
  },
  {
   "cell_type": "code",
   "execution_count": 46,
   "metadata": {
    "hidePrompt": true,
    "slideshow": {
     "slide_type": "subslide"
    }
   },
   "outputs": [
    {
     "name": "stdout",
     "output_type": "stream",
     "text": [
      "Bar(x=10, square=100)\n",
      "Bar(x=41, square=1681)\n",
      "Bar(x=65, square=4225)\n",
      "Bar(x=58, square=3364)\n",
      "Bar(x=95, square=9025)\n",
      "Bar(x=83, square=6889)\n",
      "Bar(x=90, square=8100)\n",
      "Bar(x=76, square=5776)\n",
      "Bar(x=100, square=10000)\n",
      "Bar(x=92, square=8464)\n"
     ]
    }
   ],
   "source": [
    "# Pass namedtuple or default\n",
    "def foo(x=None):\n",
    "    if x is None:\n",
    "        return Bar(x,0)\n",
    "    else:\n",
    "        return Bar(x, x**2)\n",
    "\n",
    "for i in range(0, 100, 10):\n",
    "    print(f'{foo(random.randint(i, 100))}')"
   ]
  },
  {
   "cell_type": "code",
   "execution_count": 51,
   "metadata": {},
   "outputs": [
    {
     "data": {
      "text/plain": [
       "'this!'"
      ]
     },
     "execution_count": 51,
     "metadata": {},
     "output_type": "execute_result"
    }
   ],
   "source": [
    "# Capital\n",
    ">>> F'this!'"
   ]
  },
  {
   "cell_type": "markdown",
   "metadata": {},
   "source": [
    "## Template Strings"
   ]
  },
  {
   "cell_type": "markdown",
   "metadata": {},
   "source": [
    "To use Template strings, you must import them from the `string` module."
   ]
  },
  {
   "cell_type": "code",
   "execution_count": 53,
   "metadata": {},
   "outputs": [],
   "source": [
    "from string import Template"
   ]
  },
  {
   "cell_type": "code",
   "execution_count": 55,
   "metadata": {},
   "outputs": [
    {
     "name": "stdout",
     "output_type": "stream",
     "text": [
      "Hello, my name is Sharkus, \n",
      "I have 9001 power, and currently working as a GSI\n"
     ]
    }
   ],
   "source": [
    "# Greeting example: Template strings\n",
    "t_string = Template('''Hello, my name is $name, \n",
    "I have $power power, and currently working as a $job''')\n",
    "\n",
    "# Template substitution\n",
    "print(t_string.substitute(name=fName, power=power, job=job))"
   ]
  },
  {
   "cell_type": "markdown",
   "metadata": {},
   "source": [
    "---"
   ]
  },
  {
   "cell_type": "markdown",
   "metadata": {},
   "source": [
    "## Subprocesses"
   ]
  },
  {
   "cell_type": "markdown",
   "metadata": {},
   "source": [
    "One of the biggest strengths of Python is its use as a *glue* language. It can 'glue' together a bunch of programs into a highly extensible & flexible pipline."
   ]
  },
  {
   "cell_type": "markdown",
   "metadata": {},
   "source": [
    "### Purpose (Obligatory wall of text)\n",
    "One of the most common, yet complicated, tasks that most programming languages need to do is spawning new processes. This could be as simple as seeing what files are present in the current working directory (`ls`) or as complicated as creating a program workflow that *pipes* output from one program into another program's input. <br/><br/>\n",
    "Many such tasks are easily taken care of through the use of Python libraries and modules (`import`) that *wrap* the programs into Python code, effectively creating Application Programming Interfaces (API). <br/><br/>\n",
    "However, there are many use cases that require the user to make calls to the terminal from ***within*** a Python program."
   ]
  },
  {
   "cell_type": "markdown",
   "metadata": {},
   "source": [
    "### Operating System Conundrum"
   ]
  },
  {
   "cell_type": "markdown",
   "metadata": {},
   "source": [
    "First, we need to address the following issue. As many in this class have found out, while Python can be installed on most operating systems; doing the same thing in one operating system (Unix) may not always yield the same results in another (Windows).<br/><br/>\n",
    "The very first step to making a program **\"OS-agnostic\"** is through the use of the `os` module."
   ]
  },
  {
   "cell_type": "code",
   "execution_count": 56,
   "metadata": {},
   "outputs": [],
   "source": [
    "import os"
   ]
  },
  {
   "cell_type": "markdown",
   "metadata": {},
   "source": [
    "The `os` module wraps OS-specific operations into a set of standardized commands. <br/>\n",
    "For instance, the Linux end-of-line (EOL) character is a `\\n`, but `\\r\\n` in Windows. In Python, we can just use the following:"
   ]
  },
  {
   "cell_type": "code",
   "execution_count": 57,
   "metadata": {},
   "outputs": [
    {
     "data": {
      "text/plain": [
       "'\\n'"
      ]
     },
     "execution_count": 57,
     "metadata": {},
     "output_type": "execute_result"
    }
   ],
   "source": [
    "# EOL\n",
    "os.linesep"
   ]
  },
  {
   "cell_type": "markdown",
   "metadata": {},
   "source": [
    "This above command detects the current environment, and sets the EOL it will be using based on that."
   ]
  },
  {
   "cell_type": "markdown",
   "metadata": {},
   "source": [
    "Another example, in a Linux environment, one must use the following command to list the contents of a given directory:\n",
    "```\n",
    "ls -alh \n",
    "```\n",
    "\n",
    "In Windows, the equivalent is as follows:\n",
    "```\n",
    "dir\n",
    "```\n",
    "\n",
    "Python allows users to do a single command, in spite of the OS:"
   ]
  },
  {
   "cell_type": "code",
   "execution_count": 58,
   "metadata": {},
   "outputs": [
    {
     "data": {
      "text/plain": [
       "['.git',\n",
       " '.gitignore',\n",
       " '.ipynb_checkpoints',\n",
       " 'age_diff.py',\n",
       " 'Capture.PNG',\n",
       " 'cats.jpg',\n",
       " 'Comps_and_generators.ipynb',\n",
       " 'datasets',\n",
       " 'Data_viz.ipynb',\n",
       " 'data_viz_setup.ipynb',\n",
       " 'DRDs.fa',\n",
       " 'Functions_ctrl_stuct.ipynb',\n",
       " 'Git_tutorial.ipynb',\n",
       " 'Git_tutorial.pptx',\n",
       " 'mdsherm_st.py',\n",
       " 'name_main_demo.py',\n",
       " 'Numpy_Pandas.ipynb',\n",
       " 'OOPS.ipynb',\n",
       " 'README.md',\n",
       " 'sqlalchemy.ipynb',\n",
       " 'SQLalchemy_query.ipynb',\n",
       " 'st.py',\n",
       " 'st2.py',\n",
       " 'string_and_sub.ipynb',\n",
       " 'String_formatting.ipynb',\n",
       " 'Subprocess.ipynb',\n",
       " 'syntax.png',\n",
       " 'test_data',\n",
       " '__pycache__']"
      ]
     },
     "execution_count": 58,
     "metadata": {},
     "output_type": "execute_result"
    }
   ],
   "source": [
    "# Directory contents\n",
    "os.listdir()"
   ]
  },
  {
   "cell_type": "markdown",
   "metadata": {},
   "source": [
    "However, the biggest issue for creating an OS-agnostic program is ***paths*** <br/>\n",
    "Windows: `\"C:\\\\Users\\\\MDS\\\\Documents\"`<br/>\n",
    "Linux: `/mnt/c/Users/MDS/Documents/`<br/><br/>\n",
    "Enter Python:"
   ]
  },
  {
   "cell_type": "code",
   "execution_count": 59,
   "metadata": {},
   "outputs": [
    {
     "data": {
      "text/plain": [
       "'./Users/MDS/Documents'"
      ]
     },
     "execution_count": 59,
     "metadata": {},
     "output_type": "execute_result"
    }
   ],
   "source": [
    "# path joining from pwd\n",
    "os.path.join('.', 'Users', 'MDS', 'Documents')"
   ]
  },
  {
   "cell_type": "markdown",
   "metadata": {},
   "source": [
    "## ***NOTE***: From here on out, this notebook will *only* work on **Linux**"
   ]
  },
  {
   "cell_type": "markdown",
   "metadata": {},
   "source": [
    "### `subprocess`"
   ]
  },
  {
   "cell_type": "markdown",
   "metadata": {},
   "source": [
    "If you Google anything on how to run shell commands, but don't specify Python 3.x, you will likely get an answer that includes `popen`, `popen2`, or `popen3`. These were the most prolific ways to *open* a new *p*rocess. In Python 3.x, they encapsulated these functions into a new one called `run` available through the `subprocess` library."
   ]
  },
  {
   "cell_type": "code",
   "execution_count": 60,
   "metadata": {},
   "outputs": [],
   "source": [
    "# Import and alias\n",
    "import subprocess as sp"
   ]
  },
  {
   "cell_type": "markdown",
   "metadata": {},
   "source": [
    "The first thing we will look are trivial examples that demonstrate just capturing the *output* (stdout) of a program"
   ]
  },
  {
   "cell_type": "markdown",
   "metadata": {},
   "source": [
    "#### `check_output`"
   ]
  },
  {
   "cell_type": "code",
   "execution_count": 61,
   "metadata": {},
   "outputs": [
    {
     "name": "stdout",
     "output_type": "stream",
     "text": [
      "total 3.3M\n",
      "drwxrwxrwx 1 root root 4.0K Oct 29 11:17 .\n",
      "drwxrwxrwx 1 root root 4.0K Oct 22 06:40 ..\n",
      "-rwxrwxrwx 1 root root  261 Sep 25 06:49 age_diff.py\n",
      "-rwxrwxrwx 1 root root  24K Sep 25 06:53 Capture.PNG\n",
      "-rwxrwxrwx 1 root root 855K Sep  6 09:17 cats.jpg\n",
      "-rwxrwxrwx 1 root root  46K Oct 22 11:36 Comps_and_generators.ipynb\n",
      "drwxrwxrwx 1 root root 4.0K Oct 19 13:36 datasets\n",
      "-rwxrwxrwx 1 root root 503K Oct  8 11:08 Data_viz.ipynb\n",
      "-rwxrwxrwx 1 root root  15K Oct  4 08:46 data_viz_setup.ipynb\n",
      "-rwxrwxrwx 1 root root  16K Oct  5 18:12 DRDs.fa\n",
      "-rwxrwxrwx 1 root root  29K Sep 26 11:32 Functions_ctrl_stuct.ipynb\n",
      "drwxrwxrwx 1 root root 4.0K Oct 29 09:52 .git\n",
      "-rwxrwxrwx 1 root root  175 Oct 25 07:55 .gitignore\n",
      "-rwxrwxrwx 1 root root  40K Sep 10 11:30 Git_tutorial.ipynb\n",
      "-rwxrwxrwx 1 root root 1.4M Sep  6 09:17 Git_tutorial.pptx\n",
      "drwxrwxrwx 1 root root 4.0K Oct 24 10:15 .ipynb_checkpoints\n",
      "-rwxrwxrwx 1 root root  15K Oct 23 15:50 mdsherm_st.py\n",
      "-rwxrwxrwx 1 root root  375 Oct  5 16:59 name_main_demo.py\n",
      "-rwxrwxrwx 1 root root 221K Oct  3 11:30 Numpy_Pandas.ipynb\n",
      "-rwxrwxrwx 1 root root  44K Oct 17 11:22 OOPS.ipynb\n",
      "drwxrwxrwx 1 root root 4.0K Oct 23 15:48 __pycache__\n",
      "-rwxrwxrwx 1 root root   91 Sep  6 09:17 README.md\n",
      "-rwxrwxrwx 1 root root  17K Sep  6 09:17 sqlalchemy.ipynb\n",
      "-rwxrwxrwx 1 root root 6.6K Sep  6 09:17 SQLalchemy_query.ipynb\n",
      "-rwxrwxrwx 1 root root  13K Oct 24 09:03 st2.py\n",
      "-rwxrwxrwx 1 root root 4.8K Oct  5 17:42 st.py\n",
      "-rwxrwxrwx 1 root root  45K Oct 29 11:17 string_and_sub.ipynb\n",
      "-rwxrwxrwx 1 root root  23K Oct 25 06:25 String_formatting.ipynb\n",
      "-rwxrwxrwx 1 root root  14K Oct 24 10:17 Subprocess.ipynb\n",
      "-rwxrwxrwx 1 root root  16K Sep  6 09:17 syntax.png\n",
      "drwxrwxrwx 1 root root 4.0K Sep  6 09:17 test_data\n",
      "\n"
     ]
    }
   ],
   "source": [
    "# check_output returns a bytestring by default, so I set encoding to convert it to strings.\n",
    "print(\n",
    "    sp.check_output(\n",
    "        [\n",
    "            'ls',          # Command\n",
    "            '-ahl',        # Command line arguments\n",
    "            os.getcwd()    # ...\n",
    "        ], \n",
    "        encoding='utf_8')  # Change from bytes to string\n",
    "    \n",
    ")"
   ]
  },
  {
   "cell_type": "markdown",
   "metadata": {},
   "source": [
    "However, while the `check_output` function is still in the `subprocess` module, it can easily be converted into into a more specific and/or flexible `run` function signature."
   ]
  },
  {
   "cell_type": "markdown",
   "metadata": {},
   "source": [
    "#### `run`"
   ]
  },
  {
   "cell_type": "code",
   "execution_count": 62,
   "metadata": {},
   "outputs": [],
   "source": [
    "sub = sp.run(\n",
    "    [\n",
    "        'ls',                # The command we want to run\n",
    "        '-ahl',              # Arguments for the command\n",
    "        os.getcwd()          # ...\n",
    "    ],\n",
    "    encoding='utf_8',        # Converting byte code\n",
    "    stdout=sp.PIPE,          # Where to send the output\n",
    "    check=True               # Whether to raise an error if the process fails\n",
    ")              "
   ]
  },
  {
   "cell_type": "code",
   "execution_count": 63,
   "metadata": {},
   "outputs": [
    {
     "data": {
      "text/plain": [
       "['args', 'check_returncode', 'returncode', 'stderr', 'stdout']"
      ]
     },
     "execution_count": 63,
     "metadata": {},
     "output_type": "execute_result"
    }
   ],
   "source": [
    "# Let's see what sub can do\n",
    "[i for i in dir(sub) if not i.startswith('_')]"
   ]
  },
  {
   "cell_type": "code",
   "execution_count": 64,
   "metadata": {},
   "outputs": [
    {
     "name": "stdout",
     "output_type": "stream",
     "text": [
      "total 3.3M\n",
      "drwxrwxrwx 1 root root 4.0K Oct 29 11:19 .\n",
      "drwxrwxrwx 1 root root 4.0K Oct 22 06:40 ..\n",
      "-rwxrwxrwx 1 root root  261 Sep 25 06:49 age_diff.py\n",
      "-rwxrwxrwx 1 root root  24K Sep 25 06:53 Capture.PNG\n",
      "-rwxrwxrwx 1 root root 855K Sep  6 09:17 cats.jpg\n",
      "-rwxrwxrwx 1 root root  46K Oct 22 11:36 Comps_and_generators.ipynb\n",
      "drwxrwxrwx 1 root root 4.0K Oct 19 13:36 datasets\n",
      "-rwxrwxrwx 1 root root 503K Oct  8 11:08 Data_viz.ipynb\n",
      "-rwxrwxrwx 1 root root  15K Oct  4 08:46 data_viz_setup.ipynb\n",
      "-rwxrwxrwx 1 root root  16K Oct  5 18:12 DRDs.fa\n",
      "-rwxrwxrwx 1 root root  29K Sep 26 11:32 Functions_ctrl_stuct.ipynb\n",
      "drwxrwxrwx 1 root root 4.0K Oct 29 09:52 .git\n",
      "-rwxrwxrwx 1 root root  175 Oct 25 07:55 .gitignore\n",
      "-rwxrwxrwx 1 root root  40K Sep 10 11:30 Git_tutorial.ipynb\n",
      "-rwxrwxrwx 1 root root 1.4M Sep  6 09:17 Git_tutorial.pptx\n",
      "drwxrwxrwx 1 root root 4.0K Oct 24 10:15 .ipynb_checkpoints\n",
      "-rwxrwxrwx 1 root root  15K Oct 23 15:50 mdsherm_st.py\n",
      "-rwxrwxrwx 1 root root  375 Oct  5 16:59 name_main_demo.py\n",
      "-rwxrwxrwx 1 root root 221K Oct  3 11:30 Numpy_Pandas.ipynb\n",
      "-rwxrwxrwx 1 root root  44K Oct 17 11:22 OOPS.ipynb\n",
      "drwxrwxrwx 1 root root 4.0K Oct 23 15:48 __pycache__\n",
      "-rwxrwxrwx 1 root root   91 Sep  6 09:17 README.md\n",
      "-rwxrwxrwx 1 root root  17K Sep  6 09:17 sqlalchemy.ipynb\n",
      "-rwxrwxrwx 1 root root 6.6K Sep  6 09:17 SQLalchemy_query.ipynb\n",
      "-rwxrwxrwx 1 root root  13K Oct 24 09:03 st2.py\n",
      "-rwxrwxrwx 1 root root 4.8K Oct  5 17:42 st.py\n",
      "-rwxrwxrwx 1 root root  47K Oct 29 11:19 string_and_sub.ipynb\n",
      "-rwxrwxrwx 1 root root  23K Oct 25 06:25 String_formatting.ipynb\n",
      "-rwxrwxrwx 1 root root  14K Oct 24 10:17 Subprocess.ipynb\n",
      "-rwxrwxrwx 1 root root  16K Sep  6 09:17 syntax.png\n",
      "drwxrwxrwx 1 root root 4.0K Sep  6 09:17 test_data\n",
      "\n"
     ]
    }
   ],
   "source": [
    "print(sub.stdout)"
   ]
  },
  {
   "cell_type": "markdown",
   "metadata": {},
   "source": [
    "The main utility of `check_output` was to capture the output (stdout) of a program. By using the `stdout=subprocess.PIPE` argument, the output can easily be captured, along with its return code. A return code signifies the program's exit status: 0 for success, anything else otherwise"
   ]
  },
  {
   "cell_type": "code",
   "execution_count": 65,
   "metadata": {},
   "outputs": [
    {
     "data": {
      "text/plain": [
       "0"
      ]
     },
     "execution_count": 65,
     "metadata": {},
     "output_type": "execute_result"
    }
   ],
   "source": [
    "sub.returncode"
   ]
  },
  {
   "cell_type": "markdown",
   "metadata": {},
   "source": [
    "With our `run` code above, our program ran to completetion, exiting with status 0. The next example shows a different status."
   ]
  },
  {
   "cell_type": "code",
   "execution_count": 66,
   "metadata": {},
   "outputs": [
    {
     "name": "stdout",
     "output_type": "stream",
     "text": [
      "CompletedProcess(args='exit 1', returncode=1)\n"
     ]
    }
   ],
   "source": [
    "print(\n",
    "    sp.run(\n",
    "        'exit 1',      # Command & arguments\n",
    "        shell = True   # Run from the shell\n",
    "    )\n",
    ")"
   ]
  },
  {
   "cell_type": "markdown",
   "metadata": {},
   "source": [
    "However, if the `check=True` argument is used, it will raise a `CalledProcessError` if your program exits with anything different than 0. This is helpful for detecting a pipeline failure, and exiting or correcting before attempting to continue computation."
   ]
  },
  {
   "cell_type": "code",
   "execution_count": 67,
   "metadata": {},
   "outputs": [
    {
     "ename": "CalledProcessError",
     "evalue": "Command 'exit 1' returned non-zero exit status 1.",
     "output_type": "error",
     "traceback": [
      "\u001b[0;31m---------------------------------------------------------------------------\u001b[0m",
      "\u001b[0;31mCalledProcessError\u001b[0m                        Traceback (most recent call last)",
      "\u001b[0;32m<ipython-input-67-baf8e85746bb>\u001b[0m in \u001b[0;36m<module>\u001b[0;34m\u001b[0m\n\u001b[1;32m      3\u001b[0m         \u001b[0;34m'exit 1'\u001b[0m\u001b[0;34m,\u001b[0m      \u001b[0;31m# Command & arguments\u001b[0m\u001b[0;34m\u001b[0m\u001b[0m\n\u001b[1;32m      4\u001b[0m         \u001b[0mshell\u001b[0m \u001b[0;34m=\u001b[0m \u001b[0;32mTrue\u001b[0m\u001b[0;34m,\u001b[0m  \u001b[0;31m# Run from the shell\u001b[0m\u001b[0;34m\u001b[0m\u001b[0m\n\u001b[0;32m----> 5\u001b[0;31m         \u001b[0mcheck\u001b[0m \u001b[0;34m=\u001b[0m \u001b[0;32mTrue\u001b[0m   \u001b[0;31m# Check exit status\u001b[0m\u001b[0;34m\u001b[0m\u001b[0m\n\u001b[0m\u001b[1;32m      6\u001b[0m     )\n\u001b[1;32m      7\u001b[0m )\n",
      "\u001b[0;32m~/miniconda3/envs/teaching/lib/python3.7/subprocess.py\u001b[0m in \u001b[0;36mrun\u001b[0;34m(input, capture_output, timeout, check, *popenargs, **kwargs)\u001b[0m\n\u001b[1;32m    466\u001b[0m         \u001b[0;32mif\u001b[0m \u001b[0mcheck\u001b[0m \u001b[0;32mand\u001b[0m \u001b[0mretcode\u001b[0m\u001b[0;34m:\u001b[0m\u001b[0;34m\u001b[0m\u001b[0m\n\u001b[1;32m    467\u001b[0m             raise CalledProcessError(retcode, process.args,\n\u001b[0;32m--> 468\u001b[0;31m                                      output=stdout, stderr=stderr)\n\u001b[0m\u001b[1;32m    469\u001b[0m     \u001b[0;32mreturn\u001b[0m \u001b[0mCompletedProcess\u001b[0m\u001b[0;34m(\u001b[0m\u001b[0mprocess\u001b[0m\u001b[0;34m.\u001b[0m\u001b[0margs\u001b[0m\u001b[0;34m,\u001b[0m \u001b[0mretcode\u001b[0m\u001b[0;34m,\u001b[0m \u001b[0mstdout\u001b[0m\u001b[0;34m,\u001b[0m \u001b[0mstderr\u001b[0m\u001b[0;34m)\u001b[0m\u001b[0;34m\u001b[0m\u001b[0m\n\u001b[1;32m    470\u001b[0m \u001b[0;34m\u001b[0m\u001b[0m\n",
      "\u001b[0;31mCalledProcessError\u001b[0m: Command 'exit 1' returned non-zero exit status 1."
     ]
    }
   ],
   "source": [
    "print(\n",
    "    sp.run(\n",
    "        'exit 1',      # Command & arguments\n",
    "        shell = True,  # Run from the shell\n",
    "        check = True   # Check exit status\n",
    "    )\n",
    ")"
   ]
  },
  {
   "cell_type": "markdown",
   "metadata": {},
   "source": [
    "## Syntax"
   ]
  },
  {
   "cell_type": "markdown",
   "metadata": {},
   "source": [
    "Hopefully, you have picked up that I seemingly used two different syntaxes when using `run`:<br/>\n",
    "1. A list of arguments: `subprocess.run(['ls', '-ahl', os.getcwd()], ...)` \n",
    "2. A string and `shell`: `subprocess.run('exit 1', shell = True, ...)`"
   ]
  },
  {
   "cell_type": "markdown",
   "metadata": {},
   "source": [
    "The preferred way of using `run` is the first way. This is mainly for security purposes (to prevent shell injection attacks), but it also allows the module to take care of any required escaping and quoting of arguments for a pseudo-OS-agnostic approach. That said, some programs only work on one OS, and therefore, there is often little reason one should use `run` one way or another besides habit."
   ]
  },
  {
   "cell_type": "markdown",
   "metadata": {},
   "source": [
    "There are some guidelines though:\n",
    "1. Sequence (list) of arguments is generally preferred\n",
    "2. A str is appropriate if the user is just calling a program with no arguments\n",
    "3. The user should use a str to pass argument if `shell` is `True`<br/>\n",
    "Your next questions should be, \"What is `shell`?\""
   ]
  },
  {
   "cell_type": "markdown",
   "metadata": {},
   "source": [
    "`shell` is just your terminal/command prompt. This is the environment where you call `ls/dir` in. It is also where users can define variables. More importantly, this is where your *environmental variables* are set...like `PATH`.<br/><br/>\n",
    "By using `shell = True`, the user can now use shell-based environmental variable expansion from within a Python program."
   ]
  },
  {
   "cell_type": "code",
   "execution_count": 68,
   "metadata": {},
   "outputs": [
    {
     "name": "stdout",
     "output_type": "stream",
     "text": [
      "['/root/miniconda3/envs/teaching/bin', '/root/miniconda3/envs/teaching/bin', '/root/.cargo/bin', '/root/.local/bin', '/root/miniconda3/bin']\n"
     ]
    }
   ],
   "source": [
    "print(\n",
    "    sp.run(\n",
    "        'echo $PATH',            # Command\n",
    "        shell = True,            # Use the shell\n",
    "        stdout=sp.PIPE,          # Where to send it\n",
    "        encoding='utf_8'         # Convert from bytes to string\n",
    "    ).stdout.split(':')[:5]      # Look at the output\n",
    ")"
   ]
  },
  {
   "cell_type": "markdown",
   "metadata": {},
   "source": [
    "For the most part, you shouldn't need to use `shell` simply because Python has modules in the standard library that can do most of the shell commands. For example `mkdir` can be done with `os.mkdir()`, and `$PATH` can be found using `sys.path` "
   ]
  },
  {
   "cell_type": "markdown",
   "metadata": {},
   "source": [
    "# Blocking vs Non-blocking"
   ]
  },
  {
   "cell_type": "markdown",
   "metadata": {},
   "source": [
    "The last topic of this lecture is \"blocking\". This is computer science lingo/jargon for whether or not a program ***waits*** until something is complete before moving on. Think of this like a really bad website that takes forever to load because it is waiting until it has rendered all its images first, versus the website that sets the formatting and text while it works on the images."
   ]
  },
  {
   "cell_type": "markdown",
   "metadata": {},
   "source": [
    "For the purposes of instruction, here are a few notes:\n",
    "1. `subprocess.run()` is blocking (it waits until the process is complete)\n",
    "2. `subprocess.Popen()` is non-blocking (it will run the command, then move on)"
   ]
  },
  {
   "cell_type": "markdown",
   "metadata": {},
   "source": [
    "As said before, ***most*** use cases can be taken care of through the use of `run()`. However, `Popen()` allows the user a more flexible control of the subprocess call. `run()` is just a *wrapped* version of `Popen()` that simplifies use. However, `Popen()` can be used *almost* exactly the same way (albeit with more optional parameters)."
   ]
  },
  {
   "cell_type": "markdown",
   "metadata": {},
   "source": [
    "An example use case for `Popen()` is if the user has some intermediate data that needs to get processed, but the output of that data doesn't necessarily affect the rest of the pipeline."
   ]
  },
  {
   "cell_type": "markdown",
   "metadata": {},
   "source": [
    "#### `Popen`"
   ]
  },
  {
   "cell_type": "code",
   "execution_count": 69,
   "metadata": {},
   "outputs": [
    {
     "name": "stdout",
     "output_type": "stream",
     "text": [
      "total 3.3M\n",
      "drwxrwxrwx 1 root root 4.0K Oct 29 11:23 .\n",
      "drwxrwxrwx 1 root root 4.0K Oct 22 06:40 ..\n",
      "-rwxrwxrwx 1 root root  261 Sep 25 06:49 age_diff.py\n",
      "-rwxrwxrwx 1 root root  24K Sep 25 06:53 Capture.PNG\n",
      "-rwxrwxrwx 1 root root 855K Sep  6 09:17 cats.jpg\n",
      "-rwxrwxrwx 1 root root  46K Oct 22 11:36 Comps_and_generators.ipynb\n",
      "drwxrwxrwx 1 root root 4.0K Oct 19 13:36 datasets\n",
      "-rwxrwxrwx 1 root root 503K Oct  8 11:08 Data_viz.ipynb\n",
      "-rwxrwxrwx 1 root root  15K Oct  4 08:46 data_viz_setup.ipynb\n",
      "-rwxrwxrwx 1 root root  16K Oct  5 18:12 DRDs.fa\n",
      "-rwxrwxrwx 1 root root  29K Sep 26 11:32 Functions_ctrl_stuct.ipynb\n",
      "drwxrwxrwx 1 root root 4.0K Oct 29 09:52 .git\n",
      "-rwxrwxrwx 1 root root  175 Oct 25 07:55 .gitignore\n",
      "-rwxrwxrwx 1 root root  40K Sep 10 11:30 Git_tutorial.ipynb\n",
      "-rwxrwxrwx 1 root root 1.4M Sep  6 09:17 Git_tutorial.pptx\n",
      "drwxrwxrwx 1 root root 4.0K Oct 24 10:15 .ipynb_checkpoints\n",
      "-rwxrwxrwx 1 root root  15K Oct 23 15:50 mdsherm_st.py\n",
      "-rwxrwxrwx 1 root root  375 Oct  5 16:59 name_main_demo.py\n",
      "-rwxrwxrwx 1 root root 221K Oct  3 11:30 Numpy_Pandas.ipynb\n",
      "-rwxrwxrwx 1 root root  44K Oct 17 11:22 OOPS.ipynb\n",
      "drwxrwxrwx 1 root root 4.0K Oct 23 15:48 __pycache__\n",
      "-rwxrwxrwx 1 root root   91 Sep  6 09:17 README.md\n",
      "-rwxrwxrwx 1 root root  17K Sep  6 09:17 sqlalchemy.ipynb\n",
      "-rwxrwxrwx 1 root root 6.6K Sep  6 09:17 SQLalchemy_query.ipynb\n",
      "-rwxrwxrwx 1 root root  13K Oct 24 09:03 st2.py\n",
      "-rwxrwxrwx 1 root root 4.8K Oct  5 17:42 st.py\n",
      "-rwxrwxrwx 1 root root  52K Oct 29 11:23 string_and_sub.ipynb\n",
      "-rwxrwxrwx 1 root root  23K Oct 25 06:25 String_formatting.ipynb\n",
      "-rwxrwxrwx 1 root root  14K Oct 24 10:17 Subprocess.ipynb\n",
      "-rwxrwxrwx 1 root root  16K Sep  6 09:17 syntax.png\n",
      "drwxrwxrwx 1 root root 4.0K Sep  6 09:17 test_data\n",
      "\n"
     ]
    }
   ],
   "source": [
    "# Use context manager to handle process while it is running,\n",
    "# and gracefully close it\n",
    "with sp.Popen(\n",
    "    [\n",
    "        'ls',         # Command\n",
    "        '-ahl',       # Command line arguments\n",
    "        os.getcwd()   # ...\n",
    "    ],\n",
    "    encoding='utf_8', # Convert from byte to string\n",
    "    stdout=sp.PIPE    # Where to send it\n",
    ") as proc:            # Enclose and alias the context manager\n",
    "    print(\n",
    "        proc.stdout.read() # Look at the output\n",
    "    )"
   ]
  },
  {
   "cell_type": "markdown",
   "metadata": {},
   "source": [
    "Furthermore, `Popen` can create background processes. As such, `Popen` has a lot more functionality than `run`"
   ]
  },
  {
   "cell_type": "code",
   "execution_count": 70,
   "metadata": {},
   "outputs": [
    {
     "name": "stdout",
     "output_type": "stream",
     "text": [
      "args\n",
      "communicate\n",
      "encoding\n",
      "errors\n",
      "kill\n",
      "pid\n",
      "poll\n",
      "returncode\n",
      "send_signal\n",
      "stderr\n",
      "stdin\n",
      "stdout\n",
      "terminate\n",
      "text_mode\n",
      "universal_newlines\n",
      "wait\n"
     ]
    }
   ],
   "source": [
    "sub_popen = sp.Popen(\n",
    "    [\n",
    "        'ls',          # Command\n",
    "        '-ahl',        # Command line arguments\n",
    "        os.getcwd()    # ...\n",
    "    ],\n",
    "    encoding='utf_8',  # Convert from byte to string\n",
    "    stdout=sp.PIPE     # Where to send it\n",
    ")\n",
    "for j in dir(sub_popen):\n",
    "    if j.startswith('_'):\n",
    "        pass\n",
    "    else:\n",
    "        print(j)"
   ]
  },
  {
   "cell_type": "code",
   "execution_count": 71,
   "metadata": {},
   "outputs": [
    {
     "ename": "ProcessLookupError",
     "evalue": "[Errno 3] No such process",
     "output_type": "error",
     "traceback": [
      "\u001b[0;31m---------------------------------------------------------------------------\u001b[0m",
      "\u001b[0;31mProcessLookupError\u001b[0m                        Traceback (most recent call last)",
      "\u001b[0;32m<ipython-input-71-6903ba680554>\u001b[0m in \u001b[0;36m<module>\u001b[0;34m\u001b[0m\n\u001b[0;32m----> 1\u001b[0;31m \u001b[0msub_popen\u001b[0m\u001b[0;34m.\u001b[0m\u001b[0mkill\u001b[0m\u001b[0;34m(\u001b[0m\u001b[0;34m)\u001b[0m       \u001b[0;31m# Close the process\u001b[0m\u001b[0;34m\u001b[0m\u001b[0m\n\u001b[0m",
      "\u001b[0;32m~/miniconda3/envs/teaching/lib/python3.7/subprocess.py\u001b[0m in \u001b[0;36mkill\u001b[0;34m(self)\u001b[0m\n\u001b[1;32m   1731\u001b[0m             \"\"\"Kill the process with SIGKILL\n\u001b[1;32m   1732\u001b[0m             \"\"\"\n\u001b[0;32m-> 1733\u001b[0;31m             \u001b[0mself\u001b[0m\u001b[0;34m.\u001b[0m\u001b[0msend_signal\u001b[0m\u001b[0;34m(\u001b[0m\u001b[0msignal\u001b[0m\u001b[0;34m.\u001b[0m\u001b[0mSIGKILL\u001b[0m\u001b[0;34m)\u001b[0m\u001b[0;34m\u001b[0m\u001b[0m\n\u001b[0m",
      "\u001b[0;32m~/miniconda3/envs/teaching/lib/python3.7/subprocess.py\u001b[0m in \u001b[0;36msend_signal\u001b[0;34m(self, sig)\u001b[0m\n\u001b[1;32m   1721\u001b[0m             \u001b[0;31m# Skip signalling a process that we know has already died.\u001b[0m\u001b[0;34m\u001b[0m\u001b[0;34m\u001b[0m\u001b[0m\n\u001b[1;32m   1722\u001b[0m             \u001b[0;32mif\u001b[0m \u001b[0mself\u001b[0m\u001b[0;34m.\u001b[0m\u001b[0mreturncode\u001b[0m \u001b[0;32mis\u001b[0m \u001b[0;32mNone\u001b[0m\u001b[0;34m:\u001b[0m\u001b[0;34m\u001b[0m\u001b[0m\n\u001b[0;32m-> 1723\u001b[0;31m                 \u001b[0mos\u001b[0m\u001b[0;34m.\u001b[0m\u001b[0mkill\u001b[0m\u001b[0;34m(\u001b[0m\u001b[0mself\u001b[0m\u001b[0;34m.\u001b[0m\u001b[0mpid\u001b[0m\u001b[0;34m,\u001b[0m \u001b[0msig\u001b[0m\u001b[0;34m)\u001b[0m\u001b[0;34m\u001b[0m\u001b[0m\n\u001b[0m\u001b[1;32m   1724\u001b[0m \u001b[0;34m\u001b[0m\u001b[0m\n\u001b[1;32m   1725\u001b[0m         \u001b[0;32mdef\u001b[0m \u001b[0mterminate\u001b[0m\u001b[0;34m(\u001b[0m\u001b[0mself\u001b[0m\u001b[0;34m)\u001b[0m\u001b[0;34m:\u001b[0m\u001b[0;34m\u001b[0m\u001b[0m\n",
      "\u001b[0;31mProcessLookupError\u001b[0m: [Errno 3] No such process"
     ]
    }
   ],
   "source": [
    "sub_popen.kill()       # Close the process"
   ]
  }
 ],
 "metadata": {
  "kernelspec": {
   "display_name": "Python 3",
   "language": "python",
   "name": "python3"
  },
  "language_info": {
   "codemirror_mode": {
    "name": "ipython",
    "version": 3
   },
   "file_extension": ".py",
   "mimetype": "text/x-python",
   "name": "python",
   "nbconvert_exporter": "python",
   "pygments_lexer": "ipython3",
   "version": "3.7.0"
  }
 },
 "nbformat": 4,
 "nbformat_minor": 2
}
