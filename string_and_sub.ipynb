{
 "cells": [
  {
   "cell_type": "markdown",
   "metadata": {},
   "source": [
    "# Strings and Subprocesses"
   ]
  },
  {
   "cell_type": "markdown",
   "metadata": {},
   "source": [
    "---"
   ]
  },
  {
   "cell_type": "markdown",
   "metadata": {},
   "source": [
    "## Overview"
   ]
  },
  {
   "cell_type": "markdown",
   "metadata": {},
   "source": [
    "1. String Formatting:\n",
    "    1. String operations \n",
    "    2. Olde style\n",
    "    3. New style\n",
    "    4. f-strings\n",
    "    5. Template strings\n",
    "2. Subprocesses\n",
    "    1. Purpose\n",
    "    2. OS dependency\n",
    "    3. `subprocess`\n",
    "        * `check_output`\n",
    "        * `run`\n",
    "        * Syntax\n",
    "        * Blocking vs Non-blocking (`Popen`)"
   ]
  },
  {
   "cell_type": "markdown",
   "metadata": {},
   "source": [
    "---"
   ]
  },
  {
   "cell_type": "markdown",
   "metadata": {},
   "source": [
    "## String Formatting"
   ]
  },
  {
   "cell_type": "markdown",
   "metadata": {},
   "source": [
    "There is *always* more than one way to do something with the same result in programming. However, there is a specific line from the Zen of Python that explains what to do in this scenario:\n",
    "> There should be one-- and preferably only one --obvious way to do it."
   ]
  },
  {
   "cell_type": "markdown",
   "metadata": {},
   "source": [
    "However, when it comes to *string formatting*, there are 4 ways to do it...and each has its place."
   ]
  },
  {
   "cell_type": "markdown",
   "metadata": {},
   "source": [
    "### Setup"
   ]
  },
  {
   "cell_type": "markdown",
   "metadata": {},
   "source": [
    "We will be working with a couple of variables throughout the string formatting demonstration. So, let's get them out of the way now:"
   ]
  },
  {
   "cell_type": "code",
   "execution_count": null,
   "metadata": {},
   "outputs": [],
   "source": [
    "fName = 'Sharkus'\n",
    "job = 'GSI'\n",
    "power = 0x2329\n",
    "\n",
    "dict_of_types = {\n",
    "    'string': 'spam',\n",
    "    'int': 42,\n",
    "    'exp': 1e12,\n",
    "    'float': 3.14\n",
    "}"
   ]
  },
  {
   "cell_type": "markdown",
   "metadata": {},
   "source": [
    "### String Operations"
   ]
  },
  {
   "cell_type": "markdown",
   "metadata": {},
   "source": [
    "When considering `str` objects, they have *a lot* of methods."
   ]
  },
  {
   "cell_type": "code",
   "execution_count": null,
   "metadata": {},
   "outputs": [],
   "source": [
    "[i for i in dir(str) if not i.startswith('_')]"
   ]
  },
  {
   "cell_type": "markdown",
   "metadata": {},
   "source": [
    "However, strings have very few *operations*"
   ]
  },
  {
   "cell_type": "code",
   "execution_count": null,
   "metadata": {
    "hidePrompt": true
   },
   "outputs": [],
   "source": [
    "# Concatenation\n",
    "fName + job"
   ]
  },
  {
   "cell_type": "markdown",
   "metadata": {
    "slideshow": {
     "slide_type": "subslide"
    }
   },
   "source": [
    "Making simple strings with concatenation makes sense, but making complete statements, log entries, or complex outputs is draining on the coder"
   ]
  },
  {
   "cell_type": "code",
   "execution_count": null,
   "metadata": {
    "hidePrompt": true,
    "scrolled": true,
    "slideshow": {
     "slide_type": "fragment"
    }
   },
   "outputs": [],
   "source": [
    "greeting = 'Hello, my name is ' + fName +\\\n",
    "', and I have ' + str(power) + ''' power\n",
    " and currently working as a ''' + job\n",
    "print(greeting)"
   ]
  },
  {
   "cell_type": "code",
   "execution_count": null,
   "metadata": {
    "hidePrompt": true,
    "slideshow": {
     "slide_type": "subslide"
    }
   },
   "outputs": [],
   "source": [
    "# Multiplicity\n"
   ]
  },
  {
   "cell_type": "code",
   "execution_count": null,
   "metadata": {
    "hidePrompt": true,
    "slideshow": {
     "slide_type": "subslide"
    }
   },
   "outputs": [],
   "source": [
    "# What about difference?\n"
   ]
  },
  {
   "cell_type": "code",
   "execution_count": null,
   "metadata": {
    "hidePrompt": true,
    "slideshow": {
     "slide_type": "subslide"
    }
   },
   "outputs": [],
   "source": [
    "# Division\n"
   ]
  },
  {
   "cell_type": "markdown",
   "metadata": {
    "slideshow": {
     "slide_type": "subslide"
    }
   },
   "source": [
    "Not to be particularly rigorous, but what about `modulo` math?"
   ]
  },
  {
   "cell_type": "code",
   "execution_count": null,
   "metadata": {
    "hidePrompt": true,
    "slideshow": {
     "slide_type": "-"
    }
   },
   "outputs": [],
   "source": [
    "# Modulo\n"
   ]
  },
  {
   "cell_type": "markdown",
   "metadata": {
    "hidePrompt": true,
    "slideshow": {
     "slide_type": "fragment"
    }
   },
   "source": [
    "That's different...</br>\n",
    "The modulo (`%`) is a unique operator when used on strings. It is called a *formatting* or *interpolation* operator, and its usage is a little unique."
   ]
  },
  {
   "cell_type": "markdown",
   "metadata": {},
   "source": [
    "## Ye olde style: `printf`"
   ]
  },
  {
   "cell_type": "code",
   "execution_count": null,
   "metadata": {
    "hidePrompt": true
   },
   "outputs": [],
   "source": [
    "# Syntax\n"
   ]
  },
  {
   "cell_type": "markdown",
   "metadata": {
    "slideshow": {
     "slide_type": "subslide"
    }
   },
   "source": [
    "The biggest issue with `%` string formatting is that it requires the user to *declare* their types before hand"
   ]
  },
  {
   "cell_type": "code",
   "execution_count": null,
   "metadata": {
    "hidePrompt": true,
    "slideshow": {
     "slide_type": "fragment"
    }
   },
   "outputs": [],
   "source": [
    "# Quote\n",
    "print('''In order to maintain air-speed velocity, \n",
    "a %s needs to beat its wings %s times every \n",
    "second, right?''' % ('swallow', 42))"
   ]
  },
  {
   "cell_type": "markdown",
   "metadata": {
    "slideshow": {
     "slide_type": "fragment"
    }
   },
   "source": [
    "See the difference? `%s` means string, and `%d` means integer. There is a [whole list of these](https://docs.python.org/3/library/stdtypes.html#old-string-formatting). This is known as *conversion types*. Using these, the user indicates what type of object they are going to put in that place and the interpreter figures out how to convert it to a string."
   ]
  },
  {
   "cell_type": "markdown",
   "metadata": {},
   "source": [
    "### Placeholder Unpacking"
   ]
  },
  {
   "cell_type": "code",
   "execution_count": null,
   "metadata": {
    "hidePrompt": true,
    "slideshow": {
     "slide_type": "subslide"
    }
   },
   "outputs": [],
   "source": [
    "'%(string)s %(int)d %(exp)e %(float)d' % (dict_of_types)"
   ]
  },
  {
   "cell_type": "markdown",
   "metadata": {
    "slideshow": {
     "slide_type": "fragment"
    }
   },
   "source": [
    "There is a lot to be seen in the last example. Let's walk through it."
   ]
  },
  {
   "cell_type": "markdown",
   "metadata": {
    "slideshow": {
     "slide_type": "fragment"
    }
   },
   "source": [
    "1. Dictionary of values of different types\n",
    "2. Placeholders that link to the dictionary keys\n",
    "3. Conversion of types\n",
    "4. naturally unpacked dictionary"
   ]
  },
  {
   "cell_type": "markdown",
   "metadata": {
    "slideshow": {
     "slide_type": "subslide"
    }
   },
   "source": [
    "The `%` acts as a placeholder, such that we can make template strings. This can be helpful in operations like SQL"
   ]
  },
  {
   "cell_type": "code",
   "execution_count": null,
   "metadata": {
    "hidePrompt": true
   },
   "outputs": [],
   "source": [
    "# Greeting example: old style\n"
   ]
  },
  {
   "cell_type": "markdown",
   "metadata": {
    "slideshow": {
     "slide_type": "fragment"
    }
   },
   "source": [
    "### The Drawbacks\n",
    "* Can be burdensome to read and write.\n",
    "* Not very flexible or extensible\n",
    "* Discouraged by the Python Devs:\n",
    "> “The formatting operations described here exhibit a variety of quirks that lead to a number of common errors (such as failing to display tuples and dictionaries correctly)."
   ]
  },
  {
   "cell_type": "markdown",
   "metadata": {},
   "source": [
    "## The 'new-style'"
   ]
  },
  {
   "cell_type": "code",
   "execution_count": null,
   "metadata": {},
   "outputs": [],
   "source": [
    "# Quote\n",
    "quote = '''in order to maintain air-speed velocity,\n",
    "a {} needs to beat its wings {} times every second, right?'''\n",
    "print(quote.format('sparrow', 42))"
   ]
  },
  {
   "cell_type": "markdown",
   "metadata": {
    "slideshow": {
     "slide_type": "subslide"
    }
   },
   "source": [
    "What's more is that you can use the placeholders to index the arguments."
   ]
  },
  {
   "cell_type": "code",
   "execution_count": null,
   "metadata": {
    "hidePrompt": true
   },
   "outputs": [],
   "source": [
    "# Argument Unpacking\n",
    "args = dict_of_types.values()\n",
    "\n",
    "# index placeholders\n",
    "idx_str = \n",
    "\n",
    "idx_str.format()"
   ]
  },
  {
   "cell_type": "markdown",
   "metadata": {
    "slideshow": {
     "slide_type": "fragment"
    }
   },
   "source": [
    "Again, I slipped in some extra here. You have seen it before, but mainly in `print` functions: `*` *unpacking*"
   ]
  },
  {
   "cell_type": "markdown",
   "metadata": {
    "slideshow": {
     "slide_type": "subslide"
    }
   },
   "source": [
    "That is cool, right? But what if you wanted to still convert the values like we did last time? We can use a 'mini-language' to control conversion and precision. The full documentation of the mini-language can be found [here](https://docs.python.org/3/library/string.html#formatspec)"
   ]
  },
  {
   "cell_type": "code",
   "execution_count": null,
   "metadata": {},
   "outputs": [],
   "source": [
    "print(\n",
    "    '\\n'.join(\n",
    "        [\n",
    "            '{:*^10}', # Fill \n",
    "            '{:08b}',  # Binary\n",
    "            '{:.2e}',  # Scientific Notation\n",
    "            '{:.0f}'   # Integer\n",
    "        ]  \n",
    "    ).format(*args)\n",
    ")"
   ]
  },
  {
   "cell_type": "markdown",
   "metadata": {
    "slideshow": {
     "slide_type": "subslide"
    }
   },
   "source": [
    "Like 'old-style', we can still use keyword arguments as well. Like list unpacking, we are using keyword unpacking (`**`)"
   ]
  },
  {
   "cell_type": "code",
   "execution_count": null,
   "metadata": {
    "hidePrompt": true
   },
   "outputs": [],
   "source": [
    "print(\n",
    "    '\\n'.join(\n",
    "        [\n",
    "            '{string:*^10}',\n",
    "            '{int:08b}',\n",
    "            '{exp:.2e}',\n",
    "            '{float:.0f}'\n",
    "        ]\n",
    "    ).format(**dict_of_types)\n",
    ")"
   ]
  },
  {
   "cell_type": "code",
   "execution_count": null,
   "metadata": {
    "hidePrompt": true,
    "slideshow": {
     "slide_type": "subslide"
    }
   },
   "outputs": [],
   "source": [
    "# Greeting example: new style\n"
   ]
  },
  {
   "cell_type": "markdown",
   "metadata": {
    "slideshow": {
     "slide_type": "subslide"
    }
   },
   "source": [
    "Now, why does this matter? What could you use it for? Think of some use cases."
   ]
  },
  {
   "cell_type": "markdown",
   "metadata": {},
   "source": [
    "### Generating logs"
   ]
  },
  {
   "cell_type": "code",
   "execution_count": null,
   "metadata": {
    "hidePrompt": true,
    "slideshow": {
     "slide_type": "fragment"
    }
   },
   "outputs": [],
   "source": [
    "import string\n",
    "import uuid\n",
    "template = 'item: {}, guid: {}, character: {}'\n",
    "for i, s in enumerate(string.punctuation):\n",
    "    print(template.format(i, uuid.uuid4(), s))"
   ]
  },
  {
   "cell_type": "markdown",
   "metadata": {},
   "source": [
    "### The Drawbacks"
   ]
  },
  {
   "cell_type": "markdown",
   "metadata": {},
   "source": [
    "1. having to write `.format()`\n",
    "2. cannot call local variables instead\n",
    "3. variable evaluation is 'dumb'"
   ]
  },
  {
   "cell_type": "markdown",
   "metadata": {},
   "source": [
    "## The *newest-style*: f-strings"
   ]
  },
  {
   "cell_type": "markdown",
   "metadata": {},
   "source": [
    "New to Python 3.6, f-strings look and feel like `{}`, but with a little extra under the hood."
   ]
  },
  {
   "cell_type": "code",
   "execution_count": null,
   "metadata": {},
   "outputs": [],
   "source": [
    "# Greeting example: f-strings\n"
   ]
  },
  {
   "cell_type": "markdown",
   "metadata": {
    "slideshow": {
     "slide_type": "fragment"
    }
   },
   "source": [
    "Above shows that I no longer need to worry about the order arguments within a `.format()` method, or passing keyword arguments. I can directly reference the variables themselves."
   ]
  },
  {
   "cell_type": "markdown",
   "metadata": {
    "slideshow": {
     "slide_type": "subslide"
    }
   },
   "source": [
    "You may ask, \"Oh Senpai, what about formatting and type conversion?\" and I would said, \"Young padawan, there is much doubt in your voice. Still convert and format, we can\""
   ]
  },
  {
   "cell_type": "code",
   "execution_count": null,
   "metadata": {},
   "outputs": [],
   "source": [
    "# Convert and format\n",
    "\n",
    "print(\n",
    "    '\\n'.join(\n",
    "        [\n",
    "            f'{dict_of_types[\"string\"]:*^10}',\n",
    "            f'{dict_of_types[\"int\"]:08b}',\n",
    "            f'{dict_of_types[\"exp\"]:.2e}',\n",
    "            f'{dict_of_types[\"float\"]:.0f}'\n",
    "        ]\n",
    "    )\n",
    ")"
   ]
  },
  {
   "cell_type": "markdown",
   "metadata": {
    "slideshow": {
     "slide_type": "slide"
    }
   },
   "source": [
    "### The important part"
   ]
  },
  {
   "cell_type": "markdown",
   "metadata": {},
   "source": [
    "Besides just doing type conversion and formatting, there was something else a little more subtle you probably can pick up on: *expression interpolation*."
   ]
  },
  {
   "cell_type": "markdown",
   "metadata": {},
   "source": [
    "This is just a fancy way of saying that expressions within `{}` are evaluated and the output is converted into strings."
   ]
  },
  {
   "cell_type": "code",
   "execution_count": null,
   "metadata": {
    "hidePrompt": true,
    "slideshow": {
     "slide_type": "subslide"
    }
   },
   "outputs": [],
   "source": [
    "import random\n",
    "from collections import namedtuple\n",
    "\n",
    "# bar square\n",
    "\n",
    "# Pass namedtuple or default\n",
    "def foo():\n",
    "    pass\n",
    "\n",
    "for i in range(0, 100, 10):\n",
    "    print(f'{foo(random.randint(i, 100))}')"
   ]
  },
  {
   "cell_type": "markdown",
   "metadata": {},
   "source": [
    "## Template Strings"
   ]
  },
  {
   "cell_type": "markdown",
   "metadata": {},
   "source": [
    "To use Template strings, you must import them from the `string` module."
   ]
  },
  {
   "cell_type": "code",
   "execution_count": null,
   "metadata": {},
   "outputs": [],
   "source": [
    "from string import Template"
   ]
  },
  {
   "cell_type": "code",
   "execution_count": null,
   "metadata": {},
   "outputs": [],
   "source": [
    "# Greeting example: Template strings\n",
    "t_string = Template('''Hello, my name is $name, \n",
    "                    I have $power power, \n",
    "                    and currently working as a $job''')\n",
    "\n",
    "# Template substitution\n"
   ]
  },
  {
   "cell_type": "markdown",
   "metadata": {},
   "source": [
    "---"
   ]
  },
  {
   "cell_type": "markdown",
   "metadata": {},
   "source": [
    "## Subprocesses"
   ]
  },
  {
   "cell_type": "markdown",
   "metadata": {},
   "source": [
    "One of the biggest strengths of Python is its use as a *glue* language. It can 'glue' together a bunch of programs into a highly extensible & flexible pipline."
   ]
  },
  {
   "cell_type": "markdown",
   "metadata": {},
   "source": [
    "### Purpose (Obligatory wall of text)\n",
    "One of the most common, yet complicated, tasks that most programming languages need to do is spawning new processes. This could be as simple as seeing what files are present in the current working directory (`ls`) or as complicated as creating a program workflow that *pipes* output from one program into another program's input. <br/><br/>\n",
    "Many such tasks are easily taken care of through the use of Python libraries and modules (`import`) that *wrap* the programs into Python code, effectively creating Application Programming Interfaces (API). <br/><br/>\n",
    "However, there are many use cases that require the user to make calls to the terminal from ***within*** a Python program."
   ]
  },
  {
   "cell_type": "markdown",
   "metadata": {},
   "source": [
    "### Operating System Conundrum"
   ]
  },
  {
   "cell_type": "markdown",
   "metadata": {},
   "source": [
    "First, we need to address the following issue. As many in this class have found out, while Python can be installed on most operating systems; doing the same thing in one operating system (Unix) may not always yield the same results in another (Windows).<br/><br/>\n",
    "The very first step to making a program **\"OS-agnostic\"** is through the use of the `os` module."
   ]
  },
  {
   "cell_type": "code",
   "execution_count": null,
   "metadata": {},
   "outputs": [],
   "source": [
    "import os"
   ]
  },
  {
   "cell_type": "markdown",
   "metadata": {},
   "source": [
    "The `os` module wraps OS-specific operations into a set of standardized commands. <br/>\n",
    "For instance, the Linux end-of-line (EOL) character is a `\\n`, but `\\r\\n` in Windows. In Python, we can just use the following:"
   ]
  },
  {
   "cell_type": "code",
   "execution_count": null,
   "metadata": {},
   "outputs": [],
   "source": [
    "os.linesep"
   ]
  },
  {
   "cell_type": "markdown",
   "metadata": {},
   "source": [
    "This above command detects the current environment, and sets the EOL it will be using based on that."
   ]
  },
  {
   "cell_type": "markdown",
   "metadata": {},
   "source": [
    "Anomther example, in a Linux environment, one must use the following command to list the contents of a given directory:\n",
    "```\n",
    "ls -alh \n",
    "```\n",
    "\n",
    "In Windows, the equivalent is as follows:\n",
    "```\n",
    "dir\n",
    "```\n",
    "\n",
    "Python allows users to do a single command, in spite of the OS:"
   ]
  },
  {
   "cell_type": "code",
   "execution_count": null,
   "metadata": {},
   "outputs": [],
   "source": [
    "os.listdir()"
   ]
  },
  {
   "cell_type": "markdown",
   "metadata": {},
   "source": [
    "However, the biggest issue for creating an OS-agnostic program is ***paths*** <br/>\n",
    "Windows: `\"C:\\Users\\MDS\\Documents/\"`<br/>\n",
    "Linux: `/mnt/c/Users/MDS/Documents/`<br/><br/>\n",
    "Enter Python:"
   ]
  },
  {
   "cell_type": "code",
   "execution_count": null,
   "metadata": {},
   "outputs": [],
   "source": [
    "# path joining\n"
   ]
  },
  {
   "cell_type": "markdown",
   "metadata": {},
   "source": [
    "## ***NOTE***: From here on out, this notebook will *only* work on **Linux**"
   ]
  },
  {
   "cell_type": "markdown",
   "metadata": {},
   "source": [
    "### `subprocess`"
   ]
  },
  {
   "cell_type": "markdown",
   "metadata": {},
   "source": [
    "If you Google anything on how to run shell commands, but don't specify Python 3.x, you will likely get an answer that includes `popen`, `popen2`, or `popen3`. These were the most prolific ways to *open* a new *p*rocess. In Python 3.x, they encapsulated these functions into a new one called `run` available through the `subprocess` library."
   ]
  },
  {
   "cell_type": "code",
   "execution_count": null,
   "metadata": {},
   "outputs": [],
   "source": [
    "# Import and alias\n",
    "import subprocess as sp"
   ]
  },
  {
   "cell_type": "markdown",
   "metadata": {},
   "source": [
    "The first thing we will look are trivial examples that demonstrate just capturing the *output* (stdout) of a program"
   ]
  },
  {
   "cell_type": "markdown",
   "metadata": {},
   "source": [
    "#### `check_output`"
   ]
  },
  {
   "cell_type": "code",
   "execution_count": null,
   "metadata": {},
   "outputs": [],
   "source": [
    "# check_output returns a bytestring by default, so I set encoding to convert it to strings.\n",
    "print(\n",
    "    sp.check_output(\n",
    "        [\n",
    "            'ls',          # Command\n",
    "            '-ahl',        # Command line arguments\n",
    "            os.getcwd()    # ...\n",
    "        ], \n",
    "        encoding='utf_8')  # Change from bytes to string\n",
    "    \n",
    ")"
   ]
  },
  {
   "cell_type": "markdown",
   "metadata": {},
   "source": [
    "However, while the `check_output` function is still in the `subprocess` module, it can easily be converted into into a more specific and/or flexible `run` function signature."
   ]
  },
  {
   "cell_type": "markdown",
   "metadata": {},
   "source": [
    "#### `run`"
   ]
  },
  {
   "cell_type": "code",
   "execution_count": null,
   "metadata": {},
   "outputs": [],
   "source": [
    "sub = sp.run(\n",
    "    [\n",
    "        'ls',                # The command we want to run\n",
    "        '-ahl',              # Arguments for the command\n",
    "        os.getcwd()          # ...\n",
    "    ],\n",
    "    encoding='utf_8',        # Converting byte code\n",
    "    stdout=sp.PIPE,          # Where to send the output\n",
    "    check=True               # Whether to raise an error if the process fails\n",
    ")              "
   ]
  },
  {
   "cell_type": "code",
   "execution_count": null,
   "metadata": {},
   "outputs": [],
   "source": [
    "# Let's see what sub can do\n",
    "[i for i in dir(sub) if not i.startswith('_')]"
   ]
  },
  {
   "cell_type": "code",
   "execution_count": null,
   "metadata": {},
   "outputs": [],
   "source": [
    "print(sub.stdout)"
   ]
  },
  {
   "cell_type": "markdown",
   "metadata": {},
   "source": [
    "The main utility of `check_output` was to capture the output (stdout) of a program. By using the `stdout=subprocess.PIPE` argument, the output can easily be captured, along with its return code. A return code signifies the program's exit status: 0 for success, anything else otherwise"
   ]
  },
  {
   "cell_type": "code",
   "execution_count": null,
   "metadata": {},
   "outputs": [],
   "source": [
    "sub.returncode"
   ]
  },
  {
   "cell_type": "markdown",
   "metadata": {},
   "source": [
    "With our `run` code above, our program ran to completetion, exiting with status 0. The next example shows a different status."
   ]
  },
  {
   "cell_type": "code",
   "execution_count": null,
   "metadata": {},
   "outputs": [],
   "source": [
    "print(\n",
    "    sp.run(\n",
    "        'exit 1',      # Command & arguments\n",
    "        shell = True   # Run from the shell\n",
    "    )\n",
    ")"
   ]
  },
  {
   "cell_type": "markdown",
   "metadata": {},
   "source": [
    "However, if the `check=True` argument is used, it will raise a `CalledProcessError` if your program exits with anything different than 0. This is helpful for detecting a pipeline failure, and exiting or correcting before attempting to continue computation."
   ]
  },
  {
   "cell_type": "code",
   "execution_count": null,
   "metadata": {},
   "outputs": [],
   "source": [
    "print(\n",
    "    sp.run(\n",
    "        'exit 1',      # Command & arguments\n",
    "        shell = True,  # Run from the shell\n",
    "        check = True   # Check exit status\n",
    "    )\n",
    ")"
   ]
  },
  {
   "cell_type": "markdown",
   "metadata": {},
   "source": [
    "## Syntax"
   ]
  },
  {
   "cell_type": "markdown",
   "metadata": {},
   "source": [
    "Hopefully, you have picked up that I seemingly used two different syntaxes when using `run`:<br/>\n",
    "1. A list of arguments: `subprocess.run(['ls', '-ahl', os.getcwd()], ...)` \n",
    "2. A string and `shell`: `subprocess.run('exit 1', shell = True, ...)`"
   ]
  },
  {
   "cell_type": "markdown",
   "metadata": {},
   "source": [
    "The preferred way of using `run` is the first way. This is mainly for security purposes (to prevent shell injection attacks), but it also allows the module to take care of any required escaping and quoting of arguments for a pseudo-OS-agnostic approach. That said, some programs only work on one OS, and therefore, there is often little reason one should use `run` one way or another besides habit."
   ]
  },
  {
   "cell_type": "markdown",
   "metadata": {},
   "source": [
    "There are some guidelines though:\n",
    "1. Sequence (list) of arguments is generally preferred\n",
    "2. A str is appropriate if the user is just calling a program with no arguments\n",
    "3. The user should use a str to pass argument if `shell` is `True`<br/>\n",
    "Your next questions should be, \"What is `shell`?\""
   ]
  },
  {
   "cell_type": "markdown",
   "metadata": {},
   "source": [
    "`shell` is just your terminal/command prompt. This is the environment where you call `ls/dir` in. It is also where users can define variables. More importantly, this is where your *environmental variables* are set...like `PATH`.<br/><br/>\n",
    "By using `shell = True`, the user can now use shell-based environmental variable expansion from within a Python program."
   ]
  },
  {
   "cell_type": "code",
   "execution_count": null,
   "metadata": {},
   "outputs": [],
   "source": [
    "print(\n",
    "    sp.run(\n",
    "        'echo $PATH',            # Command\n",
    "        shell = True,            # Use the shell\n",
    "        stdout=sp.PIPE,          # Where to send it\n",
    "        encoding='utf_8'         # Convert from bytes to string\n",
    "    ).stdout.split(':')[:5]      # Look at the output\n",
    ")"
   ]
  },
  {
   "cell_type": "markdown",
   "metadata": {},
   "source": [
    "For the most part, you shouldn't need to use `shell` simply because Python has modules in the standard library that can do most of the shell commands. For example `mkdir` can be done with `os.mkdir()`, and `$PATH` can be found using `sys.path` "
   ]
  },
  {
   "cell_type": "markdown",
   "metadata": {},
   "source": [
    "# Blocking vs Non-blocking"
   ]
  },
  {
   "cell_type": "markdown",
   "metadata": {},
   "source": [
    "The last topic of this lecture is \"blocking\". This is computer science lingo/jargon for whether or not a program ***waits*** until something is complete before moving on. Think of this like a really bad website that takes forever to load because it is waiting until it has rendered all its images first, versus the website that sets the formatting and text while it works on the images."
   ]
  },
  {
   "cell_type": "markdown",
   "metadata": {},
   "source": [
    "For the purposes of instruction, here are a few notes:\n",
    "1. `subprocess.run()` is blocking (it waits until the process is complete)\n",
    "2. `subprocess.Popen()` is non-blocking (it will run the command, then move on)"
   ]
  },
  {
   "cell_type": "markdown",
   "metadata": {},
   "source": [
    "As said before, ***most*** use cases can be taken care of through the use of `run()`. However, `Popen()` allows the user a more flexible control of the subprocess call. `run()` is just a *wrapped* version of `Popen()` that simplifies use. However, `Popen()` can be used *almost* exactly the same way (albeit with more optional parameters)."
   ]
  },
  {
   "cell_type": "markdown",
   "metadata": {},
   "source": [
    "An example use case for `Popen()` is if the user has some intermediate data that needs to get processed, but the output of that data doesn't necessarily affect the rest of the pipeline."
   ]
  },
  {
   "cell_type": "markdown",
   "metadata": {},
   "source": [
    "#### `Popen`"
   ]
  },
  {
   "cell_type": "code",
   "execution_count": null,
   "metadata": {},
   "outputs": [],
   "source": [
    "# Use context manager to handle process while it is running,\n",
    "# and gracefully close it\n",
    "with sp.Popen(\n",
    "    [\n",
    "        'ls',         # Command\n",
    "        '-ahl',       # Command line arguments\n",
    "        os.getcwd()   # ...\n",
    "    ],\n",
    "    encoding='utf_8', # Convert from byte to string\n",
    "    stdout=sp.PIPE    # Where to send it\n",
    ") as proc:            # Enclose and alias the context manager\n",
    "    print(\n",
    "        proc.stdout.read() # Look at the output\n",
    "    )"
   ]
  },
  {
   "cell_type": "markdown",
   "metadata": {},
   "source": [
    "Furthermore, `Popen` can create background processes. As such, `Popen` has a lot more functionality than `run`"
   ]
  },
  {
   "cell_type": "code",
   "execution_count": null,
   "metadata": {},
   "outputs": [],
   "source": [
    "sub_popen = sp.Popen(\n",
    "    [\n",
    "        'ls',          # Command\n",
    "        '-ahl',        # Command line arguments\n",
    "        os.getcwd()    # ...\n",
    "    ],\n",
    "    encoding='utf_8',  # Convert from byte to string\n",
    "    stdout=sp.PIPE     # Where to send it\n",
    ")\n",
    "for j in dir(sub_popen):\n",
    "    if j.startswith('_'):\n",
    "        pass\n",
    "    else:\n",
    "        print(j)\n",
    "sub_popen.kill()       # Close the process"
   ]
  }
 ],
 "metadata": {
  "kernelspec": {
   "display_name": "Python 3",
   "language": "python",
   "name": "python3"
  },
  "language_info": {
   "codemirror_mode": {
    "name": "ipython",
    "version": 3
   },
   "file_extension": ".py",
   "mimetype": "text/x-python",
   "name": "python",
   "nbconvert_exporter": "python",
   "pygments_lexer": "ipython3",
   "version": "3.7.0"
  }
 },
 "nbformat": 4,
 "nbformat_minor": 2
}
