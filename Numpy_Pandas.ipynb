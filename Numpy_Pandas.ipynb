{
 "cells": [
  {
   "cell_type": "markdown",
   "metadata": {},
   "source": [
    "# **NumPy & Pandas**: The tools of the trade"
   ]
  },
  {
   "cell_type": "markdown",
   "metadata": {},
   "source": [
    "---"
   ]
  },
  {
   "cell_type": "markdown",
   "metadata": {},
   "source": [
    "# Overview"
   ]
  },
  {
   "cell_type": "markdown",
   "metadata": {},
   "source": [
    "1. About NumPy\n",
    "    1. Importing\n",
    "    * Basic data structure overview\n",
    "    * Brief object creation tutorial\n",
    "    * Indexing/Exploring/Manipulating\n",
    "2. About Pandas\n",
    "    1. Importing\n",
    "    * Basic data structure overview\n",
    "    * Brief object creation tutorial\n",
    "    * Indexing/Exploring/Manipulating\n",
    "    * I/O in Pandas\n",
    "3. Data visualization\n",
    "4. Closing"
   ]
  },
  {
   "cell_type": "markdown",
   "metadata": {},
   "source": [
    "# NumPy: Numeric Python ('numb-pie')"
   ]
  },
  {
   "cell_type": "markdown",
   "metadata": {},
   "source": [
    "---"
   ]
  },
  {
   "cell_type": "markdown",
   "metadata": {},
   "source": [
    "<img src=\"https://upload.wikimedia.org/wikipedia/commons/thumb/1/1a/NumPy_logo.svg/1200px-NumPy_logo.svg.png\" alt=\"NumPy logo\" style=\"width:300\">"
   ]
  },
  {
   "cell_type": "markdown",
   "metadata": {},
   "source": [
    "NumPy (np) is the premier Python package for scientific computing. The reason np is so powerful is its N-dimensional array object.\n",
    "\n",
    "np is a *lower*-level numerical computing library. This means that, while you can use it directly, most of its power comes from the packages built on top of np:\n",
    "* Pandas (*Pan*els *Da*tas): the R Killer\n",
    "* Scikit-learn (machine learning)\n",
    "* Scikit-image (image processing)\n",
    "* OpenCV (computer vision)\n",
    "* more..."
   ]
  },
  {
   "cell_type": "markdown",
   "metadata": {},
   "source": [
    "___"
   ]
  },
  {
   "cell_type": "markdown",
   "metadata": {},
   "source": [
    "## Importing `np`"
   ]
  },
  {
   "cell_type": "markdown",
   "metadata": {},
   "source": [
    "### The convention: aliasing numpy to np\n",
    "```python\n",
    "import numpy as np\n",
    "```"
   ]
  },
  {
   "cell_type": "markdown",
   "metadata": {},
   "source": [
    "The cell below will import numpy, but as many of you may not have the complete build, it is set up to install `np` and `pandas` if `np` is not present."
   ]
  },
  {
   "cell_type": "code",
   "execution_count": 1,
   "metadata": {},
   "outputs": [],
   "source": [
    "try:\n",
    "    import numpy as np\n",
    "except ImportError:\n",
    "    import conda.cli as cc\n",
    "    cc.main(*'conda install -y numpy pandas matplotlib seaborn'.split())\n",
    "    import numpy as np"
   ]
  },
  {
   "cell_type": "markdown",
   "metadata": {},
   "source": [
    "## `np` Data Structures"
   ]
  },
  {
   "cell_type": "markdown",
   "metadata": {},
   "source": [
    "<img src=\"https://www.oreilly.com/library/view/elegant-scipy/9781491922927/assets/elsp_0105.png\" alt=\"data structures\" style=\"width:200\">"
   ]
  },
  {
   "cell_type": "markdown",
   "metadata": {},
   "source": [
    "* 1D array := vector\n",
    "* 2D array := array or matrix\n",
    "* ND array "
   ]
  },
  {
   "cell_type": "markdown",
   "metadata": {},
   "source": [
    "### What you know now:"
   ]
  },
  {
   "cell_type": "code",
   "execution_count": 2,
   "metadata": {},
   "outputs": [
    {
     "name": "stdout",
     "output_type": "stream",
     "text": [
      "140019706495168\n",
      "140019706495200\n",
      "140019706495232\n"
     ]
    }
   ],
   "source": [
    "# lists\n",
    "some_list = [1,2,3]\n",
    "\n",
    "# Remember, id() just gives us the \n",
    "# memory location of the object\n",
    "for item in some_list:\n",
    "    print(id(item))"
   ]
  },
  {
   "cell_type": "markdown",
   "metadata": {},
   "source": [
    "### How `np` does it:"
   ]
  },
  {
   "cell_type": "markdown",
   "metadata": {},
   "source": [
    "![](https://image.slidesharecdn.com/numpytalksiam-110305000848-phpapp01/95/numpy-talk-at-siam-17-728.jpg?cb=1299283822)"
   ]
  },
  {
   "cell_type": "markdown",
   "metadata": {},
   "source": [
    "---"
   ]
  },
  {
   "cell_type": "markdown",
   "metadata": {},
   "source": [
    "### The basics"
   ]
  },
  {
   "cell_type": "code",
   "execution_count": 3,
   "metadata": {},
   "outputs": [],
   "source": [
    "# From Python list\n",
    "arr = np.array([1,2,3])"
   ]
  },
  {
   "cell_type": "markdown",
   "metadata": {},
   "source": [
    "Every array has these basic attributes:\n",
    "* `shape`: array dimension\n",
    "* `size`: Number of elements in array\n",
    "* `ndim`: Number of array dimension (`len(arr.size)`)\n",
    "* `dtype`: Data-type of the array\n",
    "* `T`: The transpose of the array"
   ]
  },
  {
   "cell_type": "code",
   "execution_count": 4,
   "metadata": {},
   "outputs": [
    {
     "data": {
      "text/plain": [
       "(3,)"
      ]
     },
     "execution_count": 4,
     "metadata": {},
     "output_type": "execute_result"
    }
   ],
   "source": [
    "# Playing with attributes\n",
    "arr.shape"
   ]
  },
  {
   "cell_type": "code",
   "execution_count": 5,
   "metadata": {},
   "outputs": [
    {
     "data": {
      "text/plain": [
       "3"
      ]
     },
     "execution_count": 5,
     "metadata": {},
     "output_type": "execute_result"
    }
   ],
   "source": [
    "arr.size"
   ]
  },
  {
   "cell_type": "code",
   "execution_count": 6,
   "metadata": {},
   "outputs": [
    {
     "data": {
      "text/plain": [
       "1"
      ]
     },
     "execution_count": 6,
     "metadata": {},
     "output_type": "execute_result"
    }
   ],
   "source": [
    "arr.ndim"
   ]
  },
  {
   "cell_type": "code",
   "execution_count": 7,
   "metadata": {},
   "outputs": [
    {
     "data": {
      "text/plain": [
       "array([1, 2, 3])"
      ]
     },
     "execution_count": 7,
     "metadata": {},
     "output_type": "execute_result"
    }
   ],
   "source": [
    "arr"
   ]
  },
  {
   "cell_type": "code",
   "execution_count": 8,
   "metadata": {},
   "outputs": [
    {
     "data": {
      "text/plain": [
       "array([1, 2, 3])"
      ]
     },
     "execution_count": 8,
     "metadata": {},
     "output_type": "execute_result"
    }
   ],
   "source": [
    "arr.T"
   ]
  },
  {
   "cell_type": "code",
   "execution_count": 13,
   "metadata": {},
   "outputs": [],
   "source": [
    "# 2D array\n",
    "arr_2d = np.array([[1,2,3],[4,5,6],[7,8,9],[10,11,12]])"
   ]
  },
  {
   "cell_type": "code",
   "execution_count": 14,
   "metadata": {},
   "outputs": [
    {
     "data": {
      "text/plain": [
       "array([[ 1,  2,  3],\n",
       "       [ 4,  5,  6],\n",
       "       [ 7,  8,  9],\n",
       "       [10, 11, 12]])"
      ]
     },
     "execution_count": 14,
     "metadata": {},
     "output_type": "execute_result"
    }
   ],
   "source": [
    "arr_2d"
   ]
  },
  {
   "cell_type": "code",
   "execution_count": 15,
   "metadata": {},
   "outputs": [
    {
     "data": {
      "text/plain": [
       "12"
      ]
     },
     "execution_count": 15,
     "metadata": {},
     "output_type": "execute_result"
    }
   ],
   "source": [
    "arr_2d.size"
   ]
  },
  {
   "cell_type": "code",
   "execution_count": 16,
   "metadata": {},
   "outputs": [
    {
     "data": {
      "text/plain": [
       "(4, 3)"
      ]
     },
     "execution_count": 16,
     "metadata": {},
     "output_type": "execute_result"
    }
   ],
   "source": [
    "arr_2d.shape"
   ]
  },
  {
   "cell_type": "code",
   "execution_count": 19,
   "metadata": {},
   "outputs": [],
   "source": [
    "arr_2dT = arr_2d.T"
   ]
  },
  {
   "cell_type": "code",
   "execution_count": 18,
   "metadata": {},
   "outputs": [
    {
     "data": {
      "text/plain": [
       "array([[ 1,  2,  3],\n",
       "       [ 4,  5,  6],\n",
       "       [ 7,  8,  9],\n",
       "       [10, 11, 12]])"
      ]
     },
     "execution_count": 18,
     "metadata": {},
     "output_type": "execute_result"
    }
   ],
   "source": [
    "arr_2d"
   ]
  },
  {
   "cell_type": "code",
   "execution_count": 20,
   "metadata": {},
   "outputs": [
    {
     "data": {
      "text/plain": [
       "array([[ 1,  2,  3,  4,  5,  6],\n",
       "       [ 7,  8,  9, 10, 11, 12]])"
      ]
     },
     "execution_count": 20,
     "metadata": {},
     "output_type": "execute_result"
    }
   ],
   "source": [
    "# Reshaping\n",
    "arr_2d = arr_2d.reshape(2,6)"
   ]
  },
  {
   "cell_type": "code",
   "execution_count": 21,
   "metadata": {},
   "outputs": [
    {
     "data": {
      "text/plain": [
       "array([[ 1,  2,  3],\n",
       "       [ 4,  5,  6],\n",
       "       [ 7,  8,  9],\n",
       "       [10, 11, 12]])"
      ]
     },
     "execution_count": 21,
     "metadata": {},
     "output_type": "execute_result"
    }
   ],
   "source": [
    "arr_2d"
   ]
  },
  {
   "cell_type": "code",
   "execution_count": 24,
   "metadata": {},
   "outputs": [],
   "source": [
    "# 3D array\n",
    "arr_3d = np.zeros((3,4,5))"
   ]
  },
  {
   "cell_type": "code",
   "execution_count": 25,
   "metadata": {},
   "outputs": [
    {
     "data": {
      "text/plain": [
       "(3, 4, 5)"
      ]
     },
     "execution_count": 25,
     "metadata": {},
     "output_type": "execute_result"
    }
   ],
   "source": [
    "arr_3d.shape"
   ]
  },
  {
   "cell_type": "markdown",
   "metadata": {},
   "source": [
    "#### Indexing"
   ]
  },
  {
   "cell_type": "code",
   "execution_count": 28,
   "metadata": {},
   "outputs": [
    {
     "data": {
      "text/plain": [
       "2"
      ]
     },
     "execution_count": 28,
     "metadata": {},
     "output_type": "execute_result"
    }
   ],
   "source": [
    "# Naive Python\n",
    "a_list = [[1,2,3], [4,5,6]]\n",
    "a_list[0][1]"
   ]
  },
  {
   "cell_type": "code",
   "execution_count": 26,
   "metadata": {},
   "outputs": [
    {
     "data": {
      "text/plain": [
       "2"
      ]
     },
     "execution_count": 26,
     "metadata": {},
     "output_type": "execute_result"
    }
   ],
   "source": [
    "# Position-based\n",
    "arr_2d[0,1]"
   ]
  },
  {
   "cell_type": "code",
   "execution_count": 30,
   "metadata": {},
   "outputs": [
    {
     "data": {
      "text/plain": [
       "array([4, 5, 6])"
      ]
     },
     "execution_count": 30,
     "metadata": {},
     "output_type": "execute_result"
    }
   ],
   "source": [
    "# Slicing\n",
    "arr_2d[0,:2]"
   ]
  },
  {
   "cell_type": "code",
   "execution_count": 33,
   "metadata": {},
   "outputs": [
    {
     "data": {
      "text/plain": [
       "array([1, 2, 3, 4])"
      ]
     },
     "execution_count": 33,
     "metadata": {},
     "output_type": "execute_result"
    }
   ],
   "source": [
    "# Boolean\n",
    "arr_2d[arr_2d < 5] "
   ]
  },
  {
   "cell_type": "markdown",
   "metadata": {},
   "source": [
    "#### Time Check"
   ]
  },
  {
   "cell_type": "code",
   "execution_count": 34,
   "metadata": {},
   "outputs": [],
   "source": [
    "a = list(range(int(1e6)))\n",
    "b = np.array(a)"
   ]
  },
  {
   "cell_type": "code",
   "execution_count": 35,
   "metadata": {},
   "outputs": [
    {
     "name": "stdout",
     "output_type": "stream",
     "text": [
      "7.24 ms ± 43.3 µs per loop (mean ± std. dev. of 7 runs, 100 loops each)\n"
     ]
    }
   ],
   "source": [
    "%%timeit\n",
    "sum(a)"
   ]
  },
  {
   "cell_type": "code",
   "execution_count": 36,
   "metadata": {},
   "outputs": [
    {
     "name": "stdout",
     "output_type": "stream",
     "text": [
      "603 µs ± 3.01 µs per loop (mean ± std. dev. of 7 runs, 1000 loops each)\n"
     ]
    }
   ],
   "source": [
    "%%timeit\n",
    "np.sum(b)"
   ]
  },
  {
   "cell_type": "markdown",
   "metadata": {},
   "source": [
    "---"
   ]
  },
  {
   "cell_type": "markdown",
   "metadata": {},
   "source": [
    "## Creating data"
   ]
  },
  {
   "cell_type": "markdown",
   "metadata": {},
   "source": [
    "Since `list(range(n))` is a common prototyping setup, `np` makes it a little easier with:"
   ]
  },
  {
   "cell_type": "code",
   "execution_count": 37,
   "metadata": {},
   "outputs": [
    {
     "data": {
      "text/plain": [
       "array([     0,      1,      2, ..., 999997, 999998, 999999])"
      ]
     },
     "execution_count": 37,
     "metadata": {},
     "output_type": "execute_result"
    }
   ],
   "source": [
    "# arange\n",
    "np.arange(int(1e6))"
   ]
  },
  {
   "cell_type": "code",
   "execution_count": 41,
   "metadata": {},
   "outputs": [
    {
     "data": {
      "text/plain": [
       "array([ 1.        ,  1.00900901,  1.01801802,  1.02702703,  1.03603604,\n",
       "        1.04504505,  1.05405405,  1.06306306,  1.07207207,  1.08108108,\n",
       "        1.09009009,  1.0990991 ,  1.10810811,  1.11711712,  1.12612613,\n",
       "        1.13513514,  1.14414414,  1.15315315,  1.16216216,  1.17117117,\n",
       "        1.18018018,  1.18918919,  1.1981982 ,  1.20720721,  1.21621622,\n",
       "        1.22522523,  1.23423423,  1.24324324,  1.25225225,  1.26126126,\n",
       "        1.27027027,  1.27927928,  1.28828829,  1.2972973 ,  1.30630631,\n",
       "        1.31531532,  1.32432432,  1.33333333,  1.34234234,  1.35135135,\n",
       "        1.36036036,  1.36936937,  1.37837838,  1.38738739,  1.3963964 ,\n",
       "        1.40540541,  1.41441441,  1.42342342,  1.43243243,  1.44144144,\n",
       "        1.45045045,  1.45945946,  1.46846847,  1.47747748,  1.48648649,\n",
       "        1.4954955 ,  1.5045045 ,  1.51351351,  1.52252252,  1.53153153,\n",
       "        1.54054054,  1.54954955,  1.55855856,  1.56756757,  1.57657658,\n",
       "        1.58558559,  1.59459459,  1.6036036 ,  1.61261261,  1.62162162,\n",
       "        1.63063063,  1.63963964,  1.64864865,  1.65765766,  1.66666667,\n",
       "        1.67567568,  1.68468468,  1.69369369,  1.7027027 ,  1.71171171,\n",
       "        1.72072072,  1.72972973,  1.73873874,  1.74774775,  1.75675676,\n",
       "        1.76576577,  1.77477477,  1.78378378,  1.79279279,  1.8018018 ,\n",
       "        1.81081081,  1.81981982,  1.82882883,  1.83783784,  1.84684685,\n",
       "        1.85585586,  1.86486486,  1.87387387,  1.88288288,  1.89189189,\n",
       "        1.9009009 ,  1.90990991,  1.91891892,  1.92792793,  1.93693694,\n",
       "        1.94594595,  1.95495495,  1.96396396,  1.97297297,  1.98198198,\n",
       "        1.99099099,  2.        ,  2.00900901,  2.01801802,  2.02702703,\n",
       "        2.03603604,  2.04504505,  2.05405405,  2.06306306,  2.07207207,\n",
       "        2.08108108,  2.09009009,  2.0990991 ,  2.10810811,  2.11711712,\n",
       "        2.12612613,  2.13513514,  2.14414414,  2.15315315,  2.16216216,\n",
       "        2.17117117,  2.18018018,  2.18918919,  2.1981982 ,  2.20720721,\n",
       "        2.21621622,  2.22522523,  2.23423423,  2.24324324,  2.25225225,\n",
       "        2.26126126,  2.27027027,  2.27927928,  2.28828829,  2.2972973 ,\n",
       "        2.30630631,  2.31531532,  2.32432432,  2.33333333,  2.34234234,\n",
       "        2.35135135,  2.36036036,  2.36936937,  2.37837838,  2.38738739,\n",
       "        2.3963964 ,  2.40540541,  2.41441441,  2.42342342,  2.43243243,\n",
       "        2.44144144,  2.45045045,  2.45945946,  2.46846847,  2.47747748,\n",
       "        2.48648649,  2.4954955 ,  2.5045045 ,  2.51351351,  2.52252252,\n",
       "        2.53153153,  2.54054054,  2.54954955,  2.55855856,  2.56756757,\n",
       "        2.57657658,  2.58558559,  2.59459459,  2.6036036 ,  2.61261261,\n",
       "        2.62162162,  2.63063063,  2.63963964,  2.64864865,  2.65765766,\n",
       "        2.66666667,  2.67567568,  2.68468468,  2.69369369,  2.7027027 ,\n",
       "        2.71171171,  2.72072072,  2.72972973,  2.73873874,  2.74774775,\n",
       "        2.75675676,  2.76576577,  2.77477477,  2.78378378,  2.79279279,\n",
       "        2.8018018 ,  2.81081081,  2.81981982,  2.82882883,  2.83783784,\n",
       "        2.84684685,  2.85585586,  2.86486486,  2.87387387,  2.88288288,\n",
       "        2.89189189,  2.9009009 ,  2.90990991,  2.91891892,  2.92792793,\n",
       "        2.93693694,  2.94594595,  2.95495495,  2.96396396,  2.97297297,\n",
       "        2.98198198,  2.99099099,  3.        ,  3.00900901,  3.01801802,\n",
       "        3.02702703,  3.03603604,  3.04504505,  3.05405405,  3.06306306,\n",
       "        3.07207207,  3.08108108,  3.09009009,  3.0990991 ,  3.10810811,\n",
       "        3.11711712,  3.12612613,  3.13513514,  3.14414414,  3.15315315,\n",
       "        3.16216216,  3.17117117,  3.18018018,  3.18918919,  3.1981982 ,\n",
       "        3.20720721,  3.21621622,  3.22522523,  3.23423423,  3.24324324,\n",
       "        3.25225225,  3.26126126,  3.27027027,  3.27927928,  3.28828829,\n",
       "        3.2972973 ,  3.30630631,  3.31531532,  3.32432432,  3.33333333,\n",
       "        3.34234234,  3.35135135,  3.36036036,  3.36936937,  3.37837838,\n",
       "        3.38738739,  3.3963964 ,  3.40540541,  3.41441441,  3.42342342,\n",
       "        3.43243243,  3.44144144,  3.45045045,  3.45945946,  3.46846847,\n",
       "        3.47747748,  3.48648649,  3.4954955 ,  3.5045045 ,  3.51351351,\n",
       "        3.52252252,  3.53153153,  3.54054054,  3.54954955,  3.55855856,\n",
       "        3.56756757,  3.57657658,  3.58558559,  3.59459459,  3.6036036 ,\n",
       "        3.61261261,  3.62162162,  3.63063063,  3.63963964,  3.64864865,\n",
       "        3.65765766,  3.66666667,  3.67567568,  3.68468468,  3.69369369,\n",
       "        3.7027027 ,  3.71171171,  3.72072072,  3.72972973,  3.73873874,\n",
       "        3.74774775,  3.75675676,  3.76576577,  3.77477477,  3.78378378,\n",
       "        3.79279279,  3.8018018 ,  3.81081081,  3.81981982,  3.82882883,\n",
       "        3.83783784,  3.84684685,  3.85585586,  3.86486486,  3.87387387,\n",
       "        3.88288288,  3.89189189,  3.9009009 ,  3.90990991,  3.91891892,\n",
       "        3.92792793,  3.93693694,  3.94594595,  3.95495495,  3.96396396,\n",
       "        3.97297297,  3.98198198,  3.99099099,  4.        ,  4.00900901,\n",
       "        4.01801802,  4.02702703,  4.03603604,  4.04504505,  4.05405405,\n",
       "        4.06306306,  4.07207207,  4.08108108,  4.09009009,  4.0990991 ,\n",
       "        4.10810811,  4.11711712,  4.12612613,  4.13513514,  4.14414414,\n",
       "        4.15315315,  4.16216216,  4.17117117,  4.18018018,  4.18918919,\n",
       "        4.1981982 ,  4.20720721,  4.21621622,  4.22522523,  4.23423423,\n",
       "        4.24324324,  4.25225225,  4.26126126,  4.27027027,  4.27927928,\n",
       "        4.28828829,  4.2972973 ,  4.30630631,  4.31531532,  4.32432432,\n",
       "        4.33333333,  4.34234234,  4.35135135,  4.36036036,  4.36936937,\n",
       "        4.37837838,  4.38738739,  4.3963964 ,  4.40540541,  4.41441441,\n",
       "        4.42342342,  4.43243243,  4.44144144,  4.45045045,  4.45945946,\n",
       "        4.46846847,  4.47747748,  4.48648649,  4.4954955 ,  4.5045045 ,\n",
       "        4.51351351,  4.52252252,  4.53153153,  4.54054054,  4.54954955,\n",
       "        4.55855856,  4.56756757,  4.57657658,  4.58558559,  4.59459459,\n",
       "        4.6036036 ,  4.61261261,  4.62162162,  4.63063063,  4.63963964,\n",
       "        4.64864865,  4.65765766,  4.66666667,  4.67567568,  4.68468468,\n",
       "        4.69369369,  4.7027027 ,  4.71171171,  4.72072072,  4.72972973,\n",
       "        4.73873874,  4.74774775,  4.75675676,  4.76576577,  4.77477477,\n",
       "        4.78378378,  4.79279279,  4.8018018 ,  4.81081081,  4.81981982,\n",
       "        4.82882883,  4.83783784,  4.84684685,  4.85585586,  4.86486486,\n",
       "        4.87387387,  4.88288288,  4.89189189,  4.9009009 ,  4.90990991,\n",
       "        4.91891892,  4.92792793,  4.93693694,  4.94594595,  4.95495495,\n",
       "        4.96396396,  4.97297297,  4.98198198,  4.99099099,  5.        ,\n",
       "        5.00900901,  5.01801802,  5.02702703,  5.03603604,  5.04504505,\n",
       "        5.05405405,  5.06306306,  5.07207207,  5.08108108,  5.09009009,\n",
       "        5.0990991 ,  5.10810811,  5.11711712,  5.12612613,  5.13513514,\n",
       "        5.14414414,  5.15315315,  5.16216216,  5.17117117,  5.18018018,\n",
       "        5.18918919,  5.1981982 ,  5.20720721,  5.21621622,  5.22522523,\n",
       "        5.23423423,  5.24324324,  5.25225225,  5.26126126,  5.27027027,\n",
       "        5.27927928,  5.28828829,  5.2972973 ,  5.30630631,  5.31531532,\n",
       "        5.32432432,  5.33333333,  5.34234234,  5.35135135,  5.36036036,\n",
       "        5.36936937,  5.37837838,  5.38738739,  5.3963964 ,  5.40540541,\n",
       "        5.41441441,  5.42342342,  5.43243243,  5.44144144,  5.45045045,\n",
       "        5.45945946,  5.46846847,  5.47747748,  5.48648649,  5.4954955 ,\n",
       "        5.5045045 ,  5.51351351,  5.52252252,  5.53153153,  5.54054054,\n",
       "        5.54954955,  5.55855856,  5.56756757,  5.57657658,  5.58558559,\n",
       "        5.59459459,  5.6036036 ,  5.61261261,  5.62162162,  5.63063063,\n",
       "        5.63963964,  5.64864865,  5.65765766,  5.66666667,  5.67567568,\n",
       "        5.68468468,  5.69369369,  5.7027027 ,  5.71171171,  5.72072072,\n",
       "        5.72972973,  5.73873874,  5.74774775,  5.75675676,  5.76576577,\n",
       "        5.77477477,  5.78378378,  5.79279279,  5.8018018 ,  5.81081081,\n",
       "        5.81981982,  5.82882883,  5.83783784,  5.84684685,  5.85585586,\n",
       "        5.86486486,  5.87387387,  5.88288288,  5.89189189,  5.9009009 ,\n",
       "        5.90990991,  5.91891892,  5.92792793,  5.93693694,  5.94594595,\n",
       "        5.95495495,  5.96396396,  5.97297297,  5.98198198,  5.99099099,\n",
       "        6.        ,  6.00900901,  6.01801802,  6.02702703,  6.03603604,\n",
       "        6.04504505,  6.05405405,  6.06306306,  6.07207207,  6.08108108,\n",
       "        6.09009009,  6.0990991 ,  6.10810811,  6.11711712,  6.12612613,\n",
       "        6.13513514,  6.14414414,  6.15315315,  6.16216216,  6.17117117,\n",
       "        6.18018018,  6.18918919,  6.1981982 ,  6.20720721,  6.21621622,\n",
       "        6.22522523,  6.23423423,  6.24324324,  6.25225225,  6.26126126,\n",
       "        6.27027027,  6.27927928,  6.28828829,  6.2972973 ,  6.30630631,\n",
       "        6.31531532,  6.32432432,  6.33333333,  6.34234234,  6.35135135,\n",
       "        6.36036036,  6.36936937,  6.37837838,  6.38738739,  6.3963964 ,\n",
       "        6.40540541,  6.41441441,  6.42342342,  6.43243243,  6.44144144,\n",
       "        6.45045045,  6.45945946,  6.46846847,  6.47747748,  6.48648649,\n",
       "        6.4954955 ,  6.5045045 ,  6.51351351,  6.52252252,  6.53153153,\n",
       "        6.54054054,  6.54954955,  6.55855856,  6.56756757,  6.57657658,\n",
       "        6.58558559,  6.59459459,  6.6036036 ,  6.61261261,  6.62162162,\n",
       "        6.63063063,  6.63963964,  6.64864865,  6.65765766,  6.66666667,\n",
       "        6.67567568,  6.68468468,  6.69369369,  6.7027027 ,  6.71171171,\n",
       "        6.72072072,  6.72972973,  6.73873874,  6.74774775,  6.75675676,\n",
       "        6.76576577,  6.77477477,  6.78378378,  6.79279279,  6.8018018 ,\n",
       "        6.81081081,  6.81981982,  6.82882883,  6.83783784,  6.84684685,\n",
       "        6.85585586,  6.86486486,  6.87387387,  6.88288288,  6.89189189,\n",
       "        6.9009009 ,  6.90990991,  6.91891892,  6.92792793,  6.93693694,\n",
       "        6.94594595,  6.95495495,  6.96396396,  6.97297297,  6.98198198,\n",
       "        6.99099099,  7.        ,  7.00900901,  7.01801802,  7.02702703,\n",
       "        7.03603604,  7.04504505,  7.05405405,  7.06306306,  7.07207207,\n",
       "        7.08108108,  7.09009009,  7.0990991 ,  7.10810811,  7.11711712,\n",
       "        7.12612613,  7.13513514,  7.14414414,  7.15315315,  7.16216216,\n",
       "        7.17117117,  7.18018018,  7.18918919,  7.1981982 ,  7.20720721,\n",
       "        7.21621622,  7.22522523,  7.23423423,  7.24324324,  7.25225225,\n",
       "        7.26126126,  7.27027027,  7.27927928,  7.28828829,  7.2972973 ,\n",
       "        7.30630631,  7.31531532,  7.32432432,  7.33333333,  7.34234234,\n",
       "        7.35135135,  7.36036036,  7.36936937,  7.37837838,  7.38738739,\n",
       "        7.3963964 ,  7.40540541,  7.41441441,  7.42342342,  7.43243243,\n",
       "        7.44144144,  7.45045045,  7.45945946,  7.46846847,  7.47747748,\n",
       "        7.48648649,  7.4954955 ,  7.5045045 ,  7.51351351,  7.52252252,\n",
       "        7.53153153,  7.54054054,  7.54954955,  7.55855856,  7.56756757,\n",
       "        7.57657658,  7.58558559,  7.59459459,  7.6036036 ,  7.61261261,\n",
       "        7.62162162,  7.63063063,  7.63963964,  7.64864865,  7.65765766,\n",
       "        7.66666667,  7.67567568,  7.68468468,  7.69369369,  7.7027027 ,\n",
       "        7.71171171,  7.72072072,  7.72972973,  7.73873874,  7.74774775,\n",
       "        7.75675676,  7.76576577,  7.77477477,  7.78378378,  7.79279279,\n",
       "        7.8018018 ,  7.81081081,  7.81981982,  7.82882883,  7.83783784,\n",
       "        7.84684685,  7.85585586,  7.86486486,  7.87387387,  7.88288288,\n",
       "        7.89189189,  7.9009009 ,  7.90990991,  7.91891892,  7.92792793,\n",
       "        7.93693694,  7.94594595,  7.95495495,  7.96396396,  7.97297297,\n",
       "        7.98198198,  7.99099099,  8.        ,  8.00900901,  8.01801802,\n",
       "        8.02702703,  8.03603604,  8.04504505,  8.05405405,  8.06306306,\n",
       "        8.07207207,  8.08108108,  8.09009009,  8.0990991 ,  8.10810811,\n",
       "        8.11711712,  8.12612613,  8.13513514,  8.14414414,  8.15315315,\n",
       "        8.16216216,  8.17117117,  8.18018018,  8.18918919,  8.1981982 ,\n",
       "        8.20720721,  8.21621622,  8.22522523,  8.23423423,  8.24324324,\n",
       "        8.25225225,  8.26126126,  8.27027027,  8.27927928,  8.28828829,\n",
       "        8.2972973 ,  8.30630631,  8.31531532,  8.32432432,  8.33333333,\n",
       "        8.34234234,  8.35135135,  8.36036036,  8.36936937,  8.37837838,\n",
       "        8.38738739,  8.3963964 ,  8.40540541,  8.41441441,  8.42342342,\n",
       "        8.43243243,  8.44144144,  8.45045045,  8.45945946,  8.46846847,\n",
       "        8.47747748,  8.48648649,  8.4954955 ,  8.5045045 ,  8.51351351,\n",
       "        8.52252252,  8.53153153,  8.54054054,  8.54954955,  8.55855856,\n",
       "        8.56756757,  8.57657658,  8.58558559,  8.59459459,  8.6036036 ,\n",
       "        8.61261261,  8.62162162,  8.63063063,  8.63963964,  8.64864865,\n",
       "        8.65765766,  8.66666667,  8.67567568,  8.68468468,  8.69369369,\n",
       "        8.7027027 ,  8.71171171,  8.72072072,  8.72972973,  8.73873874,\n",
       "        8.74774775,  8.75675676,  8.76576577,  8.77477477,  8.78378378,\n",
       "        8.79279279,  8.8018018 ,  8.81081081,  8.81981982,  8.82882883,\n",
       "        8.83783784,  8.84684685,  8.85585586,  8.86486486,  8.87387387,\n",
       "        8.88288288,  8.89189189,  8.9009009 ,  8.90990991,  8.91891892,\n",
       "        8.92792793,  8.93693694,  8.94594595,  8.95495495,  8.96396396,\n",
       "        8.97297297,  8.98198198,  8.99099099,  9.        ,  9.00900901,\n",
       "        9.01801802,  9.02702703,  9.03603604,  9.04504505,  9.05405405,\n",
       "        9.06306306,  9.07207207,  9.08108108,  9.09009009,  9.0990991 ,\n",
       "        9.10810811,  9.11711712,  9.12612613,  9.13513514,  9.14414414,\n",
       "        9.15315315,  9.16216216,  9.17117117,  9.18018018,  9.18918919,\n",
       "        9.1981982 ,  9.20720721,  9.21621622,  9.22522523,  9.23423423,\n",
       "        9.24324324,  9.25225225,  9.26126126,  9.27027027,  9.27927928,\n",
       "        9.28828829,  9.2972973 ,  9.30630631,  9.31531532,  9.32432432,\n",
       "        9.33333333,  9.34234234,  9.35135135,  9.36036036,  9.36936937,\n",
       "        9.37837838,  9.38738739,  9.3963964 ,  9.40540541,  9.41441441,\n",
       "        9.42342342,  9.43243243,  9.44144144,  9.45045045,  9.45945946,\n",
       "        9.46846847,  9.47747748,  9.48648649,  9.4954955 ,  9.5045045 ,\n",
       "        9.51351351,  9.52252252,  9.53153153,  9.54054054,  9.54954955,\n",
       "        9.55855856,  9.56756757,  9.57657658,  9.58558559,  9.59459459,\n",
       "        9.6036036 ,  9.61261261,  9.62162162,  9.63063063,  9.63963964,\n",
       "        9.64864865,  9.65765766,  9.66666667,  9.67567568,  9.68468468,\n",
       "        9.69369369,  9.7027027 ,  9.71171171,  9.72072072,  9.72972973,\n",
       "        9.73873874,  9.74774775,  9.75675676,  9.76576577,  9.77477477,\n",
       "        9.78378378,  9.79279279,  9.8018018 ,  9.81081081,  9.81981982,\n",
       "        9.82882883,  9.83783784,  9.84684685,  9.85585586,  9.86486486,\n",
       "        9.87387387,  9.88288288,  9.89189189,  9.9009009 ,  9.90990991,\n",
       "        9.91891892,  9.92792793,  9.93693694,  9.94594595,  9.95495495,\n",
       "        9.96396396,  9.97297297,  9.98198198,  9.99099099, 10.        ])"
      ]
     },
     "execution_count": 41,
     "metadata": {},
     "output_type": "execute_result"
    }
   ],
   "source": [
    "np.linspace(1, 10, 1000)"
   ]
  },
  {
   "cell_type": "markdown",
   "metadata": {},
   "source": [
    "Remember `makeTable`?"
   ]
  },
  {
   "cell_type": "code",
   "execution_count": 42,
   "metadata": {},
   "outputs": [],
   "source": [
    "numRows = 3\n",
    "numCols = 4"
   ]
  },
  {
   "cell_type": "code",
   "execution_count": 43,
   "metadata": {},
   "outputs": [],
   "source": [
    "make_table = np.random.standard_normal((3,4))"
   ]
  },
  {
   "cell_type": "code",
   "execution_count": 44,
   "metadata": {},
   "outputs": [
    {
     "data": {
      "text/plain": [
       "array([[ 0.3958987 ,  0.2819023 ,  1.45638894, -0.0197812 ],\n",
       "       [ 0.02614808,  0.35094866, -0.7296895 ,  2.58078069],\n",
       "       [-0.75832528, -0.23590702, -0.63920457, -0.18315473]])"
      ]
     },
     "execution_count": 44,
     "metadata": {},
     "output_type": "execute_result"
    }
   ],
   "source": [
    "make_table"
   ]
  },
  {
   "cell_type": "markdown",
   "metadata": {},
   "source": [
    "Look [here](https://docs.scipy.org/doc/numpy-1.13.0/reference/routines.random.html) for more random sampling methods."
   ]
  },
  {
   "cell_type": "markdown",
   "metadata": {},
   "source": [
    "### Pre-allocating"
   ]
  },
  {
   "cell_type": "markdown",
   "metadata": {},
   "source": [
    "Unlike Python `list`s, `np` does better if the array size is pre-allocated. All this means is that you tell `np` how big of an array you want *before* you do anything to it."
   ]
  },
  {
   "cell_type": "markdown",
   "metadata": {},
   "source": [
    "#### Standard Python"
   ]
  },
  {
   "cell_type": "code",
   "execution_count": 45,
   "metadata": {},
   "outputs": [
    {
     "name": "stdout",
     "output_type": "stream",
     "text": [
      "99.8 ms ± 2.88 ms per loop (mean ± std. dev. of 7 runs, 10 loops each)\n"
     ]
    }
   ],
   "source": [
    "%%timeit\n",
    "a = []\n",
    "for i in range(int(1e6)):\n",
    "    a.append(i)"
   ]
  },
  {
   "cell_type": "markdown",
   "metadata": {},
   "source": [
    "#### `np.append`"
   ]
  },
  {
   "cell_type": "code",
   "execution_count": 46,
   "metadata": {},
   "outputs": [
    {
     "name": "stdout",
     "output_type": "stream",
     "text": [
      "3.51 s ± 15.3 ms per loop (mean ± std. dev. of 7 runs, 1 loop each)\n"
     ]
    }
   ],
   "source": [
    "%%timeit\n",
    "a = np.array([])\n",
    "for i in range(int(1e6)):\n",
    "    np.append(a, i)"
   ]
  },
  {
   "cell_type": "markdown",
   "metadata": {},
   "source": [
    "#### Pre-allocated `np`"
   ]
  },
  {
   "cell_type": "code",
   "execution_count": 47,
   "metadata": {},
   "outputs": [
    {
     "name": "stdout",
     "output_type": "stream",
     "text": [
      "92.3 ms ± 6.56 ms per loop (mean ± std. dev. of 7 runs, 10 loops each)\n"
     ]
    }
   ],
   "source": [
    "%%timeit\n",
    "a = np.empty(int(1e6), dtype=np.int64)\n",
    "for i in range(int(1e6)):\n",
    "    a[i] = i"
   ]
  },
  {
   "cell_type": "markdown",
   "metadata": {},
   "source": [
    "---"
   ]
  },
  {
   "cell_type": "markdown",
   "metadata": {},
   "source": [
    "## Broadcasting"
   ]
  },
  {
   "cell_type": "code",
   "execution_count": 48,
   "metadata": {},
   "outputs": [
    {
     "name": "stdout",
     "output_type": "stream",
     "text": [
      "5\n",
      "7\n",
      "9\n"
     ]
    }
   ],
   "source": [
    "# Naive Python sum of two lists\n",
    "a = [1, 2, 3]\n",
    "b = [4, 5, 6]\n",
    "for i in range(len(a)):\n",
    "    print(a[i]+b[i])"
   ]
  },
  {
   "cell_type": "markdown",
   "metadata": {},
   "source": [
    "![](https://image.slidesharecdn.com/numpytalksiam-110305000848-phpapp01/95/numpy-talk-at-siam-27-728.jpg?cb=1299283822)"
   ]
  },
  {
   "cell_type": "code",
   "execution_count": 49,
   "metadata": {},
   "outputs": [
    {
     "data": {
      "text/plain": [
       "(3,)"
      ]
     },
     "execution_count": 49,
     "metadata": {},
     "output_type": "execute_result"
    }
   ],
   "source": [
    "np.array([1,2,3]).shape"
   ]
  },
  {
   "cell_type": "code",
   "execution_count": 55,
   "metadata": {},
   "outputs": [
    {
     "data": {
      "text/plain": [
       "array([[ 2,  6, 10, 14],\n",
       "       [ 3,  7, 11, 15],\n",
       "       [ 4,  8, 12, 16]])"
      ]
     },
     "execution_count": 55,
     "metadata": {},
     "output_type": "execute_result"
    }
   ],
   "source": [
    "arr_2d.T + np.array([1,2,3,4])"
   ]
  },
  {
   "cell_type": "code",
   "execution_count": 50,
   "metadata": {},
   "outputs": [
    {
     "name": "stdout",
     "output_type": "stream",
     "text": [
      "[[ 1  2  3]\n",
      " [ 4  5  6]\n",
      " [ 7  8  9]\n",
      " [10 11 12]]\n"
     ]
    }
   ],
   "source": [
    "print(arr_2d)"
   ]
  },
  {
   "cell_type": "code",
   "execution_count": 54,
   "metadata": {},
   "outputs": [
    {
     "data": {
      "text/plain": [
       "array([[ 2,  3,  4],\n",
       "       [ 6,  7,  8],\n",
       "       [10, 11, 12],\n",
       "       [14, 15, 16]])"
      ]
     },
     "execution_count": 54,
     "metadata": {},
     "output_type": "execute_result"
    }
   ],
   "source": [
    "arr_2d + np.array([1,2,3,4]).reshape(4,1)"
   ]
  },
  {
   "cell_type": "markdown",
   "metadata": {},
   "source": [
    "---"
   ]
  },
  {
   "cell_type": "markdown",
   "metadata": {},
   "source": [
    "![](https://pandas.pydata.org/_static/pandas_logo.png)"
   ]
  },
  {
   "cell_type": "markdown",
   "metadata": {},
   "source": [
    "# About Pandas"
   ]
  },
  {
   "cell_type": "markdown",
   "metadata": {},
   "source": [
    "## What is pandas?"
   ]
  },
  {
   "cell_type": "markdown",
   "metadata": {},
   "source": [
    "[Pandas](https://pandas.pydata.org/) is a high-performance library that makes familiar data structures, like `data.frame` from R, and appropriate data analysis tools available to Python users...Python master race."
   ]
  },
  {
   "cell_type": "markdown",
   "metadata": {},
   "source": [
    "## How does pandas work?"
   ]
  },
  {
   "cell_type": "markdown",
   "metadata": {},
   "source": [
    "Pandas is built off of [Numpy](http://www.numpy.org/), and therefore leverages Numpy's C-level speed for its data analysis."
   ]
  },
  {
   "cell_type": "markdown",
   "metadata": {},
   "source": [
    "However, there is one caveat...whereas Numpy can only make data structures of a single type, Pandas can use many types. Think of a SQL table, where each column can be whatever type you want it to be, so long as every item in the column is that same type."
   ]
  },
  {
   "cell_type": "markdown",
   "metadata": {},
   "source": [
    "## Why use pandas?"
   ]
  },
  {
   "cell_type": "markdown",
   "metadata": {},
   "source": [
    "1. Data munging/wrangling: the cleaning and preprocessing of data\n",
    "2. Loading data into memory from disparate data formats (SQL, CSV, TSV, JSON)\n",
    "2. Tired of R, but still like `data.frame`\n",
    "3. Don't know R\n",
    "4. Want to forget R"
   ]
  },
  {
   "cell_type": "markdown",
   "metadata": {},
   "source": [
    "# Importing"
   ]
  },
  {
   "cell_type": "markdown",
   "metadata": {},
   "source": [
    "Probably the easiest step. Because pandas is built off of numpy, it is always usefull to import numpy at the same time. However, this isn't necessary."
   ]
  },
  {
   "cell_type": "code",
   "execution_count": 56,
   "metadata": {},
   "outputs": [
    {
     "name": "stderr",
     "output_type": "stream",
     "text": [
      "/root/miniconda3/envs/prototyping/lib/python3.7/importlib/_bootstrap.py:219: RuntimeWarning: numpy.dtype size changed, may indicate binary incompatibility. Expected 96, got 88\n",
      "  return f(*args, **kwds)\n",
      "/root/miniconda3/envs/prototyping/lib/python3.7/importlib/_bootstrap.py:219: RuntimeWarning: numpy.dtype size changed, may indicate binary incompatibility. Expected 96, got 88\n",
      "  return f(*args, **kwds)\n"
     ]
    }
   ],
   "source": [
    "import numpy as np\n",
    "import numpy.random as nr\n",
    "import pandas as pd"
   ]
  },
  {
   "cell_type": "markdown",
   "metadata": {},
   "source": [
    "Additionally, we will be doing some very basic data visualization. This means we need a plotting library. The following cell shows the standard convention for importing [matplotlib](https://matplotlib.org/#) and how to use notebook `magic` to allow the plots to show in the notebook when they are generated."
   ]
  },
  {
   "cell_type": "code",
   "execution_count": 57,
   "metadata": {},
   "outputs": [],
   "source": [
    "%matplotlib inline\n",
    "import matplotlib.pyplot as plt"
   ]
  },
  {
   "cell_type": "markdown",
   "metadata": {},
   "source": [
    "`poss_labels` below is just a quick way for me to name things."
   ]
  },
  {
   "cell_type": "code",
   "execution_count": 58,
   "metadata": {},
   "outputs": [],
   "source": [
    "poss_labels = nr.choice([word.strip() for word in open('./datasets/words_alpha.txt')], size=(1000,), replace=False)"
   ]
  },
  {
   "cell_type": "markdown",
   "metadata": {},
   "source": [
    "Alternately, once can use the `gen_lab` function to create *m* number for *n*-length labels"
   ]
  },
  {
   "cell_type": "code",
   "execution_count": 59,
   "metadata": {},
   "outputs": [],
   "source": [
    "import string\n",
    "\n",
    "def gen_lab(n, m=1):\n",
    "    '''generate a m number of n-length random labels from string.ascii_lowercase'''\n",
    "    labels = []\n",
    "    for i in range(m):\n",
    "        out = nr.choice(list(string.ascii_lowercase), 2)\n",
    "        labels.append(''.join(out))\n",
    "    return labels"
   ]
  },
  {
   "cell_type": "markdown",
   "metadata": {},
   "source": [
    "# Basic data structure overview"
   ]
  },
  {
   "cell_type": "markdown",
   "metadata": {},
   "source": [
    "For a more thorough dive into the different data structure, feel free to read [this](https://pandas.pydata.org/pandas-docs/stable/dsintro.html#dsintro) documentation"
   ]
  },
  {
   "cell_type": "markdown",
   "metadata": {},
   "source": [
    "The data structures of interest are:\n",
    "1. `pd.Series`\n",
    "2. `pd.DataFrame`"
   ]
  },
  {
   "cell_type": "markdown",
   "metadata": {},
   "source": [
    "## Series"
   ]
  },
  {
   "cell_type": "markdown",
   "metadata": {},
   "source": [
    "**One-dimensional** labeled array (or vector) "
   ]
  },
  {
   "cell_type": "markdown",
   "metadata": {},
   "source": [
    "```python\n",
    "# Initialization Syntax\n",
    "series = pd.Series(data, index, dtype) \n",
    "```"
   ]
  },
  {
   "cell_type": "markdown",
   "metadata": {},
   "source": [
    "* **`data`** : what is going inside the Series (array-like, dict, or scalar value)\n",
    "* **`index`**: row identifiers (doesn't have to be unique--think foreign key. Defaults to row number)\n",
    "* **`dytpe`**: numpy/python based data types"
   ]
  },
  {
   "cell_type": "markdown",
   "metadata": {},
   "source": [
    "## DataFrame"
   ]
  },
  {
   "cell_type": "markdown",
   "metadata": {},
   "source": [
    "**Multi-dimensional** labeled data structure with columns of *potentially* different types"
   ]
  },
  {
   "cell_type": "markdown",
   "metadata": {},
   "source": [
    "```python\n",
    "# Initialization Syntax\n",
    "df = pd.DataFrame(data, index, columns, dtype)\n",
    "```"
   ]
  },
  {
   "cell_type": "markdown",
   "metadata": {},
   "source": [
    "* **`data`** : what is going inside the DataFrame (numpy ndarray (structured or homogeneous), dict, or DataFrame)\n",
    "* **`index`** : row identifiers (doesn't have to be unique--think foreign key. Defaults to row number)\n",
    "* **`columns`** : column identifiers\n",
    "* **`dtype`** : numpy/python based data types"
   ]
  },
  {
   "cell_type": "markdown",
   "metadata": {},
   "source": [
    "# Brief object creation tutorial"
   ]
  },
  {
   "cell_type": "markdown",
   "metadata": {},
   "source": [
    "## Series"
   ]
  },
  {
   "cell_type": "markdown",
   "metadata": {},
   "source": [
    "### From a Python list"
   ]
  },
  {
   "cell_type": "code",
   "execution_count": 60,
   "metadata": {},
   "outputs": [
    {
     "data": {
      "text/plain": [
       "[2, 3, 4, 5, 6, 7, 8, 9]"
      ]
     },
     "execution_count": 60,
     "metadata": {},
     "output_type": "execute_result"
    }
   ],
   "source": [
    "data_list = list(range(2,10))\n",
    "data_list"
   ]
  },
  {
   "cell_type": "code",
   "execution_count": 61,
   "metadata": {},
   "outputs": [
    {
     "data": {
      "text/plain": [
       "0    2\n",
       "1    3\n",
       "2    4\n",
       "3    5\n",
       "4    6\n",
       "5    7\n",
       "6    8\n",
       "7    9\n",
       "dtype: int64"
      ]
     },
     "execution_count": 61,
     "metadata": {},
     "output_type": "execute_result"
    }
   ],
   "source": [
    "a = pd.Series(data_list)\n",
    "a"
   ]
  },
  {
   "cell_type": "markdown",
   "metadata": {},
   "source": [
    "------\n",
    "Below is going to look like some crazy, but bear with me. Due to pandas having a very rich API, even a simple `Series` has a large ammount of attributes and methods. That means I want to clean it up and just look at attributes *only*, so I use the thing below to do that. </br> </br>\n",
    "Let's look at the attributes of **`a`** to see what it can do..."
   ]
  },
  {
   "cell_type": "code",
   "execution_count": 62,
   "metadata": {},
   "outputs": [
    {
     "data": {
      "text/plain": [
       "['T',\n",
       " '_AXIS_ALIASES',\n",
       " '_AXIS_IALIASES',\n",
       " '_AXIS_LEN',\n",
       " '_AXIS_NAMES',\n",
       " '_AXIS_NUMBERS',\n",
       " '_AXIS_ORDERS',\n",
       " '_AXIS_REVERSED',\n",
       " '_AXIS_SLICEMAP',\n",
       " '__abs__',\n",
       " '__add__',\n",
       " '__and__',\n",
       " '__array__',\n",
       " '__array_prepare__',\n",
       " '__array_priority__',\n",
       " '__array_wrap__',\n",
       " '__bool__',\n",
       " '__bytes__',\n",
       " '__class__',\n",
       " '__contains__',\n",
       " '__copy__',\n",
       " '__deepcopy__',\n",
       " '__delattr__',\n",
       " '__delitem__',\n",
       " '__dict__',\n",
       " '__dir__',\n",
       " '__div__',\n",
       " '__divmod__',\n",
       " '__doc__',\n",
       " '__eq__',\n",
       " '__finalize__',\n",
       " '__float__',\n",
       " '__floordiv__',\n",
       " '__format__',\n",
       " '__ge__',\n",
       " '__getattr__',\n",
       " '__getattribute__',\n",
       " '__getitem__',\n",
       " '__getstate__',\n",
       " '__gt__',\n",
       " '__hash__',\n",
       " '__iadd__',\n",
       " '__iand__',\n",
       " '__ifloordiv__',\n",
       " '__imod__',\n",
       " '__imul__',\n",
       " '__init__',\n",
       " '__init_subclass__',\n",
       " '__int__',\n",
       " '__invert__',\n",
       " '__ior__',\n",
       " '__ipow__',\n",
       " '__isub__',\n",
       " '__iter__',\n",
       " '__itruediv__',\n",
       " '__ixor__',\n",
       " '__le__',\n",
       " '__len__',\n",
       " '__long__',\n",
       " '__lt__',\n",
       " '__matmul__',\n",
       " '__mod__',\n",
       " '__module__',\n",
       " '__mul__',\n",
       " '__ne__',\n",
       " '__neg__',\n",
       " '__new__',\n",
       " '__nonzero__',\n",
       " '__or__',\n",
       " '__pos__',\n",
       " '__pow__',\n",
       " '__radd__',\n",
       " '__rand__',\n",
       " '__rdiv__',\n",
       " '__reduce__',\n",
       " '__reduce_ex__',\n",
       " '__repr__',\n",
       " '__rfloordiv__',\n",
       " '__rmatmul__',\n",
       " '__rmod__',\n",
       " '__rmul__',\n",
       " '__ror__',\n",
       " '__round__',\n",
       " '__rpow__',\n",
       " '__rsub__',\n",
       " '__rtruediv__',\n",
       " '__rxor__',\n",
       " '__setattr__',\n",
       " '__setitem__',\n",
       " '__setstate__',\n",
       " '__sizeof__',\n",
       " '__str__',\n",
       " '__sub__',\n",
       " '__subclasshook__',\n",
       " '__truediv__',\n",
       " '__unicode__',\n",
       " '__weakref__',\n",
       " '__xor__',\n",
       " '_accessors',\n",
       " '_add_numeric_operations',\n",
       " '_add_series_only_operations',\n",
       " '_add_series_or_dataframe_operations',\n",
       " '_agg_by_level',\n",
       " '_agg_doc',\n",
       " '_aggregate',\n",
       " '_aggregate_multiple_funcs',\n",
       " '_align_frame',\n",
       " '_align_series',\n",
       " '_binop',\n",
       " '_box_item_values',\n",
       " '_builtin_table',\n",
       " '_can_hold_na',\n",
       " '_check_inplace_setting',\n",
       " '_check_is_chained_assignment_possible',\n",
       " '_check_label_or_level_ambiguity',\n",
       " '_check_percentile',\n",
       " '_check_setitem_copy',\n",
       " '_clear_item_cache',\n",
       " '_clip_with_one_bound',\n",
       " '_clip_with_scalar',\n",
       " '_consolidate',\n",
       " '_consolidate_inplace',\n",
       " '_construct_axes_dict',\n",
       " '_construct_axes_dict_for_slice',\n",
       " '_construct_axes_dict_from',\n",
       " '_construct_axes_from_arguments',\n",
       " '_constructor',\n",
       " '_constructor_expanddim',\n",
       " '_constructor_sliced',\n",
       " '_convert',\n",
       " '_create_indexer',\n",
       " '_cython_table',\n",
       " '_deprecations',\n",
       " '_dir_additions',\n",
       " '_dir_deletions',\n",
       " '_drop_axis',\n",
       " '_drop_labels_or_levels',\n",
       " '_expand_axes',\n",
       " '_find_valid_index',\n",
       " '_formatting_values',\n",
       " '_from_axes',\n",
       " '_get_axis',\n",
       " '_get_axis_name',\n",
       " '_get_axis_number',\n",
       " '_get_axis_resolvers',\n",
       " '_get_block_manager_axis',\n",
       " '_get_bool_data',\n",
       " '_get_cacher',\n",
       " '_get_index_resolvers',\n",
       " '_get_item_cache',\n",
       " '_get_label_or_level_values',\n",
       " '_get_numeric_data',\n",
       " '_get_value',\n",
       " '_get_values',\n",
       " '_get_values_tuple',\n",
       " '_get_with',\n",
       " '_gotitem',\n",
       " '_iget_item_cache',\n",
       " '_index',\n",
       " '_indexed_same',\n",
       " '_info_axis',\n",
       " '_info_axis_name',\n",
       " '_info_axis_number',\n",
       " '_init_dict',\n",
       " '_init_mgr',\n",
       " '_internal_names',\n",
       " '_internal_names_set',\n",
       " '_is_builtin_func',\n",
       " '_is_cached',\n",
       " '_is_copy',\n",
       " '_is_cython_func',\n",
       " '_is_datelike_mixed_type',\n",
       " '_is_label_or_level_reference',\n",
       " '_is_label_reference',\n",
       " '_is_level_reference',\n",
       " '_is_mixed_type',\n",
       " '_is_numeric_mixed_type',\n",
       " '_is_view',\n",
       " '_ix',\n",
       " '_ixs',\n",
       " '_map_values',\n",
       " '_maybe_cache_changed',\n",
       " '_maybe_update_cacher',\n",
       " '_metadata',\n",
       " '_ndarray_values',\n",
       " '_needs_reindex_multi',\n",
       " '_obj_with_exclusions',\n",
       " '_protect_consolidate',\n",
       " '_reduce',\n",
       " '_reindex_axes',\n",
       " '_reindex_axis',\n",
       " '_reindex_indexer',\n",
       " '_reindex_multi',\n",
       " '_reindex_with_indexers',\n",
       " '_repr_data_resource_',\n",
       " '_repr_latex_',\n",
       " '_reset_cache',\n",
       " '_reset_cacher',\n",
       " '_selected_obj',\n",
       " '_selection',\n",
       " '_selection_list',\n",
       " '_selection_name',\n",
       " '_set_as_cached',\n",
       " '_set_axis',\n",
       " '_set_axis_name',\n",
       " '_set_is_copy',\n",
       " '_set_item',\n",
       " '_set_labels',\n",
       " '_set_name',\n",
       " '_set_subtyp',\n",
       " '_set_value',\n",
       " '_set_values',\n",
       " '_set_with',\n",
       " '_set_with_engine',\n",
       " '_setup_axes',\n",
       " '_shallow_copy',\n",
       " '_slice',\n",
       " '_stat_axis',\n",
       " '_stat_axis_name',\n",
       " '_stat_axis_number',\n",
       " '_take',\n",
       " '_to_dict_of_blocks',\n",
       " '_try_aggregate_string_function',\n",
       " '_typ',\n",
       " '_unpickle_series_compat',\n",
       " '_update_inplace',\n",
       " '_validate_dtype',\n",
       " '_values',\n",
       " '_where',\n",
       " '_xs',\n",
       " 'abs',\n",
       " 'add',\n",
       " 'add_prefix',\n",
       " 'add_suffix',\n",
       " 'agg',\n",
       " 'aggregate',\n",
       " 'align',\n",
       " 'all',\n",
       " 'any',\n",
       " 'append',\n",
       " 'apply',\n",
       " 'argmax',\n",
       " 'argmin',\n",
       " 'argsort',\n",
       " 'as_matrix',\n",
       " 'asfreq',\n",
       " 'asof',\n",
       " 'astype',\n",
       " 'at',\n",
       " 'at_time',\n",
       " 'autocorr',\n",
       " 'axes',\n",
       " 'base',\n",
       " 'between',\n",
       " 'between_time',\n",
       " 'bfill',\n",
       " 'bool',\n",
       " 'clip',\n",
       " 'clip_lower',\n",
       " 'clip_upper',\n",
       " 'combine',\n",
       " 'combine_first',\n",
       " 'compound',\n",
       " 'compress',\n",
       " 'copy',\n",
       " 'corr',\n",
       " 'count',\n",
       " 'cov',\n",
       " 'cummax',\n",
       " 'cummin',\n",
       " 'cumprod',\n",
       " 'cumsum',\n",
       " 'data',\n",
       " 'describe',\n",
       " 'diff',\n",
       " 'div',\n",
       " 'divide',\n",
       " 'divmod',\n",
       " 'dot',\n",
       " 'drop',\n",
       " 'drop_duplicates',\n",
       " 'dropna',\n",
       " 'dtype',\n",
       " 'dtypes',\n",
       " 'duplicated',\n",
       " 'empty',\n",
       " 'eq',\n",
       " 'equals',\n",
       " 'ewm',\n",
       " 'expanding',\n",
       " 'factorize',\n",
       " 'ffill',\n",
       " 'fillna',\n",
       " 'filter',\n",
       " 'first',\n",
       " 'first_valid_index',\n",
       " 'flags',\n",
       " 'floordiv',\n",
       " 'from_array',\n",
       " 'ftype',\n",
       " 'ftypes',\n",
       " 'ge',\n",
       " 'get',\n",
       " 'get_dtype_counts',\n",
       " 'get_ftype_counts',\n",
       " 'get_values',\n",
       " 'groupby',\n",
       " 'gt',\n",
       " 'hasnans',\n",
       " 'head',\n",
       " 'hist',\n",
       " 'iat',\n",
       " 'idxmax',\n",
       " 'idxmin',\n",
       " 'iloc',\n",
       " 'imag',\n",
       " 'index',\n",
       " 'infer_objects',\n",
       " 'interpolate',\n",
       " 'is_monotonic',\n",
       " 'is_monotonic_decreasing',\n",
       " 'is_monotonic_increasing',\n",
       " 'is_unique',\n",
       " 'isin',\n",
       " 'isna',\n",
       " 'isnull',\n",
       " 'item',\n",
       " 'items',\n",
       " 'itemsize',\n",
       " 'iteritems',\n",
       " 'ix',\n",
       " 'keys',\n",
       " 'kurt',\n",
       " 'kurtosis',\n",
       " 'last',\n",
       " 'last_valid_index',\n",
       " 'le',\n",
       " 'loc',\n",
       " 'lt',\n",
       " 'mad',\n",
       " 'map',\n",
       " 'mask',\n",
       " 'max',\n",
       " 'mean',\n",
       " 'median',\n",
       " 'memory_usage',\n",
       " 'min',\n",
       " 'mod',\n",
       " 'mode',\n",
       " 'mul',\n",
       " 'multiply',\n",
       " 'name',\n",
       " 'nbytes',\n",
       " 'ndim',\n",
       " 'ne',\n",
       " 'nlargest',\n",
       " 'nonzero',\n",
       " 'notna',\n",
       " 'notnull',\n",
       " 'nsmallest',\n",
       " 'nunique',\n",
       " 'pct_change',\n",
       " 'pipe',\n",
       " 'plot',\n",
       " 'pop',\n",
       " 'pow',\n",
       " 'prod',\n",
       " 'product',\n",
       " 'ptp',\n",
       " 'put',\n",
       " 'quantile',\n",
       " 'radd',\n",
       " 'rank',\n",
       " 'ravel',\n",
       " 'rdiv',\n",
       " 'real',\n",
       " 'reindex',\n",
       " 'reindex_axis',\n",
       " 'reindex_like',\n",
       " 'rename',\n",
       " 'rename_axis',\n",
       " 'reorder_levels',\n",
       " 'repeat',\n",
       " 'replace',\n",
       " 'resample',\n",
       " 'reset_index',\n",
       " 'rfloordiv',\n",
       " 'rmod',\n",
       " 'rmul',\n",
       " 'rolling',\n",
       " 'round',\n",
       " 'rpow',\n",
       " 'rsub',\n",
       " 'rtruediv',\n",
       " 'sample',\n",
       " 'searchsorted',\n",
       " 'select',\n",
       " 'sem',\n",
       " 'set_axis',\n",
       " 'shape',\n",
       " 'shift',\n",
       " 'size',\n",
       " 'skew',\n",
       " 'slice_shift',\n",
       " 'sort_index',\n",
       " 'sort_values',\n",
       " 'squeeze',\n",
       " 'std',\n",
       " 'strides',\n",
       " 'sub',\n",
       " 'subtract',\n",
       " 'sum',\n",
       " 'swapaxes',\n",
       " 'swaplevel',\n",
       " 'tail',\n",
       " 'take',\n",
       " 'to_clipboard',\n",
       " 'to_csv',\n",
       " 'to_dense',\n",
       " 'to_dict',\n",
       " 'to_excel',\n",
       " 'to_frame',\n",
       " 'to_hdf',\n",
       " 'to_json',\n",
       " 'to_latex',\n",
       " 'to_msgpack',\n",
       " 'to_period',\n",
       " 'to_pickle',\n",
       " 'to_sparse',\n",
       " 'to_sql',\n",
       " 'to_string',\n",
       " 'to_timestamp',\n",
       " 'to_xarray',\n",
       " 'tolist',\n",
       " 'transform',\n",
       " 'transpose',\n",
       " 'truediv',\n",
       " 'truncate',\n",
       " 'tshift',\n",
       " 'tz_convert',\n",
       " 'tz_localize',\n",
       " 'unique',\n",
       " 'unstack',\n",
       " 'update',\n",
       " 'value_counts',\n",
       " 'values',\n",
       " 'var',\n",
       " 'view',\n",
       " 'where',\n",
       " 'xs']"
      ]
     },
     "execution_count": 62,
     "metadata": {},
     "output_type": "execute_result"
    }
   ],
   "source": [
    "dir(a)"
   ]
  },
  {
   "cell_type": "code",
   "execution_count": 63,
   "metadata": {},
   "outputs": [],
   "source": [
    "import types\n",
    "\n",
    "def get_attr_list(obj):\n",
    "    attributes = []\n",
    "    for i in dir(obj):\n",
    "        if not i.startswith('_'):\n",
    "            if not isinstance(getattr(obj,i), types.MethodType):\n",
    "                attributes.append(i)\n",
    "    return attributes"
   ]
  },
  {
   "cell_type": "code",
   "execution_count": 64,
   "metadata": {},
   "outputs": [
    {
     "name": "stderr",
     "output_type": "stream",
     "text": [
      "/root/miniconda3/envs/prototyping/lib/python3.7/site-packages/ipykernel_launcher.py:7: FutureWarning: Series.base is deprecated and will be removed in a future version\n",
      "  import sys\n",
      "/root/miniconda3/envs/prototyping/lib/python3.7/site-packages/ipykernel_launcher.py:7: FutureWarning: Series.data is deprecated and will be removed in a future version\n",
      "  import sys\n",
      "/root/miniconda3/envs/prototyping/lib/python3.7/site-packages/ipykernel_launcher.py:7: FutureWarning: Series.flags is deprecated and will be removed in a future version\n",
      "  import sys\n",
      "/root/miniconda3/envs/prototyping/lib/python3.7/site-packages/ipykernel_launcher.py:7: FutureWarning: Series.itemsize is deprecated and will be removed in a future version\n",
      "  import sys\n",
      "/root/miniconda3/envs/prototyping/lib/python3.7/site-packages/ipykernel_launcher.py:7: DeprecationWarning: \n",
      ".ix is deprecated. Please use\n",
      ".loc for label based indexing or\n",
      ".iloc for positional indexing\n",
      "\n",
      "See the documentation here:\n",
      "http://pandas.pydata.org/pandas-docs/stable/indexing.html#ix-indexer-is-deprecated\n",
      "  import sys\n",
      "/root/miniconda3/envs/prototyping/lib/python3.7/site-packages/ipykernel_launcher.py:7: FutureWarning: Series.strides is deprecated and will be removed in a future version\n",
      "  import sys\n"
     ]
    },
    {
     "data": {
      "text/plain": [
       "['T',\n",
       " 'at',\n",
       " 'axes',\n",
       " 'base',\n",
       " 'data',\n",
       " 'dtype',\n",
       " 'dtypes',\n",
       " 'empty',\n",
       " 'flags',\n",
       " 'ftype',\n",
       " 'ftypes',\n",
       " 'hasnans',\n",
       " 'iat',\n",
       " 'iloc',\n",
       " 'imag',\n",
       " 'index',\n",
       " 'is_monotonic',\n",
       " 'is_monotonic_decreasing',\n",
       " 'is_monotonic_increasing',\n",
       " 'is_unique',\n",
       " 'itemsize',\n",
       " 'ix',\n",
       " 'loc',\n",
       " 'name',\n",
       " 'nbytes',\n",
       " 'ndim',\n",
       " 'plot',\n",
       " 'real',\n",
       " 'shape',\n",
       " 'size',\n",
       " 'strides',\n",
       " 'values']"
      ]
     },
     "execution_count": 64,
     "metadata": {},
     "output_type": "execute_result"
    }
   ],
   "source": [
    "get_attr_list(a)"
   ]
  },
  {
   "cell_type": "markdown",
   "metadata": {},
   "source": [
    "We can quickly generate additional data structures by using the attributes of existing data structures (so long as they are appropriate)\n",
    "\n",
    "----"
   ]
  },
  {
   "cell_type": "markdown",
   "metadata": {},
   "source": [
    "### Assigning a more helpful index"
   ]
  },
  {
   "cell_type": "code",
   "execution_count": 65,
   "metadata": {},
   "outputs": [
    {
     "data": {
      "text/plain": [
       "podolite       NaN\n",
       "phellum        NaN\n",
       "sussex         NaN\n",
       "hab            NaN\n",
       "tactlessness   NaN\n",
       "cashbook       NaN\n",
       "housemating    NaN\n",
       "celemines      NaN\n",
       "dtype: float64"
      ]
     },
     "execution_count": 65,
     "metadata": {},
     "output_type": "execute_result"
    }
   ],
   "source": [
    "pd.Series(a, index=nr.choice(poss_labels, size=(a.size)))"
   ]
  },
  {
   "cell_type": "code",
   "execution_count": 66,
   "metadata": {},
   "outputs": [
    {
     "data": {
      "text/plain": [
       "bucketful       2\n",
       "unjeering       3\n",
       "siliciophite    4\n",
       "unimitated      5\n",
       "feldspars       6\n",
       "intradermic     7\n",
       "larnakes        8\n",
       "spermicidal     9\n",
       "dtype: int64"
      ]
     },
     "execution_count": 66,
     "metadata": {},
     "output_type": "execute_result"
    }
   ],
   "source": [
    "b = pd.Series(a.values, index=nr.choice(poss_labels, size=(a.size)))\n",
    "b"
   ]
  },
  {
   "cell_type": "markdown",
   "metadata": {},
   "source": [
    "### From dictionary"
   ]
  },
  {
   "cell_type": "code",
   "execution_count": 69,
   "metadata": {},
   "outputs": [
    {
     "data": {
      "text/plain": [
       "{'bucketful': 2,\n",
       " 'unjeering': 3,\n",
       " 'siliciophite': 4,\n",
       " 'unimitated': 5,\n",
       " 'feldspars': 6,\n",
       " 'intradermic': 7,\n",
       " 'larnakes': 8,\n",
       " 'spermicidal': 9}"
      ]
     },
     "execution_count": 69,
     "metadata": {},
     "output_type": "execute_result"
    }
   ],
   "source": [
    "data_dict = dict(zip(b.index, a.values))\n",
    "data_dict"
   ]
  },
  {
   "cell_type": "code",
   "execution_count": 70,
   "metadata": {},
   "outputs": [
    {
     "data": {
      "text/plain": [
       "bucketful       2\n",
       "unjeering       3\n",
       "siliciophite    4\n",
       "unimitated      5\n",
       "feldspars       6\n",
       "intradermic     7\n",
       "larnakes        8\n",
       "spermicidal     9\n",
       "dtype: int64"
      ]
     },
     "execution_count": 70,
     "metadata": {},
     "output_type": "execute_result"
    }
   ],
   "source": [
    "c = pd.Series(data_dict)\n",
    "c"
   ]
  },
  {
   "cell_type": "markdown",
   "metadata": {},
   "source": [
    "### Setting the dtype"
   ]
  },
  {
   "cell_type": "code",
   "execution_count": 67,
   "metadata": {},
   "outputs": [
    {
     "data": {
      "text/plain": [
       "bucketful       2.0\n",
       "unjeering       3.0\n",
       "siliciophite    4.0\n",
       "unimitated      5.0\n",
       "feldspars       6.0\n",
       "intradermic     7.0\n",
       "larnakes        8.0\n",
       "spermicidal     9.0\n",
       "dtype: float16"
      ]
     },
     "execution_count": 67,
     "metadata": {},
     "output_type": "execute_result"
    }
   ],
   "source": [
    "d = pd.Series(b, dtype=np.float16)\n",
    "d"
   ]
  },
  {
   "cell_type": "markdown",
   "metadata": {},
   "source": [
    "### From numpy array"
   ]
  },
  {
   "cell_type": "code",
   "execution_count": 71,
   "metadata": {},
   "outputs": [
    {
     "data": {
      "text/plain": [
       "bucketful      -1.166186\n",
       "unjeering       1.577219\n",
       "siliciophite   -0.744617\n",
       "unimitated     -0.378484\n",
       "feldspars      -1.440774\n",
       "intradermic     2.333273\n",
       "larnakes       -2.185011\n",
       "spermicidal     0.771838\n",
       "dtype: float64"
      ]
     },
     "execution_count": 71,
     "metadata": {},
     "output_type": "execute_result"
    }
   ],
   "source": [
    "d = pd.Series(nr.randn(len(c.index)), index=c.index, dtype=np.float64)\n",
    "d"
   ]
  },
  {
   "cell_type": "markdown",
   "metadata": {},
   "source": [
    "### Naming the series"
   ]
  },
  {
   "cell_type": "code",
   "execution_count": 72,
   "metadata": {},
   "outputs": [
    {
     "data": {
      "text/plain": [
       "bucketful      -1.166186\n",
       "unjeering       1.577219\n",
       "siliciophite   -0.744617\n",
       "unimitated     -0.378484\n",
       "feldspars      -1.440774\n",
       "intradermic     2.333273\n",
       "larnakes       -2.185011\n",
       "spermicidal     0.771838\n",
       "Name: Foo, dtype: float64"
      ]
     },
     "execution_count": 72,
     "metadata": {},
     "output_type": "execute_result"
    }
   ],
   "source": [
    "e = pd.Series(d, name='Foo')\n",
    "e"
   ]
  },
  {
   "cell_type": "markdown",
   "metadata": {},
   "source": [
    "## DataFrame"
   ]
  },
  {
   "cell_type": "markdown",
   "metadata": {},
   "source": [
    "DataFrames work much in the same way as `pd.Series`. Just like `np.ndarray`, it is just an extension (with some caveats) into a different dimensionality."
   ]
  },
  {
   "cell_type": "markdown",
   "metadata": {},
   "source": [
    "### From list"
   ]
  },
  {
   "cell_type": "code",
   "execution_count": 73,
   "metadata": {},
   "outputs": [
    {
     "data": {
      "text/plain": [
       "[[2, 3, 4, 5, 6, 7, 8, 9], [9, 8, 7, 6, 5, 4, 3, 2]]"
      ]
     },
     "execution_count": 73,
     "metadata": {},
     "output_type": "execute_result"
    }
   ],
   "source": [
    "in_dat = [data_list, data_list[::-1]]\n",
    "in_dat"
   ]
  },
  {
   "cell_type": "code",
   "execution_count": 74,
   "metadata": {},
   "outputs": [
    {
     "data": {
      "text/html": [
       "<div>\n",
       "<style scoped>\n",
       "    .dataframe tbody tr th:only-of-type {\n",
       "        vertical-align: middle;\n",
       "    }\n",
       "\n",
       "    .dataframe tbody tr th {\n",
       "        vertical-align: top;\n",
       "    }\n",
       "\n",
       "    .dataframe thead th {\n",
       "        text-align: right;\n",
       "    }\n",
       "</style>\n",
       "<table border=\"1\" class=\"dataframe\">\n",
       "  <thead>\n",
       "    <tr style=\"text-align: right;\">\n",
       "      <th></th>\n",
       "      <th>0</th>\n",
       "      <th>1</th>\n",
       "      <th>2</th>\n",
       "      <th>3</th>\n",
       "      <th>4</th>\n",
       "      <th>5</th>\n",
       "      <th>6</th>\n",
       "      <th>7</th>\n",
       "    </tr>\n",
       "  </thead>\n",
       "  <tbody>\n",
       "    <tr>\n",
       "      <th>0</th>\n",
       "      <td>2</td>\n",
       "      <td>3</td>\n",
       "      <td>4</td>\n",
       "      <td>5</td>\n",
       "      <td>6</td>\n",
       "      <td>7</td>\n",
       "      <td>8</td>\n",
       "      <td>9</td>\n",
       "    </tr>\n",
       "    <tr>\n",
       "      <th>1</th>\n",
       "      <td>9</td>\n",
       "      <td>8</td>\n",
       "      <td>7</td>\n",
       "      <td>6</td>\n",
       "      <td>5</td>\n",
       "      <td>4</td>\n",
       "      <td>3</td>\n",
       "      <td>2</td>\n",
       "    </tr>\n",
       "  </tbody>\n",
       "</table>\n",
       "</div>"
      ],
      "text/plain": [
       "   0  1  2  3  4  5  6  7\n",
       "0  2  3  4  5  6  7  8  9\n",
       "1  9  8  7  6  5  4  3  2"
      ]
     },
     "execution_count": 74,
     "metadata": {},
     "output_type": "execute_result"
    }
   ],
   "source": [
    "dfa = pd.DataFrame(in_dat)\n",
    "dfa"
   ]
  },
  {
   "cell_type": "markdown",
   "metadata": {},
   "source": [
    "----\n",
    "Again, let's look at the attributes of a dataframe"
   ]
  },
  {
   "cell_type": "code",
   "execution_count": 75,
   "metadata": {},
   "outputs": [
    {
     "name": "stderr",
     "output_type": "stream",
     "text": [
      "/root/miniconda3/envs/prototyping/lib/python3.7/site-packages/ipykernel_launcher.py:7: DeprecationWarning: \n",
      ".ix is deprecated. Please use\n",
      ".loc for label based indexing or\n",
      ".iloc for positional indexing\n",
      "\n",
      "See the documentation here:\n",
      "http://pandas.pydata.org/pandas-docs/stable/indexing.html#ix-indexer-is-deprecated\n",
      "  import sys\n"
     ]
    },
    {
     "data": {
      "text/plain": [
       "['T',\n",
       " 'at',\n",
       " 'axes',\n",
       " 'columns',\n",
       " 'dtypes',\n",
       " 'empty',\n",
       " 'ftypes',\n",
       " 'iat',\n",
       " 'iloc',\n",
       " 'index',\n",
       " 'ix',\n",
       " 'loc',\n",
       " 'ndim',\n",
       " 'plot',\n",
       " 'shape',\n",
       " 'size',\n",
       " 'style',\n",
       " 'values']"
      ]
     },
     "execution_count": 75,
     "metadata": {},
     "output_type": "execute_result"
    }
   ],
   "source": [
    "get_attr_list(dfa)"
   ]
  },
  {
   "cell_type": "markdown",
   "metadata": {},
   "source": [
    "### Add an index"
   ]
  },
  {
   "cell_type": "code",
   "execution_count": 76,
   "metadata": {},
   "outputs": [
    {
     "data": {
      "text/html": [
       "<div>\n",
       "<style scoped>\n",
       "    .dataframe tbody tr th:only-of-type {\n",
       "        vertical-align: middle;\n",
       "    }\n",
       "\n",
       "    .dataframe tbody tr th {\n",
       "        vertical-align: top;\n",
       "    }\n",
       "\n",
       "    .dataframe thead th {\n",
       "        text-align: right;\n",
       "    }\n",
       "</style>\n",
       "<table border=\"1\" class=\"dataframe\">\n",
       "  <thead>\n",
       "    <tr style=\"text-align: right;\">\n",
       "      <th></th>\n",
       "      <th>0</th>\n",
       "      <th>1</th>\n",
       "      <th>2</th>\n",
       "      <th>3</th>\n",
       "      <th>4</th>\n",
       "      <th>5</th>\n",
       "      <th>6</th>\n",
       "      <th>7</th>\n",
       "    </tr>\n",
       "  </thead>\n",
       "  <tbody>\n",
       "    <tr>\n",
       "      <th>a</th>\n",
       "      <td>2</td>\n",
       "      <td>3</td>\n",
       "      <td>4</td>\n",
       "      <td>5</td>\n",
       "      <td>6</td>\n",
       "      <td>7</td>\n",
       "      <td>8</td>\n",
       "      <td>9</td>\n",
       "    </tr>\n",
       "    <tr>\n",
       "      <th>b</th>\n",
       "      <td>9</td>\n",
       "      <td>8</td>\n",
       "      <td>7</td>\n",
       "      <td>6</td>\n",
       "      <td>5</td>\n",
       "      <td>4</td>\n",
       "      <td>3</td>\n",
       "      <td>2</td>\n",
       "    </tr>\n",
       "  </tbody>\n",
       "</table>\n",
       "</div>"
      ],
      "text/plain": [
       "   0  1  2  3  4  5  6  7\n",
       "a  2  3  4  5  6  7  8  9\n",
       "b  9  8  7  6  5  4  3  2"
      ]
     },
     "execution_count": 76,
     "metadata": {},
     "output_type": "execute_result"
    }
   ],
   "source": [
    "dfb = pd.DataFrame(dfa.values, index=list(string.ascii_lowercase[:len(in_dat)]))\n",
    "dfb"
   ]
  },
  {
   "cell_type": "markdown",
   "metadata": {},
   "source": [
    "### Add column names"
   ]
  },
  {
   "cell_type": "markdown",
   "metadata": {},
   "source": [
    "Because this is a dataframe, we can add both and index ***and*** column names"
   ]
  },
  {
   "cell_type": "code",
   "execution_count": 77,
   "metadata": {},
   "outputs": [
    {
     "data": {
      "text/html": [
       "<div>\n",
       "<style scoped>\n",
       "    .dataframe tbody tr th:only-of-type {\n",
       "        vertical-align: middle;\n",
       "    }\n",
       "\n",
       "    .dataframe tbody tr th {\n",
       "        vertical-align: top;\n",
       "    }\n",
       "\n",
       "    .dataframe thead th {\n",
       "        text-align: right;\n",
       "    }\n",
       "</style>\n",
       "<table border=\"1\" class=\"dataframe\">\n",
       "  <thead>\n",
       "    <tr style=\"text-align: right;\">\n",
       "      <th></th>\n",
       "      <th>neurochemist</th>\n",
       "      <th>unmarriable</th>\n",
       "      <th>buttinskies</th>\n",
       "      <th>achenial</th>\n",
       "      <th>uninebriate</th>\n",
       "      <th>warmish</th>\n",
       "      <th>pincushions</th>\n",
       "      <th>untonality</th>\n",
       "    </tr>\n",
       "  </thead>\n",
       "  <tbody>\n",
       "    <tr>\n",
       "      <th>a</th>\n",
       "      <td>2</td>\n",
       "      <td>3</td>\n",
       "      <td>4</td>\n",
       "      <td>5</td>\n",
       "      <td>6</td>\n",
       "      <td>7</td>\n",
       "      <td>8</td>\n",
       "      <td>9</td>\n",
       "    </tr>\n",
       "    <tr>\n",
       "      <th>b</th>\n",
       "      <td>9</td>\n",
       "      <td>8</td>\n",
       "      <td>7</td>\n",
       "      <td>6</td>\n",
       "      <td>5</td>\n",
       "      <td>4</td>\n",
       "      <td>3</td>\n",
       "      <td>2</td>\n",
       "    </tr>\n",
       "  </tbody>\n",
       "</table>\n",
       "</div>"
      ],
      "text/plain": [
       "   neurochemist  unmarriable  buttinskies  achenial  uninebriate  warmish  \\\n",
       "a             2            3            4         5            6        7   \n",
       "b             9            8            7         6            5        4   \n",
       "\n",
       "   pincushions  untonality  \n",
       "a            8           9  \n",
       "b            3           2  "
      ]
     },
     "execution_count": 77,
     "metadata": {},
     "output_type": "execute_result"
    }
   ],
   "source": [
    "dfc = pd.DataFrame(dfb.values, index=dfb.index, columns=nr.choice(poss_labels, size=(dfb.shape[1])))\n",
    "dfc"
   ]
  },
  {
   "cell_type": "markdown",
   "metadata": {},
   "source": [
    "### Add a dtype"
   ]
  },
  {
   "cell_type": "code",
   "execution_count": 81,
   "metadata": {},
   "outputs": [
    {
     "data": {
      "text/html": [
       "<div>\n",
       "<style scoped>\n",
       "    .dataframe tbody tr th:only-of-type {\n",
       "        vertical-align: middle;\n",
       "    }\n",
       "\n",
       "    .dataframe tbody tr th {\n",
       "        vertical-align: top;\n",
       "    }\n",
       "\n",
       "    .dataframe thead th {\n",
       "        text-align: right;\n",
       "    }\n",
       "</style>\n",
       "<table border=\"1\" class=\"dataframe\">\n",
       "  <thead>\n",
       "    <tr style=\"text-align: right;\">\n",
       "      <th></th>\n",
       "      <th>neurochemist</th>\n",
       "      <th>unmarriable</th>\n",
       "      <th>buttinskies</th>\n",
       "      <th>achenial</th>\n",
       "      <th>uninebriate</th>\n",
       "      <th>warmish</th>\n",
       "      <th>pincushions</th>\n",
       "      <th>untonality</th>\n",
       "    </tr>\n",
       "  </thead>\n",
       "  <tbody>\n",
       "    <tr>\n",
       "      <th>a</th>\n",
       "      <td>2.0</td>\n",
       "      <td>3.0</td>\n",
       "      <td>4.0</td>\n",
       "      <td>5.0</td>\n",
       "      <td>6.0</td>\n",
       "      <td>7.0</td>\n",
       "      <td>8.0</td>\n",
       "      <td>9.0</td>\n",
       "    </tr>\n",
       "    <tr>\n",
       "      <th>b</th>\n",
       "      <td>9.0</td>\n",
       "      <td>8.0</td>\n",
       "      <td>7.0</td>\n",
       "      <td>6.0</td>\n",
       "      <td>5.0</td>\n",
       "      <td>4.0</td>\n",
       "      <td>3.0</td>\n",
       "      <td>2.0</td>\n",
       "    </tr>\n",
       "  </tbody>\n",
       "</table>\n",
       "</div>"
      ],
      "text/plain": [
       "   neurochemist  unmarriable  buttinskies  achenial  uninebriate  warmish  \\\n",
       "a           2.0          3.0          4.0       5.0          6.0      7.0   \n",
       "b           9.0          8.0          7.0       6.0          5.0      4.0   \n",
       "\n",
       "   pincushions  untonality  \n",
       "a          8.0         9.0  \n",
       "b          3.0         2.0  "
      ]
     },
     "execution_count": 81,
     "metadata": {},
     "output_type": "execute_result"
    }
   ],
   "source": [
    "dfd = pd.DataFrame(dfc, dtype=np.float16)\n",
    "dfd"
   ]
  },
  {
   "cell_type": "code",
   "execution_count": 82,
   "metadata": {},
   "outputs": [
    {
     "data": {
      "text/plain": [
       "neurochemist    float16\n",
       "unmarriable     float16\n",
       "buttinskies     float16\n",
       "achenial        float16\n",
       "uninebriate     float16\n",
       "warmish         float16\n",
       "pincushions     float16\n",
       "untonality      float16\n",
       "dtype: object"
      ]
     },
     "execution_count": 82,
     "metadata": {},
     "output_type": "execute_result"
    }
   ],
   "source": [
    "dfd.dtypes"
   ]
  },
  {
   "cell_type": "markdown",
   "metadata": {},
   "source": [
    "As seen, if you set a `dtype` for the `DataFrame`, you set it for ***all*** of the elements. However, you can always set the column dtypes individually. We will look at this later."
   ]
  },
  {
   "cell_type": "markdown",
   "metadata": {},
   "source": [
    "### From a dictionary"
   ]
  },
  {
   "cell_type": "code",
   "execution_count": 83,
   "metadata": {},
   "outputs": [
    {
     "data": {
      "text/plain": [
       "{'a': [2, 3, 4, 5, 6, 7, 8, 9], 'b': [9, 8, 7, 6, 5, 4, 3, 2]}"
      ]
     },
     "execution_count": 83,
     "metadata": {},
     "output_type": "execute_result"
    }
   ],
   "source": [
    "two_d_dict = dict(zip(dfd.index,in_dat))\n",
    "two_d_dict"
   ]
  },
  {
   "cell_type": "code",
   "execution_count": 84,
   "metadata": {},
   "outputs": [
    {
     "data": {
      "text/html": [
       "<div>\n",
       "<style scoped>\n",
       "    .dataframe tbody tr th:only-of-type {\n",
       "        vertical-align: middle;\n",
       "    }\n",
       "\n",
       "    .dataframe tbody tr th {\n",
       "        vertical-align: top;\n",
       "    }\n",
       "\n",
       "    .dataframe thead th {\n",
       "        text-align: right;\n",
       "    }\n",
       "</style>\n",
       "<table border=\"1\" class=\"dataframe\">\n",
       "  <thead>\n",
       "    <tr style=\"text-align: right;\">\n",
       "      <th></th>\n",
       "      <th>neurochemist</th>\n",
       "      <th>unmarriable</th>\n",
       "      <th>buttinskies</th>\n",
       "      <th>achenial</th>\n",
       "      <th>uninebriate</th>\n",
       "      <th>warmish</th>\n",
       "      <th>pincushions</th>\n",
       "      <th>untonality</th>\n",
       "    </tr>\n",
       "  </thead>\n",
       "  <tbody>\n",
       "    <tr>\n",
       "      <th>a</th>\n",
       "      <td>2</td>\n",
       "      <td>3</td>\n",
       "      <td>4</td>\n",
       "      <td>5</td>\n",
       "      <td>6</td>\n",
       "      <td>7</td>\n",
       "      <td>8</td>\n",
       "      <td>9</td>\n",
       "    </tr>\n",
       "    <tr>\n",
       "      <th>b</th>\n",
       "      <td>9</td>\n",
       "      <td>8</td>\n",
       "      <td>7</td>\n",
       "      <td>6</td>\n",
       "      <td>5</td>\n",
       "      <td>4</td>\n",
       "      <td>3</td>\n",
       "      <td>2</td>\n",
       "    </tr>\n",
       "  </tbody>\n",
       "</table>\n",
       "</div>"
      ],
      "text/plain": [
       "   neurochemist  unmarriable  buttinskies  achenial  uninebriate  warmish  \\\n",
       "a             2            3            4         5            6        7   \n",
       "b             9            8            7         6            5        4   \n",
       "\n",
       "   pincushions  untonality  \n",
       "a            8           9  \n",
       "b            3           2  "
      ]
     },
     "execution_count": 84,
     "metadata": {},
     "output_type": "execute_result"
    }
   ],
   "source": [
    "dfe = pd.DataFrame(two_d_dict, index = dfd.columns).T\n",
    "dfe"
   ]
  },
  {
   "cell_type": "markdown",
   "metadata": {},
   "source": [
    "### From numpy array"
   ]
  },
  {
   "cell_type": "code",
   "execution_count": 85,
   "metadata": {},
   "outputs": [
    {
     "data": {
      "text/plain": [
       "array([[86, 83, 87, 63],\n",
       "       [23, 71, 87, 78],\n",
       "       [46, 26, 21,  9]])"
      ]
     },
     "execution_count": 85,
     "metadata": {},
     "output_type": "execute_result"
    }
   ],
   "source": [
    "arr_1 = nr.randint(0, 100, (3,4))\n",
    "arr_1"
   ]
  },
  {
   "cell_type": "code",
   "execution_count": 86,
   "metadata": {},
   "outputs": [
    {
     "data": {
      "text/html": [
       "<div>\n",
       "<style scoped>\n",
       "    .dataframe tbody tr th:only-of-type {\n",
       "        vertical-align: middle;\n",
       "    }\n",
       "\n",
       "    .dataframe tbody tr th {\n",
       "        vertical-align: top;\n",
       "    }\n",
       "\n",
       "    .dataframe thead th {\n",
       "        text-align: right;\n",
       "    }\n",
       "</style>\n",
       "<table border=\"1\" class=\"dataframe\">\n",
       "  <thead>\n",
       "    <tr style=\"text-align: right;\">\n",
       "      <th></th>\n",
       "      <th>ju</th>\n",
       "      <th>dy</th>\n",
       "      <th>rd</th>\n",
       "      <th>ni</th>\n",
       "    </tr>\n",
       "  </thead>\n",
       "  <tbody>\n",
       "    <tr>\n",
       "      <th>a</th>\n",
       "      <td>86</td>\n",
       "      <td>83</td>\n",
       "      <td>87</td>\n",
       "      <td>63</td>\n",
       "    </tr>\n",
       "    <tr>\n",
       "      <th>b</th>\n",
       "      <td>23</td>\n",
       "      <td>71</td>\n",
       "      <td>87</td>\n",
       "      <td>78</td>\n",
       "    </tr>\n",
       "    <tr>\n",
       "      <th>c</th>\n",
       "      <td>46</td>\n",
       "      <td>26</td>\n",
       "      <td>21</td>\n",
       "      <td>9</td>\n",
       "    </tr>\n",
       "  </tbody>\n",
       "</table>\n",
       "</div>"
      ],
      "text/plain": [
       "   ju  dy  rd  ni\n",
       "a  86  83  87  63\n",
       "b  23  71  87  78\n",
       "c  46  26  21   9"
      ]
     },
     "execution_count": 86,
     "metadata": {},
     "output_type": "execute_result"
    }
   ],
   "source": [
    "dff = pd.DataFrame(arr_1, index = list(string.ascii_lowercase[:arr_1.shape[0]]), columns = gen_lab(2, arr_1.shape[1]))\n",
    "dff"
   ]
  },
  {
   "cell_type": "markdown",
   "metadata": {},
   "source": [
    "### From `pd.Series`"
   ]
  },
  {
   "cell_type": "markdown",
   "metadata": {},
   "source": [
    "#### Row-wise (`append`)"
   ]
  },
  {
   "cell_type": "code",
   "execution_count": 87,
   "metadata": {},
   "outputs": [
    {
     "name": "stdout",
     "output_type": "stream",
     "text": [
      "0    2\n",
      "1    3\n",
      "2    4\n",
      "3    5\n",
      "4    6\n",
      "5    7\n",
      "6    8\n",
      "7    9\n",
      "Name: original, dtype: int64\n"
     ]
    },
    {
     "data": {
      "text/plain": [
       "0    9.0\n",
       "1    8.0\n",
       "2    7.0\n",
       "3    6.0\n",
       "4    5.0\n",
       "5    4.0\n",
       "6    3.0\n",
       "7    2.0\n",
       "Name: reveresed, dtype: float16"
      ]
     },
     "execution_count": 87,
     "metadata": {},
     "output_type": "execute_result"
    }
   ],
   "source": [
    "# Remember pd.Series a?\n",
    "a = a.rename('original')\n",
    "print(a)\n",
    "a_rev = pd.Series(a.values[::-1], name='reveresed', dtype=np.float16)\n",
    "a_rev"
   ]
  },
  {
   "cell_type": "code",
   "execution_count": 88,
   "metadata": {},
   "outputs": [
    {
     "data": {
      "text/html": [
       "<div>\n",
       "<style scoped>\n",
       "    .dataframe tbody tr th:only-of-type {\n",
       "        vertical-align: middle;\n",
       "    }\n",
       "\n",
       "    .dataframe tbody tr th {\n",
       "        vertical-align: top;\n",
       "    }\n",
       "\n",
       "    .dataframe thead th {\n",
       "        text-align: right;\n",
       "    }\n",
       "</style>\n",
       "<table border=\"1\" class=\"dataframe\">\n",
       "  <thead>\n",
       "    <tr style=\"text-align: right;\">\n",
       "      <th></th>\n",
       "      <th>0</th>\n",
       "      <th>1</th>\n",
       "      <th>2</th>\n",
       "      <th>3</th>\n",
       "      <th>4</th>\n",
       "      <th>5</th>\n",
       "      <th>6</th>\n",
       "      <th>7</th>\n",
       "    </tr>\n",
       "  </thead>\n",
       "  <tbody>\n",
       "    <tr>\n",
       "      <th>original</th>\n",
       "      <td>2</td>\n",
       "      <td>3</td>\n",
       "      <td>4</td>\n",
       "      <td>5</td>\n",
       "      <td>6</td>\n",
       "      <td>7</td>\n",
       "      <td>8</td>\n",
       "      <td>9</td>\n",
       "    </tr>\n",
       "  </tbody>\n",
       "</table>\n",
       "</div>"
      ],
      "text/plain": [
       "          0  1  2  3  4  5  6  7\n",
       "original  2  3  4  5  6  7  8  9"
      ]
     },
     "execution_count": 88,
     "metadata": {},
     "output_type": "execute_result"
    }
   ],
   "source": [
    "# Create the original DataFrame\n",
    "df_rows = pd.DataFrame(a).T\n",
    "df_rows"
   ]
  },
  {
   "cell_type": "code",
   "execution_count": 89,
   "metadata": {},
   "outputs": [
    {
     "data": {
      "text/html": [
       "<div>\n",
       "<style scoped>\n",
       "    .dataframe tbody tr th:only-of-type {\n",
       "        vertical-align: middle;\n",
       "    }\n",
       "\n",
       "    .dataframe tbody tr th {\n",
       "        vertical-align: top;\n",
       "    }\n",
       "\n",
       "    .dataframe thead th {\n",
       "        text-align: right;\n",
       "    }\n",
       "</style>\n",
       "<table border=\"1\" class=\"dataframe\">\n",
       "  <thead>\n",
       "    <tr style=\"text-align: right;\">\n",
       "      <th></th>\n",
       "      <th>0</th>\n",
       "      <th>1</th>\n",
       "      <th>2</th>\n",
       "      <th>3</th>\n",
       "      <th>4</th>\n",
       "      <th>5</th>\n",
       "      <th>6</th>\n",
       "      <th>7</th>\n",
       "    </tr>\n",
       "  </thead>\n",
       "  <tbody>\n",
       "    <tr>\n",
       "      <th>original</th>\n",
       "      <td>2.0</td>\n",
       "      <td>3.0</td>\n",
       "      <td>4.0</td>\n",
       "      <td>5.0</td>\n",
       "      <td>6.0</td>\n",
       "      <td>7.0</td>\n",
       "      <td>8.0</td>\n",
       "      <td>9.0</td>\n",
       "    </tr>\n",
       "    <tr>\n",
       "      <th>reveresed</th>\n",
       "      <td>9.0</td>\n",
       "      <td>8.0</td>\n",
       "      <td>7.0</td>\n",
       "      <td>6.0</td>\n",
       "      <td>5.0</td>\n",
       "      <td>4.0</td>\n",
       "      <td>3.0</td>\n",
       "      <td>2.0</td>\n",
       "    </tr>\n",
       "  </tbody>\n",
       "</table>\n",
       "</div>"
      ],
      "text/plain": [
       "             0    1    2    3    4    5    6    7\n",
       "original   2.0  3.0  4.0  5.0  6.0  7.0  8.0  9.0\n",
       "reveresed  9.0  8.0  7.0  6.0  5.0  4.0  3.0  2.0"
      ]
     },
     "execution_count": 89,
     "metadata": {},
     "output_type": "execute_result"
    }
   ],
   "source": [
    "# Now add on a row\n",
    "df_rows.append(a_rev)"
   ]
  },
  {
   "cell_type": "markdown",
   "metadata": {},
   "source": [
    "#### Column-wise (`join`/`concat`)"
   ]
  },
  {
   "cell_type": "code",
   "execution_count": 90,
   "metadata": {},
   "outputs": [
    {
     "data": {
      "text/html": [
       "<div>\n",
       "<style scoped>\n",
       "    .dataframe tbody tr th:only-of-type {\n",
       "        vertical-align: middle;\n",
       "    }\n",
       "\n",
       "    .dataframe tbody tr th {\n",
       "        vertical-align: top;\n",
       "    }\n",
       "\n",
       "    .dataframe thead tr th {\n",
       "        text-align: left;\n",
       "    }\n",
       "</style>\n",
       "<table border=\"1\" class=\"dataframe\">\n",
       "  <thead>\n",
       "    <tr>\n",
       "      <th></th>\n",
       "      <th>hp</th>\n",
       "      <th>yi</th>\n",
       "      <th>gy</th>\n",
       "      <th>eo</th>\n",
       "    </tr>\n",
       "  </thead>\n",
       "  <tbody>\n",
       "    <tr>\n",
       "      <th>0</th>\n",
       "      <td>1.105431</td>\n",
       "      <td>-1.819520</td>\n",
       "      <td>0.498486</td>\n",
       "      <td>0.501821</td>\n",
       "    </tr>\n",
       "    <tr>\n",
       "      <th>1</th>\n",
       "      <td>-0.452983</td>\n",
       "      <td>0.898272</td>\n",
       "      <td>0.490863</td>\n",
       "      <td>-1.231453</td>\n",
       "    </tr>\n",
       "    <tr>\n",
       "      <th>2</th>\n",
       "      <td>-0.353909</td>\n",
       "      <td>-1.854483</td>\n",
       "      <td>0.501776</td>\n",
       "      <td>-0.445332</td>\n",
       "    </tr>\n",
       "  </tbody>\n",
       "</table>\n",
       "</div>"
      ],
      "text/plain": [
       "         hp        yi        gy        eo\n",
       "0  1.105431 -1.819520  0.498486  0.501821\n",
       "1 -0.452983  0.898272  0.490863 -1.231453\n",
       "2 -0.353909 -1.854483  0.501776 -0.445332"
      ]
     },
     "execution_count": 90,
     "metadata": {},
     "output_type": "execute_result"
    }
   ],
   "source": [
    "df_columns = pd.DataFrame(nr.randn(3,4))\n",
    "df_columns.columns = [gen_lab(2, 4)]\n",
    "df_columns"
   ]
  },
  {
   "cell_type": "markdown",
   "metadata": {},
   "source": [
    "#### `join`"
   ]
  },
  {
   "cell_type": "code",
   "execution_count": 91,
   "metadata": {},
   "outputs": [],
   "source": [
    "p = df_columns.join(a_rev)"
   ]
  },
  {
   "cell_type": "code",
   "execution_count": 92,
   "metadata": {},
   "outputs": [
    {
     "data": {
      "text/html": [
       "<div>\n",
       "<style scoped>\n",
       "    .dataframe tbody tr th:only-of-type {\n",
       "        vertical-align: middle;\n",
       "    }\n",
       "\n",
       "    .dataframe tbody tr th {\n",
       "        vertical-align: top;\n",
       "    }\n",
       "\n",
       "    .dataframe thead th {\n",
       "        text-align: right;\n",
       "    }\n",
       "</style>\n",
       "<table border=\"1\" class=\"dataframe\">\n",
       "  <thead>\n",
       "    <tr style=\"text-align: right;\">\n",
       "      <th></th>\n",
       "      <th>(hp,)</th>\n",
       "      <th>(yi,)</th>\n",
       "      <th>(gy,)</th>\n",
       "      <th>(eo,)</th>\n",
       "      <th>reveresed</th>\n",
       "    </tr>\n",
       "  </thead>\n",
       "  <tbody>\n",
       "    <tr>\n",
       "      <th>0</th>\n",
       "      <td>1.105431</td>\n",
       "      <td>-1.819520</td>\n",
       "      <td>0.498486</td>\n",
       "      <td>0.501821</td>\n",
       "      <td>9.0</td>\n",
       "    </tr>\n",
       "    <tr>\n",
       "      <th>1</th>\n",
       "      <td>-0.452983</td>\n",
       "      <td>0.898272</td>\n",
       "      <td>0.490863</td>\n",
       "      <td>-1.231453</td>\n",
       "      <td>8.0</td>\n",
       "    </tr>\n",
       "    <tr>\n",
       "      <th>2</th>\n",
       "      <td>-0.353909</td>\n",
       "      <td>-1.854483</td>\n",
       "      <td>0.501776</td>\n",
       "      <td>-0.445332</td>\n",
       "      <td>7.0</td>\n",
       "    </tr>\n",
       "  </tbody>\n",
       "</table>\n",
       "</div>"
      ],
      "text/plain": [
       "      (hp,)     (yi,)     (gy,)     (eo,)  reveresed\n",
       "0  1.105431 -1.819520  0.498486  0.501821        9.0\n",
       "1 -0.452983  0.898272  0.490863 -1.231453        8.0\n",
       "2 -0.353909 -1.854483  0.501776 -0.445332        7.0"
      ]
     },
     "execution_count": 92,
     "metadata": {},
     "output_type": "execute_result"
    }
   ],
   "source": [
    "p"
   ]
  },
  {
   "cell_type": "code",
   "execution_count": 93,
   "metadata": {},
   "outputs": [
    {
     "data": {
      "text/plain": [
       "(hp,)        float64\n",
       "(yi,)        float64\n",
       "(gy,)        float64\n",
       "(eo,)        float64\n",
       "reveresed    float16\n",
       "dtype: object"
      ]
     },
     "execution_count": 93,
     "metadata": {},
     "output_type": "execute_result"
    }
   ],
   "source": [
    "p.dtypes"
   ]
  },
  {
   "cell_type": "markdown",
   "metadata": {},
   "source": [
    "#### `concat`"
   ]
  },
  {
   "cell_type": "code",
   "execution_count": 94,
   "metadata": {},
   "outputs": [
    {
     "data": {
      "text/html": [
       "<div>\n",
       "<style scoped>\n",
       "    .dataframe tbody tr th:only-of-type {\n",
       "        vertical-align: middle;\n",
       "    }\n",
       "\n",
       "    .dataframe tbody tr th {\n",
       "        vertical-align: top;\n",
       "    }\n",
       "\n",
       "    .dataframe thead th {\n",
       "        text-align: right;\n",
       "    }\n",
       "</style>\n",
       "<table border=\"1\" class=\"dataframe\">\n",
       "  <thead>\n",
       "    <tr style=\"text-align: right;\">\n",
       "      <th></th>\n",
       "      <th>(hp,)</th>\n",
       "      <th>(yi,)</th>\n",
       "      <th>(gy,)</th>\n",
       "      <th>(eo,)</th>\n",
       "      <th>reveresed</th>\n",
       "    </tr>\n",
       "  </thead>\n",
       "  <tbody>\n",
       "    <tr>\n",
       "      <th>0</th>\n",
       "      <td>1.105431</td>\n",
       "      <td>-1.819520</td>\n",
       "      <td>0.498486</td>\n",
       "      <td>0.501821</td>\n",
       "      <td>9.0</td>\n",
       "    </tr>\n",
       "    <tr>\n",
       "      <th>1</th>\n",
       "      <td>-0.452983</td>\n",
       "      <td>0.898272</td>\n",
       "      <td>0.490863</td>\n",
       "      <td>-1.231453</td>\n",
       "      <td>8.0</td>\n",
       "    </tr>\n",
       "    <tr>\n",
       "      <th>2</th>\n",
       "      <td>-0.353909</td>\n",
       "      <td>-1.854483</td>\n",
       "      <td>0.501776</td>\n",
       "      <td>-0.445332</td>\n",
       "      <td>7.0</td>\n",
       "    </tr>\n",
       "  </tbody>\n",
       "</table>\n",
       "</div>"
      ],
      "text/plain": [
       "      (hp,)     (yi,)     (gy,)     (eo,)  reveresed\n",
       "0  1.105431 -1.819520  0.498486  0.501821        9.0\n",
       "1 -0.452983  0.898272  0.490863 -1.231453        8.0\n",
       "2 -0.353909 -1.854483  0.501776 -0.445332        7.0"
      ]
     },
     "execution_count": 94,
     "metadata": {},
     "output_type": "execute_result"
    }
   ],
   "source": [
    "# Same size\n",
    "pd.concat([df_columns, a_rev[:3]], axis=1)"
   ]
  },
  {
   "cell_type": "code",
   "execution_count": 95,
   "metadata": {},
   "outputs": [
    {
     "data": {
      "text/html": [
       "<div>\n",
       "<style scoped>\n",
       "    .dataframe tbody tr th:only-of-type {\n",
       "        vertical-align: middle;\n",
       "    }\n",
       "\n",
       "    .dataframe tbody tr th {\n",
       "        vertical-align: top;\n",
       "    }\n",
       "\n",
       "    .dataframe thead th {\n",
       "        text-align: right;\n",
       "    }\n",
       "</style>\n",
       "<table border=\"1\" class=\"dataframe\">\n",
       "  <thead>\n",
       "    <tr style=\"text-align: right;\">\n",
       "      <th></th>\n",
       "      <th>(hp,)</th>\n",
       "      <th>(yi,)</th>\n",
       "      <th>(gy,)</th>\n",
       "      <th>(eo,)</th>\n",
       "      <th>reveresed</th>\n",
       "    </tr>\n",
       "  </thead>\n",
       "  <tbody>\n",
       "    <tr>\n",
       "      <th>0</th>\n",
       "      <td>1.105431</td>\n",
       "      <td>-1.819520</td>\n",
       "      <td>0.498486</td>\n",
       "      <td>0.501821</td>\n",
       "      <td>9.0</td>\n",
       "    </tr>\n",
       "    <tr>\n",
       "      <th>1</th>\n",
       "      <td>-0.452983</td>\n",
       "      <td>0.898272</td>\n",
       "      <td>0.490863</td>\n",
       "      <td>-1.231453</td>\n",
       "      <td>8.0</td>\n",
       "    </tr>\n",
       "    <tr>\n",
       "      <th>2</th>\n",
       "      <td>-0.353909</td>\n",
       "      <td>-1.854483</td>\n",
       "      <td>0.501776</td>\n",
       "      <td>-0.445332</td>\n",
       "      <td>7.0</td>\n",
       "    </tr>\n",
       "    <tr>\n",
       "      <th>3</th>\n",
       "      <td>NaN</td>\n",
       "      <td>NaN</td>\n",
       "      <td>NaN</td>\n",
       "      <td>NaN</td>\n",
       "      <td>6.0</td>\n",
       "    </tr>\n",
       "    <tr>\n",
       "      <th>4</th>\n",
       "      <td>NaN</td>\n",
       "      <td>NaN</td>\n",
       "      <td>NaN</td>\n",
       "      <td>NaN</td>\n",
       "      <td>5.0</td>\n",
       "    </tr>\n",
       "    <tr>\n",
       "      <th>5</th>\n",
       "      <td>NaN</td>\n",
       "      <td>NaN</td>\n",
       "      <td>NaN</td>\n",
       "      <td>NaN</td>\n",
       "      <td>4.0</td>\n",
       "    </tr>\n",
       "    <tr>\n",
       "      <th>6</th>\n",
       "      <td>NaN</td>\n",
       "      <td>NaN</td>\n",
       "      <td>NaN</td>\n",
       "      <td>NaN</td>\n",
       "      <td>3.0</td>\n",
       "    </tr>\n",
       "    <tr>\n",
       "      <th>7</th>\n",
       "      <td>NaN</td>\n",
       "      <td>NaN</td>\n",
       "      <td>NaN</td>\n",
       "      <td>NaN</td>\n",
       "      <td>2.0</td>\n",
       "    </tr>\n",
       "  </tbody>\n",
       "</table>\n",
       "</div>"
      ],
      "text/plain": [
       "      (hp,)     (yi,)     (gy,)     (eo,)  reveresed\n",
       "0  1.105431 -1.819520  0.498486  0.501821        9.0\n",
       "1 -0.452983  0.898272  0.490863 -1.231453        8.0\n",
       "2 -0.353909 -1.854483  0.501776 -0.445332        7.0\n",
       "3       NaN       NaN       NaN       NaN        6.0\n",
       "4       NaN       NaN       NaN       NaN        5.0\n",
       "5       NaN       NaN       NaN       NaN        4.0\n",
       "6       NaN       NaN       NaN       NaN        3.0\n",
       "7       NaN       NaN       NaN       NaN        2.0"
      ]
     },
     "execution_count": 95,
     "metadata": {},
     "output_type": "execute_result"
    }
   ],
   "source": [
    "# Unequal size\n",
    "pd.concat([df_columns, a_rev], axis=1)"
   ]
  },
  {
   "cell_type": "markdown",
   "metadata": {},
   "source": [
    "# I/O in Pandas"
   ]
  },
  {
   "cell_type": "markdown",
   "metadata": {},
   "source": [
    "One of the biggest reasons people use pandas is to bring data in without having to mess around with file I/O, delimiters, and type conversion. Pandas, is a one-stop shop for a lot of this."
   ]
  },
  {
   "cell_type": "markdown",
   "metadata": {},
   "source": [
    "### CSV Files"
   ]
  },
  {
   "cell_type": "markdown",
   "metadata": {},
   "source": [
    "#### Input"
   ]
  },
  {
   "cell_type": "code",
   "execution_count": 96,
   "metadata": {},
   "outputs": [
    {
     "data": {
      "text/html": [
       "<div>\n",
       "<style scoped>\n",
       "    .dataframe tbody tr th:only-of-type {\n",
       "        vertical-align: middle;\n",
       "    }\n",
       "\n",
       "    .dataframe tbody tr th {\n",
       "        vertical-align: top;\n",
       "    }\n",
       "\n",
       "    .dataframe thead th {\n",
       "        text-align: right;\n",
       "    }\n",
       "</style>\n",
       "<table border=\"1\" class=\"dataframe\">\n",
       "  <thead>\n",
       "    <tr style=\"text-align: right;\">\n",
       "      <th></th>\n",
       "      <th>street</th>\n",
       "      <th>city</th>\n",
       "      <th>zip</th>\n",
       "      <th>state</th>\n",
       "      <th>beds</th>\n",
       "      <th>baths</th>\n",
       "      <th>sq__ft</th>\n",
       "      <th>type</th>\n",
       "      <th>sale_date</th>\n",
       "      <th>price</th>\n",
       "      <th>latitude</th>\n",
       "      <th>longitude</th>\n",
       "    </tr>\n",
       "  </thead>\n",
       "  <tbody>\n",
       "    <tr>\n",
       "      <th>0</th>\n",
       "      <td>3526 HIGH ST</td>\n",
       "      <td>SACRAMENTO</td>\n",
       "      <td>95838</td>\n",
       "      <td>CA</td>\n",
       "      <td>2</td>\n",
       "      <td>1</td>\n",
       "      <td>836</td>\n",
       "      <td>Residential</td>\n",
       "      <td>Wed May 21 00:00:00 EDT 2008</td>\n",
       "      <td>59222</td>\n",
       "      <td>38.631913</td>\n",
       "      <td>-121.434879</td>\n",
       "    </tr>\n",
       "    <tr>\n",
       "      <th>1</th>\n",
       "      <td>51 OMAHA CT</td>\n",
       "      <td>SACRAMENTO</td>\n",
       "      <td>95823</td>\n",
       "      <td>CA</td>\n",
       "      <td>3</td>\n",
       "      <td>1</td>\n",
       "      <td>1167</td>\n",
       "      <td>Residential</td>\n",
       "      <td>Wed May 21 00:00:00 EDT 2008</td>\n",
       "      <td>68212</td>\n",
       "      <td>38.478902</td>\n",
       "      <td>-121.431028</td>\n",
       "    </tr>\n",
       "    <tr>\n",
       "      <th>2</th>\n",
       "      <td>2796 BRANCH ST</td>\n",
       "      <td>SACRAMENTO</td>\n",
       "      <td>95815</td>\n",
       "      <td>CA</td>\n",
       "      <td>2</td>\n",
       "      <td>1</td>\n",
       "      <td>796</td>\n",
       "      <td>Residential</td>\n",
       "      <td>Wed May 21 00:00:00 EDT 2008</td>\n",
       "      <td>68880</td>\n",
       "      <td>38.618305</td>\n",
       "      <td>-121.443839</td>\n",
       "    </tr>\n",
       "    <tr>\n",
       "      <th>3</th>\n",
       "      <td>2805 JANETTE WAY</td>\n",
       "      <td>SACRAMENTO</td>\n",
       "      <td>95815</td>\n",
       "      <td>CA</td>\n",
       "      <td>2</td>\n",
       "      <td>1</td>\n",
       "      <td>852</td>\n",
       "      <td>Residential</td>\n",
       "      <td>Wed May 21 00:00:00 EDT 2008</td>\n",
       "      <td>69307</td>\n",
       "      <td>38.616835</td>\n",
       "      <td>-121.439146</td>\n",
       "    </tr>\n",
       "    <tr>\n",
       "      <th>4</th>\n",
       "      <td>6001 MCMAHON DR</td>\n",
       "      <td>SACRAMENTO</td>\n",
       "      <td>95824</td>\n",
       "      <td>CA</td>\n",
       "      <td>2</td>\n",
       "      <td>1</td>\n",
       "      <td>797</td>\n",
       "      <td>Residential</td>\n",
       "      <td>Wed May 21 00:00:00 EDT 2008</td>\n",
       "      <td>81900</td>\n",
       "      <td>38.519470</td>\n",
       "      <td>-121.435768</td>\n",
       "    </tr>\n",
       "    <tr>\n",
       "      <th>5</th>\n",
       "      <td>5828 PEPPERMILL CT</td>\n",
       "      <td>SACRAMENTO</td>\n",
       "      <td>95841</td>\n",
       "      <td>CA</td>\n",
       "      <td>3</td>\n",
       "      <td>1</td>\n",
       "      <td>1122</td>\n",
       "      <td>Condo</td>\n",
       "      <td>Wed May 21 00:00:00 EDT 2008</td>\n",
       "      <td>89921</td>\n",
       "      <td>38.662595</td>\n",
       "      <td>-121.327813</td>\n",
       "    </tr>\n",
       "    <tr>\n",
       "      <th>6</th>\n",
       "      <td>6048 OGDEN NASH WAY</td>\n",
       "      <td>SACRAMENTO</td>\n",
       "      <td>95842</td>\n",
       "      <td>CA</td>\n",
       "      <td>3</td>\n",
       "      <td>2</td>\n",
       "      <td>1104</td>\n",
       "      <td>Residential</td>\n",
       "      <td>Wed May 21 00:00:00 EDT 2008</td>\n",
       "      <td>90895</td>\n",
       "      <td>38.681659</td>\n",
       "      <td>-121.351705</td>\n",
       "    </tr>\n",
       "    <tr>\n",
       "      <th>7</th>\n",
       "      <td>2561 19TH AVE</td>\n",
       "      <td>SACRAMENTO</td>\n",
       "      <td>95820</td>\n",
       "      <td>CA</td>\n",
       "      <td>3</td>\n",
       "      <td>1</td>\n",
       "      <td>1177</td>\n",
       "      <td>Residential</td>\n",
       "      <td>Wed May 21 00:00:00 EDT 2008</td>\n",
       "      <td>91002</td>\n",
       "      <td>38.535092</td>\n",
       "      <td>-121.481367</td>\n",
       "    </tr>\n",
       "    <tr>\n",
       "      <th>8</th>\n",
       "      <td>11150 TRINITY RIVER DR Unit 114</td>\n",
       "      <td>RANCHO CORDOVA</td>\n",
       "      <td>95670</td>\n",
       "      <td>CA</td>\n",
       "      <td>2</td>\n",
       "      <td>2</td>\n",
       "      <td>941</td>\n",
       "      <td>Condo</td>\n",
       "      <td>Wed May 21 00:00:00 EDT 2008</td>\n",
       "      <td>94905</td>\n",
       "      <td>38.621188</td>\n",
       "      <td>-121.270555</td>\n",
       "    </tr>\n",
       "    <tr>\n",
       "      <th>9</th>\n",
       "      <td>7325 10TH ST</td>\n",
       "      <td>RIO LINDA</td>\n",
       "      <td>95673</td>\n",
       "      <td>CA</td>\n",
       "      <td>3</td>\n",
       "      <td>2</td>\n",
       "      <td>1146</td>\n",
       "      <td>Residential</td>\n",
       "      <td>Wed May 21 00:00:00 EDT 2008</td>\n",
       "      <td>98937</td>\n",
       "      <td>38.700909</td>\n",
       "      <td>-121.442979</td>\n",
       "    </tr>\n",
       "    <tr>\n",
       "      <th>10</th>\n",
       "      <td>645 MORRISON AVE</td>\n",
       "      <td>SACRAMENTO</td>\n",
       "      <td>95838</td>\n",
       "      <td>CA</td>\n",
       "      <td>3</td>\n",
       "      <td>2</td>\n",
       "      <td>909</td>\n",
       "      <td>Residential</td>\n",
       "      <td>Wed May 21 00:00:00 EDT 2008</td>\n",
       "      <td>100309</td>\n",
       "      <td>38.637663</td>\n",
       "      <td>-121.451520</td>\n",
       "    </tr>\n",
       "    <tr>\n",
       "      <th>11</th>\n",
       "      <td>4085 FAWN CIR</td>\n",
       "      <td>SACRAMENTO</td>\n",
       "      <td>95823</td>\n",
       "      <td>CA</td>\n",
       "      <td>3</td>\n",
       "      <td>2</td>\n",
       "      <td>1289</td>\n",
       "      <td>Residential</td>\n",
       "      <td>Wed May 21 00:00:00 EDT 2008</td>\n",
       "      <td>106250</td>\n",
       "      <td>38.470746</td>\n",
       "      <td>-121.458918</td>\n",
       "    </tr>\n",
       "    <tr>\n",
       "      <th>12</th>\n",
       "      <td>2930 LA ROSA RD</td>\n",
       "      <td>SACRAMENTO</td>\n",
       "      <td>95815</td>\n",
       "      <td>CA</td>\n",
       "      <td>1</td>\n",
       "      <td>1</td>\n",
       "      <td>871</td>\n",
       "      <td>Residential</td>\n",
       "      <td>Wed May 21 00:00:00 EDT 2008</td>\n",
       "      <td>106852</td>\n",
       "      <td>38.618698</td>\n",
       "      <td>-121.435833</td>\n",
       "    </tr>\n",
       "    <tr>\n",
       "      <th>13</th>\n",
       "      <td>2113 KIRK WAY</td>\n",
       "      <td>SACRAMENTO</td>\n",
       "      <td>95822</td>\n",
       "      <td>CA</td>\n",
       "      <td>3</td>\n",
       "      <td>1</td>\n",
       "      <td>1020</td>\n",
       "      <td>Residential</td>\n",
       "      <td>Wed May 21 00:00:00 EDT 2008</td>\n",
       "      <td>107502</td>\n",
       "      <td>38.482215</td>\n",
       "      <td>-121.492603</td>\n",
       "    </tr>\n",
       "    <tr>\n",
       "      <th>14</th>\n",
       "      <td>4533 LOCH HAVEN WAY</td>\n",
       "      <td>SACRAMENTO</td>\n",
       "      <td>95842</td>\n",
       "      <td>CA</td>\n",
       "      <td>2</td>\n",
       "      <td>2</td>\n",
       "      <td>1022</td>\n",
       "      <td>Residential</td>\n",
       "      <td>Wed May 21 00:00:00 EDT 2008</td>\n",
       "      <td>108750</td>\n",
       "      <td>38.672914</td>\n",
       "      <td>-121.359340</td>\n",
       "    </tr>\n",
       "    <tr>\n",
       "      <th>15</th>\n",
       "      <td>7340 HAMDEN PL</td>\n",
       "      <td>SACRAMENTO</td>\n",
       "      <td>95842</td>\n",
       "      <td>CA</td>\n",
       "      <td>2</td>\n",
       "      <td>2</td>\n",
       "      <td>1134</td>\n",
       "      <td>Condo</td>\n",
       "      <td>Wed May 21 00:00:00 EDT 2008</td>\n",
       "      <td>110700</td>\n",
       "      <td>38.700051</td>\n",
       "      <td>-121.351278</td>\n",
       "    </tr>\n",
       "    <tr>\n",
       "      <th>16</th>\n",
       "      <td>6715 6TH ST</td>\n",
       "      <td>RIO LINDA</td>\n",
       "      <td>95673</td>\n",
       "      <td>CA</td>\n",
       "      <td>2</td>\n",
       "      <td>1</td>\n",
       "      <td>844</td>\n",
       "      <td>Residential</td>\n",
       "      <td>Wed May 21 00:00:00 EDT 2008</td>\n",
       "      <td>113263</td>\n",
       "      <td>38.689591</td>\n",
       "      <td>-121.452239</td>\n",
       "    </tr>\n",
       "    <tr>\n",
       "      <th>17</th>\n",
       "      <td>6236 LONGFORD DR Unit 1</td>\n",
       "      <td>CITRUS HEIGHTS</td>\n",
       "      <td>95621</td>\n",
       "      <td>CA</td>\n",
       "      <td>2</td>\n",
       "      <td>1</td>\n",
       "      <td>795</td>\n",
       "      <td>Condo</td>\n",
       "      <td>Wed May 21 00:00:00 EDT 2008</td>\n",
       "      <td>116250</td>\n",
       "      <td>38.679776</td>\n",
       "      <td>-121.314089</td>\n",
       "    </tr>\n",
       "    <tr>\n",
       "      <th>18</th>\n",
       "      <td>250 PERALTA AVE</td>\n",
       "      <td>SACRAMENTO</td>\n",
       "      <td>95833</td>\n",
       "      <td>CA</td>\n",
       "      <td>2</td>\n",
       "      <td>1</td>\n",
       "      <td>588</td>\n",
       "      <td>Residential</td>\n",
       "      <td>Wed May 21 00:00:00 EDT 2008</td>\n",
       "      <td>120000</td>\n",
       "      <td>38.612099</td>\n",
       "      <td>-121.469095</td>\n",
       "    </tr>\n",
       "    <tr>\n",
       "      <th>19</th>\n",
       "      <td>113 LEEWILL AVE</td>\n",
       "      <td>RIO LINDA</td>\n",
       "      <td>95673</td>\n",
       "      <td>CA</td>\n",
       "      <td>3</td>\n",
       "      <td>2</td>\n",
       "      <td>1356</td>\n",
       "      <td>Residential</td>\n",
       "      <td>Wed May 21 00:00:00 EDT 2008</td>\n",
       "      <td>121630</td>\n",
       "      <td>38.689999</td>\n",
       "      <td>-121.463220</td>\n",
       "    </tr>\n",
       "    <tr>\n",
       "      <th>20</th>\n",
       "      <td>6118 STONEHAND AVE</td>\n",
       "      <td>CITRUS HEIGHTS</td>\n",
       "      <td>95621</td>\n",
       "      <td>CA</td>\n",
       "      <td>3</td>\n",
       "      <td>2</td>\n",
       "      <td>1118</td>\n",
       "      <td>Residential</td>\n",
       "      <td>Wed May 21 00:00:00 EDT 2008</td>\n",
       "      <td>122000</td>\n",
       "      <td>38.707851</td>\n",
       "      <td>-121.320707</td>\n",
       "    </tr>\n",
       "    <tr>\n",
       "      <th>21</th>\n",
       "      <td>4882 BANDALIN WAY</td>\n",
       "      <td>SACRAMENTO</td>\n",
       "      <td>95823</td>\n",
       "      <td>CA</td>\n",
       "      <td>4</td>\n",
       "      <td>2</td>\n",
       "      <td>1329</td>\n",
       "      <td>Residential</td>\n",
       "      <td>Wed May 21 00:00:00 EDT 2008</td>\n",
       "      <td>122682</td>\n",
       "      <td>38.468173</td>\n",
       "      <td>-121.444071</td>\n",
       "    </tr>\n",
       "    <tr>\n",
       "      <th>22</th>\n",
       "      <td>7511 OAKVALE CT</td>\n",
       "      <td>NORTH HIGHLANDS</td>\n",
       "      <td>95660</td>\n",
       "      <td>CA</td>\n",
       "      <td>4</td>\n",
       "      <td>2</td>\n",
       "      <td>1240</td>\n",
       "      <td>Residential</td>\n",
       "      <td>Wed May 21 00:00:00 EDT 2008</td>\n",
       "      <td>123000</td>\n",
       "      <td>38.702792</td>\n",
       "      <td>-121.382210</td>\n",
       "    </tr>\n",
       "    <tr>\n",
       "      <th>23</th>\n",
       "      <td>9 PASTURE CT</td>\n",
       "      <td>SACRAMENTO</td>\n",
       "      <td>95834</td>\n",
       "      <td>CA</td>\n",
       "      <td>3</td>\n",
       "      <td>2</td>\n",
       "      <td>1601</td>\n",
       "      <td>Residential</td>\n",
       "      <td>Wed May 21 00:00:00 EDT 2008</td>\n",
       "      <td>124100</td>\n",
       "      <td>38.628631</td>\n",
       "      <td>-121.488097</td>\n",
       "    </tr>\n",
       "    <tr>\n",
       "      <th>24</th>\n",
       "      <td>3729 BAINBRIDGE DR</td>\n",
       "      <td>NORTH HIGHLANDS</td>\n",
       "      <td>95660</td>\n",
       "      <td>CA</td>\n",
       "      <td>3</td>\n",
       "      <td>2</td>\n",
       "      <td>901</td>\n",
       "      <td>Residential</td>\n",
       "      <td>Wed May 21 00:00:00 EDT 2008</td>\n",
       "      <td>125000</td>\n",
       "      <td>38.701499</td>\n",
       "      <td>-121.376220</td>\n",
       "    </tr>\n",
       "    <tr>\n",
       "      <th>25</th>\n",
       "      <td>3828 BLACKFOOT WAY</td>\n",
       "      <td>ANTELOPE</td>\n",
       "      <td>95843</td>\n",
       "      <td>CA</td>\n",
       "      <td>3</td>\n",
       "      <td>2</td>\n",
       "      <td>1088</td>\n",
       "      <td>Residential</td>\n",
       "      <td>Wed May 21 00:00:00 EDT 2008</td>\n",
       "      <td>126640</td>\n",
       "      <td>38.709740</td>\n",
       "      <td>-121.373770</td>\n",
       "    </tr>\n",
       "    <tr>\n",
       "      <th>26</th>\n",
       "      <td>4108 NORTON WAY</td>\n",
       "      <td>SACRAMENTO</td>\n",
       "      <td>95820</td>\n",
       "      <td>CA</td>\n",
       "      <td>3</td>\n",
       "      <td>1</td>\n",
       "      <td>963</td>\n",
       "      <td>Residential</td>\n",
       "      <td>Wed May 21 00:00:00 EDT 2008</td>\n",
       "      <td>127281</td>\n",
       "      <td>38.537526</td>\n",
       "      <td>-121.478315</td>\n",
       "    </tr>\n",
       "    <tr>\n",
       "      <th>27</th>\n",
       "      <td>1469 JANRICK AVE</td>\n",
       "      <td>SACRAMENTO</td>\n",
       "      <td>95832</td>\n",
       "      <td>CA</td>\n",
       "      <td>3</td>\n",
       "      <td>2</td>\n",
       "      <td>1119</td>\n",
       "      <td>Residential</td>\n",
       "      <td>Wed May 21 00:00:00 EDT 2008</td>\n",
       "      <td>129000</td>\n",
       "      <td>38.476472</td>\n",
       "      <td>-121.501711</td>\n",
       "    </tr>\n",
       "    <tr>\n",
       "      <th>28</th>\n",
       "      <td>9861 CULP WAY</td>\n",
       "      <td>SACRAMENTO</td>\n",
       "      <td>95827</td>\n",
       "      <td>CA</td>\n",
       "      <td>4</td>\n",
       "      <td>2</td>\n",
       "      <td>1380</td>\n",
       "      <td>Residential</td>\n",
       "      <td>Wed May 21 00:00:00 EDT 2008</td>\n",
       "      <td>131200</td>\n",
       "      <td>38.558423</td>\n",
       "      <td>-121.327948</td>\n",
       "    </tr>\n",
       "    <tr>\n",
       "      <th>29</th>\n",
       "      <td>7825 CREEK VALLEY CIR</td>\n",
       "      <td>SACRAMENTO</td>\n",
       "      <td>95828</td>\n",
       "      <td>CA</td>\n",
       "      <td>3</td>\n",
       "      <td>2</td>\n",
       "      <td>1248</td>\n",
       "      <td>Residential</td>\n",
       "      <td>Wed May 21 00:00:00 EDT 2008</td>\n",
       "      <td>132000</td>\n",
       "      <td>38.472122</td>\n",
       "      <td>-121.404199</td>\n",
       "    </tr>\n",
       "    <tr>\n",
       "      <th>...</th>\n",
       "      <td>...</td>\n",
       "      <td>...</td>\n",
       "      <td>...</td>\n",
       "      <td>...</td>\n",
       "      <td>...</td>\n",
       "      <td>...</td>\n",
       "      <td>...</td>\n",
       "      <td>...</td>\n",
       "      <td>...</td>\n",
       "      <td>...</td>\n",
       "      <td>...</td>\n",
       "      <td>...</td>\n",
       "    </tr>\n",
       "    <tr>\n",
       "      <th>955</th>\n",
       "      <td>2100 BEATTY WAY</td>\n",
       "      <td>ROSEVILLE</td>\n",
       "      <td>95747</td>\n",
       "      <td>CA</td>\n",
       "      <td>3</td>\n",
       "      <td>2</td>\n",
       "      <td>1371</td>\n",
       "      <td>Residential</td>\n",
       "      <td>Thu May 15 00:00:00 EDT 2008</td>\n",
       "      <td>208250</td>\n",
       "      <td>38.737882</td>\n",
       "      <td>-121.308142</td>\n",
       "    </tr>\n",
       "    <tr>\n",
       "      <th>956</th>\n",
       "      <td>6920 GILLINGHAM WAY</td>\n",
       "      <td>NORTH HIGHLANDS</td>\n",
       "      <td>95660</td>\n",
       "      <td>CA</td>\n",
       "      <td>3</td>\n",
       "      <td>1</td>\n",
       "      <td>1310</td>\n",
       "      <td>Residential</td>\n",
       "      <td>Thu May 15 00:00:00 EDT 2008</td>\n",
       "      <td>208318</td>\n",
       "      <td>38.694279</td>\n",
       "      <td>-121.373395</td>\n",
       "    </tr>\n",
       "    <tr>\n",
       "      <th>957</th>\n",
       "      <td>82 WILDFLOWER DR</td>\n",
       "      <td>GALT</td>\n",
       "      <td>95632</td>\n",
       "      <td>CA</td>\n",
       "      <td>3</td>\n",
       "      <td>2</td>\n",
       "      <td>1262</td>\n",
       "      <td>Residential</td>\n",
       "      <td>Thu May 15 00:00:00 EDT 2008</td>\n",
       "      <td>209347</td>\n",
       "      <td>38.259708</td>\n",
       "      <td>-121.311616</td>\n",
       "    </tr>\n",
       "    <tr>\n",
       "      <th>958</th>\n",
       "      <td>8652 BANTON CIR</td>\n",
       "      <td>ELK GROVE</td>\n",
       "      <td>95624</td>\n",
       "      <td>CA</td>\n",
       "      <td>4</td>\n",
       "      <td>2</td>\n",
       "      <td>1740</td>\n",
       "      <td>Residential</td>\n",
       "      <td>Thu May 15 00:00:00 EDT 2008</td>\n",
       "      <td>211500</td>\n",
       "      <td>38.444000</td>\n",
       "      <td>-121.370993</td>\n",
       "    </tr>\n",
       "    <tr>\n",
       "      <th>959</th>\n",
       "      <td>8428 MISTY PASS WAY</td>\n",
       "      <td>ANTELOPE</td>\n",
       "      <td>95843</td>\n",
       "      <td>CA</td>\n",
       "      <td>3</td>\n",
       "      <td>2</td>\n",
       "      <td>1517</td>\n",
       "      <td>Residential</td>\n",
       "      <td>Thu May 15 00:00:00 EDT 2008</td>\n",
       "      <td>212000</td>\n",
       "      <td>38.722959</td>\n",
       "      <td>-121.347115</td>\n",
       "    </tr>\n",
       "    <tr>\n",
       "      <th>960</th>\n",
       "      <td>7958 ROSEVIEW WAY</td>\n",
       "      <td>SACRAMENTO</td>\n",
       "      <td>95828</td>\n",
       "      <td>CA</td>\n",
       "      <td>3</td>\n",
       "      <td>2</td>\n",
       "      <td>1450</td>\n",
       "      <td>Residential</td>\n",
       "      <td>Thu May 15 00:00:00 EDT 2008</td>\n",
       "      <td>213000</td>\n",
       "      <td>38.467836</td>\n",
       "      <td>-121.410366</td>\n",
       "    </tr>\n",
       "    <tr>\n",
       "      <th>961</th>\n",
       "      <td>9020 LUKEN CT</td>\n",
       "      <td>ELK GROVE</td>\n",
       "      <td>95624</td>\n",
       "      <td>CA</td>\n",
       "      <td>3</td>\n",
       "      <td>2</td>\n",
       "      <td>1416</td>\n",
       "      <td>Residential</td>\n",
       "      <td>Thu May 15 00:00:00 EDT 2008</td>\n",
       "      <td>216000</td>\n",
       "      <td>38.451398</td>\n",
       "      <td>-121.366614</td>\n",
       "    </tr>\n",
       "    <tr>\n",
       "      <th>962</th>\n",
       "      <td>7809 VALLECITOS WAY</td>\n",
       "      <td>SACRAMENTO</td>\n",
       "      <td>95828</td>\n",
       "      <td>CA</td>\n",
       "      <td>3</td>\n",
       "      <td>1</td>\n",
       "      <td>888</td>\n",
       "      <td>Residential</td>\n",
       "      <td>Thu May 15 00:00:00 EDT 2008</td>\n",
       "      <td>216021</td>\n",
       "      <td>38.508217</td>\n",
       "      <td>-121.411207</td>\n",
       "    </tr>\n",
       "    <tr>\n",
       "      <th>963</th>\n",
       "      <td>8445 OLD AUBURN RD</td>\n",
       "      <td>CITRUS HEIGHTS</td>\n",
       "      <td>95610</td>\n",
       "      <td>CA</td>\n",
       "      <td>3</td>\n",
       "      <td>2</td>\n",
       "      <td>1882</td>\n",
       "      <td>Residential</td>\n",
       "      <td>Thu May 15 00:00:00 EDT 2008</td>\n",
       "      <td>219000</td>\n",
       "      <td>38.715423</td>\n",
       "      <td>-121.246743</td>\n",
       "    </tr>\n",
       "    <tr>\n",
       "      <th>964</th>\n",
       "      <td>10085 ATKINS DR</td>\n",
       "      <td>ELK GROVE</td>\n",
       "      <td>95757</td>\n",
       "      <td>CA</td>\n",
       "      <td>3</td>\n",
       "      <td>2</td>\n",
       "      <td>1302</td>\n",
       "      <td>Residential</td>\n",
       "      <td>Thu May 15 00:00:00 EDT 2008</td>\n",
       "      <td>219794</td>\n",
       "      <td>38.390893</td>\n",
       "      <td>-121.437821</td>\n",
       "    </tr>\n",
       "    <tr>\n",
       "      <th>965</th>\n",
       "      <td>9185 CERROLINDA CIR</td>\n",
       "      <td>ELK GROVE</td>\n",
       "      <td>95758</td>\n",
       "      <td>CA</td>\n",
       "      <td>3</td>\n",
       "      <td>2</td>\n",
       "      <td>1418</td>\n",
       "      <td>Residential</td>\n",
       "      <td>Thu May 15 00:00:00 EDT 2008</td>\n",
       "      <td>220000</td>\n",
       "      <td>38.424497</td>\n",
       "      <td>-121.426595</td>\n",
       "    </tr>\n",
       "    <tr>\n",
       "      <th>966</th>\n",
       "      <td>9197 CORTINA CIR</td>\n",
       "      <td>ROSEVILLE</td>\n",
       "      <td>95678</td>\n",
       "      <td>CA</td>\n",
       "      <td>3</td>\n",
       "      <td>2</td>\n",
       "      <td>0</td>\n",
       "      <td>Condo</td>\n",
       "      <td>Thu May 15 00:00:00 EDT 2008</td>\n",
       "      <td>220000</td>\n",
       "      <td>38.793152</td>\n",
       "      <td>-121.290025</td>\n",
       "    </tr>\n",
       "    <tr>\n",
       "      <th>967</th>\n",
       "      <td>5429 HESPER WAY</td>\n",
       "      <td>CARMICHAEL</td>\n",
       "      <td>95608</td>\n",
       "      <td>CA</td>\n",
       "      <td>4</td>\n",
       "      <td>2</td>\n",
       "      <td>1319</td>\n",
       "      <td>Residential</td>\n",
       "      <td>Thu May 15 00:00:00 EDT 2008</td>\n",
       "      <td>220000</td>\n",
       "      <td>38.665104</td>\n",
       "      <td>-121.315901</td>\n",
       "    </tr>\n",
       "    <tr>\n",
       "      <th>968</th>\n",
       "      <td>1178 WARMWOOD CT</td>\n",
       "      <td>GALT</td>\n",
       "      <td>95632</td>\n",
       "      <td>CA</td>\n",
       "      <td>4</td>\n",
       "      <td>2</td>\n",
       "      <td>1770</td>\n",
       "      <td>Residential</td>\n",
       "      <td>Thu May 15 00:00:00 EDT 2008</td>\n",
       "      <td>220000</td>\n",
       "      <td>38.289544</td>\n",
       "      <td>-121.284607</td>\n",
       "    </tr>\n",
       "    <tr>\n",
       "      <th>969</th>\n",
       "      <td>4900 ELUDE CT</td>\n",
       "      <td>SACRAMENTO</td>\n",
       "      <td>95842</td>\n",
       "      <td>CA</td>\n",
       "      <td>4</td>\n",
       "      <td>2</td>\n",
       "      <td>1627</td>\n",
       "      <td>Residential</td>\n",
       "      <td>Thu May 15 00:00:00 EDT 2008</td>\n",
       "      <td>223000</td>\n",
       "      <td>38.696740</td>\n",
       "      <td>-121.350519</td>\n",
       "    </tr>\n",
       "    <tr>\n",
       "      <th>970</th>\n",
       "      <td>3557 SODA WAY</td>\n",
       "      <td>SACRAMENTO</td>\n",
       "      <td>95834</td>\n",
       "      <td>CA</td>\n",
       "      <td>0</td>\n",
       "      <td>0</td>\n",
       "      <td>0</td>\n",
       "      <td>Residential</td>\n",
       "      <td>Thu May 15 00:00:00 EDT 2008</td>\n",
       "      <td>224000</td>\n",
       "      <td>38.631026</td>\n",
       "      <td>-121.501879</td>\n",
       "    </tr>\n",
       "    <tr>\n",
       "      <th>971</th>\n",
       "      <td>3528 SAINT GEORGE DR</td>\n",
       "      <td>SACRAMENTO</td>\n",
       "      <td>95821</td>\n",
       "      <td>CA</td>\n",
       "      <td>3</td>\n",
       "      <td>1</td>\n",
       "      <td>1040</td>\n",
       "      <td>Residential</td>\n",
       "      <td>Thu May 15 00:00:00 EDT 2008</td>\n",
       "      <td>224000</td>\n",
       "      <td>38.629468</td>\n",
       "      <td>-121.376445</td>\n",
       "    </tr>\n",
       "    <tr>\n",
       "      <th>972</th>\n",
       "      <td>7381 WASHBURN WAY</td>\n",
       "      <td>NORTH HIGHLANDS</td>\n",
       "      <td>95660</td>\n",
       "      <td>CA</td>\n",
       "      <td>3</td>\n",
       "      <td>1</td>\n",
       "      <td>960</td>\n",
       "      <td>Residential</td>\n",
       "      <td>Thu May 15 00:00:00 EDT 2008</td>\n",
       "      <td>224252</td>\n",
       "      <td>38.703550</td>\n",
       "      <td>-121.375103</td>\n",
       "    </tr>\n",
       "    <tr>\n",
       "      <th>973</th>\n",
       "      <td>2181 WINTERHAVEN CIR</td>\n",
       "      <td>CAMERON PARK</td>\n",
       "      <td>95682</td>\n",
       "      <td>CA</td>\n",
       "      <td>3</td>\n",
       "      <td>2</td>\n",
       "      <td>0</td>\n",
       "      <td>Residential</td>\n",
       "      <td>Thu May 15 00:00:00 EDT 2008</td>\n",
       "      <td>224500</td>\n",
       "      <td>38.697570</td>\n",
       "      <td>-120.995739</td>\n",
       "    </tr>\n",
       "    <tr>\n",
       "      <th>974</th>\n",
       "      <td>7540 HICKORY AVE</td>\n",
       "      <td>ORANGEVALE</td>\n",
       "      <td>95662</td>\n",
       "      <td>CA</td>\n",
       "      <td>3</td>\n",
       "      <td>1</td>\n",
       "      <td>1456</td>\n",
       "      <td>Residential</td>\n",
       "      <td>Thu May 15 00:00:00 EDT 2008</td>\n",
       "      <td>225000</td>\n",
       "      <td>38.703056</td>\n",
       "      <td>-121.235221</td>\n",
       "    </tr>\n",
       "    <tr>\n",
       "      <th>975</th>\n",
       "      <td>5024 CHAMBERLIN CIR</td>\n",
       "      <td>ELK GROVE</td>\n",
       "      <td>95757</td>\n",
       "      <td>CA</td>\n",
       "      <td>3</td>\n",
       "      <td>2</td>\n",
       "      <td>1450</td>\n",
       "      <td>Residential</td>\n",
       "      <td>Thu May 15 00:00:00 EDT 2008</td>\n",
       "      <td>228000</td>\n",
       "      <td>38.389756</td>\n",
       "      <td>-121.446246</td>\n",
       "    </tr>\n",
       "    <tr>\n",
       "      <th>976</th>\n",
       "      <td>2400 INVERNESS DR</td>\n",
       "      <td>LINCOLN</td>\n",
       "      <td>95648</td>\n",
       "      <td>CA</td>\n",
       "      <td>3</td>\n",
       "      <td>2</td>\n",
       "      <td>1358</td>\n",
       "      <td>Residential</td>\n",
       "      <td>Thu May 15 00:00:00 EDT 2008</td>\n",
       "      <td>229027</td>\n",
       "      <td>38.897814</td>\n",
       "      <td>-121.324691</td>\n",
       "    </tr>\n",
       "    <tr>\n",
       "      <th>977</th>\n",
       "      <td>5 BISHOPGATE CT</td>\n",
       "      <td>SACRAMENTO</td>\n",
       "      <td>95823</td>\n",
       "      <td>CA</td>\n",
       "      <td>4</td>\n",
       "      <td>2</td>\n",
       "      <td>1329</td>\n",
       "      <td>Residential</td>\n",
       "      <td>Thu May 15 00:00:00 EDT 2008</td>\n",
       "      <td>229500</td>\n",
       "      <td>38.467936</td>\n",
       "      <td>-121.445477</td>\n",
       "    </tr>\n",
       "    <tr>\n",
       "      <th>978</th>\n",
       "      <td>5601 REXLEIGH DR</td>\n",
       "      <td>SACRAMENTO</td>\n",
       "      <td>95823</td>\n",
       "      <td>CA</td>\n",
       "      <td>4</td>\n",
       "      <td>2</td>\n",
       "      <td>1715</td>\n",
       "      <td>Residential</td>\n",
       "      <td>Thu May 15 00:00:00 EDT 2008</td>\n",
       "      <td>230000</td>\n",
       "      <td>38.445342</td>\n",
       "      <td>-121.441504</td>\n",
       "    </tr>\n",
       "    <tr>\n",
       "      <th>979</th>\n",
       "      <td>1909 YARNELL WAY</td>\n",
       "      <td>ELK GROVE</td>\n",
       "      <td>95758</td>\n",
       "      <td>CA</td>\n",
       "      <td>3</td>\n",
       "      <td>2</td>\n",
       "      <td>1262</td>\n",
       "      <td>Residential</td>\n",
       "      <td>Thu May 15 00:00:00 EDT 2008</td>\n",
       "      <td>230000</td>\n",
       "      <td>38.417382</td>\n",
       "      <td>-121.484325</td>\n",
       "    </tr>\n",
       "    <tr>\n",
       "      <th>980</th>\n",
       "      <td>9169 GARLINGTON CT</td>\n",
       "      <td>SACRAMENTO</td>\n",
       "      <td>95829</td>\n",
       "      <td>CA</td>\n",
       "      <td>4</td>\n",
       "      <td>3</td>\n",
       "      <td>2280</td>\n",
       "      <td>Residential</td>\n",
       "      <td>Thu May 15 00:00:00 EDT 2008</td>\n",
       "      <td>232425</td>\n",
       "      <td>38.457679</td>\n",
       "      <td>-121.359620</td>\n",
       "    </tr>\n",
       "    <tr>\n",
       "      <th>981</th>\n",
       "      <td>6932 RUSKUT WAY</td>\n",
       "      <td>SACRAMENTO</td>\n",
       "      <td>95823</td>\n",
       "      <td>CA</td>\n",
       "      <td>3</td>\n",
       "      <td>2</td>\n",
       "      <td>1477</td>\n",
       "      <td>Residential</td>\n",
       "      <td>Thu May 15 00:00:00 EDT 2008</td>\n",
       "      <td>234000</td>\n",
       "      <td>38.499893</td>\n",
       "      <td>-121.458890</td>\n",
       "    </tr>\n",
       "    <tr>\n",
       "      <th>982</th>\n",
       "      <td>7933 DAFFODIL WAY</td>\n",
       "      <td>CITRUS HEIGHTS</td>\n",
       "      <td>95610</td>\n",
       "      <td>CA</td>\n",
       "      <td>3</td>\n",
       "      <td>2</td>\n",
       "      <td>1216</td>\n",
       "      <td>Residential</td>\n",
       "      <td>Thu May 15 00:00:00 EDT 2008</td>\n",
       "      <td>235000</td>\n",
       "      <td>38.708824</td>\n",
       "      <td>-121.256803</td>\n",
       "    </tr>\n",
       "    <tr>\n",
       "      <th>983</th>\n",
       "      <td>8304 RED FOX WAY</td>\n",
       "      <td>ELK GROVE</td>\n",
       "      <td>95758</td>\n",
       "      <td>CA</td>\n",
       "      <td>4</td>\n",
       "      <td>2</td>\n",
       "      <td>1685</td>\n",
       "      <td>Residential</td>\n",
       "      <td>Thu May 15 00:00:00 EDT 2008</td>\n",
       "      <td>235301</td>\n",
       "      <td>38.417000</td>\n",
       "      <td>-121.397424</td>\n",
       "    </tr>\n",
       "    <tr>\n",
       "      <th>984</th>\n",
       "      <td>3882 YELLOWSTONE LN</td>\n",
       "      <td>EL DORADO HILLS</td>\n",
       "      <td>95762</td>\n",
       "      <td>CA</td>\n",
       "      <td>3</td>\n",
       "      <td>2</td>\n",
       "      <td>1362</td>\n",
       "      <td>Residential</td>\n",
       "      <td>Thu May 15 00:00:00 EDT 2008</td>\n",
       "      <td>235738</td>\n",
       "      <td>38.655245</td>\n",
       "      <td>-121.075915</td>\n",
       "    </tr>\n",
       "  </tbody>\n",
       "</table>\n",
       "<p>985 rows × 12 columns</p>\n",
       "</div>"
      ],
      "text/plain": [
       "                              street             city    zip state  beds  \\\n",
       "0                       3526 HIGH ST       SACRAMENTO  95838    CA     2   \n",
       "1                        51 OMAHA CT       SACRAMENTO  95823    CA     3   \n",
       "2                     2796 BRANCH ST       SACRAMENTO  95815    CA     2   \n",
       "3                   2805 JANETTE WAY       SACRAMENTO  95815    CA     2   \n",
       "4                    6001 MCMAHON DR       SACRAMENTO  95824    CA     2   \n",
       "5                 5828 PEPPERMILL CT       SACRAMENTO  95841    CA     3   \n",
       "6                6048 OGDEN NASH WAY       SACRAMENTO  95842    CA     3   \n",
       "7                      2561 19TH AVE       SACRAMENTO  95820    CA     3   \n",
       "8    11150 TRINITY RIVER DR Unit 114   RANCHO CORDOVA  95670    CA     2   \n",
       "9                       7325 10TH ST        RIO LINDA  95673    CA     3   \n",
       "10                  645 MORRISON AVE       SACRAMENTO  95838    CA     3   \n",
       "11                     4085 FAWN CIR       SACRAMENTO  95823    CA     3   \n",
       "12                   2930 LA ROSA RD       SACRAMENTO  95815    CA     1   \n",
       "13                     2113 KIRK WAY       SACRAMENTO  95822    CA     3   \n",
       "14               4533 LOCH HAVEN WAY       SACRAMENTO  95842    CA     2   \n",
       "15                    7340 HAMDEN PL       SACRAMENTO  95842    CA     2   \n",
       "16                       6715 6TH ST        RIO LINDA  95673    CA     2   \n",
       "17           6236 LONGFORD DR Unit 1   CITRUS HEIGHTS  95621    CA     2   \n",
       "18                   250 PERALTA AVE       SACRAMENTO  95833    CA     2   \n",
       "19                   113 LEEWILL AVE        RIO LINDA  95673    CA     3   \n",
       "20                6118 STONEHAND AVE   CITRUS HEIGHTS  95621    CA     3   \n",
       "21                 4882 BANDALIN WAY       SACRAMENTO  95823    CA     4   \n",
       "22                   7511 OAKVALE CT  NORTH HIGHLANDS  95660    CA     4   \n",
       "23                      9 PASTURE CT       SACRAMENTO  95834    CA     3   \n",
       "24                3729 BAINBRIDGE DR  NORTH HIGHLANDS  95660    CA     3   \n",
       "25                3828 BLACKFOOT WAY         ANTELOPE  95843    CA     3   \n",
       "26                   4108 NORTON WAY       SACRAMENTO  95820    CA     3   \n",
       "27                  1469 JANRICK AVE       SACRAMENTO  95832    CA     3   \n",
       "28                     9861 CULP WAY       SACRAMENTO  95827    CA     4   \n",
       "29             7825 CREEK VALLEY CIR       SACRAMENTO  95828    CA     3   \n",
       "..                               ...              ...    ...   ...   ...   \n",
       "955                  2100 BEATTY WAY        ROSEVILLE  95747    CA     3   \n",
       "956              6920 GILLINGHAM WAY  NORTH HIGHLANDS  95660    CA     3   \n",
       "957                 82 WILDFLOWER DR             GALT  95632    CA     3   \n",
       "958                  8652 BANTON CIR        ELK GROVE  95624    CA     4   \n",
       "959              8428 MISTY PASS WAY         ANTELOPE  95843    CA     3   \n",
       "960                7958 ROSEVIEW WAY       SACRAMENTO  95828    CA     3   \n",
       "961                    9020 LUKEN CT        ELK GROVE  95624    CA     3   \n",
       "962              7809 VALLECITOS WAY       SACRAMENTO  95828    CA     3   \n",
       "963               8445 OLD AUBURN RD   CITRUS HEIGHTS  95610    CA     3   \n",
       "964                  10085 ATKINS DR        ELK GROVE  95757    CA     3   \n",
       "965              9185 CERROLINDA CIR        ELK GROVE  95758    CA     3   \n",
       "966                 9197 CORTINA CIR        ROSEVILLE  95678    CA     3   \n",
       "967                  5429 HESPER WAY       CARMICHAEL  95608    CA     4   \n",
       "968                 1178 WARMWOOD CT             GALT  95632    CA     4   \n",
       "969                    4900 ELUDE CT       SACRAMENTO  95842    CA     4   \n",
       "970                    3557 SODA WAY       SACRAMENTO  95834    CA     0   \n",
       "971             3528 SAINT GEORGE DR       SACRAMENTO  95821    CA     3   \n",
       "972                7381 WASHBURN WAY  NORTH HIGHLANDS  95660    CA     3   \n",
       "973             2181 WINTERHAVEN CIR     CAMERON PARK  95682    CA     3   \n",
       "974                 7540 HICKORY AVE       ORANGEVALE  95662    CA     3   \n",
       "975              5024 CHAMBERLIN CIR        ELK GROVE  95757    CA     3   \n",
       "976                2400 INVERNESS DR          LINCOLN  95648    CA     3   \n",
       "977                  5 BISHOPGATE CT       SACRAMENTO  95823    CA     4   \n",
       "978                 5601 REXLEIGH DR       SACRAMENTO  95823    CA     4   \n",
       "979                 1909 YARNELL WAY        ELK GROVE  95758    CA     3   \n",
       "980               9169 GARLINGTON CT       SACRAMENTO  95829    CA     4   \n",
       "981                  6932 RUSKUT WAY       SACRAMENTO  95823    CA     3   \n",
       "982                7933 DAFFODIL WAY   CITRUS HEIGHTS  95610    CA     3   \n",
       "983                 8304 RED FOX WAY        ELK GROVE  95758    CA     4   \n",
       "984              3882 YELLOWSTONE LN  EL DORADO HILLS  95762    CA     3   \n",
       "\n",
       "     baths  sq__ft         type                     sale_date   price  \\\n",
       "0        1     836  Residential  Wed May 21 00:00:00 EDT 2008   59222   \n",
       "1        1    1167  Residential  Wed May 21 00:00:00 EDT 2008   68212   \n",
       "2        1     796  Residential  Wed May 21 00:00:00 EDT 2008   68880   \n",
       "3        1     852  Residential  Wed May 21 00:00:00 EDT 2008   69307   \n",
       "4        1     797  Residential  Wed May 21 00:00:00 EDT 2008   81900   \n",
       "5        1    1122        Condo  Wed May 21 00:00:00 EDT 2008   89921   \n",
       "6        2    1104  Residential  Wed May 21 00:00:00 EDT 2008   90895   \n",
       "7        1    1177  Residential  Wed May 21 00:00:00 EDT 2008   91002   \n",
       "8        2     941        Condo  Wed May 21 00:00:00 EDT 2008   94905   \n",
       "9        2    1146  Residential  Wed May 21 00:00:00 EDT 2008   98937   \n",
       "10       2     909  Residential  Wed May 21 00:00:00 EDT 2008  100309   \n",
       "11       2    1289  Residential  Wed May 21 00:00:00 EDT 2008  106250   \n",
       "12       1     871  Residential  Wed May 21 00:00:00 EDT 2008  106852   \n",
       "13       1    1020  Residential  Wed May 21 00:00:00 EDT 2008  107502   \n",
       "14       2    1022  Residential  Wed May 21 00:00:00 EDT 2008  108750   \n",
       "15       2    1134        Condo  Wed May 21 00:00:00 EDT 2008  110700   \n",
       "16       1     844  Residential  Wed May 21 00:00:00 EDT 2008  113263   \n",
       "17       1     795        Condo  Wed May 21 00:00:00 EDT 2008  116250   \n",
       "18       1     588  Residential  Wed May 21 00:00:00 EDT 2008  120000   \n",
       "19       2    1356  Residential  Wed May 21 00:00:00 EDT 2008  121630   \n",
       "20       2    1118  Residential  Wed May 21 00:00:00 EDT 2008  122000   \n",
       "21       2    1329  Residential  Wed May 21 00:00:00 EDT 2008  122682   \n",
       "22       2    1240  Residential  Wed May 21 00:00:00 EDT 2008  123000   \n",
       "23       2    1601  Residential  Wed May 21 00:00:00 EDT 2008  124100   \n",
       "24       2     901  Residential  Wed May 21 00:00:00 EDT 2008  125000   \n",
       "25       2    1088  Residential  Wed May 21 00:00:00 EDT 2008  126640   \n",
       "26       1     963  Residential  Wed May 21 00:00:00 EDT 2008  127281   \n",
       "27       2    1119  Residential  Wed May 21 00:00:00 EDT 2008  129000   \n",
       "28       2    1380  Residential  Wed May 21 00:00:00 EDT 2008  131200   \n",
       "29       2    1248  Residential  Wed May 21 00:00:00 EDT 2008  132000   \n",
       "..     ...     ...          ...                           ...     ...   \n",
       "955      2    1371  Residential  Thu May 15 00:00:00 EDT 2008  208250   \n",
       "956      1    1310  Residential  Thu May 15 00:00:00 EDT 2008  208318   \n",
       "957      2    1262  Residential  Thu May 15 00:00:00 EDT 2008  209347   \n",
       "958      2    1740  Residential  Thu May 15 00:00:00 EDT 2008  211500   \n",
       "959      2    1517  Residential  Thu May 15 00:00:00 EDT 2008  212000   \n",
       "960      2    1450  Residential  Thu May 15 00:00:00 EDT 2008  213000   \n",
       "961      2    1416  Residential  Thu May 15 00:00:00 EDT 2008  216000   \n",
       "962      1     888  Residential  Thu May 15 00:00:00 EDT 2008  216021   \n",
       "963      2    1882  Residential  Thu May 15 00:00:00 EDT 2008  219000   \n",
       "964      2    1302  Residential  Thu May 15 00:00:00 EDT 2008  219794   \n",
       "965      2    1418  Residential  Thu May 15 00:00:00 EDT 2008  220000   \n",
       "966      2       0        Condo  Thu May 15 00:00:00 EDT 2008  220000   \n",
       "967      2    1319  Residential  Thu May 15 00:00:00 EDT 2008  220000   \n",
       "968      2    1770  Residential  Thu May 15 00:00:00 EDT 2008  220000   \n",
       "969      2    1627  Residential  Thu May 15 00:00:00 EDT 2008  223000   \n",
       "970      0       0  Residential  Thu May 15 00:00:00 EDT 2008  224000   \n",
       "971      1    1040  Residential  Thu May 15 00:00:00 EDT 2008  224000   \n",
       "972      1     960  Residential  Thu May 15 00:00:00 EDT 2008  224252   \n",
       "973      2       0  Residential  Thu May 15 00:00:00 EDT 2008  224500   \n",
       "974      1    1456  Residential  Thu May 15 00:00:00 EDT 2008  225000   \n",
       "975      2    1450  Residential  Thu May 15 00:00:00 EDT 2008  228000   \n",
       "976      2    1358  Residential  Thu May 15 00:00:00 EDT 2008  229027   \n",
       "977      2    1329  Residential  Thu May 15 00:00:00 EDT 2008  229500   \n",
       "978      2    1715  Residential  Thu May 15 00:00:00 EDT 2008  230000   \n",
       "979      2    1262  Residential  Thu May 15 00:00:00 EDT 2008  230000   \n",
       "980      3    2280  Residential  Thu May 15 00:00:00 EDT 2008  232425   \n",
       "981      2    1477  Residential  Thu May 15 00:00:00 EDT 2008  234000   \n",
       "982      2    1216  Residential  Thu May 15 00:00:00 EDT 2008  235000   \n",
       "983      2    1685  Residential  Thu May 15 00:00:00 EDT 2008  235301   \n",
       "984      2    1362  Residential  Thu May 15 00:00:00 EDT 2008  235738   \n",
       "\n",
       "      latitude   longitude  \n",
       "0    38.631913 -121.434879  \n",
       "1    38.478902 -121.431028  \n",
       "2    38.618305 -121.443839  \n",
       "3    38.616835 -121.439146  \n",
       "4    38.519470 -121.435768  \n",
       "5    38.662595 -121.327813  \n",
       "6    38.681659 -121.351705  \n",
       "7    38.535092 -121.481367  \n",
       "8    38.621188 -121.270555  \n",
       "9    38.700909 -121.442979  \n",
       "10   38.637663 -121.451520  \n",
       "11   38.470746 -121.458918  \n",
       "12   38.618698 -121.435833  \n",
       "13   38.482215 -121.492603  \n",
       "14   38.672914 -121.359340  \n",
       "15   38.700051 -121.351278  \n",
       "16   38.689591 -121.452239  \n",
       "17   38.679776 -121.314089  \n",
       "18   38.612099 -121.469095  \n",
       "19   38.689999 -121.463220  \n",
       "20   38.707851 -121.320707  \n",
       "21   38.468173 -121.444071  \n",
       "22   38.702792 -121.382210  \n",
       "23   38.628631 -121.488097  \n",
       "24   38.701499 -121.376220  \n",
       "25   38.709740 -121.373770  \n",
       "26   38.537526 -121.478315  \n",
       "27   38.476472 -121.501711  \n",
       "28   38.558423 -121.327948  \n",
       "29   38.472122 -121.404199  \n",
       "..         ...         ...  \n",
       "955  38.737882 -121.308142  \n",
       "956  38.694279 -121.373395  \n",
       "957  38.259708 -121.311616  \n",
       "958  38.444000 -121.370993  \n",
       "959  38.722959 -121.347115  \n",
       "960  38.467836 -121.410366  \n",
       "961  38.451398 -121.366614  \n",
       "962  38.508217 -121.411207  \n",
       "963  38.715423 -121.246743  \n",
       "964  38.390893 -121.437821  \n",
       "965  38.424497 -121.426595  \n",
       "966  38.793152 -121.290025  \n",
       "967  38.665104 -121.315901  \n",
       "968  38.289544 -121.284607  \n",
       "969  38.696740 -121.350519  \n",
       "970  38.631026 -121.501879  \n",
       "971  38.629468 -121.376445  \n",
       "972  38.703550 -121.375103  \n",
       "973  38.697570 -120.995739  \n",
       "974  38.703056 -121.235221  \n",
       "975  38.389756 -121.446246  \n",
       "976  38.897814 -121.324691  \n",
       "977  38.467936 -121.445477  \n",
       "978  38.445342 -121.441504  \n",
       "979  38.417382 -121.484325  \n",
       "980  38.457679 -121.359620  \n",
       "981  38.499893 -121.458890  \n",
       "982  38.708824 -121.256803  \n",
       "983  38.417000 -121.397424  \n",
       "984  38.655245 -121.075915  \n",
       "\n",
       "[985 rows x 12 columns]"
      ]
     },
     "execution_count": 96,
     "metadata": {},
     "output_type": "execute_result"
    }
   ],
   "source": [
    "pd.read_csv('./datasets/real_estate.csv')"
   ]
  },
  {
   "cell_type": "markdown",
   "metadata": {},
   "source": [
    "#### Output"
   ]
  },
  {
   "cell_type": "markdown",
   "metadata": {},
   "source": [
    "You can also, just as easily, save your `DataFrames`"
   ]
  },
  {
   "cell_type": "code",
   "execution_count": 97,
   "metadata": {},
   "outputs": [],
   "source": [
    "dfd.to_csv('./datasets/some_file.csv')"
   ]
  },
  {
   "cell_type": "markdown",
   "metadata": {},
   "source": [
    "**NOTE: **You can always put a filename in the function above to have it save to file...I just didn't feel like it."
   ]
  },
  {
   "cell_type": "markdown",
   "metadata": {},
   "source": [
    "### Excel Files"
   ]
  },
  {
   "cell_type": "markdown",
   "metadata": {},
   "source": [
    "#### Input"
   ]
  },
  {
   "cell_type": "code",
   "execution_count": null,
   "metadata": {},
   "outputs": [],
   "source": [
    "pd.read_excel('./datasets/sample_excel.xlsx').head()"
   ]
  },
  {
   "cell_type": "markdown",
   "metadata": {},
   "source": [
    "#### Output"
   ]
  },
  {
   "cell_type": "code",
   "execution_count": null,
   "metadata": {},
   "outputs": [],
   "source": [
    "excel_writer = pd.ExcelWriter('./datasets/excel_output.xlsx')\n",
    "dfd.to_excel(excel_writer, 'Sheet1')"
   ]
  },
  {
   "cell_type": "markdown",
   "metadata": {},
   "source": [
    "### TSV Files"
   ]
  },
  {
   "cell_type": "markdown",
   "metadata": {},
   "source": [
    "#### Input"
   ]
  },
  {
   "cell_type": "code",
   "execution_count": null,
   "metadata": {},
   "outputs": [],
   "source": [
    "pd.read_table('./datasets/sample_tsv.tsv').tail()"
   ]
  },
  {
   "cell_type": "markdown",
   "metadata": {},
   "source": [
    "### Clipboard"
   ]
  },
  {
   "cell_type": "markdown",
   "metadata": {},
   "source": [
    "#### Copy"
   ]
  },
  {
   "cell_type": "code",
   "execution_count": null,
   "metadata": {},
   "outputs": [],
   "source": [
    "dfd.to_clipboard()"
   ]
  },
  {
   "cell_type": "code",
   "execution_count": null,
   "metadata": {},
   "outputs": [],
   "source": [
    "# Paste here\n"
   ]
  },
  {
   "cell_type": "markdown",
   "metadata": {},
   "source": [
    "#### Paste"
   ]
  },
  {
   "cell_type": "code",
   "execution_count": null,
   "metadata": {},
   "outputs": [],
   "source": [
    "pd.read_clipboard()"
   ]
  },
  {
   "cell_type": "markdown",
   "metadata": {},
   "source": [
    "### SQLite"
   ]
  },
  {
   "cell_type": "code",
   "execution_count": null,
   "metadata": {},
   "outputs": [],
   "source": [
    "import sqlite3"
   ]
  },
  {
   "cell_type": "code",
   "execution_count": null,
   "metadata": {},
   "outputs": [],
   "source": [
    "conn = sqlite3.connect('./datasets/flights.db')\n",
    "sql_df = pd.read_sql('SELECT * FROM airlines LIMIT 10;', conn)\n",
    "sql_df"
   ]
  },
  {
   "cell_type": "markdown",
   "metadata": {},
   "source": [
    "---"
   ]
  },
  {
   "cell_type": "markdown",
   "metadata": {},
   "source": [
    "# Indexing/Exploring/Manipulating in Pandas"
   ]
  },
  {
   "cell_type": "markdown",
   "metadata": {},
   "source": [
    "While standard `'[]'` bracket slicing can be used, as well as `'.'` methods,"
   ]
  },
  {
   "cell_type": "markdown",
   "metadata": {},
   "source": [
    "there are also 2 pandas-specific methods for indexing:\n",
    "1. `.loc` -> primarily label-based\n",
    "2. `.iloc` -> primarily integer-based"
   ]
  },
  {
   "cell_type": "markdown",
   "metadata": {},
   "source": [
    "Additionally, Pandas allows you to do random sampling from the dataframe"
   ]
  },
  {
   "cell_type": "code",
   "execution_count": 98,
   "metadata": {},
   "outputs": [
    {
     "data": {
      "text/html": [
       "<div>\n",
       "<style scoped>\n",
       "    .dataframe tbody tr th:only-of-type {\n",
       "        vertical-align: middle;\n",
       "    }\n",
       "\n",
       "    .dataframe tbody tr th {\n",
       "        vertical-align: top;\n",
       "    }\n",
       "\n",
       "    .dataframe thead th {\n",
       "        text-align: right;\n",
       "    }\n",
       "</style>\n",
       "<table border=\"1\" class=\"dataframe\">\n",
       "  <thead>\n",
       "    <tr style=\"text-align: right;\">\n",
       "      <th></th>\n",
       "      <th>street</th>\n",
       "      <th>city</th>\n",
       "      <th>zip</th>\n",
       "      <th>state</th>\n",
       "      <th>beds</th>\n",
       "      <th>baths</th>\n",
       "      <th>sq__ft</th>\n",
       "      <th>type</th>\n",
       "      <th>sale_date</th>\n",
       "      <th>price</th>\n",
       "      <th>latitude</th>\n",
       "      <th>longitude</th>\n",
       "    </tr>\n",
       "  </thead>\n",
       "  <tbody>\n",
       "    <tr>\n",
       "      <th>0</th>\n",
       "      <td>3526 HIGH ST</td>\n",
       "      <td>SACRAMENTO</td>\n",
       "      <td>95838</td>\n",
       "      <td>CA</td>\n",
       "      <td>2</td>\n",
       "      <td>1</td>\n",
       "      <td>836</td>\n",
       "      <td>Residential</td>\n",
       "      <td>Wed May 21 00:00:00 EDT 2008</td>\n",
       "      <td>59222</td>\n",
       "      <td>38.631913</td>\n",
       "      <td>-121.434879</td>\n",
       "    </tr>\n",
       "    <tr>\n",
       "      <th>1</th>\n",
       "      <td>51 OMAHA CT</td>\n",
       "      <td>SACRAMENTO</td>\n",
       "      <td>95823</td>\n",
       "      <td>CA</td>\n",
       "      <td>3</td>\n",
       "      <td>1</td>\n",
       "      <td>1167</td>\n",
       "      <td>Residential</td>\n",
       "      <td>Wed May 21 00:00:00 EDT 2008</td>\n",
       "      <td>68212</td>\n",
       "      <td>38.478902</td>\n",
       "      <td>-121.431028</td>\n",
       "    </tr>\n",
       "    <tr>\n",
       "      <th>2</th>\n",
       "      <td>2796 BRANCH ST</td>\n",
       "      <td>SACRAMENTO</td>\n",
       "      <td>95815</td>\n",
       "      <td>CA</td>\n",
       "      <td>2</td>\n",
       "      <td>1</td>\n",
       "      <td>796</td>\n",
       "      <td>Residential</td>\n",
       "      <td>Wed May 21 00:00:00 EDT 2008</td>\n",
       "      <td>68880</td>\n",
       "      <td>38.618305</td>\n",
       "      <td>-121.443839</td>\n",
       "    </tr>\n",
       "    <tr>\n",
       "      <th>3</th>\n",
       "      <td>2805 JANETTE WAY</td>\n",
       "      <td>SACRAMENTO</td>\n",
       "      <td>95815</td>\n",
       "      <td>CA</td>\n",
       "      <td>2</td>\n",
       "      <td>1</td>\n",
       "      <td>852</td>\n",
       "      <td>Residential</td>\n",
       "      <td>Wed May 21 00:00:00 EDT 2008</td>\n",
       "      <td>69307</td>\n",
       "      <td>38.616835</td>\n",
       "      <td>-121.439146</td>\n",
       "    </tr>\n",
       "    <tr>\n",
       "      <th>4</th>\n",
       "      <td>6001 MCMAHON DR</td>\n",
       "      <td>SACRAMENTO</td>\n",
       "      <td>95824</td>\n",
       "      <td>CA</td>\n",
       "      <td>2</td>\n",
       "      <td>1</td>\n",
       "      <td>797</td>\n",
       "      <td>Residential</td>\n",
       "      <td>Wed May 21 00:00:00 EDT 2008</td>\n",
       "      <td>81900</td>\n",
       "      <td>38.519470</td>\n",
       "      <td>-121.435768</td>\n",
       "    </tr>\n",
       "    <tr>\n",
       "      <th>5</th>\n",
       "      <td>5828 PEPPERMILL CT</td>\n",
       "      <td>SACRAMENTO</td>\n",
       "      <td>95841</td>\n",
       "      <td>CA</td>\n",
       "      <td>3</td>\n",
       "      <td>1</td>\n",
       "      <td>1122</td>\n",
       "      <td>Condo</td>\n",
       "      <td>Wed May 21 00:00:00 EDT 2008</td>\n",
       "      <td>89921</td>\n",
       "      <td>38.662595</td>\n",
       "      <td>-121.327813</td>\n",
       "    </tr>\n",
       "    <tr>\n",
       "      <th>6</th>\n",
       "      <td>6048 OGDEN NASH WAY</td>\n",
       "      <td>SACRAMENTO</td>\n",
       "      <td>95842</td>\n",
       "      <td>CA</td>\n",
       "      <td>3</td>\n",
       "      <td>2</td>\n",
       "      <td>1104</td>\n",
       "      <td>Residential</td>\n",
       "      <td>Wed May 21 00:00:00 EDT 2008</td>\n",
       "      <td>90895</td>\n",
       "      <td>38.681659</td>\n",
       "      <td>-121.351705</td>\n",
       "    </tr>\n",
       "    <tr>\n",
       "      <th>7</th>\n",
       "      <td>2561 19TH AVE</td>\n",
       "      <td>SACRAMENTO</td>\n",
       "      <td>95820</td>\n",
       "      <td>CA</td>\n",
       "      <td>3</td>\n",
       "      <td>1</td>\n",
       "      <td>1177</td>\n",
       "      <td>Residential</td>\n",
       "      <td>Wed May 21 00:00:00 EDT 2008</td>\n",
       "      <td>91002</td>\n",
       "      <td>38.535092</td>\n",
       "      <td>-121.481367</td>\n",
       "    </tr>\n",
       "    <tr>\n",
       "      <th>8</th>\n",
       "      <td>11150 TRINITY RIVER DR Unit 114</td>\n",
       "      <td>RANCHO CORDOVA</td>\n",
       "      <td>95670</td>\n",
       "      <td>CA</td>\n",
       "      <td>2</td>\n",
       "      <td>2</td>\n",
       "      <td>941</td>\n",
       "      <td>Condo</td>\n",
       "      <td>Wed May 21 00:00:00 EDT 2008</td>\n",
       "      <td>94905</td>\n",
       "      <td>38.621188</td>\n",
       "      <td>-121.270555</td>\n",
       "    </tr>\n",
       "    <tr>\n",
       "      <th>9</th>\n",
       "      <td>7325 10TH ST</td>\n",
       "      <td>RIO LINDA</td>\n",
       "      <td>95673</td>\n",
       "      <td>CA</td>\n",
       "      <td>3</td>\n",
       "      <td>2</td>\n",
       "      <td>1146</td>\n",
       "      <td>Residential</td>\n",
       "      <td>Wed May 21 00:00:00 EDT 2008</td>\n",
       "      <td>98937</td>\n",
       "      <td>38.700909</td>\n",
       "      <td>-121.442979</td>\n",
       "    </tr>\n",
       "  </tbody>\n",
       "</table>\n",
       "</div>"
      ],
      "text/plain": [
       "                            street            city    zip state  beds  baths  \\\n",
       "0                     3526 HIGH ST      SACRAMENTO  95838    CA     2      1   \n",
       "1                      51 OMAHA CT      SACRAMENTO  95823    CA     3      1   \n",
       "2                   2796 BRANCH ST      SACRAMENTO  95815    CA     2      1   \n",
       "3                 2805 JANETTE WAY      SACRAMENTO  95815    CA     2      1   \n",
       "4                  6001 MCMAHON DR      SACRAMENTO  95824    CA     2      1   \n",
       "5               5828 PEPPERMILL CT      SACRAMENTO  95841    CA     3      1   \n",
       "6              6048 OGDEN NASH WAY      SACRAMENTO  95842    CA     3      2   \n",
       "7                    2561 19TH AVE      SACRAMENTO  95820    CA     3      1   \n",
       "8  11150 TRINITY RIVER DR Unit 114  RANCHO CORDOVA  95670    CA     2      2   \n",
       "9                     7325 10TH ST       RIO LINDA  95673    CA     3      2   \n",
       "\n",
       "   sq__ft         type                     sale_date  price   latitude  \\\n",
       "0     836  Residential  Wed May 21 00:00:00 EDT 2008  59222  38.631913   \n",
       "1    1167  Residential  Wed May 21 00:00:00 EDT 2008  68212  38.478902   \n",
       "2     796  Residential  Wed May 21 00:00:00 EDT 2008  68880  38.618305   \n",
       "3     852  Residential  Wed May 21 00:00:00 EDT 2008  69307  38.616835   \n",
       "4     797  Residential  Wed May 21 00:00:00 EDT 2008  81900  38.519470   \n",
       "5    1122        Condo  Wed May 21 00:00:00 EDT 2008  89921  38.662595   \n",
       "6    1104  Residential  Wed May 21 00:00:00 EDT 2008  90895  38.681659   \n",
       "7    1177  Residential  Wed May 21 00:00:00 EDT 2008  91002  38.535092   \n",
       "8     941        Condo  Wed May 21 00:00:00 EDT 2008  94905  38.621188   \n",
       "9    1146  Residential  Wed May 21 00:00:00 EDT 2008  98937  38.700909   \n",
       "\n",
       "    longitude  \n",
       "0 -121.434879  \n",
       "1 -121.431028  \n",
       "2 -121.443839  \n",
       "3 -121.439146  \n",
       "4 -121.435768  \n",
       "5 -121.327813  \n",
       "6 -121.351705  \n",
       "7 -121.481367  \n",
       "8 -121.270555  \n",
       "9 -121.442979  "
      ]
     },
     "execution_count": 98,
     "metadata": {},
     "output_type": "execute_result"
    }
   ],
   "source": [
    "# Load up some data to work with\n",
    "index_example = pd.read_csv('./datasets/real_estate.csv')\n",
    "small_idx = index_example.head(10)\n",
    "small_idx"
   ]
  },
  {
   "cell_type": "markdown",
   "metadata": {},
   "source": [
    "## `'[]'` slicing on a `pd.DataFrame` gives us a slice of **rows**"
   ]
  },
  {
   "cell_type": "code",
   "execution_count": 99,
   "metadata": {},
   "outputs": [
    {
     "data": {
      "text/html": [
       "<div>\n",
       "<style scoped>\n",
       "    .dataframe tbody tr th:only-of-type {\n",
       "        vertical-align: middle;\n",
       "    }\n",
       "\n",
       "    .dataframe tbody tr th {\n",
       "        vertical-align: top;\n",
       "    }\n",
       "\n",
       "    .dataframe thead th {\n",
       "        text-align: right;\n",
       "    }\n",
       "</style>\n",
       "<table border=\"1\" class=\"dataframe\">\n",
       "  <thead>\n",
       "    <tr style=\"text-align: right;\">\n",
       "      <th></th>\n",
       "      <th>street</th>\n",
       "      <th>city</th>\n",
       "      <th>zip</th>\n",
       "      <th>state</th>\n",
       "      <th>beds</th>\n",
       "      <th>baths</th>\n",
       "      <th>sq__ft</th>\n",
       "      <th>type</th>\n",
       "      <th>sale_date</th>\n",
       "      <th>price</th>\n",
       "      <th>latitude</th>\n",
       "      <th>longitude</th>\n",
       "    </tr>\n",
       "  </thead>\n",
       "  <tbody>\n",
       "    <tr>\n",
       "      <th>0</th>\n",
       "      <td>3526 HIGH ST</td>\n",
       "      <td>SACRAMENTO</td>\n",
       "      <td>95838</td>\n",
       "      <td>CA</td>\n",
       "      <td>2</td>\n",
       "      <td>1</td>\n",
       "      <td>836</td>\n",
       "      <td>Residential</td>\n",
       "      <td>Wed May 21 00:00:00 EDT 2008</td>\n",
       "      <td>59222</td>\n",
       "      <td>38.631913</td>\n",
       "      <td>-121.434879</td>\n",
       "    </tr>\n",
       "    <tr>\n",
       "      <th>1</th>\n",
       "      <td>51 OMAHA CT</td>\n",
       "      <td>SACRAMENTO</td>\n",
       "      <td>95823</td>\n",
       "      <td>CA</td>\n",
       "      <td>3</td>\n",
       "      <td>1</td>\n",
       "      <td>1167</td>\n",
       "      <td>Residential</td>\n",
       "      <td>Wed May 21 00:00:00 EDT 2008</td>\n",
       "      <td>68212</td>\n",
       "      <td>38.478902</td>\n",
       "      <td>-121.431028</td>\n",
       "    </tr>\n",
       "    <tr>\n",
       "      <th>2</th>\n",
       "      <td>2796 BRANCH ST</td>\n",
       "      <td>SACRAMENTO</td>\n",
       "      <td>95815</td>\n",
       "      <td>CA</td>\n",
       "      <td>2</td>\n",
       "      <td>1</td>\n",
       "      <td>796</td>\n",
       "      <td>Residential</td>\n",
       "      <td>Wed May 21 00:00:00 EDT 2008</td>\n",
       "      <td>68880</td>\n",
       "      <td>38.618305</td>\n",
       "      <td>-121.443839</td>\n",
       "    </tr>\n",
       "  </tbody>\n",
       "</table>\n",
       "</div>"
      ],
      "text/plain": [
       "           street        city    zip state  beds  baths  sq__ft         type  \\\n",
       "0    3526 HIGH ST  SACRAMENTO  95838    CA     2      1     836  Residential   \n",
       "1     51 OMAHA CT  SACRAMENTO  95823    CA     3      1    1167  Residential   \n",
       "2  2796 BRANCH ST  SACRAMENTO  95815    CA     2      1     796  Residential   \n",
       "\n",
       "                      sale_date  price   latitude   longitude  \n",
       "0  Wed May 21 00:00:00 EDT 2008  59222  38.631913 -121.434879  \n",
       "1  Wed May 21 00:00:00 EDT 2008  68212  38.478902 -121.431028  \n",
       "2  Wed May 21 00:00:00 EDT 2008  68880  38.618305 -121.443839  "
      ]
     },
     "execution_count": 99,
     "metadata": {},
     "output_type": "execute_result"
    }
   ],
   "source": [
    "small_idx[:3]"
   ]
  },
  {
   "cell_type": "markdown",
   "metadata": {},
   "source": [
    "## `'.'` operators and a column name can select a **specific named** column"
   ]
  },
  {
   "cell_type": "code",
   "execution_count": 100,
   "metadata": {},
   "outputs": [
    {
     "data": {
      "text/plain": [
       "0                       3526 HIGH ST\n",
       "1                        51 OMAHA CT\n",
       "2                     2796 BRANCH ST\n",
       "3                   2805 JANETTE WAY\n",
       "4                    6001 MCMAHON DR\n",
       "5                 5828 PEPPERMILL CT\n",
       "6                6048 OGDEN NASH WAY\n",
       "7                      2561 19TH AVE\n",
       "8    11150 TRINITY RIVER DR Unit 114\n",
       "9                       7325 10TH ST\n",
       "Name: street, dtype: object"
      ]
     },
     "execution_count": 100,
     "metadata": {},
     "output_type": "execute_result"
    }
   ],
   "source": [
    "small_idx.street"
   ]
  },
  {
   "cell_type": "markdown",
   "metadata": {},
   "source": [
    "`'.'` operator selected columns are now just a `pd.Series` and can be `'[]'` sliced on further"
   ]
  },
  {
   "cell_type": "code",
   "execution_count": 101,
   "metadata": {},
   "outputs": [
    {
     "data": {
      "text/plain": [
       "0      3526 HIGH ST\n",
       "1       51 OMAHA CT\n",
       "2    2796 BRANCH ST\n",
       "Name: street, dtype: object"
      ]
     },
     "execution_count": 101,
     "metadata": {},
     "output_type": "execute_result"
    }
   ],
   "source": [
    "small_idx.street[:3]"
   ]
  },
  {
   "cell_type": "markdown",
   "metadata": {},
   "source": [
    "However, if it is a named column that doesn't fit well as a `'.'` name, you can use `'[]'` selection as well"
   ]
  },
  {
   "cell_type": "code",
   "execution_count": 102,
   "metadata": {},
   "outputs": [
    {
     "data": {
      "text/plain": [
       "0      3526 HIGH ST\n",
       "1       51 OMAHA CT\n",
       "2    2796 BRANCH ST\n",
       "Name: street, dtype: object"
      ]
     },
     "execution_count": 102,
     "metadata": {},
     "output_type": "execute_result"
    }
   ],
   "source": [
    "small_idx['street'][:3]"
   ]
  },
  {
   "cell_type": "markdown",
   "metadata": {},
   "source": [
    "Furthermore, you can name your rows, and select them too"
   ]
  },
  {
   "cell_type": "code",
   "execution_count": 103,
   "metadata": {},
   "outputs": [
    {
     "data": {
      "text/html": [
       "<div>\n",
       "<style scoped>\n",
       "    .dataframe tbody tr th:only-of-type {\n",
       "        vertical-align: middle;\n",
       "    }\n",
       "\n",
       "    .dataframe tbody tr th {\n",
       "        vertical-align: top;\n",
       "    }\n",
       "\n",
       "    .dataframe thead th {\n",
       "        text-align: right;\n",
       "    }\n",
       "</style>\n",
       "<table border=\"1\" class=\"dataframe\">\n",
       "  <thead>\n",
       "    <tr style=\"text-align: right;\">\n",
       "      <th></th>\n",
       "      <th>street</th>\n",
       "      <th>city</th>\n",
       "      <th>zip</th>\n",
       "      <th>state</th>\n",
       "      <th>beds</th>\n",
       "      <th>baths</th>\n",
       "      <th>sq__ft</th>\n",
       "      <th>type</th>\n",
       "      <th>sale_date</th>\n",
       "      <th>price</th>\n",
       "      <th>latitude</th>\n",
       "      <th>longitude</th>\n",
       "    </tr>\n",
       "  </thead>\n",
       "  <tbody>\n",
       "    <tr>\n",
       "      <th>bt</th>\n",
       "      <td>3526 HIGH ST</td>\n",
       "      <td>SACRAMENTO</td>\n",
       "      <td>95838</td>\n",
       "      <td>CA</td>\n",
       "      <td>2</td>\n",
       "      <td>1</td>\n",
       "      <td>836</td>\n",
       "      <td>Residential</td>\n",
       "      <td>Wed May 21 00:00:00 EDT 2008</td>\n",
       "      <td>59222</td>\n",
       "      <td>38.631913</td>\n",
       "      <td>-121.434879</td>\n",
       "    </tr>\n",
       "    <tr>\n",
       "      <th>lv</th>\n",
       "      <td>51 OMAHA CT</td>\n",
       "      <td>SACRAMENTO</td>\n",
       "      <td>95823</td>\n",
       "      <td>CA</td>\n",
       "      <td>3</td>\n",
       "      <td>1</td>\n",
       "      <td>1167</td>\n",
       "      <td>Residential</td>\n",
       "      <td>Wed May 21 00:00:00 EDT 2008</td>\n",
       "      <td>68212</td>\n",
       "      <td>38.478902</td>\n",
       "      <td>-121.431028</td>\n",
       "    </tr>\n",
       "    <tr>\n",
       "      <th>me</th>\n",
       "      <td>2796 BRANCH ST</td>\n",
       "      <td>SACRAMENTO</td>\n",
       "      <td>95815</td>\n",
       "      <td>CA</td>\n",
       "      <td>2</td>\n",
       "      <td>1</td>\n",
       "      <td>796</td>\n",
       "      <td>Residential</td>\n",
       "      <td>Wed May 21 00:00:00 EDT 2008</td>\n",
       "      <td>68880</td>\n",
       "      <td>38.618305</td>\n",
       "      <td>-121.443839</td>\n",
       "    </tr>\n",
       "    <tr>\n",
       "      <th>tb</th>\n",
       "      <td>2805 JANETTE WAY</td>\n",
       "      <td>SACRAMENTO</td>\n",
       "      <td>95815</td>\n",
       "      <td>CA</td>\n",
       "      <td>2</td>\n",
       "      <td>1</td>\n",
       "      <td>852</td>\n",
       "      <td>Residential</td>\n",
       "      <td>Wed May 21 00:00:00 EDT 2008</td>\n",
       "      <td>69307</td>\n",
       "      <td>38.616835</td>\n",
       "      <td>-121.439146</td>\n",
       "    </tr>\n",
       "    <tr>\n",
       "      <th>oz</th>\n",
       "      <td>6001 MCMAHON DR</td>\n",
       "      <td>SACRAMENTO</td>\n",
       "      <td>95824</td>\n",
       "      <td>CA</td>\n",
       "      <td>2</td>\n",
       "      <td>1</td>\n",
       "      <td>797</td>\n",
       "      <td>Residential</td>\n",
       "      <td>Wed May 21 00:00:00 EDT 2008</td>\n",
       "      <td>81900</td>\n",
       "      <td>38.519470</td>\n",
       "      <td>-121.435768</td>\n",
       "    </tr>\n",
       "    <tr>\n",
       "      <th>nn</th>\n",
       "      <td>5828 PEPPERMILL CT</td>\n",
       "      <td>SACRAMENTO</td>\n",
       "      <td>95841</td>\n",
       "      <td>CA</td>\n",
       "      <td>3</td>\n",
       "      <td>1</td>\n",
       "      <td>1122</td>\n",
       "      <td>Condo</td>\n",
       "      <td>Wed May 21 00:00:00 EDT 2008</td>\n",
       "      <td>89921</td>\n",
       "      <td>38.662595</td>\n",
       "      <td>-121.327813</td>\n",
       "    </tr>\n",
       "    <tr>\n",
       "      <th>rw</th>\n",
       "      <td>6048 OGDEN NASH WAY</td>\n",
       "      <td>SACRAMENTO</td>\n",
       "      <td>95842</td>\n",
       "      <td>CA</td>\n",
       "      <td>3</td>\n",
       "      <td>2</td>\n",
       "      <td>1104</td>\n",
       "      <td>Residential</td>\n",
       "      <td>Wed May 21 00:00:00 EDT 2008</td>\n",
       "      <td>90895</td>\n",
       "      <td>38.681659</td>\n",
       "      <td>-121.351705</td>\n",
       "    </tr>\n",
       "    <tr>\n",
       "      <th>td</th>\n",
       "      <td>2561 19TH AVE</td>\n",
       "      <td>SACRAMENTO</td>\n",
       "      <td>95820</td>\n",
       "      <td>CA</td>\n",
       "      <td>3</td>\n",
       "      <td>1</td>\n",
       "      <td>1177</td>\n",
       "      <td>Residential</td>\n",
       "      <td>Wed May 21 00:00:00 EDT 2008</td>\n",
       "      <td>91002</td>\n",
       "      <td>38.535092</td>\n",
       "      <td>-121.481367</td>\n",
       "    </tr>\n",
       "    <tr>\n",
       "      <th>qq</th>\n",
       "      <td>11150 TRINITY RIVER DR Unit 114</td>\n",
       "      <td>RANCHO CORDOVA</td>\n",
       "      <td>95670</td>\n",
       "      <td>CA</td>\n",
       "      <td>2</td>\n",
       "      <td>2</td>\n",
       "      <td>941</td>\n",
       "      <td>Condo</td>\n",
       "      <td>Wed May 21 00:00:00 EDT 2008</td>\n",
       "      <td>94905</td>\n",
       "      <td>38.621188</td>\n",
       "      <td>-121.270555</td>\n",
       "    </tr>\n",
       "    <tr>\n",
       "      <th>rt</th>\n",
       "      <td>7325 10TH ST</td>\n",
       "      <td>RIO LINDA</td>\n",
       "      <td>95673</td>\n",
       "      <td>CA</td>\n",
       "      <td>3</td>\n",
       "      <td>2</td>\n",
       "      <td>1146</td>\n",
       "      <td>Residential</td>\n",
       "      <td>Wed May 21 00:00:00 EDT 2008</td>\n",
       "      <td>98937</td>\n",
       "      <td>38.700909</td>\n",
       "      <td>-121.442979</td>\n",
       "    </tr>\n",
       "  </tbody>\n",
       "</table>\n",
       "</div>"
      ],
      "text/plain": [
       "                             street            city    zip state  beds  baths  \\\n",
       "bt                     3526 HIGH ST      SACRAMENTO  95838    CA     2      1   \n",
       "lv                      51 OMAHA CT      SACRAMENTO  95823    CA     3      1   \n",
       "me                   2796 BRANCH ST      SACRAMENTO  95815    CA     2      1   \n",
       "tb                 2805 JANETTE WAY      SACRAMENTO  95815    CA     2      1   \n",
       "oz                  6001 MCMAHON DR      SACRAMENTO  95824    CA     2      1   \n",
       "nn               5828 PEPPERMILL CT      SACRAMENTO  95841    CA     3      1   \n",
       "rw              6048 OGDEN NASH WAY      SACRAMENTO  95842    CA     3      2   \n",
       "td                    2561 19TH AVE      SACRAMENTO  95820    CA     3      1   \n",
       "qq  11150 TRINITY RIVER DR Unit 114  RANCHO CORDOVA  95670    CA     2      2   \n",
       "rt                     7325 10TH ST       RIO LINDA  95673    CA     3      2   \n",
       "\n",
       "    sq__ft         type                     sale_date  price   latitude  \\\n",
       "bt     836  Residential  Wed May 21 00:00:00 EDT 2008  59222  38.631913   \n",
       "lv    1167  Residential  Wed May 21 00:00:00 EDT 2008  68212  38.478902   \n",
       "me     796  Residential  Wed May 21 00:00:00 EDT 2008  68880  38.618305   \n",
       "tb     852  Residential  Wed May 21 00:00:00 EDT 2008  69307  38.616835   \n",
       "oz     797  Residential  Wed May 21 00:00:00 EDT 2008  81900  38.519470   \n",
       "nn    1122        Condo  Wed May 21 00:00:00 EDT 2008  89921  38.662595   \n",
       "rw    1104  Residential  Wed May 21 00:00:00 EDT 2008  90895  38.681659   \n",
       "td    1177  Residential  Wed May 21 00:00:00 EDT 2008  91002  38.535092   \n",
       "qq     941        Condo  Wed May 21 00:00:00 EDT 2008  94905  38.621188   \n",
       "rt    1146  Residential  Wed May 21 00:00:00 EDT 2008  98937  38.700909   \n",
       "\n",
       "     longitude  \n",
       "bt -121.434879  \n",
       "lv -121.431028  \n",
       "me -121.443839  \n",
       "tb -121.439146  \n",
       "oz -121.435768  \n",
       "nn -121.327813  \n",
       "rw -121.351705  \n",
       "td -121.481367  \n",
       "qq -121.270555  \n",
       "rt -121.442979  "
      ]
     },
     "execution_count": 103,
     "metadata": {},
     "output_type": "execute_result"
    }
   ],
   "source": [
    "# Give our table index some string values\n",
    "small_idx.index = gen_lab(2, len(small_idx))\n",
    "small_idx[:10]"
   ]
  },
  {
   "cell_type": "code",
   "execution_count": 104,
   "metadata": {},
   "outputs": [
    {
     "data": {
      "text/html": [
       "<div>\n",
       "<style scoped>\n",
       "    .dataframe tbody tr th:only-of-type {\n",
       "        vertical-align: middle;\n",
       "    }\n",
       "\n",
       "    .dataframe tbody tr th {\n",
       "        vertical-align: top;\n",
       "    }\n",
       "\n",
       "    .dataframe thead th {\n",
       "        text-align: right;\n",
       "    }\n",
       "</style>\n",
       "<table border=\"1\" class=\"dataframe\">\n",
       "  <thead>\n",
       "    <tr style=\"text-align: right;\">\n",
       "      <th></th>\n",
       "      <th>street</th>\n",
       "      <th>city</th>\n",
       "      <th>zip</th>\n",
       "      <th>state</th>\n",
       "      <th>beds</th>\n",
       "      <th>baths</th>\n",
       "      <th>sq__ft</th>\n",
       "      <th>type</th>\n",
       "      <th>sale_date</th>\n",
       "      <th>price</th>\n",
       "      <th>latitude</th>\n",
       "      <th>longitude</th>\n",
       "    </tr>\n",
       "  </thead>\n",
       "  <tbody>\n",
       "    <tr>\n",
       "      <th>lv</th>\n",
       "      <td>51 OMAHA CT</td>\n",
       "      <td>SACRAMENTO</td>\n",
       "      <td>95823</td>\n",
       "      <td>CA</td>\n",
       "      <td>3</td>\n",
       "      <td>1</td>\n",
       "      <td>1167</td>\n",
       "      <td>Residential</td>\n",
       "      <td>Wed May 21 00:00:00 EDT 2008</td>\n",
       "      <td>68212</td>\n",
       "      <td>38.478902</td>\n",
       "      <td>-121.431028</td>\n",
       "    </tr>\n",
       "    <tr>\n",
       "      <th>me</th>\n",
       "      <td>2796 BRANCH ST</td>\n",
       "      <td>SACRAMENTO</td>\n",
       "      <td>95815</td>\n",
       "      <td>CA</td>\n",
       "      <td>2</td>\n",
       "      <td>1</td>\n",
       "      <td>796</td>\n",
       "      <td>Residential</td>\n",
       "      <td>Wed May 21 00:00:00 EDT 2008</td>\n",
       "      <td>68880</td>\n",
       "      <td>38.618305</td>\n",
       "      <td>-121.443839</td>\n",
       "    </tr>\n",
       "    <tr>\n",
       "      <th>tb</th>\n",
       "      <td>2805 JANETTE WAY</td>\n",
       "      <td>SACRAMENTO</td>\n",
       "      <td>95815</td>\n",
       "      <td>CA</td>\n",
       "      <td>2</td>\n",
       "      <td>1</td>\n",
       "      <td>852</td>\n",
       "      <td>Residential</td>\n",
       "      <td>Wed May 21 00:00:00 EDT 2008</td>\n",
       "      <td>69307</td>\n",
       "      <td>38.616835</td>\n",
       "      <td>-121.439146</td>\n",
       "    </tr>\n",
       "    <tr>\n",
       "      <th>oz</th>\n",
       "      <td>6001 MCMAHON DR</td>\n",
       "      <td>SACRAMENTO</td>\n",
       "      <td>95824</td>\n",
       "      <td>CA</td>\n",
       "      <td>2</td>\n",
       "      <td>1</td>\n",
       "      <td>797</td>\n",
       "      <td>Residential</td>\n",
       "      <td>Wed May 21 00:00:00 EDT 2008</td>\n",
       "      <td>81900</td>\n",
       "      <td>38.519470</td>\n",
       "      <td>-121.435768</td>\n",
       "    </tr>\n",
       "    <tr>\n",
       "      <th>nn</th>\n",
       "      <td>5828 PEPPERMILL CT</td>\n",
       "      <td>SACRAMENTO</td>\n",
       "      <td>95841</td>\n",
       "      <td>CA</td>\n",
       "      <td>3</td>\n",
       "      <td>1</td>\n",
       "      <td>1122</td>\n",
       "      <td>Condo</td>\n",
       "      <td>Wed May 21 00:00:00 EDT 2008</td>\n",
       "      <td>89921</td>\n",
       "      <td>38.662595</td>\n",
       "      <td>-121.327813</td>\n",
       "    </tr>\n",
       "  </tbody>\n",
       "</table>\n",
       "</div>"
      ],
      "text/plain": [
       "                street        city    zip state  beds  baths  sq__ft  \\\n",
       "lv         51 OMAHA CT  SACRAMENTO  95823    CA     3      1    1167   \n",
       "me      2796 BRANCH ST  SACRAMENTO  95815    CA     2      1     796   \n",
       "tb    2805 JANETTE WAY  SACRAMENTO  95815    CA     2      1     852   \n",
       "oz     6001 MCMAHON DR  SACRAMENTO  95824    CA     2      1     797   \n",
       "nn  5828 PEPPERMILL CT  SACRAMENTO  95841    CA     3      1    1122   \n",
       "\n",
       "           type                     sale_date  price   latitude   longitude  \n",
       "lv  Residential  Wed May 21 00:00:00 EDT 2008  68212  38.478902 -121.431028  \n",
       "me  Residential  Wed May 21 00:00:00 EDT 2008  68880  38.618305 -121.443839  \n",
       "tb  Residential  Wed May 21 00:00:00 EDT 2008  69307  38.616835 -121.439146  \n",
       "oz  Residential  Wed May 21 00:00:00 EDT 2008  81900  38.519470 -121.435768  \n",
       "nn        Condo  Wed May 21 00:00:00 EDT 2008  89921  38.662595 -121.327813  "
      ]
     },
     "execution_count": 104,
     "metadata": {},
     "output_type": "execute_result"
    }
   ],
   "source": [
    "small_idx['lv':'nn']"
   ]
  },
  {
   "cell_type": "markdown",
   "metadata": {},
   "source": [
    "By using this, we can now select specific items/columns/rows of a dataframe and make changes to them"
   ]
  },
  {
   "cell_type": "code",
   "execution_count": null,
   "metadata": {},
   "outputs": [],
   "source": [
    "# Silence SettingWithCopy warning\n",
    "pd.set_option('mode.chained_assignment', None)\n",
    "small_idx.sq__ft.dtype"
   ]
  },
  {
   "cell_type": "code",
   "execution_count": null,
   "metadata": {},
   "outputs": [],
   "source": [
    "small_idx.sq__ft = small_idx.sq__ft.astype(np.float16)"
   ]
  },
  {
   "cell_type": "code",
   "execution_count": null,
   "metadata": {},
   "outputs": [],
   "source": [
    "small_idx.sq__ft.dtype"
   ]
  },
  {
   "cell_type": "markdown",
   "metadata": {},
   "source": [
    "## Selection by label: the `.loc` method"
   ]
  },
  {
   "cell_type": "markdown",
   "metadata": {},
   "source": [
    "```python\n",
    "# .loc syntax\n",
    "small_idx.loc[row indexer, column indexer]\n",
    "```"
   ]
  },
  {
   "cell_type": "markdown",
   "metadata": {},
   "source": [
    "#### a slice of specific items (based on label)"
   ]
  },
  {
   "cell_type": "code",
   "execution_count": 106,
   "metadata": {},
   "outputs": [
    {
     "data": {
      "text/plain": [
       "lv           51 OMAHA CT\n",
       "me        2796 BRANCH ST\n",
       "tb      2805 JANETTE WAY\n",
       "oz       6001 MCMAHON DR\n",
       "nn    5828 PEPPERMILL CT\n",
       "Name: street, dtype: object"
      ]
     },
     "execution_count": 106,
     "metadata": {},
     "output_type": "execute_result"
    }
   ],
   "source": [
    "small_idx.loc['lv':'nn', 'street']"
   ]
  },
  {
   "cell_type": "markdown",
   "metadata": {},
   "source": [
    "#### A list of desired items (based on label)"
   ]
  },
  {
   "cell_type": "code",
   "execution_count": null,
   "metadata": {},
   "outputs": [],
   "source": [
    "small_idx.loc[['dx', 'sp'], 'street']"
   ]
  },
  {
   "cell_type": "markdown",
   "metadata": {},
   "source": [
    "#### Boolean indexing"
   ]
  },
  {
   "cell_type": "code",
   "execution_count": 107,
   "metadata": {},
   "outputs": [
    {
     "data": {
      "text/html": [
       "<div>\n",
       "<style scoped>\n",
       "    .dataframe tbody tr th:only-of-type {\n",
       "        vertical-align: middle;\n",
       "    }\n",
       "\n",
       "    .dataframe tbody tr th {\n",
       "        vertical-align: top;\n",
       "    }\n",
       "\n",
       "    .dataframe thead th {\n",
       "        text-align: right;\n",
       "    }\n",
       "</style>\n",
       "<table border=\"1\" class=\"dataframe\">\n",
       "  <thead>\n",
       "    <tr style=\"text-align: right;\">\n",
       "      <th></th>\n",
       "      <th>street</th>\n",
       "      <th>city</th>\n",
       "      <th>zip</th>\n",
       "      <th>state</th>\n",
       "      <th>beds</th>\n",
       "      <th>baths</th>\n",
       "      <th>sq__ft</th>\n",
       "      <th>type</th>\n",
       "      <th>sale_date</th>\n",
       "      <th>price</th>\n",
       "      <th>latitude</th>\n",
       "      <th>longitude</th>\n",
       "    </tr>\n",
       "  </thead>\n",
       "  <tbody>\n",
       "    <tr>\n",
       "      <th>lv</th>\n",
       "      <td>51 OMAHA CT</td>\n",
       "      <td>SACRAMENTO</td>\n",
       "      <td>95823</td>\n",
       "      <td>CA</td>\n",
       "      <td>3</td>\n",
       "      <td>1</td>\n",
       "      <td>1167</td>\n",
       "      <td>Residential</td>\n",
       "      <td>Wed May 21 00:00:00 EDT 2008</td>\n",
       "      <td>68212</td>\n",
       "      <td>38.478902</td>\n",
       "      <td>-121.431028</td>\n",
       "    </tr>\n",
       "    <tr>\n",
       "      <th>nn</th>\n",
       "      <td>5828 PEPPERMILL CT</td>\n",
       "      <td>SACRAMENTO</td>\n",
       "      <td>95841</td>\n",
       "      <td>CA</td>\n",
       "      <td>3</td>\n",
       "      <td>1</td>\n",
       "      <td>1122</td>\n",
       "      <td>Condo</td>\n",
       "      <td>Wed May 21 00:00:00 EDT 2008</td>\n",
       "      <td>89921</td>\n",
       "      <td>38.662595</td>\n",
       "      <td>-121.327813</td>\n",
       "    </tr>\n",
       "    <tr>\n",
       "      <th>rw</th>\n",
       "      <td>6048 OGDEN NASH WAY</td>\n",
       "      <td>SACRAMENTO</td>\n",
       "      <td>95842</td>\n",
       "      <td>CA</td>\n",
       "      <td>3</td>\n",
       "      <td>2</td>\n",
       "      <td>1104</td>\n",
       "      <td>Residential</td>\n",
       "      <td>Wed May 21 00:00:00 EDT 2008</td>\n",
       "      <td>90895</td>\n",
       "      <td>38.681659</td>\n",
       "      <td>-121.351705</td>\n",
       "    </tr>\n",
       "    <tr>\n",
       "      <th>td</th>\n",
       "      <td>2561 19TH AVE</td>\n",
       "      <td>SACRAMENTO</td>\n",
       "      <td>95820</td>\n",
       "      <td>CA</td>\n",
       "      <td>3</td>\n",
       "      <td>1</td>\n",
       "      <td>1177</td>\n",
       "      <td>Residential</td>\n",
       "      <td>Wed May 21 00:00:00 EDT 2008</td>\n",
       "      <td>91002</td>\n",
       "      <td>38.535092</td>\n",
       "      <td>-121.481367</td>\n",
       "    </tr>\n",
       "    <tr>\n",
       "      <th>rt</th>\n",
       "      <td>7325 10TH ST</td>\n",
       "      <td>RIO LINDA</td>\n",
       "      <td>95673</td>\n",
       "      <td>CA</td>\n",
       "      <td>3</td>\n",
       "      <td>2</td>\n",
       "      <td>1146</td>\n",
       "      <td>Residential</td>\n",
       "      <td>Wed May 21 00:00:00 EDT 2008</td>\n",
       "      <td>98937</td>\n",
       "      <td>38.700909</td>\n",
       "      <td>-121.442979</td>\n",
       "    </tr>\n",
       "  </tbody>\n",
       "</table>\n",
       "</div>"
      ],
      "text/plain": [
       "                 street        city    zip state  beds  baths  sq__ft  \\\n",
       "lv          51 OMAHA CT  SACRAMENTO  95823    CA     3      1    1167   \n",
       "nn   5828 PEPPERMILL CT  SACRAMENTO  95841    CA     3      1    1122   \n",
       "rw  6048 OGDEN NASH WAY  SACRAMENTO  95842    CA     3      2    1104   \n",
       "td        2561 19TH AVE  SACRAMENTO  95820    CA     3      1    1177   \n",
       "rt         7325 10TH ST   RIO LINDA  95673    CA     3      2    1146   \n",
       "\n",
       "           type                     sale_date  price   latitude   longitude  \n",
       "lv  Residential  Wed May 21 00:00:00 EDT 2008  68212  38.478902 -121.431028  \n",
       "nn        Condo  Wed May 21 00:00:00 EDT 2008  89921  38.662595 -121.327813  \n",
       "rw  Residential  Wed May 21 00:00:00 EDT 2008  90895  38.681659 -121.351705  \n",
       "td  Residential  Wed May 21 00:00:00 EDT 2008  91002  38.535092 -121.481367  \n",
       "rt  Residential  Wed May 21 00:00:00 EDT 2008  98937  38.700909 -121.442979  "
      ]
     },
     "execution_count": 107,
     "metadata": {},
     "output_type": "execute_result"
    }
   ],
   "source": [
    "small_idx.loc[small_idx.sq__ft > 1000]"
   ]
  },
  {
   "cell_type": "markdown",
   "metadata": {},
   "source": [
    "## Selection by position: the `.iloc` method"
   ]
  },
  {
   "cell_type": "markdown",
   "metadata": {},
   "source": [
    "#### a slice of specific items (based on position)"
   ]
  },
  {
   "cell_type": "code",
   "execution_count": 108,
   "metadata": {},
   "outputs": [
    {
     "data": {
      "text/plain": [
       "bt    95838\n",
       "lv    95823\n",
       "me    95815\n",
       "Name: zip, dtype: int64"
      ]
     },
     "execution_count": 108,
     "metadata": {},
     "output_type": "execute_result"
    }
   ],
   "source": [
    "small_idx.iloc[:3,2]"
   ]
  },
  {
   "cell_type": "markdown",
   "metadata": {},
   "source": [
    "#### a slice of specific items (based on position)"
   ]
  },
  {
   "cell_type": "code",
   "execution_count": 109,
   "metadata": {},
   "outputs": [
    {
     "data": {
      "text/html": [
       "<div>\n",
       "<style scoped>\n",
       "    .dataframe tbody tr th:only-of-type {\n",
       "        vertical-align: middle;\n",
       "    }\n",
       "\n",
       "    .dataframe tbody tr th {\n",
       "        vertical-align: top;\n",
       "    }\n",
       "\n",
       "    .dataframe thead th {\n",
       "        text-align: right;\n",
       "    }\n",
       "</style>\n",
       "<table border=\"1\" class=\"dataframe\">\n",
       "  <thead>\n",
       "    <tr style=\"text-align: right;\">\n",
       "      <th></th>\n",
       "      <th>street</th>\n",
       "      <th>city</th>\n",
       "      <th>sq__ft</th>\n",
       "      <th>price</th>\n",
       "    </tr>\n",
       "  </thead>\n",
       "  <tbody>\n",
       "    <tr>\n",
       "      <th>bt</th>\n",
       "      <td>3526 HIGH ST</td>\n",
       "      <td>SACRAMENTO</td>\n",
       "      <td>836</td>\n",
       "      <td>59222</td>\n",
       "    </tr>\n",
       "    <tr>\n",
       "      <th>lv</th>\n",
       "      <td>51 OMAHA CT</td>\n",
       "      <td>SACRAMENTO</td>\n",
       "      <td>1167</td>\n",
       "      <td>68212</td>\n",
       "    </tr>\n",
       "    <tr>\n",
       "      <th>me</th>\n",
       "      <td>2796 BRANCH ST</td>\n",
       "      <td>SACRAMENTO</td>\n",
       "      <td>796</td>\n",
       "      <td>68880</td>\n",
       "    </tr>\n",
       "    <tr>\n",
       "      <th>tb</th>\n",
       "      <td>2805 JANETTE WAY</td>\n",
       "      <td>SACRAMENTO</td>\n",
       "      <td>852</td>\n",
       "      <td>69307</td>\n",
       "    </tr>\n",
       "    <tr>\n",
       "      <th>oz</th>\n",
       "      <td>6001 MCMAHON DR</td>\n",
       "      <td>SACRAMENTO</td>\n",
       "      <td>797</td>\n",
       "      <td>81900</td>\n",
       "    </tr>\n",
       "  </tbody>\n",
       "</table>\n",
       "</div>"
      ],
      "text/plain": [
       "              street        city  sq__ft  price\n",
       "bt      3526 HIGH ST  SACRAMENTO     836  59222\n",
       "lv       51 OMAHA CT  SACRAMENTO    1167  68212\n",
       "me    2796 BRANCH ST  SACRAMENTO     796  68880\n",
       "tb  2805 JANETTE WAY  SACRAMENTO     852  69307\n",
       "oz   6001 MCMAHON DR  SACRAMENTO     797  81900"
      ]
     },
     "execution_count": 109,
     "metadata": {},
     "output_type": "execute_result"
    }
   ],
   "source": [
    "small_idx.iloc[:5,[0,1,6,9]]"
   ]
  },
  {
   "cell_type": "code",
   "execution_count": 110,
   "metadata": {},
   "outputs": [
    {
     "data": {
      "text/html": [
       "<div>\n",
       "<style scoped>\n",
       "    .dataframe tbody tr th:only-of-type {\n",
       "        vertical-align: middle;\n",
       "    }\n",
       "\n",
       "    .dataframe tbody tr th {\n",
       "        vertical-align: top;\n",
       "    }\n",
       "\n",
       "    .dataframe thead th {\n",
       "        text-align: right;\n",
       "    }\n",
       "</style>\n",
       "<table border=\"1\" class=\"dataframe\">\n",
       "  <thead>\n",
       "    <tr style=\"text-align: right;\">\n",
       "      <th></th>\n",
       "      <th>sq__ft</th>\n",
       "    </tr>\n",
       "  </thead>\n",
       "  <tbody>\n",
       "    <tr>\n",
       "      <th>bt</th>\n",
       "      <td>836</td>\n",
       "    </tr>\n",
       "    <tr>\n",
       "      <th>lv</th>\n",
       "      <td>1167</td>\n",
       "    </tr>\n",
       "    <tr>\n",
       "      <th>me</th>\n",
       "      <td>796</td>\n",
       "    </tr>\n",
       "    <tr>\n",
       "      <th>tb</th>\n",
       "      <td>852</td>\n",
       "    </tr>\n",
       "    <tr>\n",
       "      <th>oz</th>\n",
       "      <td>797</td>\n",
       "    </tr>\n",
       "  </tbody>\n",
       "</table>\n",
       "</div>"
      ],
      "text/plain": [
       "    sq__ft\n",
       "bt     836\n",
       "lv    1167\n",
       "me     796\n",
       "tb     852\n",
       "oz     797"
      ]
     },
     "execution_count": 110,
     "metadata": {},
     "output_type": "execute_result"
    }
   ],
   "source": [
    "small_idx.iloc[:5, small_idx.columns == 'sq__ft']"
   ]
  },
  {
   "cell_type": "markdown",
   "metadata": {},
   "source": [
    "## Quick Exploration of the data"
   ]
  },
  {
   "cell_type": "code",
   "execution_count": 111,
   "metadata": {},
   "outputs": [
    {
     "data": {
      "text/plain": [
       "count     985.000000\n",
       "mean     1314.916751\n",
       "std       853.048243\n",
       "min         0.000000\n",
       "25%       952.000000\n",
       "50%      1304.000000\n",
       "75%      1718.000000\n",
       "max      5822.000000\n",
       "Name: sq__ft, dtype: float64"
      ]
     },
     "execution_count": 111,
     "metadata": {},
     "output_type": "execute_result"
    }
   ],
   "source": [
    "index_example.sq__ft.describe()"
   ]
  },
  {
   "cell_type": "code",
   "execution_count": 112,
   "metadata": {},
   "outputs": [
    {
     "name": "stdout",
     "output_type": "stream",
     "text": [
      "MAD: 103452.16956891441\n",
      "SUM: 230632100\n",
      "Any missing values: False\n"
     ]
    }
   ],
   "source": [
    "print('MAD: {}'.format(index_example.price.mad()))\n",
    "print('SUM: {}'.format(index_example.price.aggregate(sum)))\n",
    "print('Any missing values: {}'.format(index_example.price.hasnans))"
   ]
  },
  {
   "cell_type": "markdown",
   "metadata": {},
   "source": [
    "## Object Manipulation"
   ]
  },
  {
   "cell_type": "code",
   "execution_count": 113,
   "metadata": {},
   "outputs": [
    {
     "name": "stderr",
     "output_type": "stream",
     "text": [
      "/root/miniconda3/envs/prototyping/lib/python3.7/site-packages/pandas/core/indexing.py:543: SettingWithCopyWarning: \n",
      "A value is trying to be set on a copy of a slice from a DataFrame.\n",
      "Try using .loc[row_indexer,col_indexer] = value instead\n",
      "\n",
      "See the caveats in the documentation: http://pandas.pydata.org/pandas-docs/stable/indexing.html#indexing-view-versus-copy\n",
      "  self.obj[item] = s\n"
     ]
    },
    {
     "data": {
      "text/html": [
       "<div>\n",
       "<style scoped>\n",
       "    .dataframe tbody tr th:only-of-type {\n",
       "        vertical-align: middle;\n",
       "    }\n",
       "\n",
       "    .dataframe tbody tr th {\n",
       "        vertical-align: top;\n",
       "    }\n",
       "\n",
       "    .dataframe thead th {\n",
       "        text-align: right;\n",
       "    }\n",
       "</style>\n",
       "<table border=\"1\" class=\"dataframe\">\n",
       "  <thead>\n",
       "    <tr style=\"text-align: right;\">\n",
       "      <th></th>\n",
       "      <th>street</th>\n",
       "      <th>city</th>\n",
       "      <th>zip</th>\n",
       "      <th>state</th>\n",
       "      <th>beds</th>\n",
       "      <th>baths</th>\n",
       "      <th>sq__ft</th>\n",
       "      <th>type</th>\n",
       "      <th>sale_date</th>\n",
       "      <th>price</th>\n",
       "      <th>latitude</th>\n",
       "      <th>longitude</th>\n",
       "    </tr>\n",
       "  </thead>\n",
       "  <tbody>\n",
       "    <tr>\n",
       "      <th>lv</th>\n",
       "      <td>51 OMAHA CT</td>\n",
       "      <td>SACRAMENTO</td>\n",
       "      <td>95823</td>\n",
       "      <td>CA</td>\n",
       "      <td>3</td>\n",
       "      <td>1</td>\n",
       "      <td>1167</td>\n",
       "      <td>Residential</td>\n",
       "      <td>Wed May 21 00:00:00 EDT 2008</td>\n",
       "      <td>0</td>\n",
       "      <td>38.478902</td>\n",
       "      <td>-121.431028</td>\n",
       "    </tr>\n",
       "    <tr>\n",
       "      <th>nn</th>\n",
       "      <td>5828 PEPPERMILL CT</td>\n",
       "      <td>SACRAMENTO</td>\n",
       "      <td>95841</td>\n",
       "      <td>CA</td>\n",
       "      <td>3</td>\n",
       "      <td>1</td>\n",
       "      <td>1122</td>\n",
       "      <td>Condo</td>\n",
       "      <td>Wed May 21 00:00:00 EDT 2008</td>\n",
       "      <td>0</td>\n",
       "      <td>38.662595</td>\n",
       "      <td>-121.327813</td>\n",
       "    </tr>\n",
       "    <tr>\n",
       "      <th>rw</th>\n",
       "      <td>6048 OGDEN NASH WAY</td>\n",
       "      <td>SACRAMENTO</td>\n",
       "      <td>95842</td>\n",
       "      <td>CA</td>\n",
       "      <td>3</td>\n",
       "      <td>2</td>\n",
       "      <td>1104</td>\n",
       "      <td>Residential</td>\n",
       "      <td>Wed May 21 00:00:00 EDT 2008</td>\n",
       "      <td>0</td>\n",
       "      <td>38.681659</td>\n",
       "      <td>-121.351705</td>\n",
       "    </tr>\n",
       "    <tr>\n",
       "      <th>td</th>\n",
       "      <td>2561 19TH AVE</td>\n",
       "      <td>SACRAMENTO</td>\n",
       "      <td>95820</td>\n",
       "      <td>CA</td>\n",
       "      <td>3</td>\n",
       "      <td>1</td>\n",
       "      <td>1177</td>\n",
       "      <td>Residential</td>\n",
       "      <td>Wed May 21 00:00:00 EDT 2008</td>\n",
       "      <td>0</td>\n",
       "      <td>38.535092</td>\n",
       "      <td>-121.481367</td>\n",
       "    </tr>\n",
       "    <tr>\n",
       "      <th>rt</th>\n",
       "      <td>7325 10TH ST</td>\n",
       "      <td>RIO LINDA</td>\n",
       "      <td>95673</td>\n",
       "      <td>CA</td>\n",
       "      <td>3</td>\n",
       "      <td>2</td>\n",
       "      <td>1146</td>\n",
       "      <td>Residential</td>\n",
       "      <td>Wed May 21 00:00:00 EDT 2008</td>\n",
       "      <td>0</td>\n",
       "      <td>38.700909</td>\n",
       "      <td>-121.442979</td>\n",
       "    </tr>\n",
       "  </tbody>\n",
       "</table>\n",
       "</div>"
      ],
      "text/plain": [
       "                 street        city    zip state  beds  baths  sq__ft  \\\n",
       "lv          51 OMAHA CT  SACRAMENTO  95823    CA     3      1    1167   \n",
       "nn   5828 PEPPERMILL CT  SACRAMENTO  95841    CA     3      1    1122   \n",
       "rw  6048 OGDEN NASH WAY  SACRAMENTO  95842    CA     3      2    1104   \n",
       "td        2561 19TH AVE  SACRAMENTO  95820    CA     3      1    1177   \n",
       "rt         7325 10TH ST   RIO LINDA  95673    CA     3      2    1146   \n",
       "\n",
       "           type                     sale_date  price   latitude   longitude  \n",
       "lv  Residential  Wed May 21 00:00:00 EDT 2008      0  38.478902 -121.431028  \n",
       "nn        Condo  Wed May 21 00:00:00 EDT 2008      0  38.662595 -121.327813  \n",
       "rw  Residential  Wed May 21 00:00:00 EDT 2008      0  38.681659 -121.351705  \n",
       "td  Residential  Wed May 21 00:00:00 EDT 2008      0  38.535092 -121.481367  \n",
       "rt  Residential  Wed May 21 00:00:00 EDT 2008      0  38.700909 -121.442979  "
      ]
     },
     "execution_count": 113,
     "metadata": {},
     "output_type": "execute_result"
    }
   ],
   "source": [
    "small_idx.loc[small_idx.sq__ft > 1000, 'price'] = 0 \n",
    "small_idx.loc[small_idx.sq__ft > 1000]"
   ]
  },
  {
   "cell_type": "markdown",
   "metadata": {},
   "source": [
    "# Data Visualization"
   ]
  },
  {
   "cell_type": "markdown",
   "metadata": {},
   "source": [
    "Pandas works off of a plotting library called `matplotlib` by default. You can easily start visualizing dataframs and series just by a simple command."
   ]
  },
  {
   "cell_type": "code",
   "execution_count": 114,
   "metadata": {},
   "outputs": [
    {
     "data": {
      "text/plain": [
       "<matplotlib.axes._subplots.AxesSubplot at 0x7f58a40ceb00>"
      ]
     },
     "execution_count": 114,
     "metadata": {},
     "output_type": "execute_result"
    },
    {
     "data": {
      "image/png": "[encoded data removed]",
      "text/plain": [
       "<Figure size 432x288 with 1 Axes>"
      ]
     },
     "metadata": {},
     "output_type": "display_data"
    }
   ],
   "source": [
    "index_example.price.plot(kind='density')"
   ]
  },
  {
   "cell_type": "code",
   "execution_count": 115,
   "metadata": {},
   "outputs": [
    {
     "data": {
      "text/plain": [
       "<matplotlib.axes._subplots.AxesSubplot at 0x7f589a850a58>"
      ]
     },
     "execution_count": 115,
     "metadata": {},
     "output_type": "execute_result"
    },
    {
     "data": {
      "image/png": "[encoded data removed]",
      "text/plain": [
       "<Figure size 432x288 with 1 Axes>"
      ]
     },
     "metadata": {},
     "output_type": "display_data"
    }
   ],
   "source": [
    "index_example.plot.box()"
   ]
  }
 ],
 "metadata": {
  "kernelspec": {
   "display_name": "Python 3",
   "language": "python",
   "name": "python3"
  },
  "language_info": {
   "codemirror_mode": {
    "name": "ipython",
    "version": 3
   },
   "file_extension": ".py",
   "mimetype": "text/x-python",
   "name": "python",
   "nbconvert_exporter": "python",
   "pygments_lexer": "ipython3",
   "version": "3.7.0"
  }
 },
 "nbformat": 4,
 "nbformat_minor": 2
}
