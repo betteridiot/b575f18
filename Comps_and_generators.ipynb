{
 "cells": [
  {
   "cell_type": "code",
   "execution_count": null,
   "metadata": {
    "slideshow": {
     "slide_type": "skip"
    }
   },
   "outputs": [],
   "source": [
    "import os\n",
    "array_file = iter(open(os.path.join('.','attached','test_array.dat'), 'r'))"
   ]
  },
  {
   "cell_type": "markdown",
   "metadata": {
    "slideshow": {
     "slide_type": "slide"
    }
   },
   "source": [
    "# List Comprehensions and Generators\n",
    "Download this notebook from Canvas under Files > Python > MarcusCode > Comps_and_generators.ipynb<br/>\n",
    "or clone my repo at https://github.com/betteridiot/b575f18"
   ]
  },
  {
   "cell_type": "markdown",
   "metadata": {
    "hideCode": false,
    "hidePrompt": false,
    "slideshow": {
     "slide_type": "slide"
    }
   },
   "source": [
    "# Lists Comprehensions"
   ]
  },
  {
   "cell_type": "markdown",
   "metadata": {
    "hideCode": false,
    "hidePrompt": false
   },
   "source": [
    "As we *all* know, mathematicians and statisticians like to make simple things complicated. Instead of just saying `1+2=3`, we first have to prove that `+` is in fact addition. Then we have to ensure that our assumptions only apply to the select cases we expect our \"algorithm\" to be used. See, I am boring myself already."
   ]
  },
  {
   "cell_type": "markdown",
   "metadata": {
    "hideCode": false,
    "hidePrompt": false,
    "slideshow": {
     "slide_type": "slide"
    }
   },
   "source": [
    "### However, something useful came out of this banal minutiae--set notation:"
   ]
  },
  {
   "cell_type": "markdown",
   "metadata": {
    "hideCode": false,
    "hidePrompt": false,
    "slideshow": {
     "slide_type": "fragment"
    }
   },
   "source": [
    "This is something like:<br/>\n",
    "$V=(1,2,\\ \\ldots\\ ,n)$<br/> \n",
    "$S= \\{x^2:\\ x\\ in\\ {\\rm I\\!R}\\}$"
   ]
  },
  {
   "cell_type": "markdown",
   "metadata": {
    "hideCode": false,
    "hidePrompt": false,
    "slideshow": {
     "slide_type": "fragment"
    }
   },
   "source": [
    "While it looks like absolute garbage when you are about to take an exam...granted, I usually forget that `x` is a letter in the alphabet during exams, it has its uses."
   ]
  },
  {
   "cell_type": "markdown",
   "metadata": {
    "hideCode": false,
    "hidePrompt": false,
    "slideshow": {
     "slide_type": "subslide"
    }
   },
   "source": [
    "In Python, users tend to use ***'for loops'*** for iterate through our entire sample space. For example:"
   ]
  },
  {
   "cell_type": "code",
   "execution_count": null,
   "metadata": {
    "hideCode": false,
    "hidePrompt": true,
    "slideshow": {
     "slide_type": "fragment"
    }
   },
   "outputs": [],
   "source": [
    "S = []\n",
    "for x in range(1000):\n",
    "    S.append(x**2)\n",
    "print(S[:10])"
   ]
  },
  {
   "cell_type": "markdown",
   "metadata": {
    "hideCode": false,
    "hidePrompt": false,
    "slideshow": {
     "slide_type": "slide"
    }
   },
   "source": [
    "# There's got a be a better way!"
   ]
  },
  {
   "cell_type": "markdown",
   "metadata": {
    "hideCode": false,
    "hidePrompt": false
   },
   "source": [
    "There is Kevin! This same step can be compressed to a single line in Python. The example below is called a ***list comprehension***:"
   ]
  },
  {
   "cell_type": "code",
   "execution_count": null,
   "metadata": {
    "hideCode": false,
    "hidePrompt": true
   },
   "outputs": [],
   "source": [
    "S = [x**2 for x in range(1000)]\n",
    "print(S[:10])"
   ]
  },
  {
   "cell_type": "markdown",
   "metadata": {
    "hideCode": false,
    "hidePrompt": false,
    "slideshow": {
     "slide_type": "slide"
    }
   },
   "source": [
    "# Syntax of a *list** comprehensions"
   ]
  },
  {
   "cell_type": "markdown",
   "metadata": {
    "hideCode": false,
    "hidePrompt": false
   },
   "source": [
    "<center><img src=\"http://python-3-patterns-idioms-test.readthedocs.io/en/latest/_images/listComprehensions.gif\"/></center>"
   ]
  },
  {
   "cell_type": "markdown",
   "metadata": {
    "hideCode": false,
    "hidePrompt": false,
    "slideshow": {
     "slide_type": "slide"
    }
   },
   "source": [
    "# Not just math"
   ]
  },
  {
   "cell_type": "markdown",
   "metadata": {
    "hideCode": false,
    "hidePrompt": false
   },
   "source": [
    "Remember your homework? You had to process each line of an array one at a time, `strip()`, `split()`, and convert the object type. There were ultimately 2 ways to accomplish this:"
   ]
  },
  {
   "cell_type": "code",
   "execution_count": null,
   "metadata": {
    "hideCode": false,
    "hidePrompt": true
   },
   "outputs": [],
   "source": [
    "# First way: functionally (or standard for loop)\n"
   ]
  },
  {
   "cell_type": "code",
   "execution_count": null,
   "metadata": {
    "hideCode": false,
    "hidePrompt": true,
    "slideshow": {
     "slide_type": "subslide"
    }
   },
   "outputs": [],
   "source": [
    "# Second way: list comprehension\n"
   ]
  },
  {
   "cell_type": "markdown",
   "metadata": {
    "hideCode": false,
    "hidePrompt": false
   },
   "source": [
    "See how **easy** and **short** that is visually?"
   ]
  },
  {
   "cell_type": "markdown",
   "metadata": {
    "hideCode": false,
    "hidePrompt": false,
    "slideshow": {
     "slide_type": "subslide"
    }
   },
   "source": [
    "List comprehensions are one of foundations that Python coders use when they want to do something simple that requires a for loop. However, list comprehensions involve most of the same rules that apply to regular for loops, thus making them capable of much more."
   ]
  },
  {
   "cell_type": "code",
   "execution_count": null,
   "metadata": {},
   "outputs": [],
   "source": [
    "# Codons\n"
   ]
  },
  {
   "cell_type": "markdown",
   "metadata": {
    "hideCode": false,
    "hidePrompt": false,
    "slideshow": {
     "slide_type": "slide"
    }
   },
   "source": [
    "# But there is more!"
   ]
  },
  {
   "cell_type": "markdown",
   "metadata": {
    "hideCode": false,
    "hidePrompt": false
   },
   "source": [
    "You can add predicates (or conditionals) to your for loops to handle simple cases"
   ]
  },
  {
   "cell_type": "code",
   "execution_count": null,
   "metadata": {
    "hideCode": false,
    "hidePrompt": true
   },
   "outputs": [],
   "source": [
    "# predicates\n"
   ]
  },
  {
   "cell_type": "markdown",
   "metadata": {
    "hideCode": false,
    "hidePrompt": false,
    "slideshow": {
     "slide_type": "subslide"
    }
   },
   "source": [
    "However, the sky is the limit when it comes to complexity. Ever hear of the 'Fizz Buzz' interview question?<br/>\n",
    "For those that haven't, the 'Fizz Buzz' question requires a programmer to do the following:<br/>\n",
    "1. return 'Fizz' if the number is divisible by some number (usually 3)\n",
    "2. return 'Buzz' if it is divisible by another number (usually 5)\n",
    "3. return 'Fizzbuzz' if divisible by both\n",
    "4. return just the number if none of the above"
   ]
  },
  {
   "cell_type": "code",
   "execution_count": null,
   "metadata": {
    "hideCode": false,
    "hidePrompt": true,
    "slideshow": {
     "slide_type": "subslide"
    }
   },
   "outputs": [],
   "source": [
    "# One-line 'FizzBuzz'\n"
   ]
  },
  {
   "cell_type": "markdown",
   "metadata": {
    "hideCode": false,
    "hidePrompt": false,
    "slideshow": {
     "slide_type": "fragment"
    }
   },
   "source": [
    "There are some trade-offs though when you start making your list comprehensions more complex:<br/>\n",
    "1. Readability\n",
    "2. Understandability\n",
    "3. Conventionally, complex comprehensions are frowned on-they go against the 'Zen of Python'"
   ]
  },
  {
   "cell_type": "code",
   "execution_count": null,
   "metadata": {
    "hideCode": false,
    "hidePrompt": true,
    "slideshow": {
     "slide_type": "slide"
    }
   },
   "outputs": [],
   "source": [
    "# What's the 'Zen of Python' you ask?\n",
    "import this"
   ]
  },
  {
   "cell_type": "markdown",
   "metadata": {
    "hideCode": false,
    "hidePrompt": false,
    "slideshow": {
     "slide_type": "slide"
    }
   },
   "source": [
    "# Does more than just lists too"
   ]
  },
  {
   "cell_type": "code",
   "execution_count": 2,
   "metadata": {},
   "outputs": [],
   "source": [
    "from string import ascii_lowercase as lower"
   ]
  },
  {
   "cell_type": "code",
   "execution_count": null,
   "metadata": {
    "hideCode": false,
    "hidePrompt": true,
    "slideshow": {
     "slide_type": "subslide"
    }
   },
   "outputs": [],
   "source": [
    "# Dictionary Comprehensions\n"
   ]
  },
  {
   "cell_type": "code",
   "execution_count": null,
   "metadata": {
    "hideCode": false,
    "hidePrompt": true,
    "slideshow": {
     "slide_type": "subslide"
    }
   },
   "outputs": [],
   "source": [
    "# Set comprehensions\n"
   ]
  },
  {
   "cell_type": "markdown",
   "metadata": {
    "hideCode": false,
    "hidePrompt": false,
    "slideshow": {
     "slide_type": "fragment"
    }
   },
   "source": [
    "Let's take a second and look at the above example. What has happened here?"
   ]
  },
  {
   "cell_type": "markdown",
   "metadata": {
    "hideCode": false,
    "hidePrompt": false,
    "slideshow": {
     "slide_type": "slide"
    }
   },
   "source": [
    "# Sometimes, doing it all at once isn't the best approach"
   ]
  },
  {
   "cell_type": "markdown",
   "metadata": {
    "hideCode": false,
    "hidePrompt": false,
    "slideshow": {
     "slide_type": "slide"
    }
   },
   "source": [
    "# Workshop time!"
   ]
  },
  {
   "cell_type": "code",
   "execution_count": null,
   "metadata": {
    "hidePrompt": true,
    "slideshow": {
     "slide_type": "subslide"
    }
   },
   "outputs": [],
   "source": [
    "# Team Classic\n",
    "def stack_coins_classic(n):\n",
    "    stack = True # a stack of 4 coins\n",
    "    chocolates = []\n",
    "    for i in range(n):\n",
    "        coins = 0       \n",
    "        for j in range(4):\n",
    "            coins += 1\n",
    "        chocolates.append(stack)\n",
    "    print('All chocolates ready')\n",
    "    return chocolates\n",
    "\n",
    "def make_envelopes_classic(chocolates):\n",
    "    # for each envelope needed, put coins in envelopes\n",
    "    envelopes = [stack for j in chocolates]\n",
    "    print('All envelopes full')\n",
    "    return envelopes\n",
    "\n",
    "def hand_out_classic(envelopes):\n",
    "    # for each envelope made, hand them out\n",
    "    for env in envelopes:\n",
    "        pass\n",
    "    print('Deliveries complete')\n",
    "\n",
    "def new_year_classic(n):\n",
    "    chocolates = stack_coins_classic(n)\n",
    "    envelopes = make_envelopes_classic(chocolates)\n",
    "    deliveries = hand_out_classic(envelopes)\n",
    "    print('Delivery Complete')"
   ]
  },
  {
   "cell_type": "code",
   "execution_count": null,
   "metadata": {
    "hidePrompt": true,
    "slideshow": {
     "slide_type": "subslide"
    }
   },
   "outputs": [],
   "source": [
    "# Team Generator\n",
    "def stack_coins_gen(n):\n",
    "    stack = True\n",
    "    for i in range(n):\n",
    "        coins = 0     \n",
    "        for j in range(4):\n",
    "            coins += 1\n",
    "        print(f'Number {i+1} stack ready')\n",
    "        yield stack\n",
    "\n",
    "def make_envelopes_gen(chocolates):\n",
    "    full_envelope = True\n",
    "    while chocolates:\n",
    "        print('Envelope full')\n",
    "        yield full_envelope\n",
    "\n",
    "def hand_out_gen(envelopes):\n",
    "    delivery = True\n",
    "    while envelopes:\n",
    "        print('Out for delivery')\n",
    "        yield delivery\n",
    "\n",
    "def new_year_gen(n):\n",
    "    coins = stack_coins_gen(n)\n",
    "    envelope = make_envelopes_gen(coins)\n",
    "    delivery = hand_out_gen(envelope)\n",
    "    for person in range(n):\n",
    "        next(coins)\n",
    "        next(envelope)\n",
    "        next(delivery)\n",
    "    return 'Delivery Complete'"
   ]
  },
  {
   "cell_type": "code",
   "execution_count": null,
   "metadata": {
    "hideCode": true,
    "hidePrompt": true,
    "slideshow": {
     "slide_type": "skip"
    }
   },
   "outputs": [],
   "source": [
    "def vs():\n",
    "    return print()"
   ]
  },
  {
   "cell_type": "code",
   "execution_count": null,
   "metadata": {
    "hidePrompt": true,
    "slideshow": {
     "slide_type": "subslide"
    }
   },
   "outputs": [],
   "source": [
    "%time new_year_classic(5)\n",
    "vs()\n",
    "\n",
    "%time new_year_gen(5)"
   ]
  },
  {
   "cell_type": "markdown",
   "metadata": {
    "hideCode": false,
    "hidePrompt": false,
    "slideshow": {
     "slide_type": "slide"
    }
   },
   "source": [
    "# Generators"
   ]
  },
  {
   "cell_type": "markdown",
   "metadata": {
    "hideCode": false,
    "hidePrompt": false
   },
   "source": [
    "<center><img src=\"http://nvie.com/img/relationships.png\"/></center>"
   ]
  },
  {
   "cell_type": "markdown",
   "metadata": {
    "hideCode": false,
    "hidePrompt": false,
    "slideshow": {
     "slide_type": "subslide"
    }
   },
   "source": [
    "At the core of `generators` and `iterators` lie the concept of **lazy (or on-demand) evaluation**. This means that it won't evaluate the *`next`* expression until you ask it to."
   ]
  },
  {
   "cell_type": "code",
   "execution_count": 4,
   "metadata": {
    "hideCode": true,
    "hidePrompt": true
   },
   "outputs": [
    {
     "data": {
      "text/html": [
       "<center><img src=https://media.giphy.com/media/MB7K6KdwWfN7y/giphy.gif></center>"
      ],
      "text/plain": [
       "<IPython.core.display.HTML object>"
      ]
     },
     "execution_count": 4,
     "metadata": {},
     "output_type": "execute_result"
    }
   ],
   "source": [
    "from IPython.display import HTML\n",
    "\n",
    "#HTML('<center><img src=https://media.giphy.com/media/fd61KYrYcyoQo/giphy.gif></center>')\n",
    "HTML('<center><img src=https://media.giphy.com/media/MB7K6KdwWfN7y/giphy.gif></center>')"
   ]
  },
  {
   "cell_type": "markdown",
   "metadata": {
    "hideCode": false,
    "hidePrompt": false,
    "slideshow": {
     "slide_type": "slide"
    }
   },
   "source": [
    "## Lists vs iterators"
   ]
  },
  {
   "cell_type": "code",
   "execution_count": null,
   "metadata": {
    "hideCode": false,
    "hidePrompt": true
   },
   "outputs": [],
   "source": [
    "# iterate through list\n"
   ]
  },
  {
   "cell_type": "markdown",
   "metadata": {
    "hideCode": false,
    "hidePrompt": false,
    "slideshow": {
     "slide_type": "subslide"
    }
   },
   "source": [
    "Now, that I have gone through all the elements of the list, what happens if I try to go back and see something?"
   ]
  },
  {
   "cell_type": "code",
   "execution_count": null,
   "metadata": {
    "hideCode": false,
    "hidePrompt": true
   },
   "outputs": [],
   "source": [
    "# Print out a slice"
   ]
  },
  {
   "cell_type": "markdown",
   "metadata": {
    "hideCode": false,
    "hidePrompt": false,
    "slideshow": {
     "slide_type": "subslide"
    }
   },
   "source": [
    "You have already seen and used *iterables* before. An example of one is seen just above: `range`"
   ]
  },
  {
   "cell_type": "code",
   "execution_count": null,
   "metadata": {
    "hideCode": false,
    "hidePrompt": true,
    "scrolled": true
   },
   "outputs": [],
   "source": [
    "# Iterate through range\n"
   ]
  },
  {
   "cell_type": "markdown",
   "metadata": {
    "hideCode": false,
    "hidePrompt": false,
    "slideshow": {
     "slide_type": "subslide"
    }
   },
   "source": [
    "But the key method associated with `iterators` is `next()`. Watch what happens when we call `next()` on a range."
   ]
  },
  {
   "cell_type": "code",
   "execution_count": null,
   "metadata": {
    "hideCode": false,
    "hidePrompt": true,
    "scrolled": true
   },
   "outputs": [],
   "source": [
    "a_range = range(10)\n",
    "next(a_range)"
   ]
  },
  {
   "cell_type": "markdown",
   "metadata": {
    "hideCode": false,
    "hidePrompt": false,
    "slideshow": {
     "slide_type": "fragment"
    }
   },
   "source": [
    "Now what happens when I try to look back at `a_range`?"
   ]
  },
  {
   "cell_type": "code",
   "execution_count": null,
   "metadata": {
    "hideCode": false,
    "hidePrompt": true,
    "slideshow": {
     "slide_type": "fragment"
    }
   },
   "outputs": [],
   "source": [
    "# Print slice of range\n"
   ]
  },
  {
   "cell_type": "markdown",
   "metadata": {
    "hideCode": false,
    "hidePrompt": false,
    "slideshow": {
     "slide_type": "subslide"
    }
   },
   "source": [
    "So, `range` is iterable, but not an iterator. It also doesn't store state. Can we hack it though?"
   ]
  },
  {
   "cell_type": "code",
   "execution_count": null,
   "metadata": {
    "hideCode": false,
    "hidePrompt": true
   },
   "outputs": [],
   "source": [
    "# iter() makes any iterable an iterator (if it has a __iter__ and __next__ method)\n",
    "b_range = iter(range(10))\n",
    "for i in range(5):\n",
    "    print(next(b_range))"
   ]
  },
  {
   "cell_type": "markdown",
   "metadata": {
    "hideCode": false,
    "hidePrompt": false,
    "slideshow": {
     "slide_type": "subslide"
    }
   },
   "source": [
    "`iterators` are *consumed* when they have been processed. They cannot go backwards, and they preserve no state after completion. However, think of this more as a feature than a fault."
   ]
  },
  {
   "cell_type": "markdown",
   "metadata": {
    "hideCode": false,
    "hidePrompt": false,
    "slideshow": {
     "slide_type": "slide"
    }
   },
   "source": [
    "## What are some use cases for ***not*** wanting to keep all of your data?"
   ]
  },
  {
   "cell_type": "code",
   "execution_count": null,
   "metadata": {
    "hideCode": false,
    "hidePrompt": true,
    "slideshow": {
     "slide_type": "subslide"
    }
   },
   "outputs": [],
   "source": [
    "# Classic prime number example of an iterator\n",
    "def check_prime(number):\n",
    "    for divisor in range(2, int(number ** 0.5) + 1):\n",
    "        if number % divisor == 0:\n",
    "            return False\n",
    "    return True"
   ]
  },
  {
   "cell_type": "code",
   "execution_count": null,
   "metadata": {
    "hidePrompt": true,
    "slideshow": {
     "slide_type": "subslide"
    }
   },
   "outputs": [],
   "source": [
    "class Primes:\n",
    "    def __init__(self, max_number):\n",
    "        self.max = max_number\n",
    "        self.number = 1\n",
    "\n",
    "    def __iter__(self):\n",
    "        return self\n",
    "\n",
    "    def __next__(self):\n",
    "        self.number += 1\n",
    "        if self.number >= self.max:\n",
    "            raise StopIteration\n",
    "        elif check_prime(self.number):\n",
    "            return self.number\n",
    "        else:\n",
    "            return self.__next__()"
   ]
  },
  {
   "cell_type": "code",
   "execution_count": null,
   "metadata": {
    "hideCode": false,
    "hidePrompt": true,
    "slideshow": {
     "slide_type": "subslide"
    }
   },
   "outputs": [],
   "source": [
    "# Instantiate the iterator\n",
    "primes = Primes(100000000000)"
   ]
  },
  {
   "cell_type": "code",
   "execution_count": null,
   "metadata": {
    "hidePrompt": true
   },
   "outputs": [],
   "source": [
    "# primes is an iterator, not a list of values...it waits to compute the next value\n",
    "print(primes)"
   ]
  },
  {
   "cell_type": "code",
   "execution_count": null,
   "metadata": {
    "hidePrompt": true
   },
   "outputs": [],
   "source": [
    "# Compute the next value without storing it\n",
    "i = 0\n",
    "for x in primes:\n",
    "    if i > 100:\n",
    "        break\n",
    "    print(x)\n",
    "    i += 1"
   ]
  },
  {
   "cell_type": "markdown",
   "metadata": {
    "hideCode": false,
    "hidePrompt": false,
    "slideshow": {
     "slide_type": "subslide"
    }
   },
   "source": [
    "The defining traits of `generators` is that they produce a sequence of results instead of a single value and they preserve ***state***.<br/>\n",
    "This means that after every time the `generator` gives control back to the user, it keeps it stores its parameter space."
   ]
  },
  {
   "cell_type": "code",
   "execution_count": null,
   "metadata": {
    "hideCode": false,
    "hidePrompt": true
   },
   "outputs": [],
   "source": [
    "# Plain file reader\n",
    "def opener(file_path, obj_type, r_or_w = 'r', delimiter = '\\t'):\n",
    "    with open(file_path, r_or_w) as infile:\n",
    "        for line in infile:\n",
    "            row = [obj_type(i) for i in line.strip().split(delimiter)]\n",
    "            yield row"
   ]
  },
  {
   "cell_type": "markdown",
   "metadata": {
    "hideCode": false,
    "hidePrompt": false
   },
   "source": [
    "You should have seen a very different keyword than normally used: `yield`<br/>\n",
    "`yield` is only used in `generators` and has a specific use<br/>\n",
    "It allows the function to temporarily hand control back to the user."
   ]
  },
  {
   "cell_type": "code",
   "execution_count": null,
   "metadata": {
    "hideCode": false,
    "hidePrompt": true,
    "slideshow": {
     "slide_type": "subslide"
    }
   },
   "outputs": [],
   "source": [
    "array = opener('./attached/test_array.dat', float)\n",
    "next(array) # This \"primes\" the generator to start working."
   ]
  },
  {
   "cell_type": "code",
   "execution_count": null,
   "metadata": {
    "hideCode": false,
    "hidePrompt": true
   },
   "outputs": [],
   "source": [
    "# Let's start working\n",
    "print(next(array))"
   ]
  },
  {
   "cell_type": "markdown",
   "metadata": {
    "hideCode": false,
    "hidePrompt": false
   },
   "source": [
    "The first time a `next()` function is used to get the `generator` warmed up. <br/>\n",
    "After that, `next()` just tells the `generator` to go till the next `yield`"
   ]
  },
  {
   "cell_type": "code",
   "execution_count": null,
   "metadata": {
    "hideCode": false,
    "hidePrompt": true,
    "slideshow": {
     "slide_type": "subslide"
    }
   },
   "outputs": [],
   "source": [
    "# Multiple inline yields\n",
    "def printer():\n",
    "    i = 0\n",
    "    yield 'Starting'\n",
    "    for i in range(3):\n",
    "        yield f'{i}'\n",
    "    yield 'Complete'"
   ]
  },
  {
   "cell_type": "code",
   "execution_count": null,
   "metadata": {
    "hideCode": false,
    "hidePrompt": true,
    "slideshow": {
     "slide_type": "subslide"
    }
   },
   "outputs": [],
   "source": [
    "example = printer()\n",
    "print(next(example))"
   ]
  },
  {
   "cell_type": "code",
   "execution_count": null,
   "metadata": {
    "hideCode": false,
    "hidePrompt": true
   },
   "outputs": [],
   "source": [
    "for i in range(3):\n",
    "    print(next(example))"
   ]
  },
  {
   "cell_type": "code",
   "execution_count": null,
   "metadata": {
    "hideCode": false,
    "hidePrompt": true
   },
   "outputs": [],
   "source": [
    "print(next(example))"
   ]
  },
  {
   "cell_type": "markdown",
   "metadata": {
    "hideCode": false,
    "hidePrompt": false,
    "slideshow": {
     "slide_type": "slide"
    }
   },
   "source": [
    "# Coroutines: generators that both receive values"
   ]
  },
  {
   "cell_type": "code",
   "execution_count": null,
   "metadata": {
    "hideCode": false,
    "hidePrompt": true,
    "slideshow": {
     "slide_type": "subslide"
    }
   },
   "outputs": [],
   "source": [
    "# Incrementer with break case\n",
    "def grep(pattern):\n",
    "    print(f'Looking for {pattern}')\n",
    "    while True:\n",
    "        entry = yield\n",
    "        if pattern in entry:\n",
    "            print(f\"{pattern} found. You're awesome, yay and stuff...\")\n",
    "        else:\n",
    "            print(f'\"{entry}\" is not \"{pattern}\" is it? Try again')"
   ]
  },
  {
   "cell_type": "code",
   "execution_count": null,
   "metadata": {
    "hideCode": false,
    "hidePrompt": true
   },
   "outputs": [],
   "source": [
    "finder = grep('gen')\n",
    "next(finder)"
   ]
  },
  {
   "cell_type": "code",
   "execution_count": null,
   "metadata": {
    "hideCode": false,
    "hidePrompt": true
   },
   "outputs": [],
   "source": [
    "finder.close()"
   ]
  },
  {
   "cell_type": "code",
   "execution_count": null,
   "metadata": {
    "hideCode": false,
    "hidePrompt": true
   },
   "outputs": [],
   "source": [
    "finder.send(\"generators are cool\")"
   ]
  },
  {
   "cell_type": "markdown",
   "metadata": {
    "hideCode": false,
    "hidePrompt": false,
    "slideshow": {
     "slide_type": "slide"
    }
   },
   "source": [
    "# Generator expressions"
   ]
  },
  {
   "cell_type": "markdown",
   "metadata": {
    "hideCode": false,
    "hidePrompt": false
   },
   "source": [
    "To top finish off the lession, let's combine what we learned about list comprehensions and generators to make a generator expression"
   ]
  },
  {
   "cell_type": "code",
   "execution_count": null,
   "metadata": {
    "hideCode": false,
    "hidePrompt": true,
    "slideshow": {
     "slide_type": "subslide"
    }
   },
   "outputs": [],
   "source": [
    "%%time\n",
    "# stadard list appending\n",
    "limit = 1e14\n",
    "i = 0\n",
    "make_squares = []\n",
    "while True:\n",
    "    entry = i ** 2\n",
    "    if entry > limit:\n",
    "        break\n",
    "    else:\n",
    "        make_squares.append(entry)\n",
    "    i += 1"
   ]
  },
  {
   "cell_type": "code",
   "execution_count": null,
   "metadata": {
    "hideCode": false,
    "hidePrompt": true,
    "slideshow": {
     "slide_type": "subslide"
    }
   },
   "outputs": [],
   "source": [
    "%%time\n",
    "# list comprehension\n",
    "squares = [x ** 2 for x in range(len(make_squares))]"
   ]
  },
  {
   "cell_type": "code",
   "execution_count": null,
   "metadata": {
    "hideCode": false,
    "hidePrompt": true,
    "slideshow": {
     "slide_type": "subslide"
    }
   },
   "outputs": [],
   "source": [
    "%%time\n",
    "# Generator expression\n",
    "sq = (x**2 for x in range(len(make_squares)))"
   ]
  },
  {
   "cell_type": "markdown",
   "metadata": {
    "hideCode": false,
    "hidePrompt": false,
    "slideshow": {
     "slide_type": "fragment"
    }
   },
   "source": [
    "### Would you look at that?!? Wow, that is fast...wait, I tricked you. Generators are lazy, and so are generator expressions"
   ]
  },
  {
   "cell_type": "code",
   "execution_count": null,
   "metadata": {
    "hideCode": false,
    "hidePrompt": true,
    "slideshow": {
     "slide_type": "subslide"
    }
   },
   "outputs": [],
   "source": [
    "# Make an expression infinitely loopable\n",
    "def fake_while_loop():\n",
    "    i = 0\n",
    "    while True:\n",
    "        yield i\n",
    "        i += 1\n",
    "\n",
    "# set up my fake while loop\n",
    "whl = fake_while_loop()\n",
    "\n",
    "# Now, yield every square one at a time.\n",
    "sqs = (x**2 for x in whl)"
   ]
  },
  {
   "cell_type": "code",
   "execution_count": null,
   "metadata": {
    "hideCode": false,
    "hidePrompt": true,
    "slideshow": {
     "slide_type": "fragment"
    }
   },
   "outputs": [],
   "source": [
    "# Let' use it\n",
    "sqs"
   ]
  },
  {
   "cell_type": "code",
   "execution_count": null,
   "metadata": {
    "hideCode": false,
    "hidePrompt": true,
    "slideshow": {
     "slide_type": "fragment"
    }
   },
   "outputs": [],
   "source": [
    "%%time\n",
    "# Okay, let's try that again\n",
    "for i in range(int(1e14)):\n",
    "    next(sqs)"
   ]
  },
  {
   "cell_type": "markdown",
   "metadata": {
    "hideCode": false,
    "hidePrompt": false,
    "slideshow": {
     "slide_type": "subslide"
    }
   },
   "source": [
    "## Wait, the iteratable `range` could be consumed by `list` and `sum`, and generators are iterables, can you consume a generator?"
   ]
  },
  {
   "cell_type": "code",
   "execution_count": null,
   "metadata": {
    "hideCode": false,
    "hidePrompt": true,
    "slideshow": {
     "slide_type": "fragment"
    }
   },
   "outputs": [],
   "source": [
    "print(sum(x**2 for x in range(100)))\n",
    "\n",
    "S = list(x**2 for x in range(1000))\n",
    "print(S[:25])"
   ]
  },
  {
   "cell_type": "markdown",
   "metadata": {
    "slideshow": {
     "slide_type": "fragment"
    }
   },
   "source": [
    "If the last example looks kind of familiar, it is the first example we looked at for using list comprehensions. By using a generator expression that is consumed by `list`, we made our own list comprehension"
   ]
  },
  {
   "cell_type": "markdown",
   "metadata": {
    "slideshow": {
     "slide_type": "slide"
    }
   },
   "source": [
    "# Conclusions"
   ]
  },
  {
   "cell_type": "markdown",
   "metadata": {},
   "source": [
    "1. List comprehensions can compress simple for loops down to a single line\n",
    "2. List comprehensions tend to be more efficient than standard for loops when the data is sufficiently large\n",
    "3. The same syntax to make a list comprehension can be used to make dictionarys, sets, and generators\n",
    "4. Generators are iterators that lazily evaluate the next value and `yield` it back\n",
    "5. Generators can receive values, as well and `yield` them\n",
    "6. Once a generator (or any iterator) is consumed when complete\n",
    "7. Custom coroutines have to be 'primed' once before use"
   ]
  },
  {
   "cell_type": "markdown",
   "metadata": {
    "slideshow": {
     "slide_type": "slide"
    }
   },
   "source": [
    "# Advanced Coroutines"
   ]
  },
  {
   "cell_type": "markdown",
   "metadata": {
    "slideshow": {
     "slide_type": "fragment"
    }
   },
   "source": [
    "**Disclaimer**: I briefly discuss the decorator seen next. However, there are a lot more to decorators than the scope of this lecture can cover. If you do not understand the next part, don't worry: we are not expecting you to know them yet. We are using them here for presentation purposes only."
   ]
  },
  {
   "cell_type": "code",
   "execution_count": null,
   "metadata": {
    "hidePrompt": true,
    "slideshow": {
     "slide_type": "subslide"
    }
   },
   "outputs": [],
   "source": [
    "# Make a decorator that automatically primes coroutine\n",
    "def coroutine(func):\n",
    "    def start(*args,**kwargs):\n",
    "        cr = func(*args,**kwargs)\n",
    "        next(cr)\n",
    "        return cr\n",
    "    return start"
   ]
  },
  {
   "cell_type": "code",
   "execution_count": null,
   "metadata": {
    "hidePrompt": true,
    "slideshow": {
     "slide_type": "subslide"
    }
   },
   "outputs": [],
   "source": [
    "# iterate through an array\n",
    "@coroutine\n",
    "def formatter(target):\n",
    "    while True:\n",
    "        entry = yield\n",
    "        target.send([float(i) for i in line.strip().split('\\t')])\n",
    "    \n",
    "@coroutine\n",
    "def row_mean(target):\n",
    "    while True:\n",
    "        row = yield\n",
    "        target.send(sum(row)/len(row))\n",
    "\n",
    "@coroutine\n",
    "def cool_printer():\n",
    "    while True:\n",
    "        content = yield\n",
    "        print(f'The average for the row is {content}')\n",
    "\n",
    "cp = cool_printer()\n",
    "avg = row_mean(cp)\n",
    "f = formatter(avg)        \n",
    "with open('./attached/test_array.dat', 'r') as infile:\n",
    "        for line in infile:\n",
    "            f.send(line)"
   ]
  }
 ],
 "metadata": {
  "celltoolbar": "Hide code",
  "hide_code_all_hidden": false,
  "kernelspec": {
   "display_name": "Python 3",
   "language": "python",
   "name": "python3"
  },
  "language_info": {
   "codemirror_mode": {
    "name": "ipython",
    "version": 3
   },
   "file_extension": ".py",
   "mimetype": "text/x-python",
   "name": "python",
   "nbconvert_exporter": "python",
   "pygments_lexer": "ipython3",
   "version": "3.7.0"
  }
 },
 "nbformat": 4,
 "nbformat_minor": 2
}
