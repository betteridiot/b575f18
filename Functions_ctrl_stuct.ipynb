{
 "cells": [
  {
   "cell_type": "markdown",
   "metadata": {},
   "source": [
    "# Control Structures and Functions"
   ]
  },
  {
   "cell_type": "markdown",
   "metadata": {},
   "source": [
    "---"
   ]
  },
  {
   "cell_type": "markdown",
   "metadata": {},
   "source": [
    "![](https://raw.githubusercontent.com/betteridiot/biocomp_bootcamp/master/figures/paragraph.png)"
   ]
  },
  {
   "cell_type": "markdown",
   "metadata": {},
   "source": [
    "In both examples, what is used to indicate where a paragraph begins and ends?"
   ]
  },
  {
   "cell_type": "markdown",
   "metadata": {},
   "source": [
    "---"
   ]
  },
  {
   "cell_type": "markdown",
   "metadata": {},
   "source": [
    "## Functions"
   ]
  },
  {
   "cell_type": "markdown",
   "metadata": {},
   "source": [
    "Think of functions like the paragraphs of a paper. They start with a purpose (definition). They often require some background (arguments). They need evidence & explanation (code). And, they link to the next idea (returned data)."
   ]
  },
  {
   "cell_type": "markdown",
   "metadata": {},
   "source": [
    "Additionally, **functions are the easiest way to be efficiently lazy**."
   ]
  },
  {
   "cell_type": "markdown",
   "metadata": {},
   "source": [
    "#### Function Syntax\n",
    "Fancy, formal definition stuff"
   ]
  },
  {
   "cell_type": "markdown",
   "metadata": {},
   "source": [
    "```python\n",
    "def function_name(func_arg1, func_arg2, func_kwarg=None):\n",
    "    some_function_code = func_arg1 + func_arg2\n",
    "    if some_function_code > 0:\n",
    "        return func_kwarg\n",
    "    else:\n",
    "        return some_function_code\n",
    "```"
   ]
  },
  {
   "cell_type": "markdown",
   "metadata": {},
   "source": [
    "* Each function should have a name. This is declared by using the `def` keyword\n",
    "* A function doesn't need to have arguments to work\n",
    "* The collection of arguments for a given function is called a **signature**\n",
    "* The function works within its own ***scope*** unless it is using something that was passed to it or is global\n",
    "* `return` statments exit the function while passing on the data\n",
    "* Defining a function does not run a function. It must be called using `([args])` after the function name"
   ]
  },
  {
   "cell_type": "markdown",
   "metadata": {},
   "source": [
    "---\n",
    "### Function Examples"
   ]
  },
  {
   "cell_type": "code",
   "execution_count": 1,
   "metadata": {},
   "outputs": [],
   "source": [
    "# The famous do_nothing()\n",
    "def do_nothing():\n",
    "    pass"
   ]
  },
  {
   "cell_type": "code",
   "execution_count": 2,
   "metadata": {},
   "outputs": [],
   "source": [
    "do_nothing()"
   ]
  },
  {
   "cell_type": "code",
   "execution_count": 3,
   "metadata": {},
   "outputs": [],
   "source": [
    "def do_something():\n",
    "    return 5 + 3"
   ]
  },
  {
   "cell_type": "code",
   "execution_count": 4,
   "metadata": {},
   "outputs": [
    {
     "data": {
      "text/plain": [
       "8"
      ]
     },
     "execution_count": 4,
     "metadata": {},
     "output_type": "execute_result"
    }
   ],
   "source": [
    "do_something()"
   ]
  },
  {
   "cell_type": "code",
   "execution_count": 9,
   "metadata": {},
   "outputs": [],
   "source": [
    "# Positional arguments\n",
    "def foo(x ,y):\n",
    "    return x//y"
   ]
  },
  {
   "cell_type": "code",
   "execution_count": null,
   "metadata": {},
   "outputs": [
    {
     "ename": "<class 'reactivepy.code_object.MultipleDefinitionsError'>",
     "evalue": "",
     "output_type": "error",
     "traceback": [
      "Traceback \u001b[0;36m(most recent call last)\u001b[0m:",
      "  File \u001b[1;32m\"/root/Downloads/reactivepy/reactivepy/code_object.py\"\u001b[0m, line \u001b[1;32m97\u001b[0m, in \u001b[1;35m__init__\u001b[0m",
      "    self.output_vars: FrozenSet[SymbolWrapper] = CodeObject._find_output_variables(self.symbol_table",
      "\u001b[0;36m  File \u001b[0;32m\"/root/Downloads/reactivepy/reactivepy/code_object.py\"\u001b[0;36m, line \u001b[0;32m88\u001b[0;36m, in \u001b[0;35m_find_output_variables\u001b[0;36m\u001b[0m",
      "\u001b[0;31m    raise MultipleDefinitionsError()\u001b[0m",
      "\u001b[0;31mMultipleDefinitionsError\u001b[0m"
     ]
    }
   ],
   "source": [
    "bleep = 5\n",
    "bloop = 7\n",
    "foo(bleep, bloop)"
   ]
  },
  {
   "cell_type": "code",
   "execution_count": null,
   "metadata": {},
   "outputs": [
    {
     "ename": "<class 'reactivepy.code_object.MultipleDefinitionsError'>",
     "evalue": "",
     "output_type": "error",
     "traceback": [
      "Traceback \u001b[0;36m(most recent call last)\u001b[0m:",
      "  File \u001b[1;32m\"/root/Downloads/reactivepy/reactivepy/code_object.py\"\u001b[0m, line \u001b[1;32m97\u001b[0m, in \u001b[1;35m__init__\u001b[0m",
      "    self.output_vars: FrozenSet[SymbolWrapper] = CodeObject._find_output_variables(self.symbol_table",
      "\u001b[0;36m  File \u001b[0;32m\"/root/Downloads/reactivepy/reactivepy/code_object.py\"\u001b[0;36m, line \u001b[0;32m88\u001b[0;36m, in \u001b[0;35m_find_output_variables\u001b[0;36m\u001b[0m",
      "\u001b[0;31m    raise MultipleDefinitionsError()\u001b[0m",
      "\u001b[0;31mMultipleDefinitionsError\u001b[0m"
     ]
    }
   ],
   "source": [
    "def parse_line(line):\n",
    "    return line.strip().split('\\t')\n",
    "\n",
    "for read in bam_file:\n",
    "    parse_line(line)"
   ]
  },
  {
   "cell_type": "code",
   "execution_count": 5,
   "metadata": {},
   "outputs": [],
   "source": [
    "# Default/keyword arguments\n",
    "def bar(x=None, y=None):\n",
    "    print(\"x=\"+str(x), \"y=\"+str(y))\n",
    "    return x//y"
   ]
  },
  {
   "cell_type": "code",
   "execution_count": 7,
   "metadata": {},
   "outputs": [
    {
     "name": "stdout",
     "output_type": "stream",
     "text": [
      "x=5 y=7\n"
     ]
    }
   ],
   "source": [
    "a = bar(y= 7, x=5)"
   ]
  },
  {
   "cell_type": "code",
   "execution_count": 10,
   "metadata": {},
   "outputs": [],
   "source": [
    "# Default/keyword arguments\n",
    "def bar(x=None, y=None):\n",
    "    if x is None:\n",
    "        x = 5\n",
    "    if y is None:\n",
    "        y = 7\n",
    "    return x//y"
   ]
  },
  {
   "cell_type": "code",
   "execution_count": 16,
   "metadata": {},
   "outputs": [],
   "source": [
    "# Full function\n",
    "def foo_bar(x, y, z=None, i = None):\n",
    "    print('x', x)\n",
    "    print('y', y)\n",
    "    print('z', z)\n",
    "    return None"
   ]
  },
  {
   "cell_type": "code",
   "execution_count": 17,
   "metadata": {},
   "outputs": [
    {
     "name": "stdout",
     "output_type": "stream",
     "text": [
      "x 3\n",
      "y 4\n",
      "z Marcus\n"
     ]
    }
   ],
   "source": [
    "foo_bar(3, 4, i=9, z='Marcus')"
   ]
  },
  {
   "cell_type": "markdown",
   "metadata": {},
   "source": [
    "#### Exercise"
   ]
  },
  {
   "cell_type": "markdown",
   "metadata": {},
   "source": [
    "Q. How do you eat an elephant?<br/>\n",
    "A. One bite at a time"
   ]
  },
  {
   "cell_type": "code",
   "execution_count": null,
   "metadata": {},
   "outputs": [],
   "source": [
    "elephant = 100\n",
    "bite = 1\n",
    "\n",
    "# Eat the elephant\n",
    "for i in range(elephant1):\n",
    "    elephant1 -= bite\n",
    "# Eat the elephant\n",
    "for i in range(elephant2):\n",
    "    elephant2 -= bite\n",
    "# Eat the elephant\n",
    "for i in range(elephant3):\n",
    "    elephant3 -= bite"
   ]
  },
  {
   "cell_type": "code",
   "execution_count": 18,
   "metadata": {},
   "outputs": [],
   "source": [
    "# Now, with functions, eat a herd of elephants\n",
    "elephant = 100\n",
    "bite = 1\n",
    "herd_of_elephants = [elephant] * 5"
   ]
  },
  {
   "cell_type": "code",
   "execution_count": 20,
   "metadata": {},
   "outputs": [],
   "source": [
    "def eat_elephant(an_elephant):\n",
    "    for i in range(an_elephant):\n",
    "        an_elephant -= bite\n",
    "    print('Yum, yum. elephant gone')"
   ]
  },
  {
   "cell_type": "code",
   "execution_count": 21,
   "metadata": {},
   "outputs": [
    {
     "name": "stdout",
     "output_type": "stream",
     "text": [
      "Yum, yum. elephant gone\n",
      "Yum, yum. elephant gone\n",
      "Yum, yum. elephant gone\n",
      "Yum, yum. elephant gone\n",
      "Yum, yum. elephant gone\n"
     ]
    }
   ],
   "source": [
    "for e in herd_of_elephants:\n",
    "    eat_elephant(e)"
   ]
  },
  {
   "cell_type": "markdown",
   "metadata": {},
   "source": [
    "---\n",
    "### Why do we need `if __name__ == '__main__':`?"
   ]
  },
  {
   "cell_type": "markdown",
   "metadata": {},
   "source": [
    "Brief demo"
   ]
  },
  {
   "cell_type": "code",
   "execution_count": 23,
   "metadata": {},
   "outputs": [
    {
     "name": "stdout",
     "output_type": "stream",
     "text": [
      "Top-level loaded\n"
     ]
    }
   ],
   "source": [
    "import name_main_demo"
   ]
  },
  {
   "cell_type": "code",
   "execution_count": 24,
   "metadata": {},
   "outputs": [
    {
     "name": "stdout",
     "output_type": "stream",
     "text": [
      "Marcus was here\n"
     ]
    }
   ],
   "source": [
    "name_main_demo.foo()"
   ]
  },
  {
   "cell_type": "code",
   "execution_count": 40,
   "metadata": {},
   "outputs": [],
   "source": [
    "new_func = name_main_demo.foo"
   ]
  },
  {
   "cell_type": "code",
   "execution_count": 41,
   "metadata": {},
   "outputs": [
    {
     "name": "stdout",
     "output_type": "stream",
     "text": [
      "Marcus was here\n"
     ]
    }
   ],
   "source": [
    "new_func()"
   ]
  },
  {
   "cell_type": "markdown",
   "metadata": {},
   "source": [
    "---\n",
    "### Function Scope\n",
    "What happens in functions, stays in functions"
   ]
  },
  {
   "cell_type": "code",
   "execution_count": null,
   "metadata": {},
   "outputs": [
    {
     "ename": "<class 'reactivepy.code_object.MultipleDefinitionsError'>",
     "evalue": "",
     "output_type": "error",
     "traceback": [
      "Traceback \u001b[0;36m(most recent call last)\u001b[0m:",
      "  File \u001b[1;32m\"/root/Downloads/reactivepy/reactivepy/code_object.py\"\u001b[0m, line \u001b[1;32m97\u001b[0m, in \u001b[1;35m__init__\u001b[0m",
      "    self.output_vars: FrozenSet[SymbolWrapper] = CodeObject._find_output_variables(self.symbol_table",
      "\u001b[0;36m  File \u001b[0;32m\"/root/Downloads/reactivepy/reactivepy/code_object.py\"\u001b[0;36m, line \u001b[0;32m88\u001b[0;36m, in \u001b[0;35m_find_output_variables\u001b[0;36m\u001b[0m",
      "\u001b[0;31m    raise MultipleDefinitionsError()\u001b[0m",
      "\u001b[0;31mMultipleDefinitionsError\u001b[0m"
     ]
    }
   ],
   "source": [
    "# scope example\n",
    "spam = 42\n",
    "\n",
    "def spam_alot(spam):\n",
    "    spam *= spam\n",
    "    return spam\n",
    "spam = spam_alot(spam)"
   ]
  },
  {
   "cell_type": "markdown",
   "metadata": {},
   "source": [
    "What is the original value of spam?"
   ]
  },
  {
   "cell_type": "code",
   "execution_count": 26,
   "metadata": {},
   "outputs": [
    {
     "name": "stdout",
     "output_type": "stream",
     "text": [
      "Staring value of spam: 42\n"
     ]
    }
   ],
   "source": [
    "print(f'Staring value of spam: {spam}')"
   ]
  },
  {
   "cell_type": "markdown",
   "metadata": {},
   "source": [
    "---\n",
    "What is the value of spam now?"
   ]
  },
  {
   "cell_type": "code",
   "execution_count": 37,
   "metadata": {},
   "outputs": [
    {
     "name": "stdout",
     "output_type": "stream",
     "text": [
      "spam_alot spam: 1764\n"
     ]
    }
   ],
   "source": [
    "print(f'spam_alot spam: {spam_alot()}')"
   ]
  },
  {
   "cell_type": "markdown",
   "metadata": {},
   "source": [
    "---\n",
    "Care to take a guess?"
   ]
  },
  {
   "cell_type": "code",
   "execution_count": 38,
   "metadata": {},
   "outputs": [
    {
     "name": "stdout",
     "output_type": "stream",
     "text": [
      "Final value of spam: 1764\n"
     ]
    }
   ],
   "source": [
    "print(f'Final value of spam: {spam}')"
   ]
  },
  {
   "cell_type": "markdown",
   "metadata": {},
   "source": [
    "After seeing this example, can anyone describe scope?"
   ]
  },
  {
   "cell_type": "markdown",
   "metadata": {},
   "source": [
    "---"
   ]
  },
  {
   "cell_type": "markdown",
   "metadata": {},
   "source": [
    "## Control Structures"
   ]
  },
  {
   "cell_type": "markdown",
   "metadata": {},
   "source": [
    "A **Control Structure** is simpler than it sounds, it *controls* things with its *structure*. Easy, right?"
   ]
  },
  {
   "cell_type": "markdown",
   "metadata": {},
   "source": [
    "Control Structures control how the code it is associated with it works by \"wrapping\" it within its structure."
   ]
  },
  {
   "cell_type": "markdown",
   "metadata": {},
   "source": [
    "---\n",
    "### Explore\n",
    "Look below and see if you can identify the different control structures."
   ]
  },
  {
   "cell_type": "code",
   "execution_count": null,
   "metadata": {},
   "outputs": [],
   "source": [
    "foo = \"Programming is \"\n",
    "\n",
    "def bar(string):\n",
    "    while not 3 < len(string) < 5:\n",
    "        print(\"You entered: \" + string)\n",
    "        string = input('Pick a better word: ')\n",
    "    else:\n",
    "        return string\n",
    "\n",
    "for word in ['Awesome', 'cool', 'Boring', 'fun', 'stupid']:\n",
    "    if 'oo' in word:\n",
    "        break\n",
    "    second = bar(word)\n",
    "    print(foo + second)\n",
    "else:\n",
    "    print('Controls structures are great')"
   ]
  },
  {
   "cell_type": "markdown",
   "metadata": {},
   "source": [
    "4\n",
    "10\n",
    "15"
   ]
  },
  {
   "cell_type": "markdown",
   "metadata": {},
   "source": [
    "---"
   ]
  },
  {
   "cell_type": "markdown",
   "metadata": {},
   "source": [
    "### `if`: The simplest control structure"
   ]
  },
  {
   "cell_type": "markdown",
   "metadata": {},
   "source": [
    "`if` statements are meant to check conditions (or heuristics) through the processing of your program. The syntax is as follows:\n",
    "\n",
    "```python\n",
    "if [not] <some condition that returns a boolean>:\n",
    "    do_something()\n",
    "```"
   ]
  },
  {
   "cell_type": "code",
   "execution_count": 43,
   "metadata": {},
   "outputs": [
    {
     "name": "stdout",
     "output_type": "stream",
     "text": [
      "HeMan\n"
     ]
    }
   ],
   "source": [
    "one = 'he'\n",
    "two = 'she'\n",
    "if one in two:\n",
    "    print('HeMan')"
   ]
  },
  {
   "cell_type": "code",
   "execution_count": 45,
   "metadata": {},
   "outputs": [],
   "source": [
    "# The setup\n",
    "a_var = True"
   ]
  },
  {
   "cell_type": "code",
   "execution_count": 46,
   "metadata": {},
   "outputs": [
    {
     "name": "stdout",
     "output_type": "stream",
     "text": [
      "This is True\n"
     ]
    }
   ],
   "source": [
    "# Checking logic\n",
    "if a_var:\n",
    "    print('This is True')\n",
    "\n",
    "# And the opposites\n",
    "if not a_var:\n",
    "    print('This is False')"
   ]
  },
  {
   "cell_type": "markdown",
   "metadata": {},
   "source": [
    "However, since the first check is just the opposite of the second check, we can make this into a more concise control structure by using the `else` keyward."
   ]
  },
  {
   "cell_type": "code",
   "execution_count": 48,
   "metadata": {},
   "outputs": [],
   "source": [
    "a_var = False"
   ]
  },
  {
   "cell_type": "code",
   "execution_count": 49,
   "metadata": {},
   "outputs": [
    {
     "name": "stdout",
     "output_type": "stream",
     "text": [
      "This is False\n"
     ]
    }
   ],
   "source": [
    "if a_var:\n",
    "    print('This is True')\n",
    "else:\n",
    "    print('This is False')"
   ]
  },
  {
   "cell_type": "code",
   "execution_count": 53,
   "metadata": {},
   "outputs": [
    {
     "name": "stdout",
     "output_type": "stream",
     "text": [
      "True\n"
     ]
    }
   ],
   "source": [
    "b_var = '0'\n",
    "if b_var:\n",
    "    print(True)"
   ]
  },
  {
   "cell_type": "markdown",
   "metadata": {},
   "source": [
    "But, are the above conditions ***always*** true?"
   ]
  },
  {
   "cell_type": "code",
   "execution_count": 54,
   "metadata": {},
   "outputs": [],
   "source": [
    "# The setup\n",
    "a_var = None"
   ]
  },
  {
   "cell_type": "code",
   "execution_count": 55,
   "metadata": {},
   "outputs": [
    {
     "name": "stdout",
     "output_type": "stream",
     "text": [
      "False\n"
     ]
    }
   ],
   "source": [
    "# What do you think will happen?\n",
    "if not a_var: \n",
    "    print(False)"
   ]
  },
  {
   "cell_type": "code",
   "execution_count": 56,
   "metadata": {},
   "outputs": [
    {
     "name": "stdout",
     "output_type": "stream",
     "text": [
      "None\n"
     ]
    }
   ],
   "source": [
    "# Comprehensive if-elif-else statement\n",
    "if a_var:\n",
    "    print(True)\n",
    "elif a_var is None:\n",
    "    print(None)\n",
    "else:\n",
    "    print(False)"
   ]
  },
  {
   "cell_type": "code",
   "execution_count": 58,
   "metadata": {},
   "outputs": [
    {
     "name": "stdout",
     "output_type": "stream",
     "text": [
      "Sharkus\n"
     ]
    }
   ],
   "source": [
    "# Multiple if statements (pay attention to the 'and' and 'or' operators)\n",
    "\n",
    "f_name = 'Sharkus'\n",
    "if 'S' in f_name and len(f_name) > 5: # Only goes if BOTH are True\n",
    "    print(f_name)\n",
    "\n",
    "l_name = 'Merma'\n",
    "if 'S' in l_name or len(l_name) > 5: # Only goes if EITHER are True\n",
    "    print(l_name)"
   ]
  },
  {
   "cell_type": "markdown",
   "metadata": {},
   "source": [
    "#### Exercise"
   ]
  },
  {
   "cell_type": "markdown",
   "metadata": {},
   "source": [
    "Write an *generalized* `if-else` control structure that outputs the name of the person that has a longer name"
   ]
  },
  {
   "cell_type": "code",
   "execution_count": 5,
   "metadata": {},
   "outputs": [],
   "source": [
    "# I will fill in the names in a second\n",
    "f_person = 'marcus'\n",
    "s_person = 'jeff'\n",
    "t_person = 'robert'\n"
   ]
  },
  {
   "cell_type": "markdown",
   "metadata": {},
   "source": [
    "---"
   ]
  },
  {
   "cell_type": "markdown",
   "metadata": {},
   "source": [
    "### `for`: The most popular control structure"
   ]
  },
  {
   "cell_type": "markdown",
   "metadata": {},
   "source": [
    "The main keyword to remember here is '**iterate**'. If you want to go through something *one (or more) at a time*, you are going to be **iterating** through it. To do that, we use a `for`-loop"
   ]
  },
  {
   "cell_type": "code",
   "execution_count": 59,
   "metadata": {},
   "outputs": [
    {
     "name": "stdout",
     "output_type": "stream",
     "text": [
      "0\n",
      "1\n",
      "2\n",
      "3\n",
      "4\n"
     ]
    }
   ],
   "source": [
    "# Print items of a range\n",
    "for i in range(5):\n",
    "    print(i)"
   ]
  },
  {
   "cell_type": "code",
   "execution_count": 60,
   "metadata": {},
   "outputs": [
    {
     "name": "stdout",
     "output_type": "stream",
     "text": [
      "1\n",
      "2\n",
      "3\n"
     ]
    }
   ],
   "source": [
    "a_list = [1,2,3]\n",
    "for i in a_list:\n",
    "    print(i)"
   ]
  },
  {
   "cell_type": "code",
   "execution_count": 61,
   "metadata": {},
   "outputs": [
    {
     "name": "stdout",
     "output_type": "stream",
     "text": [
      "1\n",
      "2\n",
      "3\n"
     ]
    }
   ],
   "source": [
    "# Iterate through indices of a string (the 'ren' method)\n",
    "a_list = [1,2,3]\n",
    "for item in range(len(a_list)):\n",
    "    print(a_list[item])"
   ]
  },
  {
   "cell_type": "code",
   "execution_count": 63,
   "metadata": {},
   "outputs": [
    {
     "name": "stdout",
     "output_type": "stream",
     "text": [
      "1 4\n",
      "2 5\n",
      "3 6\n"
     ]
    }
   ],
   "source": [
    "a_list = [1,2,3]\n",
    "b_list = [4,5,6]\n",
    "for i in range(len(a_list)):\n",
    "    print(a_list[i], b_list[i])"
   ]
  },
  {
   "cell_type": "code",
   "execution_count": 64,
   "metadata": {},
   "outputs": [
    {
     "name": "stdout",
     "output_type": "stream",
     "text": [
      "1 4\n",
      "2 5\n",
      "3 6\n"
     ]
    }
   ],
   "source": [
    "# Why I call it `ren` and a substitute for it\n",
    "for i, item in enumerate(a_list):\n",
    "    print(item, b_list[i])"
   ]
  },
  {
   "cell_type": "code",
   "execution_count": 65,
   "metadata": {},
   "outputs": [
    {
     "name": "stdout",
     "output_type": "stream",
     "text": [
      "m\n",
      "a\n",
      "r\n",
      "c\n",
      "u\n",
      "s\n"
     ]
    }
   ],
   "source": [
    "# Iterate a string\n",
    "some_string = 'marcus'\n",
    "for letter in some_string:\n",
    "    print(letter)"
   ]
  },
  {
   "cell_type": "markdown",
   "metadata": {},
   "source": [
    "#### Exercise"
   ]
  },
  {
   "cell_type": "markdown",
   "metadata": {},
   "source": [
    "Codons are sequences of three nucleotides (nt). The nts are 'A', 'C', 'G', 'T'.\n",
    "\n",
    "Write a nested `for-loop` that outputs all possible combinations of codons."
   ]
  },
  {
   "cell_type": "code",
   "execution_count": null,
   "metadata": {},
   "outputs": [],
   "source": []
  },
  {
   "cell_type": "markdown",
   "metadata": {},
   "source": [
    "What, do you think, is the potential downside to `for`-loops?"
   ]
  },
  {
   "cell_type": "markdown",
   "metadata": {},
   "source": [
    "---"
   ]
  },
  {
   "cell_type": "markdown",
   "metadata": {},
   "source": [
    "### `while`: The most improperly used control structure"
   ]
  },
  {
   "cell_type": "markdown",
   "metadata": {},
   "source": [
    "A `while` loop is just a `for`-loop that continues until a condition is met.\n",
    "\n",
    "**Careful**: `while` loops are one of the easiest ways to cause an 'infinite loop'"
   ]
  },
  {
   "cell_type": "code",
   "execution_count": 66,
   "metadata": {},
   "outputs": [],
   "source": [
    "from random import choice # Making the choice() function available"
   ]
  },
  {
   "cell_type": "markdown",
   "metadata": {},
   "source": [
    "Above is an example of a import statement. Think of importing like checking out a book in the library: you have to have it before you can read it."
   ]
  },
  {
   "cell_type": "markdown",
   "metadata": {},
   "source": [
    "All importing does is make the information in the \"book\" available to be used."
   ]
  },
  {
   "cell_type": "code",
   "execution_count": 67,
   "metadata": {},
   "outputs": [
    {
     "name": "stdout",
     "output_type": "stream",
     "text": [
      "The counter is at 0\n",
      "The counter is at 1\n",
      "The counter is at 2\n",
      "The counter is at 3\n",
      "The counter is at 4\n",
      "The counter is at 5\n"
     ]
    }
   ],
   "source": [
    "# while counting\n",
    "counter = 0\n",
    "while counter <= 5:\n",
    "    print('The counter is at ' + str(counter))\n",
    "    counter += 1"
   ]
  },
  {
   "cell_type": "code",
   "execution_count": 68,
   "metadata": {},
   "outputs": [
    {
     "name": "stdout",
     "output_type": "stream",
     "text": [
      "Tails, you lose\n",
      "Heads, I win\n"
     ]
    }
   ],
   "source": [
    "# while booelan\n",
    "done_status = False\n",
    "while not done_status:\n",
    "    flip = choice([0,1]) # random.choice() that was imported earlier\n",
    "    if flip:\n",
    "        print('Heads, I win')\n",
    "        done_status = flip\n",
    "    else:\n",
    "        print('Tails, you lose')"
   ]
  },
  {
   "cell_type": "markdown",
   "metadata": {},
   "source": [
    "Below is an example of a situation that would cause an infinite loop. I purposely made it a non-coding cell so that you don't accidentally run it. Think about why this would run on forever."
   ]
  },
  {
   "cell_type": "markdown",
   "metadata": {},
   "source": [
    "```python\n",
    "# Infinite loop\n",
    "while True:\n",
    "    print('Hello, World')\n",
    "```"
   ]
  },
  {
   "cell_type": "markdown",
   "metadata": {},
   "source": [
    "---"
   ]
  },
  {
   "cell_type": "markdown",
   "metadata": {},
   "source": [
    "### Control *Statements*"
   ]
  },
  {
   "cell_type": "markdown",
   "metadata": {},
   "source": [
    "Control statements are special keywords in Python that have control behavior. These words are:\n",
    "\n",
    "```python\n",
    "pass\n",
    "break\n",
    "continue\n",
    "```"
   ]
  },
  {
   "cell_type": "markdown",
   "metadata": {},
   "source": [
    "####  `pass`: the `do_nothing()` of the Python world"
   ]
  },
  {
   "cell_type": "code",
   "execution_count": 70,
   "metadata": {},
   "outputs": [],
   "source": [
    "# Pass example\n",
    "def do_nothing():\n",
    "    pass\n",
    "    print(7)"
   ]
  },
  {
   "cell_type": "code",
   "execution_count": 72,
   "metadata": {},
   "outputs": [
    {
     "name": "stdout",
     "output_type": "stream",
     "text": [
      "7\n"
     ]
    }
   ],
   "source": [
    "do_nothing()"
   ]
  },
  {
   "cell_type": "markdown",
   "metadata": {},
   "source": [
    "#### `break`: getting out of loops"
   ]
  },
  {
   "cell_type": "markdown",
   "metadata": {},
   "source": [
    "`break` allows the user to define criteria that forces the *nearest* loop to stop"
   ]
  },
  {
   "cell_type": "code",
   "execution_count": 69,
   "metadata": {},
   "outputs": [
    {
     "name": "stdout",
     "output_type": "stream",
     "text": [
      "0\n",
      "1\n",
      "2\n",
      "3\n",
      "4\n"
     ]
    }
   ],
   "source": [
    "# While break\n",
    "for i in range(10):\n",
    "    if i==5:\n",
    "        break\n",
    "    else:\n",
    "        print(i)"
   ]
  },
  {
   "cell_type": "markdown",
   "metadata": {},
   "source": [
    "#### `continue`: \"just keep swimming\""
   ]
  },
  {
   "cell_type": "markdown",
   "metadata": {},
   "source": [
    "`continue` is used to force the loop to move on to the next item, skipping anything underneath it. "
   ]
  },
  {
   "cell_type": "code",
   "execution_count": 77,
   "metadata": {},
   "outputs": [
    {
     "name": "stdout",
     "output_type": "stream",
     "text": [
      "0\n",
      "Hello\n",
      "1\n",
      "Hello\n",
      "2\n",
      "Hello\n",
      "4\n",
      "Hello\n"
     ]
    }
   ],
   "source": [
    "# Continue example\n",
    "for i in range(5):\n",
    "    if i == 3:\n",
    "        continue\n",
    "    else:\n",
    "        print(i)\n",
    "    print('Hello')"
   ]
  },
  {
   "cell_type": "markdown",
   "metadata": {},
   "source": [
    "---"
   ]
  },
  {
   "cell_type": "markdown",
   "metadata": {},
   "source": [
    "### `with`: A context manager"
   ]
  },
  {
   "cell_type": "markdown",
   "metadata": {},
   "source": [
    "`with` statements aren't *really* control structures. They are called **context managers**. However, they work in much the same way as a control structure: everything indented underneath it, belongs to it.\n",
    "\n",
    "The special part about `with` statements is when they are paired with I/O (in/out operations, or file handling)."
   ]
  },
  {
   "cell_type": "code",
   "execution_count": 78,
   "metadata": {},
   "outputs": [
    {
     "name": "stdout",
     "output_type": "stream",
     "text": [
      "['#', 'Name', 'Type 1', 'Type 2', 'Total', 'HP', 'Attack', 'Defense', 'Sp. Atk', 'Sp. Def', 'Speed', 'Generation', 'Legendary']\n",
      "['1', 'Bulbasaur', 'Grass', 'Poison', '318', '45', '49', '49', '65', '65', '45', '1', 'False']\n",
      "['2', 'Ivysaur', 'Grass', 'Poison', '405', '60', '62', '63', '80', '80', '60', '1', 'False']\n",
      "['3', 'Venusaur', 'Grass', 'Poison', '525', '80', '82', '83', '100', '100', '80', '1', 'False']\n",
      "['3', 'VenusaurMega Venusaur', 'Grass', 'Poison', '625', '80', '100', '123', '122', '120', '80', '1', 'False']\n"
     ]
    }
   ],
   "source": [
    "# Before with\n",
    "poke = open('./datasets/pokemon.csv') # Getting the file ready for operations\n",
    "\n",
    "# Iterating through a set number of lines in the file\n",
    "for i in range(5):\n",
    "    line = poke.readline().strip().split(',')\n",
    "    print(line)\n",
    "\n",
    "# Once complete, remember to close the file\n",
    "poke.close()"
   ]
  },
  {
   "cell_type": "code",
   "execution_count": 79,
   "metadata": {},
   "outputs": [
    {
     "name": "stdout",
     "output_type": "stream",
     "text": [
      "['#', 'Name', 'Type 1', 'Type 2', 'Total', 'HP', 'Attack', 'Defense', 'Sp. Atk', 'Sp. Def', 'Speed', 'Generation', 'Legendary']\n",
      "['1', 'Bulbasaur', 'Grass', 'Poison', '318', '45', '49', '49', '65', '65', '45', '1', 'False']\n",
      "['2', 'Ivysaur', 'Grass', 'Poison', '405', '60', '62', '63', '80', '80', '60', '1', 'False']\n",
      "['3', 'Venusaur', 'Grass', 'Poison', '525', '80', '82', '83', '100', '100', '80', '1', 'False']\n",
      "['3', 'VenusaurMega Venusaur', 'Grass', 'Poison', '625', '80', '100', '123', '122', '120', '80', '1', 'False']\n"
     ]
    }
   ],
   "source": [
    "# Using with\n",
    "with open('./datasets/pokemon.csv') as poke:\n",
    "    for i in range(5):\n",
    "        print(poke.readline().strip().split(','))"
   ]
  },
  {
   "cell_type": "markdown",
   "metadata": {},
   "source": [
    "What happens is that the file is opened and processed. However, unlike normal, as soon as you exit the `with` statement, it **automatically** closes the file for you."
   ]
  },
  {
   "cell_type": "markdown",
   "metadata": {},
   "source": [
    "---"
   ]
  },
  {
   "cell_type": "markdown",
   "metadata": {},
   "source": [
    "## Challenge"
   ]
  },
  {
   "cell_type": "markdown",
   "metadata": {},
   "source": [
    "Use [this](./age_diff.py) template script, and modify it so that will take in 2 arguments (look for the part about `sys.argv`):\n",
    "1. first_person_age (int): the age of the navigator\n",
    "2. second_person_age (int): the age of the driver\n",
    "3. compare the two and print out the difference of age in years between the two\n",
    "\n",
    "```bash\n",
    "python age_diff.py 9001 19\n",
    "```"
   ]
  },
  {
   "cell_type": "code",
   "execution_count": null,
   "metadata": {},
   "outputs": [],
   "source": []
  }
 ],
 "metadata": {
  "kernelspec": {
   "display_name": "Python 3",
   "language": "python",
   "name": "python3"
  },
  "language_info": {
   "codemirror_mode": {
    "name": "ipython",
    "version": 3
   },
   "file_extension": ".py",
   "mimetype": "text/x-python",
   "name": "python",
   "nbconvert_exporter": "python",
   "pygments_lexer": "ipython3",
   "version": "3.7.1"
  }
 },
 "nbformat": 4,
 "nbformat_minor": 2
}
