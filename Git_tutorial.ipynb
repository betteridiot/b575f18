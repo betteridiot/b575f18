{
 "cells": [
  {
   "cell_type": "markdown",
   "metadata": {},
   "source": [
    "# Initialization"
   ]
  },
  {
   "cell_type": "markdown",
   "metadata": {},
   "source": [
    "To create an empty git repository in the current directory use the following command. This creates a `.git` file in the directory structure. (Note: the \"'!'\" and `%%bash` is used in jupyter notebooks to send commands to the shell)."
   ]
  },
  {
   "cell_type": "code",
   "execution_count": null,
   "metadata": {},
   "outputs": [],
   "source": [
    "%%bash\n",
    "if [[ -z $(command -v git) ]]; then\n",
    "    yes | conda install git\n",
    "fi"
   ]
  },
  {
   "cell_type": "code",
   "execution_count": 4,
   "metadata": {},
   "outputs": [
    {
     "name": "stdout",
     "output_type": "stream",
     "text": [
      "/mnt/d/MDS/GitHub/b575f18\n"
     ]
    }
   ],
   "source": [
    "cd D/MDS/GitHub/b575f18/"
   ]
  },
  {
   "cell_type": "code",
   "execution_count": 6,
   "metadata": {},
   "outputs": [
    {
     "name": "stdout",
     "output_type": "stream",
     "text": [
      "\u001b[0m\u001b[01;38;5;108mcats.jpg\u001b[0m*                    \u001b[01;38;5;108mOOP.ipynb\u001b[0m*               \u001b[01;38;5;108mString_formatting.ipynb\u001b[0m*\n",
      "\u001b[01;38;5;108mComps_and_generators.ipynb\u001b[0m*  \u001b[01;38;5;108mPandas.ipynb\u001b[0m*            \u001b[01;38;5;108mSubprocess.ipynb\u001b[0m*\n",
      "\u001b[01;38;5;108mData_viz.ipynb\u001b[0m*              \u001b[01;38;5;108mREADME.md\u001b[0m*               \u001b[01;38;5;108msyntax.png\u001b[0m*\n",
      "\u001b[01;38;5;108mdata_viz_setup.ipynb\u001b[0m*        \u001b[01;38;5;108mreal_estate.csv\u001b[0m*         \u001b[48;5;234;38;5;180mtest_data\u001b[0m/\n",
      "\u001b[01;38;5;108mflights.db\u001b[0m*                  \u001b[01;38;5;108msample_excel.xlsx\u001b[0m*       \u001b[01;38;5;108mTWL06.txt\u001b[0m*\n",
      "\u001b[01;38;5;108mGit_tutorial.ipynb\u001b[0m*          \u001b[01;38;5;108msample_tsv.tsv\u001b[0m*          \u001b[01;38;5;108mUntitled.ipynb\u001b[0m*\n",
      "\u001b[01;38;5;108mGit_tutorial.pptx\u001b[0m*           \u001b[01;38;5;108msqlalchemy.ipynb\u001b[0m*        \u001b[01;38;5;108muntitled.txt\u001b[0m*\n",
      "\u001b[01;38;5;108mHs_receptors.fa\u001b[0m*             \u001b[01;38;5;108mSQLalchemy_query.ipynb\u001b[0m*\n"
     ]
    }
   ],
   "source": [
    "ls"
   ]
  },
  {
   "cell_type": "markdown",
   "metadata": {},
   "source": [
    "some note"
   ]
  },
  {
   "cell_type": "code",
   "execution_count": 7,
   "metadata": {},
   "outputs": [
    {
     "name": "stdout",
     "output_type": "stream",
     "text": [
      "Reinitialized existing Git repository in /mnt/d/MDS/GitHub/b575f18/.git/\n"
     ]
    }
   ],
   "source": [
    "!git init"
   ]
  },
  {
   "cell_type": "code",
   "execution_count": 11,
   "metadata": {},
   "outputs": [
    {
     "name": "stdout",
     "output_type": "stream",
     "text": [
      "\u001b[0m\u001b[48;5;234;38;5;180mbranches\u001b[0m/        \u001b[01;38;5;108mconfig\u001b[0m*       \u001b[01;38;5;108mFETCH_HEAD\u001b[0m*  \u001b[48;5;234;38;5;180mhooks\u001b[0m/  \u001b[48;5;234;38;5;180minfo\u001b[0m/  \u001b[48;5;234;38;5;180mobjects\u001b[0m/      \u001b[48;5;234;38;5;180mrefs\u001b[0m/\n",
      "\u001b[01;38;5;108mCOMMIT_EDITMSG\u001b[0m*  \u001b[01;38;5;108mdescription\u001b[0m*  \u001b[01;38;5;108mHEAD\u001b[0m*        \u001b[01;38;5;108mindex\u001b[0m*  \u001b[48;5;234;38;5;180mlogs\u001b[0m/  \u001b[01;38;5;108mpacked-refs\u001b[0m*\n"
     ]
    }
   ],
   "source": [
    "ls .git/"
   ]
  },
  {
   "cell_type": "markdown",
   "metadata": {},
   "source": [
    "Some helper commands"
   ]
  },
  {
   "cell_type": "code",
   "execution_count": 9,
   "metadata": {
    "collapsed": true
   },
   "outputs": [],
   "source": [
    "%%bash\n",
    "# Set user information\n",
    "git config --global user.name \"Marcus D Sherman\"\n",
    "git config --global user.email \"mdsherm@umich.edu\"\n",
    "\n",
    "# Add color to git command line\n",
    "git config --global color.ui auto\n",
    "\n",
    "# Save your credentials (need to install manager or select different option)\n",
    "# git config --global credential.helper manager\n",
    "\n",
    "# If you want to set your preferred text editor for git\n",
    "# git config --global core.editor \"vim\""
   ]
  },
  {
   "cell_type": "code",
   "execution_count": 13,
   "metadata": {},
   "outputs": [
    {
     "name": "stdout",
     "output_type": "stream",
     "text": [
      "/mnt/d/MDS/GitHub\n"
     ]
    }
   ],
   "source": [
    "cd .."
   ]
  },
  {
   "cell_type": "code",
   "execution_count": 14,
   "metadata": {},
   "outputs": [],
   "source": [
    "mkdir testGit"
   ]
  },
  {
   "cell_type": "code",
   "execution_count": 15,
   "metadata": {},
   "outputs": [
    {
     "name": "stdout",
     "output_type": "stream",
     "text": [
      "/mnt/d/MDS/GitHub/testGit\n"
     ]
    }
   ],
   "source": [
    "cd testGit/"
   ]
  },
  {
   "cell_type": "code",
   "execution_count": 16,
   "metadata": {},
   "outputs": [
    {
     "name": "stdout",
     "output_type": "stream",
     "text": [
      "Initialized empty Git repository in /mnt/d/MDS/GitHub/testGit/.git/\n"
     ]
    }
   ],
   "source": [
    "!git init"
   ]
  },
  {
   "cell_type": "markdown",
   "metadata": {},
   "source": [
    "To see all new or modified files *to be committed*, use the following command"
   ]
  },
  {
   "cell_type": "code",
   "execution_count": 17,
   "metadata": {},
   "outputs": [
    {
     "name": "stdout",
     "output_type": "stream",
     "text": [
      "On branch master\n",
      "\n",
      "Initial commit\n",
      "\n",
      "nothing to commit (create/copy files and use \"git add\" to track)\n"
     ]
    }
   ],
   "source": [
    "!git status"
   ]
  },
  {
   "cell_type": "markdown",
   "metadata": {},
   "source": [
    "To copy someone else's remote repository (like jupyter) to the current working directory"
   ]
  },
  {
   "cell_type": "code",
   "execution_count": null,
   "metadata": {},
   "outputs": [],
   "source": [
    "!git clone https://github.com/betteridiot/b575f18.git"
   ]
  },
  {
   "cell_type": "code",
   "execution_count": null,
   "metadata": {},
   "outputs": [],
   "source": [
    "cd b575f18/"
   ]
  },
  {
   "cell_type": "code",
   "execution_count": null,
   "metadata": {},
   "outputs": [],
   "source": [
    "ls"
   ]
  },
  {
   "cell_type": "code",
   "execution_count": null,
   "metadata": {},
   "outputs": [],
   "source": [
    "cd .."
   ]
  },
  {
   "cell_type": "markdown",
   "metadata": {},
   "source": [
    "---"
   ]
  },
  {
   "cell_type": "markdown",
   "metadata": {},
   "source": [
    "# Now to add something to our repo"
   ]
  },
  {
   "cell_type": "code",
   "execution_count": 18,
   "metadata": {
    "collapsed": true
   },
   "outputs": [],
   "source": [
    "!touch bioinf575.txt"
   ]
  },
  {
   "cell_type": "markdown",
   "metadata": {},
   "source": [
    "#### Who remembers what the `touch` command does?"
   ]
  },
  {
   "cell_type": "markdown",
   "metadata": {},
   "source": [
    "Now, add some content. "
   ]
  },
  {
   "cell_type": "code",
   "execution_count": 19,
   "metadata": {
    "collapsed": true
   },
   "outputs": [],
   "source": [
    "# This just appends \"hello world\" to our file contents\n",
    "!echo \"hello world\" >> bioinf575.txt"
   ]
  },
  {
   "cell_type": "markdown",
   "metadata": {},
   "source": [
    "Let's look at the changes now."
   ]
  },
  {
   "cell_type": "code",
   "execution_count": 20,
   "metadata": {},
   "outputs": [
    {
     "name": "stdout",
     "output_type": "stream",
     "text": [
      "On branch master\n",
      "\n",
      "Initial commit\n",
      "\n",
      "Untracked files:\n",
      "  (use \"git add <file>...\" to include in what will be committed)\n",
      "\n",
      "\t\u001b[31mbioinf575.txt\u001b[m\n",
      "\n",
      "nothing added to commit but untracked files present (use \"git add\" to track)\n"
     ]
    }
   ],
   "source": [
    "!git status"
   ]
  },
  {
   "cell_type": "markdown",
   "metadata": {},
   "source": [
    "To add files to your repo, it is as simple as `add`"
   ]
  },
  {
   "cell_type": "code",
   "execution_count": 21,
   "metadata": {
    "collapsed": true
   },
   "outputs": [],
   "source": [
    "!git add bioinf575.txt"
   ]
  },
  {
   "cell_type": "code",
   "execution_count": 22,
   "metadata": {},
   "outputs": [
    {
     "name": "stdout",
     "output_type": "stream",
     "text": [
      "On branch master\n",
      "\n",
      "Initial commit\n",
      "\n",
      "Changes to be committed:\n",
      "  (use \"git rm --cached <file>...\" to unstage)\n",
      "\n",
      "\t\u001b[32mnew file:   bioinf575.txt\u001b[m\n",
      "\n"
     ]
    }
   ],
   "source": [
    "!git status"
   ]
  },
  {
   "cell_type": "markdown",
   "metadata": {},
   "source": [
    "`bioinf575.txt` is *staged*. If we were to make changes to it, we can look at the \"diff\""
   ]
  },
  {
   "cell_type": "code",
   "execution_count": 23,
   "metadata": {},
   "outputs": [
    {
     "name": "stdout",
     "output_type": "stream",
     "text": [
      "\u001b[1mdiff --git a/bioinf575.txt b/bioinf575.txt\u001b[m\n",
      "\u001b[1mindex 3b18e51..ba5906f 100644\u001b[m\n",
      "\u001b[1m--- a/bioinf575.txt\u001b[m\n",
      "\u001b[1m+++ b/bioinf575.txt\u001b[m\n",
      "\u001b[36m@@ -1 +1,2 @@\u001b[m\n",
      " hello world\u001b[m\n",
      "\u001b[32m+\u001b[m\u001b[32mhello palmer commons\u001b[m\n"
     ]
    }
   ],
   "source": [
    "# add another line\n",
    "!echo \"hello palmer commons\" >> bioinf575.txt\n",
    "\n",
    "# See the differences between `modified` and `staged`\n",
    "!git diff"
   ]
  },
  {
   "cell_type": "markdown",
   "metadata": {},
   "source": [
    "Looks good, let's put it in the repo"
   ]
  },
  {
   "cell_type": "code",
   "execution_count": 24,
   "metadata": {},
   "outputs": [
    {
     "name": "stdout",
     "output_type": "stream",
     "text": [
      "On branch master\n",
      "\n",
      "Initial commit\n",
      "\n",
      "Changes to be committed:\n",
      "  (use \"git rm --cached <file>...\" to unstage)\n",
      "\n",
      "\t\u001b[32mnew file:   bioinf575.txt\u001b[m\n",
      "\n",
      "Changes not staged for commit:\n",
      "  (use \"git add <file>...\" to update what will be committed)\n",
      "  (use \"git checkout -- <file>...\" to discard changes in working directory)\n",
      "\n",
      "\t\u001b[31mmodified:   bioinf575.txt\u001b[m\n",
      "\n"
     ]
    }
   ],
   "source": [
    "!git status"
   ]
  },
  {
   "cell_type": "code",
   "execution_count": 26,
   "metadata": {},
   "outputs": [
    {
     "name": "stdout",
     "output_type": "stream",
     "text": [
      "[master (root-commit) 22679ec] first commit\n",
      " 1 file changed, 2 insertions(+)\n",
      " create mode 100644 bioinf575.txt\n"
     ]
    }
   ],
   "source": [
    "!git add bioinf575.txt\n",
    "!git commit -m \"first commit\""
   ]
  },
  {
   "cell_type": "markdown",
   "metadata": {},
   "source": [
    "**Note**: the `-m <message>` argument is very important for people that don't want to deal with vim. With it, you can make a short commit message at the command line."
   ]
  },
  {
   "cell_type": "code",
   "execution_count": 27,
   "metadata": {},
   "outputs": [
    {
     "name": "stdout",
     "output_type": "stream",
     "text": [
      "\u001b[33mcommit 22679ec4a84ab389dea9f107e9d654dd1af44115\u001b[m\n",
      "Author: Marcus D Sherman <mdsherm@umich.edu>\n",
      "Date:   Mon Sep 10 11:16:04 2018 -0400\n",
      "\n",
      "    first commit\n"
     ]
    }
   ],
   "source": [
    "!git log"
   ]
  },
  {
   "cell_type": "markdown",
   "metadata": {},
   "source": [
    "---"
   ]
  },
  {
   "cell_type": "markdown",
   "metadata": {},
   "source": [
    "# Branching"
   ]
  },
  {
   "cell_type": "markdown",
   "metadata": {},
   "source": [
    "Now that we have an 'unmodified' repo, we can start branching. Branching is helpful for developing without hurting the standard code base"
   ]
  },
  {
   "cell_type": "code",
   "execution_count": 28,
   "metadata": {},
   "outputs": [],
   "source": [
    "# Create a branch\n",
    "!git branch testFeature"
   ]
  },
  {
   "cell_type": "code",
   "execution_count": 29,
   "metadata": {},
   "outputs": [
    {
     "name": "stdout",
     "output_type": "stream",
     "text": [
      "* \u001b[32mmaster\u001b[m\n",
      "  testFeature\u001b[m\n"
     ]
    }
   ],
   "source": [
    "# list all branches\n",
    "!git branch"
   ]
  },
  {
   "cell_type": "markdown",
   "metadata": {},
   "source": [
    "The star next to `master` is important. It can also be seen in your log if there are multiple commits. This is called the `HEAD`. It is a reference to where we are working at currently."
   ]
  },
  {
   "cell_type": "code",
   "execution_count": 30,
   "metadata": {},
   "outputs": [
    {
     "name": "stdout",
     "output_type": "stream",
     "text": [
      "Switched to branch 'testFeature'\n",
      "  master\u001b[m\n",
      "* \u001b[32mtestFeature\u001b[m\n"
     ]
    }
   ],
   "source": [
    "# To changed branches\n",
    "!git checkout testFeature\n",
    "!git branch"
   ]
  },
  {
   "cell_type": "markdown",
   "metadata": {},
   "source": [
    "Within this new branch, let's make some changes. These changes are not tracked by origin/master branch."
   ]
  },
  {
   "cell_type": "code",
   "execution_count": 31,
   "metadata": {
    "collapsed": true
   },
   "outputs": [],
   "source": [
    "!echo \"new branch txt file\" >> newText.txt"
   ]
  },
  {
   "cell_type": "code",
   "execution_count": 32,
   "metadata": {},
   "outputs": [
    {
     "name": "stdout",
     "output_type": "stream",
     "text": [
      "[testFeature 72c691f] added file to new branch\n",
      " 1 file changed, 1 insertion(+)\n",
      " create mode 100644 newText.txt\n",
      "On branch testFeature\n",
      "nothing to commit, working directory clean\n",
      "commit 72c691f500ba5a93b061cfa6f6b1344313d748b3\n",
      "Author: Marcus D Sherman <mdsherm@umich.edu>\n",
      "Date:   Mon Sep 10 11:18:14 2018 -0400\n",
      "\n",
      "    added file to new branch\n",
      "\n",
      "commit 22679ec4a84ab389dea9f107e9d654dd1af44115\n",
      "Author: Marcus D Sherman <mdsherm@umich.edu>\n",
      "Date:   Mon Sep 10 11:16:04 2018 -0400\n",
      "\n",
      "    first commit\n"
     ]
    }
   ],
   "source": [
    "%%bash\n",
    "git add newText.txt\n",
    "git commit -m \"added file to new branch\"\n",
    "git status\n",
    "git log"
   ]
  },
  {
   "cell_type": "markdown",
   "metadata": {},
   "source": [
    "Now, using some bash scripting, I am going to iteratively append a bunch of lines to a file. You don't really *need* to know this, so don't worry if you don't get it. This is more for the demonstration's sake."
   ]
  },
  {
   "cell_type": "code",
   "execution_count": 33,
   "metadata": {},
   "outputs": [
    {
     "name": "stdout",
     "output_type": "stream",
     "text": [
      "[testFeature 54afd2d] added 1 line to newText.txt\n",
      " 1 file changed, 1 insertion(+)\n",
      "[testFeature f23c90e] added 2 line to newText.txt\n",
      " 1 file changed, 1 insertion(+)\n",
      "[testFeature 2a2e6da] added 3 line to newText.txt\n",
      " 1 file changed, 1 insertion(+)\n",
      "[testFeature 39375d1] added 4 line to newText.txt\n",
      " 1 file changed, 1 insertion(+)\n",
      "[testFeature c29c52e] added 5 line to newText.txt\n",
      " 1 file changed, 1 insertion(+)\n",
      "[testFeature 2cabc58] added 6 line to newText.txt\n",
      " 1 file changed, 1 insertion(+)\n",
      "[testFeature eb34361] added 7 line to newText.txt\n",
      " 1 file changed, 1 insertion(+)\n",
      "[testFeature c157ad1] added 8 line to newText.txt\n",
      " 1 file changed, 1 insertion(+)\n",
      "[testFeature 8bdff30] added 9 line to newText.txt\n",
      " 1 file changed, 1 insertion(+)\n",
      "[testFeature a6b379d] added 10 line to newText.txt\n",
      " 1 file changed, 1 insertion(+)\n"
     ]
    }
   ],
   "source": [
    "%%bash\n",
    "for i in {1..10}\n",
    "do\n",
    "    echo \"appending ${i}\" >> newText.txt\n",
    "    git add newText.txt\n",
    "    git commit -m \"added ${i} line to newText.txt\"\n",
    "done"
   ]
  },
  {
   "cell_type": "code",
   "execution_count": 34,
   "metadata": {},
   "outputs": [
    {
     "name": "stdout",
     "output_type": "stream",
     "text": [
      "new branch txt file\n",
      "appending 1\n",
      "appending 2\n",
      "appending 3\n",
      "appending 4\n",
      "appending 5\n",
      "appending 6\n",
      "appending 7\n",
      "appending 8\n",
      "appending 9\n"
     ]
    }
   ],
   "source": [
    "# showing the appended lines\n",
    "!head newText.txt"
   ]
  },
  {
   "cell_type": "markdown",
   "metadata": {},
   "source": [
    "Lets look at the git log"
   ]
  },
  {
   "cell_type": "code",
   "execution_count": 35,
   "metadata": {},
   "outputs": [
    {
     "name": "stdout",
     "output_type": "stream",
     "text": [
      "* \u001b[33mcommit a6b379dcb7ecd07bf8fc1004097d794564c04a75\u001b[m\u001b[33m (\u001b[1;36mHEAD\u001b[m\u001b[33m, \u001b[1;32mtestFeature\u001b[m\u001b[33m)\u001b[m\n",
      "\u001b[31m|\u001b[m Author: Marcus D Sherman <mdsherm@umich.edu>\n",
      "\u001b[31m|\u001b[m Date:   Mon Sep 10 11:20:28 2018 -0400\n",
      "\u001b[31m|\u001b[m \n",
      "\u001b[31m|\u001b[m     added 10 line to newText.txt\n",
      "\u001b[31m|\u001b[m  \n",
      "* \u001b[33mcommit 8bdff301822e16fcfb47ae7b44343db2b0c5ec58\u001b[m\n",
      "\u001b[31m|\u001b[m Author: Marcus D Sherman <mdsherm@umich.edu>\n",
      "\u001b[31m|\u001b[m Date:   Mon Sep 10 11:20:28 2018 -0400\n",
      "\u001b[31m|\u001b[m \n",
      "\u001b[31m|\u001b[m     added 9 line to newText.txt\n",
      "\u001b[31m|\u001b[m  \n",
      "* \u001b[33mcommit c157ad1cd5a02e1f4de7c6018971550de5b34f9b\u001b[m\n",
      "\u001b[31m|\u001b[m Author: Marcus D Sherman <mdsherm@umich.edu>\n",
      "\u001b[31m|\u001b[m Date:   Mon Sep 10 11:20:28 2018 -0400\n",
      "\u001b[31m|\u001b[m \n",
      "\u001b[31m|\u001b[m     added 8 line to newText.txt\n",
      "\u001b[31m|\u001b[m  \n",
      "* \u001b[33mcommit eb343610eface9e301ff8e579f7d31a0913aa957\u001b[m\n",
      "\u001b[31m|\u001b[m Author: Marcus D Sherman <mdsherm@umich.edu>\n",
      "\u001b[31m|\u001b[m Date:   Mon Sep 10 11:20:28 2018 -0400\n",
      "\u001b[31m|\u001b[m \n",
      "\u001b[31m|\u001b[m     added 7 line to newText.txt\n",
      "\u001b[31m|\u001b[m  \n",
      "* \u001b[33mcommit 2cabc58c7fe27da5409e11181e7354bfc8b06644\u001b[m\n",
      "\u001b[31m|\u001b[m Author: Marcus D Sherman <mdsherm@umich.edu>\n",
      "\u001b[31m|\u001b[m Date:   Mon Sep 10 11:20:28 2018 -0400\n",
      "\u001b[31m|\u001b[m \n",
      "\u001b[31m|\u001b[m     added 6 line to newText.txt\n",
      "\u001b[31m|\u001b[m  \n",
      "* \u001b[33mcommit c29c52ed14d00d9b48d9c7650174fc0f38834d2c\u001b[m\n",
      "\u001b[31m|\u001b[m Author: Marcus D Sherman <mdsherm@umich.edu>\n",
      "\u001b[31m|\u001b[m Date:   Mon Sep 10 11:20:28 2018 -0400\n",
      "\u001b[31m|\u001b[m \n",
      "\u001b[31m|\u001b[m     added 5 line to newText.txt\n",
      "\u001b[31m|\u001b[m  \n",
      "* \u001b[33mcommit 39375d128580ebbb0d70ff6134bffc358b336f83\u001b[m\n",
      "\u001b[31m|\u001b[m Author: Marcus D Sherman <mdsherm@umich.edu>\n",
      "\u001b[31m|\u001b[m Date:   Mon Sep 10 11:20:28 2018 -0400\n",
      "\u001b[31m|\u001b[m \n",
      "\u001b[31m|\u001b[m     added 4 line to newText.txt\n",
      "\u001b[31m|\u001b[m  \n",
      "* \u001b[33mcommit 2a2e6da6cb5daf984d4623907e0bbd660e5e252c\u001b[m\n",
      "\u001b[31m|\u001b[m Author: Marcus D Sherman <mdsherm@umich.edu>\n",
      "\u001b[31m|\u001b[m Date:   Mon Sep 10 11:20:28 2018 -0400\n",
      "\u001b[31m|\u001b[m \n",
      "\u001b[31m|\u001b[m     added 3 line to newText.txt\n",
      "\u001b[31m|\u001b[m  \n",
      "* \u001b[33mcommit f23c90ea9304f772bb062281933a586eca73a2e7\u001b[m\n",
      "\u001b[31m|\u001b[m Author: Marcus D Sherman <mdsherm@umich.edu>\n",
      "\u001b[31m|\u001b[m Date:   Mon Sep 10 11:20:27 2018 -0400\n",
      "\u001b[31m|\u001b[m \n",
      "\u001b[31m|\u001b[m     added 2 line to newText.txt\n",
      "\u001b[31m|\u001b[m  \n",
      "* \u001b[33mcommit 54afd2db97dc3fcc6dbc24fd520e5b85a2419626\u001b[m\n",
      "\u001b[31m|\u001b[m Author: Marcus D Sherman <mdsherm@umich.edu>\n",
      "\u001b[31m|\u001b[m Date:   Mon Sep 10 11:20:27 2018 -0400\n",
      "\u001b[31m|\u001b[m \n",
      "\u001b[31m|\u001b[m     added 1 line to newText.txt\n",
      "\u001b[31m|\u001b[m  \n",
      "* \u001b[33mcommit 72c691f500ba5a93b061cfa6f6b1344313d748b3\u001b[m\n",
      "\u001b[31m|\u001b[m Author: Marcus D Sherman <mdsherm@umich.edu>\n",
      "\u001b[31m|\u001b[m Date:   Mon Sep 10 11:18:14 2018 -0400\n",
      "\u001b[31m|\u001b[m \n",
      "\u001b[31m|\u001b[m     added file to new branch\n",
      "\u001b[31m|\u001b[m  \n",
      "* \u001b[33mcommit 22679ec4a84ab389dea9f107e9d654dd1af44115\u001b[m\u001b[33m (\u001b[1;32mmaster\u001b[m\u001b[33m)\u001b[m\n",
      "  Author: Marcus D Sherman <mdsherm@umich.edu>\n",
      "  Date:   Mon Sep 10 11:16:04 2018 -0400\n",
      "  \n",
      "      first commit\n"
     ]
    }
   ],
   "source": [
    "!git log --graph --decorate"
   ]
  },
  {
   "cell_type": "markdown",
   "metadata": {},
   "source": [
    "---"
   ]
  },
  {
   "cell_type": "markdown",
   "metadata": {},
   "source": [
    "# The \"Undo\" capabilities"
   ]
  },
  {
   "cell_type": "markdown",
   "metadata": {},
   "source": [
    "I added too many lines, so I want to go back."
   ]
  },
  {
   "cell_type": "code",
   "execution_count": 36,
   "metadata": {},
   "outputs": [
    {
     "name": "stdout",
     "output_type": "stream",
     "text": [
      "Unstaged changes after reset:\n",
      "M\tnewText.txt\n"
     ]
    }
   ],
   "source": [
    "# use the commit hash first 6-10 characters is all you need\n",
    "!git reset c157ad1"
   ]
  },
  {
   "cell_type": "code",
   "execution_count": 40,
   "metadata": {},
   "outputs": [
    {
     "name": "stdout",
     "output_type": "stream",
     "text": [
      "new branch txt file\n",
      "appending 1\n",
      "appending 2\n",
      "appending 3\n",
      "appending 4\n",
      "appending 5\n",
      "appending 6\n",
      "appending 7\n",
      "appending 8\n",
      "appending 9\n",
      "appending 10\n"
     ]
    }
   ],
   "source": [
    "!head -n 11 newText.txt"
   ]
  },
  {
   "cell_type": "code",
   "execution_count": 38,
   "metadata": {},
   "outputs": [
    {
     "name": "stdout",
     "output_type": "stream",
     "text": [
      "M\tnewText.txt\n"
     ]
    }
   ],
   "source": [
    "!git checkout HEAD"
   ]
  },
  {
   "cell_type": "code",
   "execution_count": 41,
   "metadata": {},
   "outputs": [
    {
     "name": "stdout",
     "output_type": "stream",
     "text": [
      "* \u001b[33mcommit c157ad1cd5a02e1f4de7c6018971550de5b34f9b\u001b[m\u001b[33m (\u001b[1;36mHEAD\u001b[m\u001b[33m, \u001b[1;32mtestFeature\u001b[m\u001b[33m)\u001b[m\n",
      "\u001b[31m|\u001b[m Author: Marcus D Sherman <mdsherm@umich.edu>\n",
      "\u001b[31m|\u001b[m Date:   Mon Sep 10 11:20:28 2018 -0400\n",
      "\u001b[31m|\u001b[m \n",
      "\u001b[31m|\u001b[m     added 8 line to newText.txt\n",
      "\u001b[31m|\u001b[m  \n",
      "* \u001b[33mcommit eb343610eface9e301ff8e579f7d31a0913aa957\u001b[m\n",
      "\u001b[31m|\u001b[m Author: Marcus D Sherman <mdsherm@umich.edu>\n",
      "\u001b[31m|\u001b[m Date:   Mon Sep 10 11:20:28 2018 -0400\n",
      "\u001b[31m|\u001b[m \n",
      "\u001b[31m|\u001b[m     added 7 line to newText.txt\n",
      "\u001b[31m|\u001b[m  \n",
      "* \u001b[33mcommit 2cabc58c7fe27da5409e11181e7354bfc8b06644\u001b[m\n",
      "\u001b[31m|\u001b[m Author: Marcus D Sherman <mdsherm@umich.edu>\n",
      "\u001b[31m|\u001b[m Date:   Mon Sep 10 11:20:28 2018 -0400\n",
      "\u001b[31m|\u001b[m \n",
      "\u001b[31m|\u001b[m     added 6 line to newText.txt\n",
      "\u001b[31m|\u001b[m  \n",
      "* \u001b[33mcommit c29c52ed14d00d9b48d9c7650174fc0f38834d2c\u001b[m\n",
      "\u001b[31m|\u001b[m Author: Marcus D Sherman <mdsherm@umich.edu>\n",
      "\u001b[31m|\u001b[m Date:   Mon Sep 10 11:20:28 2018 -0400\n",
      "\u001b[31m|\u001b[m \n",
      "\u001b[31m|\u001b[m     added 5 line to newText.txt\n",
      "\u001b[31m|\u001b[m  \n",
      "* \u001b[33mcommit 39375d128580ebbb0d70ff6134bffc358b336f83\u001b[m\n",
      "\u001b[31m|\u001b[m Author: Marcus D Sherman <mdsherm@umich.edu>\n",
      "\u001b[31m|\u001b[m Date:   Mon Sep 10 11:20:28 2018 -0400\n",
      "\u001b[31m|\u001b[m \n",
      "\u001b[31m|\u001b[m     added 4 line to newText.txt\n",
      "\u001b[31m|\u001b[m  \n",
      "* \u001b[33mcommit 2a2e6da6cb5daf984d4623907e0bbd660e5e252c\u001b[m\n",
      "\u001b[31m|\u001b[m Author: Marcus D Sherman <mdsherm@umich.edu>\n",
      "\u001b[31m|\u001b[m Date:   Mon Sep 10 11:20:28 2018 -0400\n",
      "\u001b[31m|\u001b[m \n",
      "\u001b[31m|\u001b[m     added 3 line to newText.txt\n",
      "\u001b[31m|\u001b[m  \n",
      "* \u001b[33mcommit f23c90ea9304f772bb062281933a586eca73a2e7\u001b[m\n",
      "\u001b[31m|\u001b[m Author: Marcus D Sherman <mdsherm@umich.edu>\n",
      "\u001b[31m|\u001b[m Date:   Mon Sep 10 11:20:27 2018 -0400\n",
      "\u001b[31m|\u001b[m \n",
      "\u001b[31m|\u001b[m     added 2 line to newText.txt\n",
      "\u001b[31m|\u001b[m  \n",
      "* \u001b[33mcommit 54afd2db97dc3fcc6dbc24fd520e5b85a2419626\u001b[m\n",
      "\u001b[31m|\u001b[m Author: Marcus D Sherman <mdsherm@umich.edu>\n",
      "\u001b[31m|\u001b[m Date:   Mon Sep 10 11:20:27 2018 -0400\n",
      "\u001b[31m|\u001b[m \n",
      "\u001b[31m|\u001b[m     added 1 line to newText.txt\n",
      "\u001b[31m|\u001b[m  \n",
      "* \u001b[33mcommit 72c691f500ba5a93b061cfa6f6b1344313d748b3\u001b[m\n",
      "\u001b[31m|\u001b[m Author: Marcus D Sherman <mdsherm@umich.edu>\n",
      "\u001b[31m|\u001b[m Date:   Mon Sep 10 11:18:14 2018 -0400\n",
      "\u001b[31m|\u001b[m \n",
      "\u001b[31m|\u001b[m     added file to new branch\n",
      "\u001b[31m|\u001b[m  \n",
      "* \u001b[33mcommit 22679ec4a84ab389dea9f107e9d654dd1af44115\u001b[m\u001b[33m (\u001b[1;32mmaster\u001b[m\u001b[33m)\u001b[m\n",
      "  Author: Marcus D Sherman <mdsherm@umich.edu>\n",
      "  Date:   Mon Sep 10 11:16:04 2018 -0400\n",
      "  \n",
      "      first commit\n"
     ]
    }
   ],
   "source": [
    "!git log --graph --decorate"
   ]
  },
  {
   "cell_type": "markdown",
   "metadata": {},
   "source": [
    "Maybe I went too far back"
   ]
  },
  {
   "cell_type": "code",
   "execution_count": null,
   "metadata": {
    "collapsed": true
   },
   "outputs": [],
   "source": [
    "! git reset "
   ]
  },
  {
   "cell_type": "code",
   "execution_count": null,
   "metadata": {},
   "outputs": [],
   "source": [
    "!git log --graph --decorate"
   ]
  },
  {
   "cell_type": "markdown",
   "metadata": {},
   "source": [
    "Actually., this would be easier if I just used my *informative* commit message"
   ]
  },
  {
   "cell_type": "code",
   "execution_count": 42,
   "metadata": {},
   "outputs": [
    {
     "name": "stdout",
     "output_type": "stream",
     "text": [
      "\u001b[33mcommit eb343610eface9e301ff8e579f7d31a0913aa957\u001b[m\n",
      "Author: Marcus D Sherman <mdsherm@umich.edu>\n",
      "Date:   Mon Sep 10 11:20:28 2018 -0400\n",
      "\n",
      "    added 7 line to newText.txt\n"
     ]
    }
   ],
   "source": [
    "!git log --grep=\"added 7\""
   ]
  },
  {
   "cell_type": "code",
   "execution_count": 43,
   "metadata": {},
   "outputs": [
    {
     "name": "stdout",
     "output_type": "stream",
     "text": [
      "Unstaged changes after reset:\n",
      "M\tnewText.txt\n"
     ]
    }
   ],
   "source": [
    "!git reset eb343610"
   ]
  },
  {
   "cell_type": "markdown",
   "metadata": {},
   "source": [
    "But those hash keys don't really do if for me...you can't really remember them or ALL of your commit messages. Therefore, we can add tags to our commits"
   ]
  },
  {
   "cell_type": "code",
   "execution_count": 44,
   "metadata": {},
   "outputs": [
    {
     "name": "stdout",
     "output_type": "stream",
     "text": [
      "\u001b[33mcommit eb343610eface9e301ff8e579f7d31a0913aa957\u001b[m\n",
      "Author: Marcus D Sherman <mdsherm@umich.edu>\n",
      "Date:   Mon Sep 10 11:20:28 2018 -0400\n",
      "\n",
      "    added 7 line to newText.txt\n",
      "\n",
      "\u001b[33mcommit 2cabc58c7fe27da5409e11181e7354bfc8b06644\u001b[m\n",
      "Author: Marcus D Sherman <mdsherm@umich.edu>\n",
      "Date:   Mon Sep 10 11:20:28 2018 -0400\n",
      "\n",
      "    added 6 line to newText.txt\n",
      "\n",
      "\u001b[33mcommit c29c52ed14d00d9b48d9c7650174fc0f38834d2c\u001b[m\n",
      "Author: Marcus D Sherman <mdsherm@umich.edu>\n",
      "Date:   Mon Sep 10 11:20:28 2018 -0400\n",
      "\n",
      "    added 5 line to newText.txt\n",
      "\n",
      "\u001b[33mcommit 39375d128580ebbb0d70ff6134bffc358b336f83\u001b[m\n",
      "Author: Marcus D Sherman <mdsherm@umich.edu>\n",
      "Date:   Mon Sep 10 11:20:28 2018 -0400\n",
      "\n",
      "    added 4 line to newText.txt\n",
      "\n",
      "\u001b[33mcommit 2a2e6da6cb5daf984d4623907e0bbd660e5e252c\u001b[m\n",
      "Author: Marcus D Sherman <mdsherm@umich.edu>\n",
      "Date:   Mon Sep 10 11:20:28 2018 -0400\n",
      "\n",
      "    added 3 line to newText.txt\n",
      "\n",
      "\u001b[33mcommit f23c90ea9304f772bb062281933a586eca73a2e7\u001b[m\n",
      "Author: Marcus D Sherman <mdsherm@umich.edu>\n",
      "Date:   Mon Sep 10 11:20:27 2018 -0400\n",
      "\n",
      "    added 2 line to newText.txt\n",
      "\n",
      "\u001b[33mcommit 54afd2db97dc3fcc6dbc24fd520e5b85a2419626\u001b[m\n",
      "Author: Marcus D Sherman <mdsherm@umich.edu>\n",
      "Date:   Mon Sep 10 11:20:27 2018 -0400\n",
      "\n",
      "    added 1 line to newText.txt\n",
      "\n",
      "\u001b[33mcommit 72c691f500ba5a93b061cfa6f6b1344313d748b3\u001b[m\n",
      "Author: Marcus D Sherman <mdsherm@umich.edu>\n",
      "Date:   Mon Sep 10 11:18:14 2018 -0400\n",
      "\n",
      "    added file to new branch\n",
      "\n",
      "\u001b[33mcommit 22679ec4a84ab389dea9f107e9d654dd1af44115\u001b[m\n",
      "Author: Marcus D Sherman <mdsherm@umich.edu>\n",
      "Date:   Mon Sep 10 11:16:04 2018 -0400\n",
      "\n",
      "    first commit\n"
     ]
    }
   ],
   "source": [
    "!git log"
   ]
  },
  {
   "cell_type": "code",
   "execution_count": 45,
   "metadata": {
    "collapsed": true
   },
   "outputs": [],
   "source": [
    "!git tag -a line7 -m \"tag for line 7 version\""
   ]
  },
  {
   "cell_type": "code",
   "execution_count": 46,
   "metadata": {},
   "outputs": [
    {
     "name": "stdout",
     "output_type": "stream",
     "text": [
      "line7\n"
     ]
    }
   ],
   "source": [
    "# list all tags associated with repo\n",
    "!git tag"
   ]
  },
  {
   "cell_type": "markdown",
   "metadata": {},
   "source": [
    "Tags allow you to have an easy way to mark important points in your workflow for easy navigation and tracking"
   ]
  },
  {
   "cell_type": "code",
   "execution_count": 47,
   "metadata": {},
   "outputs": [
    {
     "name": "stdout",
     "output_type": "stream",
     "text": [
      "[testFeature 5590e5c] testing out tags\n",
      " 1 file changed, 1 insertion(+)\n",
      " create mode 100644 tagText.txt\n"
     ]
    }
   ],
   "source": [
    "!echo \"goodbye world\" >> tagText.txt\n",
    "!git add tagText.txt\n",
    "!git commit -m \"testing out tags\""
   ]
  },
  {
   "cell_type": "code",
   "execution_count": 48,
   "metadata": {},
   "outputs": [
    {
     "name": "stdout",
     "output_type": "stream",
     "text": [
      "* \u001b[33m5590e5c\u001b[m\u001b[33m (\u001b[1;36mHEAD\u001b[m\u001b[33m, \u001b[1;32mtestFeature\u001b[m\u001b[33m)\u001b[m testing out tags\n",
      "* \u001b[33meb34361\u001b[m\u001b[33m (\u001b[1;33mtag: line7\u001b[m\u001b[33m)\u001b[m added 7 line to newText.txt\n",
      "* \u001b[33m2cabc58\u001b[m added 6 line to newText.txt\n",
      "* \u001b[33mc29c52e\u001b[m added 5 line to newText.txt\n",
      "* \u001b[33m39375d1\u001b[m added 4 line to newText.txt\n",
      "* \u001b[33m2a2e6da\u001b[m added 3 line to newText.txt\n",
      "* \u001b[33mf23c90e\u001b[m added 2 line to newText.txt\n",
      "* \u001b[33m54afd2d\u001b[m added 1 line to newText.txt\n",
      "* \u001b[33m72c691f\u001b[m added file to new branch\n",
      "* \u001b[33m22679ec\u001b[m\u001b[33m (\u001b[1;32mmaster\u001b[m\u001b[33m)\u001b[m first commit\n"
     ]
    }
   ],
   "source": [
    "!git log --oneline --graph --decorate"
   ]
  },
  {
   "cell_type": "code",
   "execution_count": 49,
   "metadata": {},
   "outputs": [
    {
     "name": "stdout",
     "output_type": "stream",
     "text": [
      "Unstaged changes after reset:\n",
      "M\tnewText.txt\n"
     ]
    }
   ],
   "source": [
    "# Go back to my tag\n",
    "!git reset line7"
   ]
  },
  {
   "cell_type": "code",
   "execution_count": 50,
   "metadata": {},
   "outputs": [
    {
     "name": "stdout",
     "output_type": "stream",
     "text": [
      "* \u001b[33meb34361\u001b[m\u001b[33m (\u001b[1;36mHEAD\u001b[m\u001b[33m, \u001b[1;33mtag: line7\u001b[m\u001b[33m, \u001b[1;32mtestFeature\u001b[m\u001b[33m)\u001b[m added 7 line to newText.txt\n",
      "* \u001b[33m2cabc58\u001b[m added 6 line to newText.txt\n",
      "* \u001b[33mc29c52e\u001b[m added 5 line to newText.txt\n",
      "* \u001b[33m39375d1\u001b[m added 4 line to newText.txt\n",
      "* \u001b[33m2a2e6da\u001b[m added 3 line to newText.txt\n",
      "* \u001b[33mf23c90e\u001b[m added 2 line to newText.txt\n",
      "* \u001b[33m54afd2d\u001b[m added 1 line to newText.txt\n",
      "* \u001b[33m72c691f\u001b[m added file to new branch\n",
      "* \u001b[33m22679ec\u001b[m\u001b[33m (\u001b[1;32mmaster\u001b[m\u001b[33m)\u001b[m first commit\n"
     ]
    }
   ],
   "source": [
    "!git log --oneline --graph --decorate"
   ]
  },
  {
   "cell_type": "markdown",
   "metadata": {},
   "source": [
    "---"
   ]
  },
  {
   "cell_type": "markdown",
   "metadata": {},
   "source": [
    "# Merging"
   ]
  },
  {
   "cell_type": "markdown",
   "metadata": {},
   "source": [
    "Now, the always remember this golden rule of merging: the master branch never turns.\n",
    "This means that when merging, always merge *from* master, not *to* master"
   ]
  },
  {
   "cell_type": "code",
   "execution_count": 51,
   "metadata": {},
   "outputs": [
    {
     "name": "stdout",
     "output_type": "stream",
     "text": [
      "error: Your local changes to the following files would be overwritten by checkout:\n",
      "\tnewText.txt\n",
      "Please, commit your changes or stash them before you can switch branches.\n",
      "Aborting\n"
     ]
    }
   ],
   "source": [
    "!git checkout master"
   ]
  },
  {
   "cell_type": "markdown",
   "metadata": {},
   "source": [
    "This is a form conflict detection. It shows that some information was not staged. If I force a switch to a different branch, I will lose this information"
   ]
  },
  {
   "cell_type": "code",
   "execution_count": 52,
   "metadata": {},
   "outputs": [
    {
     "name": "stdout",
     "output_type": "stream",
     "text": [
      "[testFeature babfd08] clearing up tag lesson\n",
      " 1 file changed, 3 insertions(+)\n"
     ]
    }
   ],
   "source": [
    "!git add newText.txt\n",
    "!git commit -m \"clearing up tag lesson\""
   ]
  },
  {
   "cell_type": "code",
   "execution_count": 53,
   "metadata": {},
   "outputs": [
    {
     "name": "stdout",
     "output_type": "stream",
     "text": [
      "Switched to branch 'master'\n"
     ]
    }
   ],
   "source": [
    "!git checkout master"
   ]
  },
  {
   "cell_type": "markdown",
   "metadata": {},
   "source": [
    "Here is where I can bring in the test branch"
   ]
  },
  {
   "cell_type": "code",
   "execution_count": 54,
   "metadata": {
    "scrolled": true
   },
   "outputs": [
    {
     "name": "stdout",
     "output_type": "stream",
     "text": [
      "* \u001b[32mmaster\u001b[m\n",
      "  testFeature\u001b[m\n"
     ]
    }
   ],
   "source": [
    "!git branch"
   ]
  },
  {
   "cell_type": "code",
   "execution_count": 55,
   "metadata": {},
   "outputs": [
    {
     "name": "stdout",
     "output_type": "stream",
     "text": [
      "Updating 22679ec..babfd08\n",
      "Fast-forward\n",
      " newText.txt | 11 \u001b[32m+++++++++++\u001b[m\n",
      " 1 file changed, 11 insertions(+)\n",
      " create mode 100644 newText.txt\n"
     ]
    }
   ],
   "source": [
    "!git merge testFeature"
   ]
  },
  {
   "cell_type": "code",
   "execution_count": 56,
   "metadata": {},
   "outputs": [
    {
     "name": "stdout",
     "output_type": "stream",
     "text": [
      "On branch master\n",
      "nothing to commit (use -u to show untracked files)\n"
     ]
    }
   ],
   "source": [
    "# helpful argument to ignore untracked files\n",
    "!git status -uno"
   ]
  },
  {
   "cell_type": "code",
   "execution_count": 57,
   "metadata": {},
   "outputs": [
    {
     "name": "stdout",
     "output_type": "stream",
     "text": [
      "* \u001b[33mbabfd08\u001b[m\u001b[33m (\u001b[1;36mHEAD\u001b[m\u001b[33m, \u001b[1;32mtestFeature\u001b[m\u001b[33m, \u001b[1;32mmaster\u001b[m\u001b[33m)\u001b[m clearing up tag lesson\n",
      "* \u001b[33meb34361\u001b[m\u001b[33m (\u001b[1;33mtag: line7\u001b[m\u001b[33m)\u001b[m added 7 line to newText.txt\n",
      "* \u001b[33m2cabc58\u001b[m added 6 line to newText.txt\n",
      "* \u001b[33mc29c52e\u001b[m added 5 line to newText.txt\n",
      "* \u001b[33m39375d1\u001b[m added 4 line to newText.txt\n",
      "* \u001b[33m2a2e6da\u001b[m added 3 line to newText.txt\n",
      "* \u001b[33mf23c90e\u001b[m added 2 line to newText.txt\n",
      "* \u001b[33m54afd2d\u001b[m added 1 line to newText.txt\n",
      "* \u001b[33m72c691f\u001b[m added file to new branch\n",
      "* \u001b[33m22679ec\u001b[m first commit\n"
     ]
    }
   ],
   "source": [
    "!git log --oneline --graph --decorate"
   ]
  },
  {
   "cell_type": "markdown",
   "metadata": {},
   "source": [
    "---"
   ]
  },
  {
   "cell_type": "markdown",
   "metadata": {},
   "source": [
    "# Remote repos"
   ]
  },
  {
   "cell_type": "markdown",
   "metadata": {},
   "source": [
    "Once you have a GitHub (or similar) account, you can start using it remotely through git"
   ]
  },
  {
   "cell_type": "code",
   "execution_count": null,
   "metadata": {
    "collapsed": true
   },
   "outputs": [],
   "source": [
    "!git remote add origin https://github.com/betteridiot/bamnostic.git"
   ]
  },
  {
   "cell_type": "markdown",
   "metadata": {},
   "source": [
    "Now I just need to push my local branch and its commit history to the remote repo"
   ]
  },
  {
   "cell_type": "code",
   "execution_count": null,
   "metadata": {},
   "outputs": [],
   "source": [
    "!git push origin master"
   ]
  },
  {
   "cell_type": "markdown",
   "metadata": {},
   "source": [
    "By adding a README.md from GitHub, our remote repo now has a commit ahead of our local workspace. Use `pull` to fix that"
   ]
  },
  {
   "cell_type": "code",
   "execution_count": null,
   "metadata": {},
   "outputs": [],
   "source": [
    "!git pull origin master"
   ]
  }
 ],
 "metadata": {
  "kernelspec": {
   "display_name": "Python 3",
   "language": "python",
   "name": "python3"
  },
  "language_info": {
   "codemirror_mode": {
    "name": "ipython",
    "version": 3
   },
   "file_extension": ".py",
   "mimetype": "text/x-python",
   "name": "python",
   "nbconvert_exporter": "python",
   "pygments_lexer": "ipython3",
   "version": "3.7.0"
  }
 },
 "nbformat": 4,
 "nbformat_minor": 2
}
