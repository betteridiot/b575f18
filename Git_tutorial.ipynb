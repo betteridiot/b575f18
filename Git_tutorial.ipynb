{
 "cells": [
  {
   "cell_type": "markdown",
   "metadata": {},
   "source": [
    "# Initialization"
   ]
  },
  {
   "cell_type": "markdown",
   "metadata": {},
   "source": [
    "To create an empty git repository in the current directory use the following command. This creates a `.git` file in the directory structure. (Note: the \"'!'\" and `%%bash` is used in jupyter notebooks to send commands to the shell)."
   ]
  },
  {
   "cell_type": "code",
   "execution_count": 1,
   "metadata": {},
   "outputs": [],
   "source": [
    "%%bash\n",
    "if [[ -z $(command -v git) ]]; then\n",
    "    yes | conda install git\n",
    "fi"
   ]
  },
  {
   "cell_type": "code",
   "execution_count": 6,
   "metadata": {},
   "outputs": [
    {
     "name": "stdout",
     "output_type": "stream",
     "text": [
      "/root\n"
     ]
    }
   ],
   "source": [
    "cd "
   ]
  },
  {
   "cell_type": "markdown",
   "metadata": {},
   "source": [
    "some note"
   ]
  },
  {
   "cell_type": "code",
   "execution_count": 7,
   "metadata": {},
   "outputs": [
    {
     "name": "stdout",
     "output_type": "stream",
     "text": [
      "Initialized empty Git repository in /root/.git/\n"
     ]
    }
   ],
   "source": [
    "!git init"
   ]
  },
  {
   "cell_type": "code",
   "execution_count": 10,
   "metadata": {},
   "outputs": [
    {
     "name": "stdout",
     "output_type": "stream",
     "text": [
      "\u001b[0m\u001b[01;38;5;223m.\u001b[0m/                      \u001b[01;38;5;223m.emacs.d\u001b[0m/            \u001b[48;5;234;38;5;180m.node-gyp\u001b[0m/\n",
      "\u001b[01;38;5;223m..\u001b[0m/                     fake_data.tsv        \u001b[48;5;234;38;5;180m.npm\u001b[0m/\n",
      "\u001b[48;5;234;38;5;180m.astropy\u001b[0m/               \u001b[48;5;234;38;5;180m.git\u001b[0m/                \u001b[04;38;5;180m.npmrc\u001b[0m\n",
      ".bash_history           .gitconfig           \u001b[48;5;234;38;5;180m.oracle_jre_usage\u001b[0m/\n",
      "\u001b[04;38;5;180m.bashrc\u001b[0m                 .git-credentials     \u001b[48;5;234;38;5;180m.parallel\u001b[0m/\n",
      "\u001b[00;38;5;234m.bashrc-anaconda3.bak\u001b[0m   \u001b[48;5;234;38;5;180m.glue\u001b[0m/               \u001b[48;5;234;38;5;180m.plotly\u001b[0m/\n",
      "\u001b[00;38;5;234m.bashrc-miniconda3.bak\u001b[0m  \u001b[01;38;5;223m.gnupg\u001b[0m/              .profile\n",
      "\u001b[48;5;234;38;5;223mC\u001b[0m@                      .gnuplot_history     .python_history\n",
      "\u001b[01;38;5;223m.cache\u001b[0m/                 .gtkrc-2.0           \u001b[48;5;234;38;5;180mpython_tutorial\u001b[0m/\n",
      "\u001b[48;5;234;38;5;180m.cargo\u001b[0m/                 \u001b[48;5;234;38;5;180m.ipynb_checkpoints\u001b[0m/  \u001b[48;5;234;38;5;180m.rustup\u001b[0m/\n",
      "\u001b[48;5;234;38;5;180m.conda\u001b[0m/                 \u001b[01;38;5;223m.ipython\u001b[0m/            \u001b[48;5;234;38;5;180msrc\u001b[0m/\n",
      "\u001b[04;38;5;180m.condarc\u001b[0m                \u001b[48;5;234;38;5;180m.java\u001b[0m/               \u001b[48;5;234;38;5;180m.src\u001b[0m/\n",
      "\u001b[48;5;234;38;5;180m.config\u001b[0m/                \u001b[48;5;234;38;5;180m.julia\u001b[0m/              \u001b[01;38;5;223m.ssh\u001b[0m/\n",
      "\u001b[00;38;5;151mcoverage.bash\u001b[0m           .julia_history       \u001b[01;38;5;187mtemplate.py\u001b[0m\n",
      "\u001b[00;38;5;151mcoverage.sh\u001b[0m             \u001b[01;38;5;223m.jupyter\u001b[0m/            \u001b[48;5;234;38;5;180m.vim\u001b[0m/\n",
      "\u001b[48;5;234;38;5;223mD\u001b[0m@                      \u001b[01;38;5;223m.keychain\u001b[0m/           \u001b[48;5;234;38;5;180m.vim.bak.1\u001b[0m/\n",
      "dat.tsv                 .lesshst             .viminfo\n",
      "\u001b[01;38;5;223m.dbus\u001b[0m/                  \u001b[01;38;5;223m.local\u001b[0m/              \u001b[00;38;5;234m.viminfo.tmp\u001b[0m\n",
      "\u001b[48;5;234;38;5;223mDesktop\u001b[0m@                \u001b[48;5;234;38;5;180mminiconda3\u001b[0m/          \u001b[48;5;234;38;5;180m.vimpkg\u001b[0m/\n",
      ".dir_colors             \u001b[01;38;5;223m.mozilla\u001b[0m/            \u001b[04;38;5;180m.vimrc\u001b[0m\n",
      "\u001b[01;38;5;223mDownloads\u001b[0m/              \u001b[48;5;234;38;5;223m.multirust\u001b[0m@          \u001b[01;38;5;223m.w3m\u001b[0m/\n",
      "\u001b[48;5;234;38;5;187mDropbox\u001b[0m@                \u001b[04;38;5;180m.netrc\u001b[0m               .Xauthority\n"
     ]
    }
   ],
   "source": [
    "ls -a"
   ]
  },
  {
   "cell_type": "markdown",
   "metadata": {},
   "source": [
    "Some helper commands"
   ]
  },
  {
   "cell_type": "code",
   "execution_count": null,
   "metadata": {
    "collapsed": true
   },
   "outputs": [],
   "source": [
    "%%bash\n",
    "# Set user information\n",
    "git config --global user.name <userName>\n",
    "git config --global user.email <email>\n",
    "\n",
    "# Add color to git command line\n",
    "git config --global color.ui auto\n",
    "\n",
    "# Save your credentials (need to install manager or select different option)\n",
    "git config --global credential.helper manager\n",
    "\n",
    "# If you want to set your preferred text editor for git\n",
    "# git config --global core.editor \"vim\""
   ]
  },
  {
   "cell_type": "code",
   "execution_count": 13,
   "metadata": {},
   "outputs": [
    {
     "name": "stdout",
     "output_type": "stream",
     "text": [
      "/mnt/d/MDS\n"
     ]
    }
   ],
   "source": [
    "cd /mnt/d/MDS/"
   ]
  },
  {
   "cell_type": "code",
   "execution_count": 14,
   "metadata": {},
   "outputs": [],
   "source": [
    "mkdir testgit"
   ]
  },
  {
   "cell_type": "code",
   "execution_count": 15,
   "metadata": {},
   "outputs": [
    {
     "name": "stdout",
     "output_type": "stream",
     "text": [
      "/mnt/d/MDS/testgit\n"
     ]
    }
   ],
   "source": [
    "cd testgit/"
   ]
  },
  {
   "cell_type": "code",
   "execution_count": 16,
   "metadata": {},
   "outputs": [
    {
     "name": "stdout",
     "output_type": "stream",
     "text": [
      "Initialized empty Git repository in /mnt/d/MDS/testgit/.git/\n"
     ]
    }
   ],
   "source": [
    "!git init"
   ]
  },
  {
   "cell_type": "markdown",
   "metadata": {},
   "source": [
    "To see all new or modified files *to be committed*, use the following command"
   ]
  },
  {
   "cell_type": "code",
   "execution_count": 17,
   "metadata": {},
   "outputs": [
    {
     "name": "stdout",
     "output_type": "stream",
     "text": [
      "On branch master\n",
      "\n",
      "Initial commit\n",
      "\n",
      "nothing to commit (create/copy files and use \"git add\" to track)\n"
     ]
    }
   ],
   "source": [
    "!git status"
   ]
  },
  {
   "cell_type": "markdown",
   "metadata": {},
   "source": [
    "To copy someone else's remote repository (like jupyter) to the current working directory"
   ]
  },
  {
   "cell_type": "code",
   "execution_count": 18,
   "metadata": {},
   "outputs": [
    {
     "name": "stdout",
     "output_type": "stream",
     "text": [
      "Cloning into 'b575f18'...\n",
      "remote: Counting objects: 85, done.\u001b[K\n",
      "remote: Compressing objects: 100% (56/56), done.\u001b[K\n",
      "remote: Total 85 (delta 27), reused 85 (delta 27), pack-reused 0\u001b[K\n",
      "Unpacking objects: 100% (85/85), done.\n",
      "Checking connectivity... done.\n"
     ]
    }
   ],
   "source": [
    "!git clone https://github.com/betteridiot/b575f18.git"
   ]
  },
  {
   "cell_type": "code",
   "execution_count": 19,
   "metadata": {},
   "outputs": [
    {
     "name": "stdout",
     "output_type": "stream",
     "text": [
      "/mnt/d/MDS/testgit/b575f18\n"
     ]
    }
   ],
   "source": [
    "cd b575f18/"
   ]
  },
  {
   "cell_type": "code",
   "execution_count": 20,
   "metadata": {},
   "outputs": [
    {
     "name": "stdout",
     "output_type": "stream",
     "text": [
      "\u001b[0m\u001b[01;38;5;108mcats.jpg\u001b[0m*                    \u001b[01;38;5;108mHs_receptors.fa\u001b[0m*    \u001b[01;38;5;108msqlalchemy.ipynb\u001b[0m*\n",
      "\u001b[01;38;5;108mComps_and_generators.ipynb\u001b[0m*  \u001b[01;38;5;108mOOP.ipynb\u001b[0m*          \u001b[01;38;5;108mSQLalchemy_query.ipynb\u001b[0m*\n",
      "\u001b[01;38;5;108mData_viz.ipynb\u001b[0m*              \u001b[01;38;5;108mPandas.ipynb\u001b[0m*       \u001b[01;38;5;108mString_formatting.ipynb\u001b[0m*\n",
      "\u001b[01;38;5;108mdata_viz_setup.ipynb\u001b[0m*        \u001b[01;38;5;108mREADME.md\u001b[0m*          \u001b[01;38;5;108mSubprocess.ipynb\u001b[0m*\n",
      "\u001b[01;38;5;108mflights.db\u001b[0m*                  \u001b[01;38;5;108mreal_estate.csv\u001b[0m*    \u001b[01;38;5;108msyntax.png\u001b[0m*\n",
      "\u001b[01;38;5;108mGit_tutorial.ipynb\u001b[0m*          \u001b[01;38;5;108msample_excel.xlsx\u001b[0m*  \u001b[48;5;234;38;5;180mtest_data\u001b[0m/\n",
      "\u001b[01;38;5;108mGit_tutorial.pptx\u001b[0m*           \u001b[01;38;5;108msample_tsv.tsv\u001b[0m*     \u001b[01;38;5;108mTWL06.txt\u001b[0m*\n"
     ]
    }
   ],
   "source": [
    "ls"
   ]
  },
  {
   "cell_type": "code",
   "execution_count": 21,
   "metadata": {},
   "outputs": [
    {
     "name": "stdout",
     "output_type": "stream",
     "text": [
      "/mnt/d/MDS/testgit\n"
     ]
    }
   ],
   "source": [
    "cd .."
   ]
  },
  {
   "cell_type": "markdown",
   "metadata": {},
   "source": [
    "---"
   ]
  },
  {
   "cell_type": "markdown",
   "metadata": {},
   "source": [
    "# Now to add something to our repo"
   ]
  },
  {
   "cell_type": "code",
   "execution_count": 22,
   "metadata": {
    "collapsed": true
   },
   "outputs": [],
   "source": [
    "!touch bioinf575.txt"
   ]
  },
  {
   "cell_type": "markdown",
   "metadata": {},
   "source": [
    "#### Who remembers what the `touch` command does?"
   ]
  },
  {
   "cell_type": "markdown",
   "metadata": {},
   "source": [
    "Now, add some content. "
   ]
  },
  {
   "cell_type": "code",
   "execution_count": 23,
   "metadata": {
    "collapsed": true
   },
   "outputs": [],
   "source": [
    "# This just appends \"hello world\" to our file contents\n",
    "!echo \"hello world\" >> bioinf575.txt"
   ]
  },
  {
   "cell_type": "markdown",
   "metadata": {},
   "source": [
    "Let's look at the changes now."
   ]
  },
  {
   "cell_type": "code",
   "execution_count": 24,
   "metadata": {},
   "outputs": [
    {
     "name": "stdout",
     "output_type": "stream",
     "text": [
      "On branch master\n",
      "\n",
      "Initial commit\n",
      "\n",
      "Untracked files:\n",
      "  (use \"git add <file>...\" to include in what will be committed)\n",
      "\n",
      "\t\u001b[31mb575f18/\u001b[m\n",
      "\t\u001b[31mbioinf575.txt\u001b[m\n",
      "\n",
      "nothing added to commit but untracked files present (use \"git add\" to track)\n"
     ]
    }
   ],
   "source": [
    "!git status"
   ]
  },
  {
   "cell_type": "markdown",
   "metadata": {},
   "source": [
    "To add files to your repo, it is as simple as `add`"
   ]
  },
  {
   "cell_type": "code",
   "execution_count": 25,
   "metadata": {
    "collapsed": true
   },
   "outputs": [],
   "source": [
    "!git add bioinf575.txt"
   ]
  },
  {
   "cell_type": "code",
   "execution_count": 26,
   "metadata": {},
   "outputs": [
    {
     "name": "stdout",
     "output_type": "stream",
     "text": [
      "On branch master\n",
      "\n",
      "Initial commit\n",
      "\n",
      "Changes to be committed:\n",
      "  (use \"git rm --cached <file>...\" to unstage)\n",
      "\n",
      "\t\u001b[32mnew file:   bioinf575.txt\u001b[m\n",
      "\n",
      "Untracked files:\n",
      "  (use \"git add <file>...\" to include in what will be committed)\n",
      "\n",
      "\t\u001b[31mb575f18/\u001b[m\n",
      "\n"
     ]
    }
   ],
   "source": [
    "!git status"
   ]
  },
  {
   "cell_type": "markdown",
   "metadata": {},
   "source": [
    "`bioinf575.txt` is *staged*. If we were to make changes to it, we can look at the \"diff\""
   ]
  },
  {
   "cell_type": "code",
   "execution_count": 27,
   "metadata": {},
   "outputs": [
    {
     "name": "stdout",
     "output_type": "stream",
     "text": [
      "\u001b[1mdiff --git a/bioinf575.txt b/bioinf575.txt\u001b[m\n",
      "\u001b[1mindex 3b18e51..ba5906f 100644\u001b[m\n",
      "\u001b[1m--- a/bioinf575.txt\u001b[m\n",
      "\u001b[1m+++ b/bioinf575.txt\u001b[m\n",
      "\u001b[36m@@ -1 +1,2 @@\u001b[m\n",
      " hello world\u001b[m\n",
      "\u001b[32m+\u001b[m\u001b[32mhello palmer commons\u001b[m\n"
     ]
    }
   ],
   "source": [
    "# add another line\n",
    "!echo \"hello palmer commons\" >> bioinf575.txt\n",
    "\n",
    "# See the differences between `modified` and `staged`\n",
    "!git diff"
   ]
  },
  {
   "cell_type": "markdown",
   "metadata": {},
   "source": [
    "Looks good, let's put it in the repo"
   ]
  },
  {
   "cell_type": "code",
   "execution_count": 28,
   "metadata": {},
   "outputs": [
    {
     "name": "stdout",
     "output_type": "stream",
     "text": [
      "[master (root-commit) bd61d6d] first commit\n",
      " 1 file changed, 2 insertions(+)\n",
      " create mode 100644 bioinf575.txt\n"
     ]
    }
   ],
   "source": [
    "!git add bioinf575.txt\n",
    "!git commit -m \"first commit\""
   ]
  },
  {
   "cell_type": "markdown",
   "metadata": {},
   "source": [
    "**Note**: the `-m <message>` argument is very important for people that don't want to deal with vim. With it, you can make a short commit message at the command line."
   ]
  },
  {
   "cell_type": "code",
   "execution_count": 29,
   "metadata": {},
   "outputs": [
    {
     "name": "stdout",
     "output_type": "stream",
     "text": [
      "\u001b[33mcommit bd61d6db0885a0e685c4e709b839310ebe7f6864\u001b[m\n",
      "Author: betteridiot <mdsherman@betteridiot.tech>\n",
      "Date:   Thu Sep 6 11:06:26 2018 -0400\n",
      "\n",
      "    first commit\n"
     ]
    }
   ],
   "source": [
    "!git log"
   ]
  },
  {
   "cell_type": "markdown",
   "metadata": {},
   "source": [
    "---"
   ]
  },
  {
   "cell_type": "markdown",
   "metadata": {},
   "source": [
    "# Branching"
   ]
  },
  {
   "cell_type": "markdown",
   "metadata": {},
   "source": [
    "Now that we have an 'unmodified' repo, we can start branching. Branching is helpful for developing without hurting the standard code base"
   ]
  },
  {
   "cell_type": "code",
   "execution_count": 30,
   "metadata": {},
   "outputs": [],
   "source": [
    "# Create a branch\n",
    "!git branch testFeature"
   ]
  },
  {
   "cell_type": "code",
   "execution_count": 31,
   "metadata": {},
   "outputs": [
    {
     "name": "stdout",
     "output_type": "stream",
     "text": [
      "* \u001b[32mmaster\u001b[m\n",
      "  testFeature\u001b[m\n"
     ]
    }
   ],
   "source": [
    "# list all branches\n",
    "!git branch"
   ]
  },
  {
   "cell_type": "markdown",
   "metadata": {},
   "source": [
    "The star next to `master` is important. It can also be seen in your log if there are multiple commits. This is called the `HEAD`. It is a reference to where we are working at currently."
   ]
  },
  {
   "cell_type": "code",
   "execution_count": 32,
   "metadata": {},
   "outputs": [
    {
     "name": "stdout",
     "output_type": "stream",
     "text": [
      "Switched to branch 'testFeature'\n",
      "  master\u001b[m\n",
      "* \u001b[32mtestFeature\u001b[m\n"
     ]
    }
   ],
   "source": [
    "# To changed branches\n",
    "!git checkout testFeature\n",
    "!git branch"
   ]
  },
  {
   "cell_type": "markdown",
   "metadata": {},
   "source": [
    "Within this new branch, let's make some changes. These changes are not tracked by origin/master branch."
   ]
  },
  {
   "cell_type": "code",
   "execution_count": 33,
   "metadata": {
    "collapsed": true
   },
   "outputs": [],
   "source": [
    "!echo \"new branch txt file\" >> newText.txt"
   ]
  },
  {
   "cell_type": "code",
   "execution_count": 34,
   "metadata": {},
   "outputs": [
    {
     "name": "stdout",
     "output_type": "stream",
     "text": [
      "[testFeature 3c6d462] added file to new branch\n",
      " 1 file changed, 1 insertion(+)\n",
      " create mode 100644 newText.txt\n",
      "On branch testFeature\n",
      "Untracked files:\n",
      "  (use \"git add <file>...\" to include in what will be committed)\n",
      "\n",
      "\tb575f18/\n",
      "\n",
      "nothing added to commit but untracked files present (use \"git add\" to track)\n",
      "commit 3c6d462833f1ae17fb1bbc09543b9c7066696e98\n",
      "Author: betteridiot <mdsherman@betteridiot.tech>\n",
      "Date:   Thu Sep 6 11:09:13 2018 -0400\n",
      "\n",
      "    added file to new branch\n",
      "\n",
      "commit bd61d6db0885a0e685c4e709b839310ebe7f6864\n",
      "Author: betteridiot <mdsherman@betteridiot.tech>\n",
      "Date:   Thu Sep 6 11:06:26 2018 -0400\n",
      "\n",
      "    first commit\n"
     ]
    }
   ],
   "source": [
    "%%bash\n",
    "git add newText.txt\n",
    "git commit -m \"added file to new branch\"\n",
    "git status\n",
    "git log"
   ]
  },
  {
   "cell_type": "markdown",
   "metadata": {},
   "source": [
    "Now, using some bash scripting, I am going to iteratively append a bunch of lines to a file. You don't really *need* to know this, so don't worry if you don't get it. This is more for the demonstration's sake."
   ]
  },
  {
   "cell_type": "code",
   "execution_count": 35,
   "metadata": {},
   "outputs": [
    {
     "name": "stdout",
     "output_type": "stream",
     "text": [
      "[testFeature bbda86a] added 1 line to newText.txt\n",
      " 1 file changed, 1 insertion(+)\n",
      "[testFeature 029b428] added 2 line to newText.txt\n",
      " 1 file changed, 1 insertion(+)\n",
      "[testFeature 0c3f970] added 3 line to newText.txt\n",
      " 1 file changed, 1 insertion(+)\n",
      "[testFeature af237f8] added 4 line to newText.txt\n",
      " 1 file changed, 1 insertion(+)\n",
      "[testFeature fb2ce56] added 5 line to newText.txt\n",
      " 1 file changed, 1 insertion(+)\n",
      "[testFeature 0c670b3] added 6 line to newText.txt\n",
      " 1 file changed, 1 insertion(+)\n",
      "[testFeature 35d107a] added 7 line to newText.txt\n",
      " 1 file changed, 1 insertion(+)\n",
      "[testFeature 09c3275] added 8 line to newText.txt\n",
      " 1 file changed, 1 insertion(+)\n",
      "[testFeature 5d35a10] added 9 line to newText.txt\n",
      " 1 file changed, 1 insertion(+)\n",
      "[testFeature 305535b] added 10 line to newText.txt\n",
      " 1 file changed, 1 insertion(+)\n"
     ]
    }
   ],
   "source": [
    "%%bash\n",
    "for i in {1..10}\n",
    "do\n",
    "    echo \"appending ${i}\" >> newText.txt\n",
    "    git add newText.txt\n",
    "    git commit -m \"added ${i} line to newText.txt\"\n",
    "done"
   ]
  },
  {
   "cell_type": "code",
   "execution_count": 36,
   "metadata": {},
   "outputs": [
    {
     "name": "stdout",
     "output_type": "stream",
     "text": [
      "new branch txt file\n",
      "appending 1\n",
      "appending 2\n",
      "appending 3\n",
      "appending 4\n",
      "appending 5\n",
      "appending 6\n",
      "appending 7\n",
      "appending 8\n",
      "appending 9\n"
     ]
    }
   ],
   "source": [
    "# showing the appended lines\n",
    "!head newText.txt"
   ]
  },
  {
   "cell_type": "markdown",
   "metadata": {},
   "source": [
    "Lets look at the git log"
   ]
  },
  {
   "cell_type": "code",
   "execution_count": 37,
   "metadata": {},
   "outputs": [
    {
     "name": "stdout",
     "output_type": "stream",
     "text": [
      "* \u001b[33mcommit 305535b6541d082cd5ff7a6b846cbf87acbe5dfb\u001b[m\u001b[33m (\u001b[1;36mHEAD\u001b[m\u001b[33m, \u001b[1;32mtestFeature\u001b[m\u001b[33m)\u001b[m\n",
      "\u001b[31m|\u001b[m Author: betteridiot <mdsherman@betteridiot.tech>\n",
      "\u001b[31m|\u001b[m Date:   Thu Sep 6 11:11:38 2018 -0400\n",
      "\u001b[31m|\u001b[m \n",
      "\u001b[31m|\u001b[m     added 10 line to newText.txt\n",
      "\u001b[31m|\u001b[m  \n",
      "* \u001b[33mcommit 5d35a10bedaffc891936995b82d0ac52e909ebb9\u001b[m\n",
      "\u001b[31m|\u001b[m Author: betteridiot <mdsherman@betteridiot.tech>\n",
      "\u001b[31m|\u001b[m Date:   Thu Sep 6 11:11:38 2018 -0400\n",
      "\u001b[31m|\u001b[m \n",
      "\u001b[31m|\u001b[m     added 9 line to newText.txt\n",
      "\u001b[31m|\u001b[m  \n",
      "* \u001b[33mcommit 09c3275b659f0a584ab4feb4cb1087b445b6cea5\u001b[m\n",
      "\u001b[31m|\u001b[m Author: betteridiot <mdsherman@betteridiot.tech>\n",
      "\u001b[31m|\u001b[m Date:   Thu Sep 6 11:11:38 2018 -0400\n",
      "\u001b[31m|\u001b[m \n",
      "\u001b[31m|\u001b[m     added 8 line to newText.txt\n",
      "\u001b[31m|\u001b[m  \n",
      "* \u001b[33mcommit 35d107ae7647ada095c0d4ee10e2819bf1cfc5bc\u001b[m\n",
      "\u001b[31m|\u001b[m Author: betteridiot <mdsherman@betteridiot.tech>\n",
      "\u001b[31m|\u001b[m Date:   Thu Sep 6 11:11:37 2018 -0400\n",
      "\u001b[31m|\u001b[m \n",
      "\u001b[31m|\u001b[m     added 7 line to newText.txt\n",
      "\u001b[31m|\u001b[m  \n",
      "* \u001b[33mcommit 0c670b3eb5bf21611a08a22bfbfaf795d5f21f29\u001b[m\n",
      "\u001b[31m|\u001b[m Author: betteridiot <mdsherman@betteridiot.tech>\n",
      "\u001b[31m|\u001b[m Date:   Thu Sep 6 11:11:37 2018 -0400\n",
      "\u001b[31m|\u001b[m \n",
      "\u001b[31m|\u001b[m     added 6 line to newText.txt\n",
      "\u001b[31m|\u001b[m  \n",
      "* \u001b[33mcommit fb2ce568ea00222ce629457ea96d9386fd49c1b2\u001b[m\n",
      "\u001b[31m|\u001b[m Author: betteridiot <mdsherman@betteridiot.tech>\n",
      "\u001b[31m|\u001b[m Date:   Thu Sep 6 11:11:37 2018 -0400\n",
      "\u001b[31m|\u001b[m \n",
      "\u001b[31m|\u001b[m     added 5 line to newText.txt\n",
      "\u001b[31m|\u001b[m  \n",
      "* \u001b[33mcommit af237f84b99f4fceada1e0181ce65f3c695c4592\u001b[m\n",
      "\u001b[31m|\u001b[m Author: betteridiot <mdsherman@betteridiot.tech>\n",
      "\u001b[31m|\u001b[m Date:   Thu Sep 6 11:11:37 2018 -0400\n",
      "\u001b[31m|\u001b[m \n",
      "\u001b[31m|\u001b[m     added 4 line to newText.txt\n",
      "\u001b[31m|\u001b[m  \n",
      "* \u001b[33mcommit 0c3f9708eaa394d37714166d6556f54cfdfb8712\u001b[m\n",
      "\u001b[31m|\u001b[m Author: betteridiot <mdsherman@betteridiot.tech>\n",
      "\u001b[31m|\u001b[m Date:   Thu Sep 6 11:11:37 2018 -0400\n",
      "\u001b[31m|\u001b[m \n",
      "\u001b[31m|\u001b[m     added 3 line to newText.txt\n",
      "\u001b[31m|\u001b[m  \n",
      "* \u001b[33mcommit 029b42884a7f9711b49e25e50ba5ec9b6c04314d\u001b[m\n",
      "\u001b[31m|\u001b[m Author: betteridiot <mdsherman@betteridiot.tech>\n",
      "\u001b[31m|\u001b[m Date:   Thu Sep 6 11:11:37 2018 -0400\n",
      "\u001b[31m|\u001b[m \n",
      "\u001b[31m|\u001b[m     added 2 line to newText.txt\n",
      "\u001b[31m|\u001b[m  \n",
      "* \u001b[33mcommit bbda86acdd3521657fd510c4571643fc5de55494\u001b[m\n",
      "\u001b[31m|\u001b[m Author: betteridiot <mdsherman@betteridiot.tech>\n",
      "\u001b[31m|\u001b[m Date:   Thu Sep 6 11:11:36 2018 -0400\n",
      "\u001b[31m|\u001b[m \n",
      "\u001b[31m|\u001b[m     added 1 line to newText.txt\n",
      "\u001b[31m|\u001b[m  \n",
      "* \u001b[33mcommit 3c6d462833f1ae17fb1bbc09543b9c7066696e98\u001b[m\n",
      "\u001b[31m|\u001b[m Author: betteridiot <mdsherman@betteridiot.tech>\n",
      "\u001b[31m|\u001b[m Date:   Thu Sep 6 11:09:13 2018 -0400\n",
      "\u001b[31m|\u001b[m \n",
      "\u001b[31m|\u001b[m     added file to new branch\n",
      "\u001b[31m|\u001b[m  \n",
      "* \u001b[33mcommit bd61d6db0885a0e685c4e709b839310ebe7f6864\u001b[m\u001b[33m (\u001b[1;32mmaster\u001b[m\u001b[33m)\u001b[m\n",
      "  Author: betteridiot <mdsherman@betteridiot.tech>\n",
      "  Date:   Thu Sep 6 11:06:26 2018 -0400\n",
      "  \n",
      "      first commit\n"
     ]
    }
   ],
   "source": [
    "!git log --graph --decorate"
   ]
  },
  {
   "cell_type": "markdown",
   "metadata": {},
   "source": [
    "---"
   ]
  },
  {
   "cell_type": "markdown",
   "metadata": {},
   "source": [
    "# The \"Undo\" capabilities"
   ]
  },
  {
   "cell_type": "markdown",
   "metadata": {},
   "source": [
    "I added too many lines, so I want to go back."
   ]
  },
  {
   "cell_type": "code",
   "execution_count": 38,
   "metadata": {},
   "outputs": [
    {
     "name": "stdout",
     "output_type": "stream",
     "text": [
      "Unstaged changes after reset:\n",
      "M\tnewText.txt\n"
     ]
    }
   ],
   "source": [
    "# use the commit hash first 6-10 characters is all you need\n",
    "!git reset 35d107ae7"
   ]
  },
  {
   "cell_type": "code",
   "execution_count": 39,
   "metadata": {},
   "outputs": [
    {
     "name": "stdout",
     "output_type": "stream",
     "text": [
      "new branch txt file\n",
      "appending 1\n",
      "appending 2\n",
      "appending 3\n",
      "appending 4\n",
      "appending 5\n",
      "appending 6\n",
      "appending 7\n",
      "appending 8\n",
      "appending 9\n"
     ]
    }
   ],
   "source": [
    "!head newText.txt"
   ]
  },
  {
   "cell_type": "code",
   "execution_count": 40,
   "metadata": {},
   "outputs": [
    {
     "name": "stdout",
     "output_type": "stream",
     "text": [
      "* \u001b[33mcommit 35d107ae7647ada095c0d4ee10e2819bf1cfc5bc\u001b[m\u001b[33m (\u001b[1;36mHEAD\u001b[m\u001b[33m, \u001b[1;32mtestFeature\u001b[m\u001b[33m)\u001b[m\n",
      "\u001b[31m|\u001b[m Author: betteridiot <mdsherman@betteridiot.tech>\n",
      "\u001b[31m|\u001b[m Date:   Thu Sep 6 11:11:37 2018 -0400\n",
      "\u001b[31m|\u001b[m \n",
      "\u001b[31m|\u001b[m     added 7 line to newText.txt\n",
      "\u001b[31m|\u001b[m  \n",
      "* \u001b[33mcommit 0c670b3eb5bf21611a08a22bfbfaf795d5f21f29\u001b[m\n",
      "\u001b[31m|\u001b[m Author: betteridiot <mdsherman@betteridiot.tech>\n",
      "\u001b[31m|\u001b[m Date:   Thu Sep 6 11:11:37 2018 -0400\n",
      "\u001b[31m|\u001b[m \n",
      "\u001b[31m|\u001b[m     added 6 line to newText.txt\n",
      "\u001b[31m|\u001b[m  \n",
      "* \u001b[33mcommit fb2ce568ea00222ce629457ea96d9386fd49c1b2\u001b[m\n",
      "\u001b[31m|\u001b[m Author: betteridiot <mdsherman@betteridiot.tech>\n",
      "\u001b[31m|\u001b[m Date:   Thu Sep 6 11:11:37 2018 -0400\n",
      "\u001b[31m|\u001b[m \n",
      "\u001b[31m|\u001b[m     added 5 line to newText.txt\n",
      "\u001b[31m|\u001b[m  \n",
      "* \u001b[33mcommit af237f84b99f4fceada1e0181ce65f3c695c4592\u001b[m\n",
      "\u001b[31m|\u001b[m Author: betteridiot <mdsherman@betteridiot.tech>\n",
      "\u001b[31m|\u001b[m Date:   Thu Sep 6 11:11:37 2018 -0400\n",
      "\u001b[31m|\u001b[m \n",
      "\u001b[31m|\u001b[m     added 4 line to newText.txt\n",
      "\u001b[31m|\u001b[m  \n",
      "* \u001b[33mcommit 0c3f9708eaa394d37714166d6556f54cfdfb8712\u001b[m\n",
      "\u001b[31m|\u001b[m Author: betteridiot <mdsherman@betteridiot.tech>\n",
      "\u001b[31m|\u001b[m Date:   Thu Sep 6 11:11:37 2018 -0400\n",
      "\u001b[31m|\u001b[m \n",
      "\u001b[31m|\u001b[m     added 3 line to newText.txt\n",
      "\u001b[31m|\u001b[m  \n",
      "* \u001b[33mcommit 029b42884a7f9711b49e25e50ba5ec9b6c04314d\u001b[m\n",
      "\u001b[31m|\u001b[m Author: betteridiot <mdsherman@betteridiot.tech>\n",
      "\u001b[31m|\u001b[m Date:   Thu Sep 6 11:11:37 2018 -0400\n",
      "\u001b[31m|\u001b[m \n",
      "\u001b[31m|\u001b[m     added 2 line to newText.txt\n",
      "\u001b[31m|\u001b[m  \n",
      "* \u001b[33mcommit bbda86acdd3521657fd510c4571643fc5de55494\u001b[m\n",
      "\u001b[31m|\u001b[m Author: betteridiot <mdsherman@betteridiot.tech>\n",
      "\u001b[31m|\u001b[m Date:   Thu Sep 6 11:11:36 2018 -0400\n",
      "\u001b[31m|\u001b[m \n",
      "\u001b[31m|\u001b[m     added 1 line to newText.txt\n",
      "\u001b[31m|\u001b[m  \n",
      "* \u001b[33mcommit 3c6d462833f1ae17fb1bbc09543b9c7066696e98\u001b[m\n",
      "\u001b[31m|\u001b[m Author: betteridiot <mdsherman@betteridiot.tech>\n",
      "\u001b[31m|\u001b[m Date:   Thu Sep 6 11:09:13 2018 -0400\n",
      "\u001b[31m|\u001b[m \n",
      "\u001b[31m|\u001b[m     added file to new branch\n",
      "\u001b[31m|\u001b[m  \n",
      "* \u001b[33mcommit bd61d6db0885a0e685c4e709b839310ebe7f6864\u001b[m\u001b[33m (\u001b[1;32mmaster\u001b[m\u001b[33m)\u001b[m\n",
      "  Author: betteridiot <mdsherman@betteridiot.tech>\n",
      "  Date:   Thu Sep 6 11:06:26 2018 -0400\n",
      "  \n",
      "      first commit\n"
     ]
    }
   ],
   "source": [
    "!git log --graph --decorate"
   ]
  },
  {
   "cell_type": "markdown",
   "metadata": {},
   "source": [
    "Maybe I went too far back"
   ]
  },
  {
   "cell_type": "code",
   "execution_count": 47,
   "metadata": {
    "collapsed": true
   },
   "outputs": [
    {
     "name": "stdout",
     "output_type": "stream",
     "text": [
      "Unstaged changes after reset:\n",
      "M\tnewText.txt\n"
     ]
    }
   ],
   "source": [
    "! git reset 5d35a10"
   ]
  },
  {
   "cell_type": "code",
   "execution_count": 48,
   "metadata": {},
   "outputs": [
    {
     "name": "stdout",
     "output_type": "stream",
     "text": [
      "* \u001b[33mcommit 5d35a10bedaffc891936995b82d0ac52e909ebb9\u001b[m\u001b[33m (\u001b[1;36mHEAD\u001b[m\u001b[33m, \u001b[1;32mtestFeature\u001b[m\u001b[33m)\u001b[m\n",
      "\u001b[31m|\u001b[m Author: betteridiot <mdsherman@betteridiot.tech>\n",
      "\u001b[31m|\u001b[m Date:   Thu Sep 6 11:11:38 2018 -0400\n",
      "\u001b[31m|\u001b[m \n",
      "\u001b[31m|\u001b[m     added 9 line to newText.txt\n",
      "\u001b[31m|\u001b[m  \n",
      "* \u001b[33mcommit 09c3275b659f0a584ab4feb4cb1087b445b6cea5\u001b[m\n",
      "\u001b[31m|\u001b[m Author: betteridiot <mdsherman@betteridiot.tech>\n",
      "\u001b[31m|\u001b[m Date:   Thu Sep 6 11:11:38 2018 -0400\n",
      "\u001b[31m|\u001b[m \n",
      "\u001b[31m|\u001b[m     added 8 line to newText.txt\n",
      "\u001b[31m|\u001b[m  \n",
      "* \u001b[33mcommit 35d107ae7647ada095c0d4ee10e2819bf1cfc5bc\u001b[m\n",
      "\u001b[31m|\u001b[m Author: betteridiot <mdsherman@betteridiot.tech>\n",
      "\u001b[31m|\u001b[m Date:   Thu Sep 6 11:11:37 2018 -0400\n",
      "\u001b[31m|\u001b[m \n",
      "\u001b[31m|\u001b[m     added 7 line to newText.txt\n",
      "\u001b[31m|\u001b[m  \n",
      "* \u001b[33mcommit 0c670b3eb5bf21611a08a22bfbfaf795d5f21f29\u001b[m\n",
      "\u001b[31m|\u001b[m Author: betteridiot <mdsherman@betteridiot.tech>\n",
      "\u001b[31m|\u001b[m Date:   Thu Sep 6 11:11:37 2018 -0400\n",
      "\u001b[31m|\u001b[m \n",
      "\u001b[31m|\u001b[m     added 6 line to newText.txt\n",
      "\u001b[31m|\u001b[m  \n",
      "* \u001b[33mcommit fb2ce568ea00222ce629457ea96d9386fd49c1b2\u001b[m\n",
      "\u001b[31m|\u001b[m Author: betteridiot <mdsherman@betteridiot.tech>\n",
      "\u001b[31m|\u001b[m Date:   Thu Sep 6 11:11:37 2018 -0400\n",
      "\u001b[31m|\u001b[m \n",
      "\u001b[31m|\u001b[m     added 5 line to newText.txt\n",
      "\u001b[31m|\u001b[m  \n",
      "* \u001b[33mcommit af237f84b99f4fceada1e0181ce65f3c695c4592\u001b[m\n",
      "\u001b[31m|\u001b[m Author: betteridiot <mdsherman@betteridiot.tech>\n",
      "\u001b[31m|\u001b[m Date:   Thu Sep 6 11:11:37 2018 -0400\n",
      "\u001b[31m|\u001b[m \n",
      "\u001b[31m|\u001b[m     added 4 line to newText.txt\n",
      "\u001b[31m|\u001b[m  \n",
      "* \u001b[33mcommit 0c3f9708eaa394d37714166d6556f54cfdfb8712\u001b[m\n",
      "\u001b[31m|\u001b[m Author: betteridiot <mdsherman@betteridiot.tech>\n",
      "\u001b[31m|\u001b[m Date:   Thu Sep 6 11:11:37 2018 -0400\n",
      "\u001b[31m|\u001b[m \n",
      "\u001b[31m|\u001b[m     added 3 line to newText.txt\n",
      "\u001b[31m|\u001b[m  \n",
      "* \u001b[33mcommit 029b42884a7f9711b49e25e50ba5ec9b6c04314d\u001b[m\n",
      "\u001b[31m|\u001b[m Author: betteridiot <mdsherman@betteridiot.tech>\n",
      "\u001b[31m|\u001b[m Date:   Thu Sep 6 11:11:37 2018 -0400\n",
      "\u001b[31m|\u001b[m \n",
      "\u001b[31m|\u001b[m     added 2 line to newText.txt\n",
      "\u001b[31m|\u001b[m  \n",
      "* \u001b[33mcommit bbda86acdd3521657fd510c4571643fc5de55494\u001b[m\n",
      "\u001b[31m|\u001b[m Author: betteridiot <mdsherman@betteridiot.tech>\n",
      "\u001b[31m|\u001b[m Date:   Thu Sep 6 11:11:36 2018 -0400\n",
      "\u001b[31m|\u001b[m \n",
      "\u001b[31m|\u001b[m     added 1 line to newText.txt\n",
      "\u001b[31m|\u001b[m  \n",
      "* \u001b[33mcommit 3c6d462833f1ae17fb1bbc09543b9c7066696e98\u001b[m\n",
      "\u001b[31m|\u001b[m Author: betteridiot <mdsherman@betteridiot.tech>\n",
      "\u001b[31m|\u001b[m Date:   Thu Sep 6 11:09:13 2018 -0400\n",
      "\u001b[31m|\u001b[m \n",
      "\u001b[31m|\u001b[m     added file to new branch\n",
      "\u001b[31m|\u001b[m  \n",
      "* \u001b[33mcommit bd61d6db0885a0e685c4e709b839310ebe7f6864\u001b[m\u001b[33m (\u001b[1;32mmaster\u001b[m\u001b[33m)\u001b[m\n",
      "  Author: betteridiot <mdsherman@betteridiot.tech>\n",
      "  Date:   Thu Sep 6 11:06:26 2018 -0400\n",
      "  \n",
      "      first commit\n"
     ]
    }
   ],
   "source": [
    "!git log --graph --decorate"
   ]
  },
  {
   "cell_type": "markdown",
   "metadata": {},
   "source": [
    "Actually., this would be easier if I just used my *informative* commit message"
   ]
  },
  {
   "cell_type": "code",
   "execution_count": 49,
   "metadata": {},
   "outputs": [
    {
     "name": "stdout",
     "output_type": "stream",
     "text": [
      "\u001b[33mcommit 35d107ae7647ada095c0d4ee10e2819bf1cfc5bc\u001b[m\n",
      "Author: betteridiot <mdsherman@betteridiot.tech>\n",
      "Date:   Thu Sep 6 11:11:37 2018 -0400\n",
      "\n",
      "    added 7 line to newText.txt\n"
     ]
    }
   ],
   "source": [
    "!git log --grep=\"added 7\""
   ]
  },
  {
   "cell_type": "code",
   "execution_count": 50,
   "metadata": {},
   "outputs": [
    {
     "name": "stdout",
     "output_type": "stream",
     "text": [
      "Unstaged changes after reset:\n",
      "M\tnewText.txt\n"
     ]
    }
   ],
   "source": [
    "!git reset 35d107ae7"
   ]
  },
  {
   "cell_type": "markdown",
   "metadata": {},
   "source": [
    "But those hash keys don't really do if for me...you can't really remember them or ALL of your commit messages. Therefore, we can add tags to our commits"
   ]
  },
  {
   "cell_type": "code",
   "execution_count": 51,
   "metadata": {
    "collapsed": true
   },
   "outputs": [],
   "source": [
    "!git tag -a line7 -m \"tag for line 7 version\""
   ]
  },
  {
   "cell_type": "code",
   "execution_count": 52,
   "metadata": {},
   "outputs": [
    {
     "name": "stdout",
     "output_type": "stream",
     "text": [
      "line7\n"
     ]
    }
   ],
   "source": [
    "# list all tags associated with repo\n",
    "!git tag"
   ]
  },
  {
   "cell_type": "markdown",
   "metadata": {},
   "source": [
    "Tags allow you to have an easy way to mark important points in your workflow for easy navigation and tracking"
   ]
  },
  {
   "cell_type": "code",
   "execution_count": 53,
   "metadata": {},
   "outputs": [
    {
     "name": "stdout",
     "output_type": "stream",
     "text": [
      "[testFeature 408368f] testing out tags\n",
      " 1 file changed, 1 insertion(+)\n",
      " create mode 100644 tagText.txt\n"
     ]
    }
   ],
   "source": [
    "!echo \"goodbye world\" >> tagText.txt\n",
    "!git add tagText.txt\n",
    "!git commit -m \"testing out tags\""
   ]
  },
  {
   "cell_type": "code",
   "execution_count": 54,
   "metadata": {},
   "outputs": [
    {
     "name": "stdout",
     "output_type": "stream",
     "text": [
      "* \u001b[33m408368f\u001b[m\u001b[33m (\u001b[1;36mHEAD\u001b[m\u001b[33m, \u001b[1;32mtestFeature\u001b[m\u001b[33m)\u001b[m testing out tags\n",
      "* \u001b[33m35d107a\u001b[m\u001b[33m (\u001b[1;33mtag: line7\u001b[m\u001b[33m)\u001b[m added 7 line to newText.txt\n",
      "* \u001b[33m0c670b3\u001b[m added 6 line to newText.txt\n",
      "* \u001b[33mfb2ce56\u001b[m added 5 line to newText.txt\n",
      "* \u001b[33maf237f8\u001b[m added 4 line to newText.txt\n",
      "* \u001b[33m0c3f970\u001b[m added 3 line to newText.txt\n",
      "* \u001b[33m029b428\u001b[m added 2 line to newText.txt\n",
      "* \u001b[33mbbda86a\u001b[m added 1 line to newText.txt\n",
      "* \u001b[33m3c6d462\u001b[m added file to new branch\n",
      "* \u001b[33mbd61d6d\u001b[m\u001b[33m (\u001b[1;32mmaster\u001b[m\u001b[33m)\u001b[m first commit\n"
     ]
    }
   ],
   "source": [
    "!git log --oneline --graph --decorate"
   ]
  },
  {
   "cell_type": "code",
   "execution_count": 55,
   "metadata": {},
   "outputs": [
    {
     "name": "stdout",
     "output_type": "stream",
     "text": [
      "Unstaged changes after reset:\n",
      "M\tnewText.txt\n"
     ]
    }
   ],
   "source": [
    "# Go back to my tag\n",
    "!git reset line7"
   ]
  },
  {
   "cell_type": "code",
   "execution_count": 56,
   "metadata": {},
   "outputs": [
    {
     "name": "stdout",
     "output_type": "stream",
     "text": [
      "* \u001b[33m35d107a\u001b[m\u001b[33m (\u001b[1;36mHEAD\u001b[m\u001b[33m, \u001b[1;33mtag: line7\u001b[m\u001b[33m, \u001b[1;32mtestFeature\u001b[m\u001b[33m)\u001b[m added 7 line to newText.txt\n",
      "* \u001b[33m0c670b3\u001b[m added 6 line to newText.txt\n",
      "* \u001b[33mfb2ce56\u001b[m added 5 line to newText.txt\n",
      "* \u001b[33maf237f8\u001b[m added 4 line to newText.txt\n",
      "* \u001b[33m0c3f970\u001b[m added 3 line to newText.txt\n",
      "* \u001b[33m029b428\u001b[m added 2 line to newText.txt\n",
      "* \u001b[33mbbda86a\u001b[m added 1 line to newText.txt\n",
      "* \u001b[33m3c6d462\u001b[m added file to new branch\n",
      "* \u001b[33mbd61d6d\u001b[m\u001b[33m (\u001b[1;32mmaster\u001b[m\u001b[33m)\u001b[m first commit\n"
     ]
    }
   ],
   "source": [
    "!git log --oneline --graph --decorate"
   ]
  },
  {
   "cell_type": "markdown",
   "metadata": {},
   "source": [
    "---"
   ]
  },
  {
   "cell_type": "markdown",
   "metadata": {},
   "source": [
    "# Merging"
   ]
  },
  {
   "cell_type": "markdown",
   "metadata": {},
   "source": [
    "Now, the always remember this golden rule of merging: the master branch never turns.\n",
    "This means that when merging, always merge *from* master, not *to* master"
   ]
  },
  {
   "cell_type": "code",
   "execution_count": 57,
   "metadata": {},
   "outputs": [
    {
     "name": "stdout",
     "output_type": "stream",
     "text": [
      "error: Your local changes to the following files would be overwritten by checkout:\n",
      "\tnewText.txt\n",
      "Please, commit your changes or stash them before you can switch branches.\n",
      "Aborting\n"
     ]
    }
   ],
   "source": [
    "!git checkout master"
   ]
  },
  {
   "cell_type": "markdown",
   "metadata": {},
   "source": [
    "This is a form conflict detection. It shows that some information was not staged. If I force a switch to a different branch, I will lose this information"
   ]
  },
  {
   "cell_type": "code",
   "execution_count": 58,
   "metadata": {},
   "outputs": [
    {
     "name": "stdout",
     "output_type": "stream",
     "text": [
      "[testFeature f2be44d] clearing up tag lesson\n",
      " 1 file changed, 3 insertions(+)\n"
     ]
    }
   ],
   "source": [
    "!git add newText.txt\n",
    "!git commit -m \"clearing up tag lesson\""
   ]
  },
  {
   "cell_type": "code",
   "execution_count": 59,
   "metadata": {},
   "outputs": [
    {
     "name": "stdout",
     "output_type": "stream",
     "text": [
      "Switched to branch 'master'\n"
     ]
    }
   ],
   "source": [
    "!git checkout master"
   ]
  },
  {
   "cell_type": "markdown",
   "metadata": {},
   "source": [
    "Here is where I can bring in the test branch"
   ]
  },
  {
   "cell_type": "code",
   "execution_count": 60,
   "metadata": {
    "scrolled": true
   },
   "outputs": [
    {
     "name": "stdout",
     "output_type": "stream",
     "text": [
      "* \u001b[32mmaster\u001b[m\n",
      "  testFeature\u001b[m\n"
     ]
    }
   ],
   "source": [
    "!git branch"
   ]
  },
  {
   "cell_type": "code",
   "execution_count": 61,
   "metadata": {},
   "outputs": [
    {
     "name": "stdout",
     "output_type": "stream",
     "text": [
      "Updating bd61d6d..f2be44d\n",
      "Fast-forward\n",
      " newText.txt | 11 \u001b[32m+++++++++++\u001b[m\n",
      " 1 file changed, 11 insertions(+)\n",
      " create mode 100644 newText.txt\n"
     ]
    }
   ],
   "source": [
    "!git merge testFeature"
   ]
  },
  {
   "cell_type": "code",
   "execution_count": 62,
   "metadata": {},
   "outputs": [
    {
     "name": "stdout",
     "output_type": "stream",
     "text": [
      "On branch master\n",
      "nothing to commit (use -u to show untracked files)\n"
     ]
    }
   ],
   "source": [
    "# helpful argument to ignore untracked files\n",
    "!git status -uno"
   ]
  },
  {
   "cell_type": "code",
   "execution_count": 63,
   "metadata": {},
   "outputs": [
    {
     "name": "stdout",
     "output_type": "stream",
     "text": [
      "* \u001b[33mf2be44d\u001b[m\u001b[33m (\u001b[1;36mHEAD\u001b[m\u001b[33m, \u001b[1;32mtestFeature\u001b[m\u001b[33m, \u001b[1;32mmaster\u001b[m\u001b[33m)\u001b[m clearing up tag lesson\n",
      "* \u001b[33m35d107a\u001b[m\u001b[33m (\u001b[1;33mtag: line7\u001b[m\u001b[33m)\u001b[m added 7 line to newText.txt\n",
      "* \u001b[33m0c670b3\u001b[m added 6 line to newText.txt\n",
      "* \u001b[33mfb2ce56\u001b[m added 5 line to newText.txt\n",
      "* \u001b[33maf237f8\u001b[m added 4 line to newText.txt\n",
      "* \u001b[33m0c3f970\u001b[m added 3 line to newText.txt\n",
      "* \u001b[33m029b428\u001b[m added 2 line to newText.txt\n",
      "* \u001b[33mbbda86a\u001b[m added 1 line to newText.txt\n",
      "* \u001b[33m3c6d462\u001b[m added file to new branch\n",
      "* \u001b[33mbd61d6d\u001b[m first commit\n"
     ]
    }
   ],
   "source": [
    "!git log --oneline --graph --decorate"
   ]
  },
  {
   "cell_type": "markdown",
   "metadata": {},
   "source": [
    "---"
   ]
  },
  {
   "cell_type": "markdown",
   "metadata": {},
   "source": [
    "# Remote repos"
   ]
  },
  {
   "cell_type": "markdown",
   "metadata": {},
   "source": [
    "Once you have a GitHub (or similar) account, you can start using it remotely through git"
   ]
  },
  {
   "cell_type": "code",
   "execution_count": null,
   "metadata": {
    "collapsed": true
   },
   "outputs": [],
   "source": [
    "!git remote add origin https://github.com/betteridiot/b575.git"
   ]
  },
  {
   "cell_type": "markdown",
   "metadata": {},
   "source": [
    "Now I just need to push my local branch and its commit history to the remote repo"
   ]
  },
  {
   "cell_type": "code",
   "execution_count": null,
   "metadata": {},
   "outputs": [],
   "source": [
    "!git push origin master"
   ]
  },
  {
   "cell_type": "markdown",
   "metadata": {},
   "source": [
    "By adding a README.md from GitHub, our remote repo now has a commit ahead of our local workspace. Use `pull` to fix that"
   ]
  },
  {
   "cell_type": "code",
   "execution_count": null,
   "metadata": {},
   "outputs": [],
   "source": [
    "!git pull origin master"
   ]
  }
 ],
 "metadata": {
  "kernelspec": {
   "display_name": "Python 3",
   "language": "python",
   "name": "python3"
  },
  "language_info": {
   "codemirror_mode": {
    "name": "ipython",
    "version": 3
   },
   "file_extension": ".py",
   "mimetype": "text/x-python",
   "name": "python",
   "nbconvert_exporter": "python",
   "pygments_lexer": "ipython3",
   "version": "3.7.0"
  }
 },
 "nbformat": 4,
 "nbformat_minor": 2
}
