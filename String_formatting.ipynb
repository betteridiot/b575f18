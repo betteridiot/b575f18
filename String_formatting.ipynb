{
 "cells": [
  {
   "cell_type": "markdown",
   "metadata": {
    "slideshow": {
     "slide_type": "slide"
    }
   },
   "source": [
    "# String Formatting\n",
    "___________________\n",
    "Many ways to do the same thing-*ish*"
   ]
  },
  {
   "cell_type": "markdown",
   "metadata": {
    "slideshow": {
     "slide_type": "subslide"
    }
   },
   "source": [
    "## Ye olde style: `printf`"
   ]
  },
  {
   "cell_type": "markdown",
   "metadata": {},
   "source": [
    "While string methods are many, ***string operations*** are few"
   ]
  },
  {
   "cell_type": "code",
   "execution_count": 2,
   "metadata": {
    "hidePrompt": true
   },
   "outputs": [
    {
     "data": {
      "text/plain": [
       "'Helloworld'"
      ]
     },
     "execution_count": 2,
     "metadata": {},
     "output_type": "execute_result"
    }
   ],
   "source": [
    "# Concatenation\n",
    "a = 'Hello'\n",
    "b = 'world'\n",
    "a + b"
   ]
  },
  {
   "cell_type": "markdown",
   "metadata": {
    "slideshow": {
     "slide_type": "subslide"
    }
   },
   "source": [
    "Making simple strings with concatenation makes sense, but making complete statements, log entries, or complex outputs is draining on the coder"
   ]
  },
  {
   "cell_type": "code",
   "execution_count": 5,
   "metadata": {
    "hidePrompt": true,
    "scrolled": true,
    "slideshow": {
     "slide_type": "fragment"
    }
   },
   "outputs": [
    {
     "name": "stdout",
     "output_type": "stream",
     "text": [
      "Hello, my name is Marcus, and I am 32 years old\n",
      " and currently working as a GSI\n"
     ]
    }
   ],
   "source": [
    "fName = 'Marcus'\n",
    "job = 'GSI'\n",
    "age = 32\n",
    "greeting = 'Hello, my name is ' + fName +\\\n",
    "', and I am ' + str(age) + ''' years old\n",
    " and currently working as a ''' + job\n",
    "print(greeting)"
   ]
  },
  {
   "cell_type": "markdown",
   "metadata": {
    "slideshow": {
     "slide_type": "subslide"
    }
   },
   "source": [
    "Therefore, let's see what else is out there"
   ]
  },
  {
   "cell_type": "code",
   "execution_count": 6,
   "metadata": {
    "hidePrompt": true,
    "slideshow": {
     "slide_type": "subslide"
    }
   },
   "outputs": [
    {
     "data": {
      "text/plain": [
       "'HelloHelloHelloHelloHelloHelloHelloHelloHello'"
      ]
     },
     "execution_count": 6,
     "metadata": {},
     "output_type": "execute_result"
    }
   ],
   "source": [
    "# Multiplicity\n",
    "a * 9"
   ]
  },
  {
   "cell_type": "code",
   "execution_count": 7,
   "metadata": {
    "hidePrompt": true,
    "slideshow": {
     "slide_type": "subslide"
    }
   },
   "outputs": [
    {
     "ename": "TypeError",
     "evalue": "unsupported operand type(s) for -: 'str' and 'str'",
     "output_type": "error",
     "traceback": [
      "\u001b[1;31m---------------------------------------------------------------------------\u001b[0m",
      "\u001b[1;31mTypeError\u001b[0m                                 Traceback (most recent call last)",
      "\u001b[1;32m<ipython-input-7-8999f8bbc4d0>\u001b[0m in \u001b[0;36m<module>\u001b[1;34m()\u001b[0m\n\u001b[0;32m      1\u001b[0m \u001b[1;31m# What about difference?\u001b[0m\u001b[1;33m\u001b[0m\u001b[1;33m\u001b[0m\u001b[0m\n\u001b[1;32m----> 2\u001b[1;33m \u001b[0ma\u001b[0m \u001b[1;33m-\u001b[0m \u001b[0mb\u001b[0m\u001b[1;33m\u001b[0m\u001b[0m\n\u001b[0m",
      "\u001b[1;31mTypeError\u001b[0m: unsupported operand type(s) for -: 'str' and 'str'"
     ]
    }
   ],
   "source": [
    "# What about difference?\n",
    "a - b"
   ]
  },
  {
   "cell_type": "code",
   "execution_count": 8,
   "metadata": {
    "hidePrompt": true,
    "slideshow": {
     "slide_type": "subslide"
    }
   },
   "outputs": [
    {
     "ename": "TypeError",
     "evalue": "unsupported operand type(s) for /: 'str' and 'str'",
     "output_type": "error",
     "traceback": [
      "\u001b[1;31m---------------------------------------------------------------------------\u001b[0m",
      "\u001b[1;31mTypeError\u001b[0m                                 Traceback (most recent call last)",
      "\u001b[1;32m<ipython-input-8-e2849c5acc5e>\u001b[0m in \u001b[0;36m<module>\u001b[1;34m()\u001b[0m\n\u001b[1;32m----> 1\u001b[1;33m \u001b[0ma\u001b[0m \u001b[1;33m/\u001b[0m \u001b[0mb\u001b[0m\u001b[1;33m\u001b[0m\u001b[0m\n\u001b[0m",
      "\u001b[1;31mTypeError\u001b[0m: unsupported operand type(s) for /: 'str' and 'str'"
     ]
    }
   ],
   "source": [
    "a / b"
   ]
  },
  {
   "cell_type": "markdown",
   "metadata": {
    "slideshow": {
     "slide_type": "subslide"
    }
   },
   "source": [
    "Not to be particularly rigorous, but what about `modulo` math?"
   ]
  },
  {
   "cell_type": "code",
   "execution_count": 9,
   "metadata": {
    "hidePrompt": true,
    "slideshow": {
     "slide_type": "-"
    }
   },
   "outputs": [
    {
     "ename": "TypeError",
     "evalue": "not all arguments converted during string formatting",
     "output_type": "error",
     "traceback": [
      "\u001b[1;31m---------------------------------------------------------------------------\u001b[0m",
      "\u001b[1;31mTypeError\u001b[0m                                 Traceback (most recent call last)",
      "\u001b[1;32m<ipython-input-9-209a85c6b5ad>\u001b[0m in \u001b[0;36m<module>\u001b[1;34m()\u001b[0m\n\u001b[1;32m----> 1\u001b[1;33m \u001b[0ma\u001b[0m \u001b[1;33m%\u001b[0m \u001b[0mb\u001b[0m\u001b[1;33m\u001b[0m\u001b[0m\n\u001b[0m",
      "\u001b[1;31mTypeError\u001b[0m: not all arguments converted during string formatting"
     ]
    }
   ],
   "source": [
    "a % b"
   ]
  },
  {
   "cell_type": "markdown",
   "metadata": {
    "hidePrompt": true,
    "slideshow": {
     "slide_type": "fragment"
    }
   },
   "source": [
    "That's different...</br>\n",
    "The modulo (`%`) is a unique operator when used on strings. It is called a *formatting* or *interpolation* operator, and its usage is a little unique."
   ]
  },
  {
   "cell_type": "markdown",
   "metadata": {
    "slideshow": {
     "slide_type": "slide"
    }
   },
   "source": [
    "## the syntax:"
   ]
  },
  {
   "cell_type": "code",
   "execution_count": 10,
   "metadata": {
    "hidePrompt": true
   },
   "outputs": [
    {
     "data": {
      "text/plain": [
       "'some string with modulos'"
      ]
     },
     "execution_count": 10,
     "metadata": {},
     "output_type": "execute_result"
    }
   ],
   "source": [
    "'some string with %s' % ('modulos')"
   ]
  },
  {
   "cell_type": "markdown",
   "metadata": {
    "slideshow": {
     "slide_type": "subslide"
    }
   },
   "source": [
    "The biggest issue with `%` string formatting is that it requires the user to *declare* their types before hand"
   ]
  },
  {
   "cell_type": "code",
   "execution_count": 13,
   "metadata": {
    "hidePrompt": true,
    "slideshow": {
     "slide_type": "fragment"
    }
   },
   "outputs": [
    {
     "name": "stdout",
     "output_type": "stream",
     "text": [
      "in order to maintain air-speed velocity, \n",
      "a swallow needs to beat its wings 42 times every \n",
      "second, right?\n"
     ]
    }
   ],
   "source": [
    "print('''In order to maintain air-speed velocity, \n",
    "a %s needs to beat its wings %s times every \n",
    "second, right?''' % ('swallow', 42))"
   ]
  },
  {
   "cell_type": "markdown",
   "metadata": {
    "slideshow": {
     "slide_type": "fragment"
    }
   },
   "source": [
    "See the difference? `%s` means string, and `%d` means integer. There is a whole list of these. This is known as *conversion types*. Using these, the user indicates what type of object they are going to put in that place and the interpreter figures out how to convert it to a string."
   ]
  },
  {
   "cell_type": "code",
   "execution_count": 16,
   "metadata": {
    "hidePrompt": true,
    "slideshow": {
     "slide_type": "subslide"
    }
   },
   "outputs": [
    {
     "data": {
      "text/plain": [
       "'spam 42 1.000000e+12 3'"
      ]
     },
     "execution_count": 16,
     "metadata": {},
     "output_type": "execute_result"
    }
   ],
   "source": [
    "dict_of_types = {'string':'spam', 'int':42, \n",
    "                 'exp':1e12, 'float':3.14}\n",
    "'%(string)s %(int)d %(exp)e %(float)d' % (dict_of_types)"
   ]
  },
  {
   "cell_type": "markdown",
   "metadata": {
    "slideshow": {
     "slide_type": "fragment"
    }
   },
   "source": [
    "There is a lot to be seen in the last example. Let's walk through it."
   ]
  },
  {
   "cell_type": "markdown",
   "metadata": {
    "slideshow": {
     "slide_type": "fragment"
    }
   },
   "source": [
    "1. Dictionary of values of different types\n",
    "2. Placeholders that link to the dictionary keys\n",
    "3. Conversion of types\n",
    "4. naturally unpacked dictionary"
   ]
  },
  {
   "cell_type": "markdown",
   "metadata": {
    "slideshow": {
     "slide_type": "subslide"
    }
   },
   "source": [
    "The `%` acts as a placeholder, such that we can make template strings. This can be helpful in operations like SQL"
   ]
  },
  {
   "cell_type": "code",
   "execution_count": 17,
   "metadata": {
    "hidePrompt": true
   },
   "outputs": [
    {
     "name": "stdout",
     "output_type": "stream",
     "text": [
      "Hello, my name is Marcus and I am\n",
      "32 y/o, and currently working as a graduate student instructor.\n"
     ]
    }
   ],
   "source": [
    "fName = 'Marcus'\n",
    "job = 'graduate student instructor'\n",
    "age = 32\n",
    "\n",
    "greeting = '''Hello, my name is %s and I am\n",
    "%d y/o, and currently working as a %s.'''\n",
    "print(greeting % (fName, age, job))"
   ]
  },
  {
   "cell_type": "markdown",
   "metadata": {
    "slideshow": {
     "slide_type": "fragment"
    }
   },
   "source": [
    "Again, though, this kind of format (known as 'old-style') can be burdensome on the reader/writer."
   ]
  },
  {
   "cell_type": "markdown",
   "metadata": {
    "slideshow": {
     "slide_type": "slide"
    }
   },
   "source": [
    "#  Let's explore the 'new-style'."
   ]
  },
  {
   "cell_type": "markdown",
   "metadata": {
    "slideshow": {
     "slide_type": "subslide"
    }
   },
   "source": [
    "Like `%`, the new style uses a placeholder, but it doesn't require the declaration of type beforehand. The placeholder for this style is `{}`."
   ]
  },
  {
   "cell_type": "code",
   "execution_count": 18,
   "metadata": {
    "hidePrompt": true
   },
   "outputs": [
    {
     "name": "stdout",
     "output_type": "stream",
     "text": [
      "in order to maintain air-speed velocity,\n",
      "a sparrow needs to beat its wings 42 times every second, right?\n"
     ]
    }
   ],
   "source": [
    "quote = '''in order to maintain air-speed velocity,\n",
    "a {} needs to beat its wings {} times every second, right?'''\n",
    "print(quote.format('sparrow', 42))"
   ]
  },
  {
   "cell_type": "markdown",
   "metadata": {
    "slideshow": {
     "slide_type": "subslide"
    }
   },
   "source": [
    "What's more is that you can use the placeholders to index the arguments."
   ]
  },
  {
   "cell_type": "code",
   "execution_count": 19,
   "metadata": {
    "hidePrompt": true
   },
   "outputs": [
    {
     "data": {
      "text/plain": [
       "'42 3.14 spam 1000000000000.0'"
      ]
     },
     "execution_count": 19,
     "metadata": {},
     "output_type": "execute_result"
    }
   ],
   "source": [
    "args = ['spam', 42, 1e12, 3.14]\n",
    "'{1} {3} {0} {2}'.format(*args)"
   ]
  },
  {
   "cell_type": "markdown",
   "metadata": {
    "slideshow": {
     "slide_type": "fragment"
    }
   },
   "source": [
    "Again, I slipped in some extra here. You have seen it before, but mainly in `print` functions: `*` *unpacking*"
   ]
  },
  {
   "cell_type": "markdown",
   "metadata": {
    "slideshow": {
     "slide_type": "subslide"
    }
   },
   "source": [
    "That is cool, right? But what if you wanted to still convert the values like we did last time? We can use a 'mini-language' to control conversion and precision. The full documentation of the mini-language can be found [here](https://docs.python.org/3/library/string.html#formatspec)"
   ]
  },
  {
   "cell_type": "code",
   "execution_count": 20,
   "metadata": {
    "hidePrompt": true
   },
   "outputs": [
    {
     "name": "stdout",
     "output_type": "stream",
     "text": [
      "***spam***\n",
      "00101010\n",
      "1.00e+12\n",
      "3\n"
     ]
    }
   ],
   "source": [
    "args = ['spam', 42, 1e12, 3.14]\n",
    "print('{:*^10}\\n{:08b}\\n{:.2e}\\n{:.0f}'.format(*args))"
   ]
  },
  {
   "cell_type": "markdown",
   "metadata": {
    "slideshow": {
     "slide_type": "subslide"
    }
   },
   "source": [
    "Like 'old-style', we can still use keyword arguments as well"
   ]
  },
  {
   "cell_type": "code",
   "execution_count": 21,
   "metadata": {
    "hidePrompt": true
   },
   "outputs": [
    {
     "name": "stdout",
     "output_type": "stream",
     "text": [
      "***spam***\n",
      "00101010\n",
      "1.00e+12\n",
      "3\n"
     ]
    }
   ],
   "source": [
    "dict_of_types = {'string':'spam', 'int':42,\n",
    "                 'exp':1e12, 'float':3.14}\n",
    "print('''{string:*^10}\\n{int:08b}\n",
    "{exp:.2e}\\n{float:.0f}'''.format(**dict_of_types))"
   ]
  },
  {
   "cell_type": "markdown",
   "metadata": {
    "slideshow": {
     "slide_type": "fragment"
    }
   },
   "source": [
    "Like list unpacking, we are using keyword unpacking (`**`)"
   ]
  },
  {
   "cell_type": "code",
   "execution_count": 22,
   "metadata": {
    "hidePrompt": true,
    "slideshow": {
     "slide_type": "subslide"
    }
   },
   "outputs": [
    {
     "name": "stdout",
     "output_type": "stream",
     "text": [
      "Hello, my name is Marcus and I am 32 y/o,\n",
      "and currently working as a GSI.\n"
     ]
    }
   ],
   "source": [
    "fName = 'Marcus'\n",
    "job = 'GSI'\n",
    "age = 32\n",
    "\n",
    "greeting = '''Hello, my name is {} and I am {} y/o,\n",
    "and currently working as a {}.'''\n",
    "print(greeting.format(fName, age, job))"
   ]
  },
  {
   "cell_type": "markdown",
   "metadata": {
    "slideshow": {
     "slide_type": "subslide"
    }
   },
   "source": [
    "Now, why does this matter? What could you use it for? Think of some use cases."
   ]
  },
  {
   "cell_type": "code",
   "execution_count": 23,
   "metadata": {
    "hidePrompt": true,
    "slideshow": {
     "slide_type": "fragment"
    }
   },
   "outputs": [
    {
     "name": "stdout",
     "output_type": "stream",
     "text": [
      "item: 0, guid: f0622834-aee3-42fc-a822-8bbcc2888e56, character: !\n",
      "item: 1, guid: cf553ca5-9b5f-4a0f-8f42-fac48c129fd9, character: \"\n",
      "item: 2, guid: 74d838f6-b34f-4d59-9c1f-216f8d928eb9, character: #\n",
      "item: 3, guid: 3428482f-b92c-4383-a569-632d6a8719bf, character: $\n",
      "item: 4, guid: 358e3d2b-0e0f-424e-963a-a0880b079f1c, character: %\n",
      "item: 5, guid: fc69bb1b-8ac6-4cc5-b357-4e6f99215097, character: &\n",
      "item: 6, guid: 8b9f1d09-f796-4f65-b933-6ca741c2a58d, character: '\n",
      "item: 7, guid: 0c33b2ec-fad2-4863-bc32-ae425bc80439, character: (\n",
      "item: 8, guid: bc6d3621-8b4b-496d-8971-cb05247d3701, character: )\n",
      "item: 9, guid: 2872e84e-92f2-44cb-902a-bc2ca4678b95, character: *\n",
      "item: 10, guid: 248caf41-d960-443a-b7f9-52f865865c39, character: +\n",
      "item: 11, guid: ea165c8a-4148-4e4e-9dff-7ce437aefda8, character: ,\n",
      "item: 12, guid: 553e28ba-3b29-4b42-a554-78dedd719c44, character: -\n",
      "item: 13, guid: 1e6f5e90-3aa9-4ded-8a0f-ea85d7372bbe, character: .\n",
      "item: 14, guid: 89fb696e-ab17-4429-a52e-2d2e3eafdaef, character: /\n",
      "item: 15, guid: ce6468b6-26ab-4e1a-bb2f-5822bfe6f136, character: :\n",
      "item: 16, guid: 54ee9cb4-b65f-4953-acec-b0379ec5ec8c, character: ;\n",
      "item: 17, guid: a7cf92b4-5a8c-40d6-87df-f78368e74916, character: <\n",
      "item: 18, guid: 4671afd6-a5f4-495c-ac1b-154b2395f030, character: =\n",
      "item: 19, guid: dc052901-9fda-4baf-b89c-aa96c2020176, character: >\n",
      "item: 20, guid: 5e43e555-157b-46e8-a2e1-0b071b2582af, character: ?\n",
      "item: 21, guid: 131d9a1c-fd96-4276-a02b-1592612547d0, character: @\n",
      "item: 22, guid: 4c0539ed-ab86-4d73-a147-065be3bee8f3, character: [\n",
      "item: 23, guid: e8b32faf-a72a-495f-b989-f29f54c91599, character: \\\n",
      "item: 24, guid: 65d80f33-af93-4579-8192-a0c69b002991, character: ]\n",
      "item: 25, guid: 3e1ad5f8-2483-4939-ba60-e9b3143f3d59, character: ^\n",
      "item: 26, guid: 9470d959-facc-4def-b0a1-aabc180ecf3a, character: _\n",
      "item: 27, guid: 1a483135-99b7-4150-b401-abfb0865cb8c, character: `\n",
      "item: 28, guid: 61543f96-c227-43e6-abce-70cb1001f6af, character: {\n",
      "item: 29, guid: 6739344a-c38e-4f71-b00c-5977b541eb22, character: |\n",
      "item: 30, guid: 5c92d81b-9650-4d59-9552-9d1bd5b613cc, character: }\n",
      "item: 31, guid: 7c4251d1-d850-4eb8-a532-f4cf7a20f544, character: ~\n"
     ]
    }
   ],
   "source": [
    "import string\n",
    "import uuid\n",
    "template = 'item: {}, guid: {}, character: {}'\n",
    "for i, s in enumerate(string.punctuation):\n",
    "    print(template.format(i, uuid.uuid4(), s))"
   ]
  },
  {
   "cell_type": "markdown",
   "metadata": {
    "slideshow": {
     "slide_type": "subslide"
    }
   },
   "source": [
    "## For fun\n",
    "Let's get sidetracked"
   ]
  },
  {
   "cell_type": "markdown",
   "metadata": {},
   "source": [
    "Below is an example of string translation. It is a restricted, but performant version of `str.replace()`. "
   ]
  },
  {
   "cell_type": "code",
   "execution_count": 24,
   "metadata": {
    "hidePrompt": true,
    "scrolled": true
   },
   "outputs": [
    {
     "data": {
      "text/plain": [
       "'GSV IVW ULC GILGH JFRVGOB ZG NRWMRTSG'"
      ]
     },
     "execution_count": 24,
     "metadata": {},
     "output_type": "execute_result"
    }
   ],
   "source": [
    "# template string based log\n",
    "cipher = str.maketrans(string.ascii_uppercase,\n",
    "                       string.ascii_uppercase[::-1])\n",
    "template = 'The red fox trots quietly at midnight'\n",
    "template.upper().translate(cipher)"
   ]
  },
  {
   "cell_type": "markdown",
   "metadata": {
    "slideshow": {
     "slide_type": "slide"
    }
   },
   "source": [
    "# The *newest-style*: f-strings"
   ]
  },
  {
   "cell_type": "markdown",
   "metadata": {},
   "source": [
    "Up till recently, the `{}` way of formatting was the way to do things. However, there are three syntactic issues with this method:\n",
    "1. having to write `.format()`\n",
    "2. cannot call local variables instead\n",
    "3. variable evaluation is 'dumb'"
   ]
  },
  {
   "cell_type": "markdown",
   "metadata": {
    "slideshow": {
     "slide_type": "fragment"
    }
   },
   "source": [
    "Therefore, I introduce *f-strings* (new to Python 3.6). </br>\n",
    "They look and feel `{}` familiar, but with a little extra added flair"
   ]
  },
  {
   "cell_type": "code",
   "execution_count": 25,
   "metadata": {
    "hidePrompt": true,
    "slideshow": {
     "slide_type": "subslide"
    }
   },
   "outputs": [
    {
     "name": "stdout",
     "output_type": "stream",
     "text": [
      "Hello, my name is Marcus and I am 32 y/o,\n",
      "and currently working as a GSI.\n"
     ]
    }
   ],
   "source": [
    "fName = 'Marcus'\n",
    "job = 'GSI'\n",
    "age = 32\n",
    "\n",
    "greeting = f'''Hello, my name is {fName} and I am {age} y/o,\n",
    "and currently working as a {job}.'''\n",
    "print(greeting)"
   ]
  },
  {
   "cell_type": "markdown",
   "metadata": {
    "slideshow": {
     "slide_type": "fragment"
    }
   },
   "source": [
    "Above shows that I no longer need to worry about the order arguments within a `.format()` method, or passing keyword arguments. I can directly reference the variables themselves."
   ]
  },
  {
   "cell_type": "markdown",
   "metadata": {
    "slideshow": {
     "slide_type": "subslide"
    }
   },
   "source": [
    "You may ask, \"Oh Senpai, what about formatting and type conversion?\" and I would said, \"Young padawan, there is much doubt in your voice. Still convert and format, we can\""
   ]
  },
  {
   "cell_type": "code",
   "execution_count": 26,
   "metadata": {
    "hidePrompt": true
   },
   "outputs": [
    {
     "name": "stdout",
     "output_type": "stream",
     "text": [
      "***spam***\n",
      "00101010\n",
      "1.00e+12\n",
      "3\n"
     ]
    }
   ],
   "source": [
    "# f-string with type conversion\n",
    "a = {'string':'spam', 'int':42,\n",
    "     'exp':1e12, 'float':3.14}\n",
    "\n",
    "print(f'''{a[\"string\"]:*^10}\\n{a[\"int\"]:08b}\n",
    "{a[\"exp\"]:.2e}\\n{a[\"float\"]:.0f}''')"
   ]
  },
  {
   "cell_type": "markdown",
   "metadata": {
    "slideshow": {
     "slide_type": "slide"
    }
   },
   "source": [
    "## The important part"
   ]
  },
  {
   "cell_type": "markdown",
   "metadata": {},
   "source": [
    "Besides just doing type conversion and formatting, there was something else a little more subtle you probably can pick up on: *expression interpolation*."
   ]
  },
  {
   "cell_type": "markdown",
   "metadata": {},
   "source": [
    "This is just a fancy way of saying that expressions within `{}` are evaluated and the output is converted into strings."
   ]
  },
  {
   "cell_type": "code",
   "execution_count": 1,
   "metadata": {
    "hidePrompt": true,
    "slideshow": {
     "slide_type": "subslide"
    }
   },
   "outputs": [
    {
     "name": "stdout",
     "output_type": "stream",
     "text": [
      "Bar(x=48, pow=2304)\n",
      "Bar(x=49, pow=2401)\n",
      "Bar(x=61, pow=3721)\n",
      "Bar(x=47, pow=2209)\n",
      "Bar(x=70, pow=4900)\n",
      "Bar(x=67, pow=4489)\n",
      "Bar(x=87, pow=7569)\n",
      "Bar(x=92, pow=8464)\n",
      "Bar(x=97, pow=9409)\n",
      "Bar(x=100, pow=10000)\n"
     ]
    }
   ],
   "source": [
    "import random\n",
    "from collections import namedtuple\n",
    "\n",
    "Bar = namedtuple('Bar', ('x', 'pow'))\n",
    "\n",
    "def foo(x = None):\n",
    "    if not x:\n",
    "        x = 42\n",
    "    return Bar(x, x ** 2)\n",
    "\n",
    "for i in range(0, 100, 10):\n",
    "    print(f'{foo(random.randint(i, 100))}')"
   ]
  },
  {
   "cell_type": "code",
   "execution_count": 31,
   "metadata": {},
   "outputs": [
    {
     "data": {
      "text/plain": [
       "'abcf\"{b}\"'"
      ]
     },
     "execution_count": 31,
     "metadata": {},
     "output_type": "execute_result"
    }
   ],
   "source": [
    "a = 'abcf\"{b}\"'\n",
    "f'{a}'"
   ]
  },
  {
   "cell_type": "code",
   "execution_count": null,
   "metadata": {},
   "outputs": [],
   "source": []
  }
 ],
 "metadata": {
  "celltoolbar": "Slideshow",
  "kernelspec": {
   "display_name": "Python 3",
   "language": "python",
   "name": "python3"
  },
  "language_info": {
   "codemirror_mode": {
    "name": "ipython",
    "version": 3
   },
   "file_extension": ".py",
   "mimetype": "text/x-python",
   "name": "python",
   "nbconvert_exporter": "python",
   "pygments_lexer": "ipython3",
   "version": "3.7.0"
  }
 },
 "nbformat": 4,
 "nbformat_minor": 2
}
