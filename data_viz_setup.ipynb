{
 "cells": [
  {
   "cell_type": "markdown",
   "metadata": {},
   "source": [
    "# Overview"
   ]
  },
  {
   "cell_type": "markdown",
   "metadata": {},
   "source": [
    "1. Getting started\n",
    "2. `matplotlib`\n",
    "3. `seaborn`\n",
    "5. Conclusion"
   ]
  },
  {
   "cell_type": "markdown",
   "metadata": {},
   "source": [
    "# Getting started"
   ]
  },
  {
   "cell_type": "markdown",
   "metadata": {},
   "source": [
    "---"
   ]
  },
  {
   "cell_type": "markdown",
   "metadata": {},
   "source": [
    "## Imports for today"
   ]
  },
  {
   "cell_type": "code",
   "execution_count": null,
   "metadata": {},
   "outputs": [],
   "source": [
    "import warnings\n",
    "warnings.filterwarnings('ignore')"
   ]
  },
  {
   "cell_type": "code",
   "execution_count": null,
   "metadata": {},
   "outputs": [],
   "source": [
    "import numpy as np\n",
    "import pandas as pd\n",
    "import numpy.random as nr"
   ]
  },
  {
   "cell_type": "markdown",
   "metadata": {},
   "source": [
    "---"
   ]
  },
  {
   "cell_type": "markdown",
   "metadata": {},
   "source": [
    "## Simulating data"
   ]
  },
  {
   "cell_type": "markdown",
   "metadata": {},
   "source": [
    "Today we will be creating some random data based on randomly generated gaussian parameters: a gaussian mixture, a 'control' group, and a 'treatment' group."
   ]
  },
  {
   "cell_type": "code",
   "execution_count": null,
   "metadata": {},
   "outputs": [],
   "source": [
    "# Create a random set of normal distribution parameters: loc (mean), scale (stdev), and size\n",
    "def random_parameters(n = 3, size = 10000):\n",
    "    \"\"\" Creates n number of random normal parameters\n",
    "    \n",
    "    Args:\n",
    "        n (int): number of random normal parameter sets to make (default: 3)\n",
    "        size (int): predefined size parameter. Useful in for downstream downsampling (default: 10000)\n",
    "    \n",
    "    Returns:\n",
    "        rand_params (list): contains 3 values per item: loc (mean), scale (stdev), and size\n",
    "    \"\"\"\n",
    "    rand_params = []\n",
    "    for i in range(n):\n",
    "        rand_params.append((nr.uniform(-100, 100), nr.rand(), size))\n",
    "    return rand_params"
   ]
  },
  {
   "cell_type": "code",
   "execution_count": null,
   "metadata": {},
   "outputs": [],
   "source": [
    "# Create normal distributions from the above parameters and downsample all three\n",
    "def gen_sample(dist_params, downsamples = None):\n",
    "    \"\"\" Create random downsampled variables from normal distributions of a given set of parameters\n",
    "    \n",
    "    Args:\n",
    "        dist_params (list of tuples): list of parameters tuples: loc (mean), scale (stdev), and size of normal distribution\n",
    "        downsamples (list): numbers of downsample sizes. Must be same length as dist_params or None (default: None)\n",
    "    \n",
    "    Returns:\n",
    "        norms (list): length of list determined by number of parameters sets in dist_params. Each item contains a random downsampled set of random variables\n",
    "    \n",
    "    Raises:\n",
    "        AssertionError: if the length of downsample is not the same length as dist_params or is not None \n",
    "    \"\"\"\n",
    "    norms = []\n",
    "    if downsamples is None:\n",
    "        downsamples = [1000] * len(dist_params)\n",
    "    assert len(downsamples) == len(dist_params), 'dist_params and downsamples must be the same length'\n",
    "    for i, params in enumerate(dist_params):\n",
    "        norms.append(nr.choice(nr.normal(*params), downsamples[i]))\n",
    "    return norms"
   ]
  },
  {
   "cell_type": "code",
   "execution_count": null,
   "metadata": {},
   "outputs": [],
   "source": [
    "# Join all three normal random samples into one array\n",
    "def join_shuf_format(samples, downsample = 1000):\n",
    "    \"\"\" Concatenates sample sets, shuffles them, and return a pd.Series\n",
    "    \n",
    "    Args:\n",
    "        samples (list): each item is a set of normal distribution random samples\n",
    "        downsample (int): downsample size of concatenated arrays (default: 1000)\n",
    "    \n",
    "    Returns:\n",
    "        (pd.Series): the shuffled version of joined samples\n",
    "    \"\"\"\n",
    "    rs = np.array([])\n",
    "    for arr in samples:\n",
    "        rs = np.concatenate((rs, arr))\n",
    "    rs = nr.choice(rs, downsample)\n",
    "    nr.shuffle(rs)\n",
    "    \n",
    "    return pd.Series(rs)"
   ]
  },
  {
   "cell_type": "code",
   "execution_count": null,
   "metadata": {},
   "outputs": [],
   "source": [
    "downsample_max = 1000\n",
    "rvs = gen_sample(random_parameters(5))"
   ]
  },
  {
   "cell_type": "code",
   "execution_count": null,
   "metadata": {},
   "outputs": [],
   "source": [
    "gauss_mix = join_shuf_format(rvs[:3])\n",
    "control, treatment = [pd.Series(arr) for arr in rvs[3:]]"
   ]
  },
  {
   "cell_type": "code",
   "execution_count": null,
   "metadata": {},
   "outputs": [],
   "source": [
    "df = pd.concat([gauss_mix, control, treatment], axis=1, ignore_index=True)\n",
    "df.columns=['gauss_mix', 'control', 'treatment']"
   ]
  },
  {
   "cell_type": "code",
   "execution_count": null,
   "metadata": {},
   "outputs": [],
   "source": [
    "df.head()"
   ]
  },
  {
   "cell_type": "markdown",
   "metadata": {},
   "source": [
    "---"
   ]
  },
  {
   "cell_type": "markdown",
   "metadata": {},
   "source": [
    "# Matplotlib"
   ]
  },
  {
   "cell_type": "code",
   "execution_count": null,
   "metadata": {},
   "outputs": [],
   "source": [
    "%matplotlib inline\n",
    "import matplotlib.pyplot as plt"
   ]
  },
  {
   "cell_type": "markdown",
   "metadata": {},
   "source": [
    "Because we used a notebook magic (`%`) for `matplotlib`, anything we plot with it will render in our environment."
   ]
  },
  {
   "cell_type": "markdown",
   "metadata": {},
   "source": [
    "## `matplotlib` format strings"
   ]
  },
  {
   "cell_type": "markdown",
   "metadata": {},
   "source": [
    "`matplotlib` can use *format strings* to quickly declare the type of plots you want. Here are *some* of those formats:\n",
    "\n",
    "|**Character**|**Description**|\n",
    "|:-----------:|:--------------|\n",
    "|'--'|Dashed line|\n",
    "|':'|Dotted line|\n",
    "|'o'|Circle marker|\n",
    "|'^'|Upwards triangle marker|\n",
    "|'b'|Blue|\n",
    "|'c'|Cyan|\n",
    "|'g'|Green|"
   ]
  },
  {
   "cell_type": "markdown",
   "metadata": {},
   "source": [
    "## From scratch"
   ]
  },
  {
   "cell_type": "markdown",
   "metadata": {},
   "source": [
    "## Multiple Plots"
   ]
  },
  {
   "cell_type": "markdown",
   "metadata": {},
   "source": [
    "`matplotlib` allows users to define the regions of their plotting canvas. If the user intends to create a canvas with multiple plots, they would use the `subplot()` function. The `subplot` function sets the number of rows and columns the canvas will have **AND** sets the current index of where the next subplot will be rendered."
   ]
  },
  {
   "cell_type": "code",
   "execution_count": null,
   "metadata": {},
   "outputs": [],
   "source": [
    "plt.figure(1)\n",
    "\n",
    "# Plot all three columns from df in different subplots\n",
    "# Rows first index (top-left)\n",
    "plt.subplot(311)\n",
    "plt.plot()\n",
    "\n",
    "# Some plot configuration\n",
    "plt.subplots_adjust(top=.92, bottom=.08, left=.1, right=.95, hspace=.25, wspace=.35)\n",
    "plt.show()"
   ]
  },
  {
   "cell_type": "code",
   "execution_count": null,
   "metadata": {},
   "outputs": [],
   "source": [
    "# Temporary styles\n",
    "with plt.style.context(('ggplot')):\n",
    "    plt.figure(1)\n",
    "\n",
    "    # Plot all three columns from df in different subplots\n",
    "    # Rows first index (top-left)\n",
    "    plt.subplot(311)\n",
    "    plt.plot()\n",
    "\n",
    "    # Some plot configuration\n",
    "    plt.subplots_adjust(top=.92, bottom=.08, left=.1, right=.95, hspace=.25, wspace=.35)\n",
    "    plt.show()"
   ]
  },
  {
   "cell_type": "markdown",
   "metadata": {},
   "source": [
    "## Histogram"
   ]
  },
  {
   "cell_type": "code",
   "execution_count": null,
   "metadata": {},
   "outputs": [],
   "source": [
    "n, bins, patches = plt.hist(df.gauss_mix), facecolor='#5A0BB0', alpha=0.8, rwidth=.8, align='mid')\n",
    "\n",
    "# Add a title\n",
    "\n",
    "\n",
    "# Add y axis label\n"
   ]
  },
  {
   "cell_type": "markdown",
   "metadata": {},
   "source": [
    "The biggest issue with `matplotlib` isn't its lack of power...it is that it is too much power. With great power, comes great responsibility. When you are quickly exploring data, you don't want to have to fiddle around with axis limits, colors, figure sizes, etc. Yes, you *can* make good figures with `matplotlib`, but you probably won't."
   ]
  },
  {
   "cell_type": "markdown",
   "metadata": {},
   "source": [
    "## Using pandas `.plot()`"
   ]
  },
  {
   "cell_type": "markdown",
   "metadata": {},
   "source": [
    "Pandas abstracts some of those initial issues with data visualization. However, it is still `matplotlib`-esque.</br></br>\n",
    "Pandas is built off of `numpy` for its caclulations, but its plotting is built off of `matplotlib`. Therefore, just like any data you get from `pandas` can be used within `numpy`, every plot that is returned from `pandas` is a `matplotlib` plot...and subject to `matplotlib` modification."
   ]
  },
  {
   "cell_type": "code",
   "execution_count": null,
   "metadata": {},
   "outputs": [],
   "source": [
    "# Scatter plot\n",
    "ax = \n",
    "\n",
    "# title and axis_labels\n",
    "\n",
    "\n",
    "plt.show()"
   ]
  },
  {
   "cell_type": "code",
   "execution_count": null,
   "metadata": {},
   "outputs": [],
   "source": [
    "pd.plotting.scatter_matrix(df, alpha = 0.05, figsize=(10,10), \n",
    "                                diagonal='kde')"
   ]
  },
  {
   "cell_type": "markdown",
   "metadata": {},
   "source": [
    "---"
   ]
  },
  {
   "cell_type": "markdown",
   "metadata": {},
   "source": [
    "# Seaborn"
   ]
  },
  {
   "cell_type": "code",
   "execution_count": null,
   "metadata": {},
   "outputs": [],
   "source": [
    "import seaborn as sns"
   ]
  },
  {
   "cell_type": "markdown",
   "metadata": {},
   "source": [
    "`seaborn` lets users *style* their plotting environment."
   ]
  },
  {
   "cell_type": "code",
   "execution_count": null,
   "metadata": {},
   "outputs": [],
   "source": [
    "sns.set(style='whitegrid')"
   ]
  },
  {
   "cell_type": "markdown",
   "metadata": {},
   "source": [
    "However, you can always use `matplotlib`'s `plt.style`"
   ]
  },
  {
   "cell_type": "markdown",
   "metadata": {},
   "source": [
    "### New data to play with"
   ]
  },
  {
   "cell_type": "code",
   "execution_count": null,
   "metadata": {},
   "outputs": [],
   "source": [
    "weather = pd.read_table('./datasets/weather.tsv')"
   ]
  },
  {
   "cell_type": "markdown",
   "metadata": {},
   "source": [
    "## Violin plot"
   ]
  },
  {
   "cell_type": "markdown",
   "metadata": {},
   "source": [
    "Fancier box plot that gets rid of the need for 'jitter' to show the inherent distribution of the data points"
   ]
  },
  {
   "cell_type": "code",
   "execution_count": null,
   "metadata": {},
   "outputs": [],
   "source": [
    "sns.set(style='whitegrid', palette='muted')\n",
    "\n",
    "# 1 row, 3 columns\n",
    "f, axes = plt.subplots(1,3, figsize=(10,10), sharex=True)\n",
    "sns.despine(left=True)\n",
    "\n",
    "# Regular displot\n",
    "sns.distplot(df.iloc, ax=axes[0,0])\n",
    "\n",
    "# Change the color\n",
    "sns.distplot(df.iloc, kde=False, ax=axes[0,1], color='orange')\n",
    "\n",
    "# Show the Kernel density estimate\n",
    "sns.distplot(df.iloc, hist=False, kde_kws={'shade':True}, ax=axes[1,0], color='purple')\n",
    "\n",
    "# Show the rug\n",
    "sns.distplot(df.iloc, hist=False, rug=True, ax=axes[1,1], color='green')"
   ]
  },
  {
   "cell_type": "markdown",
   "metadata": {},
   "source": [
    "## Distplot"
   ]
  },
  {
   "cell_type": "code",
   "execution_count": null,
   "metadata": {},
   "outputs": [],
   "source": [
    "sns.set(style='whitegrid', palette='muted')\n",
    "\n",
    "# 1 row, 3 columns\n",
    "f, axes = plt.subplots(1,3, figsize=(10,10), sharex=True)\n",
    "sns.despine(left=True)\n",
    "\n",
    "# Regular displot\n",
    "sns.distplot(df.iloc, ax=axes[0,0])\n",
    "\n",
    "# Change the color\n",
    "sns.distplot(df.iloc, kde=False, ax=axes[0,1], color='orange')\n",
    "\n",
    "# Show the Kernel density estimate\n",
    "sns.distplot(df.iloc, hist=False, kde_kws={'shade':True}, ax=axes[1,0], color='purple')\n",
    "\n",
    "# Show the rug\n",
    "sns.distplot(df.iloc, hist=False, rug=True, ax=axes[1,1], color='green')"
   ]
  },
  {
   "cell_type": "markdown",
   "metadata": {},
   "source": [
    "## Hexbin with marginal distributions"
   ]
  },
  {
   "cell_type": "code",
   "execution_count": null,
   "metadata": {},
   "outputs": [],
   "source": [
    "sns.set(style='ticks')"
   ]
  },
  {
   "cell_type": "code",
   "execution_count": null,
   "metadata": {},
   "outputs": [],
   "source": [
    "plots_to_join = []\n",
    "sns.jointplot(*plots_to_join, kind='hex', color= '#246068')"
   ]
  },
  {
   "cell_type": "markdown",
   "metadata": {},
   "source": [
    "## FacetGrid"
   ]
  },
  {
   "cell_type": "code",
   "execution_count": null,
   "metadata": {},
   "outputs": [],
   "source": [
    "real_estate = pd.read_csv('./datasets/real_estate.csv')"
   ]
  },
  {
   "cell_type": "code",
   "execution_count": null,
   "metadata": {},
   "outputs": [],
   "source": [
    "real_estate.head()"
   ]
  },
  {
   "cell_type": "code",
   "execution_count": null,
   "metadata": {},
   "outputs": [],
   "source": [
    "sns.set()\n",
    "columns_wanted = []\n",
    "important_column = None\n",
    "g = sns.FacetGrid(df.loc[:,columns_wanted], col=important_column, hue=important_column, col_wrap=5)\n",
    "g.map(plt.scatter, 'hj', 'tv')"
   ]
  }
 ],
 "metadata": {
  "kernelspec": {
   "display_name": "Python 3",
   "language": "python",
   "name": "python3"
  },
  "language_info": {
   "codemirror_mode": {
    "name": "ipython",
    "version": 3
   },
   "file_extension": ".py",
   "mimetype": "text/x-python",
   "name": "python",
   "nbconvert_exporter": "python",
   "pygments_lexer": "ipython3",
   "version": "3.7.0"
  }
 },
 "nbformat": 4,
 "nbformat_minor": 2
}
